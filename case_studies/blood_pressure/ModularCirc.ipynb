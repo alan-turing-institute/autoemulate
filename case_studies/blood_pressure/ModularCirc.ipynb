{
 "cells": [
  {
   "cell_type": "markdown",
   "metadata": {},
   "source": [
    "# Patient calibration workflow using AutoEmulate\n",
    "\n",
    "## Introduction\n",
    "\n",
    "\n",
    "## The Nagavi model\n",
    "\n",
    "<!-- <b>In this workflow we demonstrate the integration of a Cardiovascular simulator, Naghavi Model from ModularCirc in an end-to-end AutoEmulate workflow.</b>  -->\n",
    "\n",
    "The Nagavi lumped parameter model is a mathematical model of the human cardiovascular system, designed to simulate the dynamics of blood flow and pressure throughout the heart and circulatory system using lumped parameter modeling. \n",
    "A **lumped parameter model** simplifies the cardiovascular system by dividing it into compartments (or \"lumps\") such as:\n",
    "\n",
    "- Heart chambers (left and right atria and ventricles)\n",
    "- Major blood vessels (aorta, vena cava, pulmonary arteries and veins)\n",
    "- Systemic and pulmonary circulations\n",
    "\n",
    "Each compartment is modeled using analogies to electrical circuits:\n",
    "\n",
    "- Pressure ↔ Voltage\n",
    "- Flow ↔ Current\n",
    "- Resistance ↔ Vascular resistance (R\\)\n",
    "- Compliance ↔ Vessel elasticity or capacitance (C\\)\n",
    "- Inertance ↔ Blood inertia (L)\n",
    "\n",
    "This approach allows simulation of the time-dependent relationships between pressure, volume, and flow rate across the entire cardiovascular system using ordinary differential equations (ODEs).\n",
    "\n",
    "The Nagavi lumped parameter model is a mathematical model of the human cardiovascular system, designed to simulate the dynamics of blood flow and pressure throughout the heart and circulatory system using lumped parameter modeling. \n",
    "A **lumped parameter model** simplifies the cardiovascular system by dividing it into compartments (or \"lumps\") such as:\n",
    "\n",
    "## Patient calibration workflow\n",
    "\n",
    "In this tutorial, we present a three-stage workflow for calibrating the Nagavi model to patient-specific clinical data using AutoEmulate. The process has the following stages:\n",
    "\n",
    "- First we perform a global sensitivity analysis, which identifies the most influential parameters affecting model outputs and reduces the dimensionality of the calibration problem. \n",
    "- Next, we apply history matching, a sequential uncertainty quantification technique that uses emulators to efficiently rule out implausible regions of the parameter space based on observed patient data. This results in a restricted, plausible region—known as the NROY (Not Ruled Out Yet) space—where parameters are consistent with the clinical measurements within acceptable uncertainty bounds. \n",
    "- Finally, we perform Bayesian inference within this NROY region to estimate the full posterior distribution of the remaining parameters, capturing the most likely values and their associated uncertainty. \n",
    "\n",
    "### Global sensitivity analysis\n",
    "\n",
    "The Nagavi model has 16 parameters which makes individual patient calibration challenging. To address this we use a emulator-based global sensitivity analysis to quantify the influence each parameter on features derived from left ventricle artery pressure. This approach reduces the parameters that will be used in model personalization from 16 to 5."
   ]
  },
  {
   "cell_type": "code",
   "execution_count": 1,
   "metadata": {
    "ExecuteTime": {
     "end_time": "2025-08-07T13:58:11.715399Z",
     "start_time": "2025-08-07T13:58:08.666724Z"
    }
   },
   "outputs": [],
   "source": [
    "import pandas as pd\n",
    "import torch"
   ]
  },
  {
   "cell_type": "markdown",
   "metadata": {},
   "source": [
    "#### Set up simulator and generate data\n",
    "\n",
    "For this tutorial we use `ModularCirc` a package that providse a framework for building 0D models and simulating cardiovascular flow and mechanics. The `NaghaviSimulator` simulates pressure traces, we then choose to output summary statistics for each of the simulated traces."
   ]
  },
  {
   "cell_type": "code",
   "execution_count": 2,
   "metadata": {
    "ExecuteTime": {
     "end_time": "2025-08-07T13:58:14.716861Z",
     "start_time": "2025-08-07T13:58:11.713083Z"
    }
   },
   "outputs": [],
   "source": [
    "from cardiac_simulator import NaghaviSimulator\n",
    "\n",
    "simulator = NaghaviSimulator(\n",
    "    output_variables=['lv.P_i', 'lv.P_o'],  # Only the ones you're interested in\n",
    "    n_cycles=300, \n",
    "    dt=0.001,\n",
    ")"
   ]
  },
  {
   "cell_type": "markdown",
   "metadata": {},
   "source": [
    "The simulator comes with predefined input parameters ranges. "
   ]
  },
  {
   "cell_type": "code",
   "execution_count": 3,
   "metadata": {
    "ExecuteTime": {
     "end_time": "2025-08-07T13:58:14.856720Z",
     "start_time": "2025-08-07T13:58:14.717493Z"
    }
   },
   "outputs": [
    {
     "data": {
      "text/plain": [
       "{'ao.r': (120.0, 360.0),\n",
       " 'ao.c': (0.15, 0.44999999999999996),\n",
       " 'art.r': (562.5, 1687.5),\n",
       " 'art.c': (1.5, 4.5),\n",
       " 'ven.r': (4.5, 13.5),\n",
       " 'ven.c': (66.65, 199.95000000000002),\n",
       " 'av.r': (3.0, 9.0),\n",
       " 'mv.r': (2.05, 6.1499999999999995),\n",
       " 'la.E_pas': (0.22, 0.66),\n",
       " 'la.E_act': (0.225, 0.675),\n",
       " 'la.v_ref': (5.0, 15.0),\n",
       " 'la.k_pas': (0.01665, 0.07500000000000001),\n",
       " 'lv.E_pas': (0.5, 1.5),\n",
       " 'lv.E_act': (1.5, 4.5),\n",
       " 'lv.v_ref': (5.0, 15.0),\n",
       " 'lv.k_pas': (0.00999, 0.045)}"
      ]
     },
     "execution_count": 3,
     "metadata": {},
     "output_type": "execute_result"
    }
   ],
   "source": [
    "simulator.parameters_range"
   ]
  },
  {
   "cell_type": "markdown",
   "metadata": {},
   "source": [
    "We can sample from those using Latin Hypercube Sampling to generate data to train the emulator with."
   ]
  },
  {
   "cell_type": "code",
   "execution_count": 4,
   "metadata": {
    "ExecuteTime": {
     "end_time": "2025-08-07T13:58:15.328519Z",
     "start_time": "2025-08-07T13:58:14.720079Z"
    }
   },
   "outputs": [],
   "source": [
    "N_samples = 1024\n",
    "x = simulator.sample_inputs(N_samples,random_seed=42)"
   ]
  },
  {
   "cell_type": "markdown",
   "metadata": {},
   "source": [
    "We can now use the simulator to generate predictions for the sampled parameters. Alternatively, for convenience. we can load already simulated data."
   ]
  },
  {
   "cell_type": "code",
   "execution_count": 5,
   "metadata": {
    "ExecuteTime": {
     "end_time": "2025-08-07T13:58:15.339411Z",
     "start_time": "2025-08-07T13:58:15.330435Z"
    }
   },
   "outputs": [],
   "source": [
    "import os\n",
    "save = True\n",
    "\n",
    "if not os.path.exists(f'simulator_results_{N_samples}.csv'):\n",
    "    # Run batch simulations with the samples generated in Cell 1\n",
    "    y, x = simulator.forward_batch_skip_failures(x)\n",
    "    \n",
    "    # Convert results to DataFrame for analysis\n",
    "    results_df = pd.DataFrame(y)\n",
    "    inputs_df = pd.DataFrame(x)\n",
    "    \n",
    "    if save:\n",
    "        # Save the results to a CSV file\n",
    "        results_df.to_csv(f'simulator_results_{N_samples}.csv', index=False)\n",
    "        inputs_df.to_csv(f'simulator_inputs_{N_samples}.csv', index=False)\n",
    "\n",
    "else:\n",
    "    # Read the results from the CSV file\n",
    "    results_df = pd.read_csv(f'simulator_results_{N_samples}.csv')\n",
    "    inputs_df = pd.read_csv(f'simulator_inputs_{N_samples}.csv')\n",
    "\n",
    "    y = torch.tensor(results_df.to_numpy())\n",
    "    x = torch.tensor(inputs_df.to_numpy())"
   ]
  },
  {
   "cell_type": "markdown",
   "metadata": {},
   "source": [
    "These are the output summary variables we've simulated."
   ]
  },
  {
   "cell_type": "code",
   "execution_count": 6,
   "metadata": {
    "ExecuteTime": {
     "end_time": "2025-08-07T13:58:15.342776Z",
     "start_time": "2025-08-07T13:58:15.339552Z"
    }
   },
   "outputs": [
    {
     "data": {
      "text/plain": [
       "['lv.P_i_min',\n",
       " 'lv.P_i_max',\n",
       " 'lv.P_i_mean',\n",
       " 'lv.P_i_range',\n",
       " 'lv.P_o_min',\n",
       " 'lv.P_o_max',\n",
       " 'lv.P_o_mean',\n",
       " 'lv.P_o_range']"
      ]
     },
     "execution_count": 6,
     "metadata": {},
     "output_type": "execute_result"
    }
   ],
   "source": [
    "simulator.output_names"
   ]
  },
  {
   "cell_type": "markdown",
   "metadata": {},
   "source": [
    "#### Train emulator with AutoEmulate\n",
    " \n",
    "To perform sensitivity analysis efficiently, we first need to construct an emulator—a fast, surrogate model that approximates the output of the full simulator. The simulated inputs and outputs from the cell above are  used to train the emulator, in this case we choose to use neural networks."
   ]
  },
  {
   "cell_type": "code",
   "execution_count": 7,
   "metadata": {
    "ExecuteTime": {
     "end_time": "2025-08-07T13:58:20.739152Z",
     "start_time": "2025-08-07T13:58:15.341948Z"
    }
   },
   "outputs": [
    {
     "name": "stderr",
     "output_type": "stream",
     "text": [
      "Comparing models: 100%|██████████| 1.00/1.00 [02:05<00:00, 126s/model]\n"
     ]
    }
   ],
   "source": [
    "from autoemulate.core.compare import AutoEmulate\n",
    "\n",
    "from autoemulate.emulators.nn.mlp import MLP\n",
    "\n",
    "ae = AutoEmulate(\n",
    "    x, \n",
    "    y, \n",
    "    models=[MLP],  \n",
    "    model_tuning=True\n",
    ")"
   ]
  },
  {
   "cell_type": "code",
   "execution_count": 8,
   "metadata": {
    "ExecuteTime": {
     "end_time": "2025-08-07T13:58:20.762125Z",
     "start_time": "2025-08-07T13:58:20.738785Z"
    }
   },
   "outputs": [
    {
     "data": {
      "text/html": [
       "<div>\n",
       "<style scoped>\n",
       "    .dataframe tbody tr th:only-of-type {\n",
       "        vertical-align: middle;\n",
       "    }\n",
       "\n",
       "    .dataframe tbody tr th {\n",
       "        vertical-align: top;\n",
       "    }\n",
       "\n",
       "    .dataframe thead th {\n",
       "        text-align: right;\n",
       "    }\n",
       "</style>\n",
       "<table border=\"1\" class=\"dataframe\">\n",
       "  <thead>\n",
       "    <tr style=\"text-align: right;\">\n",
       "      <th></th>\n",
       "      <th>model_name</th>\n",
       "      <th>x_transforms</th>\n",
       "      <th>y_transforms</th>\n",
       "      <th>params</th>\n",
       "      <th>rmse_test</th>\n",
       "      <th>r2_test</th>\n",
       "      <th>r2_test_std</th>\n",
       "      <th>r2_train</th>\n",
       "      <th>r2_train_std</th>\n",
       "    </tr>\n",
       "  </thead>\n",
       "  <tbody>\n",
       "    <tr>\n",
       "      <th>0</th>\n",
       "      <td>MLP</td>\n",
       "      <td>[StandardizeTransform()]</td>\n",
       "      <td>[StandardizeTransform()]</td>\n",
       "      <td>{'epochs': 200, 'layer_dims': [64, 32, 16], 'l...</td>\n",
       "      <td>1.424645</td>\n",
       "      <td>0.93508</td>\n",
       "      <td>0.012209</td>\n",
       "      <td>0.992056</td>\n",
       "      <td>0.000512</td>\n",
       "    </tr>\n",
       "  </tbody>\n",
       "</table>\n",
       "</div>"
      ],
      "text/plain": [
       "  model_name              x_transforms              y_transforms  \\\n",
       "0        MLP  [StandardizeTransform()]  [StandardizeTransform()]   \n",
       "\n",
       "                                              params  rmse_test  r2_test  \\\n",
       "0  {'epochs': 200, 'layer_dims': [64, 32, 16], 'l...   1.424645  0.93508   \n",
       "\n",
       "   r2_test_std  r2_train  r2_train_std  \n",
       "0     0.012209  0.992056      0.000512  "
      ]
     },
     "execution_count": 8,
     "metadata": {},
     "output_type": "execute_result"
    }
   ],
   "source": [
    "ae.summarise()"
   ]
  },
  {
   "cell_type": "markdown",
   "metadata": {},
   "source": [
    "Extract the best performing emulator."
   ]
  },
  {
   "cell_type": "code",
   "execution_count": 9,
   "metadata": {
    "ExecuteTime": {
     "end_time": "2025-08-07T13:58:20.762358Z",
     "start_time": "2025-08-07T13:58:20.749963Z"
    }
   },
   "outputs": [],
   "source": [
    "model = ae.best_result().model"
   ]
  },
  {
   "cell_type": "markdown",
   "metadata": {},
   "source": [
    "#### Run Sensitivity Analysis \n",
    "\n",
    "The emulator trained above can predict model outputs rapidly across the entire parameter space, allowing us to estimate global sensitivity measures like Sobol’ indices or Morris elementary effects without repeatedly calling the full simulator. This approach enables scalable and accurate sensitivity analysis, especially in high-dimensional or computationally intensive settings.\n",
    "\n",
    "Here we use AutoEmulate to perform sensitivity analysis. "
   ]
  },
  {
   "cell_type": "code",
   "execution_count": 10,
   "metadata": {
    "ExecuteTime": {
     "end_time": "2025-08-07T13:58:20.868700Z",
     "start_time": "2025-08-07T13:58:20.752153Z"
    }
   },
   "outputs": [],
   "source": [
    "from autoemulate.core.sensitivity_analysis import SensitivityAnalysis\n",
    "\n",
    "# Define the problem dictionary for Sobol sensitivity analysis\n",
    "problem = {\n",
    "    'num_vars': simulator.in_dim,\n",
    "    'names': simulator.param_names,\n",
    "    'bounds': simulator.param_bounds\n",
    "}\n",
    "\n",
    "si = SensitivityAnalysis(model, problem=problem)"
   ]
  },
  {
   "cell_type": "code",
   "execution_count": 11,
   "metadata": {
    "ExecuteTime": {
     "end_time": "2025-08-07T13:58:22.939097Z",
     "start_time": "2025-08-07T13:58:20.800123Z"
    }
   },
   "outputs": [],
   "source": [
    "si_df = si.run(method='sobol')\n"
   ]
  },
  {
   "cell_type": "code",
   "execution_count": 12,
   "metadata": {
    "ExecuteTime": {
     "end_time": "2025-08-07T13:58:23.497119Z",
     "start_time": "2025-08-07T13:58:22.939494Z"
    }
   },
   "outputs": [
    {
     "data": {
      "image/png": "[encoded data removed]",
      "text/plain": [
       "<Figure size 1350x1200 with 8 Axes>"
      ]
     },
     "execution_count": 12,
     "metadata": {},
     "output_type": "execute_result"
    }
   ],
   "source": [
    "si.plot_sobol(si_df)"
   ]
  },
  {
   "cell_type": "code",
   "execution_count": 13,
   "metadata": {
    "ExecuteTime": {
     "end_time": "2025-08-07T13:58:23.751494Z",
     "start_time": "2025-08-07T13:58:23.498246Z"
    }
   },
   "outputs": [
    {
     "data": {
      "image/png": "[encoded data removed]",
      "text/plain": [
       "<Figure size 1000x600 with 2 Axes>"
      ]
     },
     "execution_count": 13,
     "metadata": {},
     "output_type": "execute_result"
    }
   ],
   "source": [
    "si.plot_sa_heatmap(si_df, index='ST', cmap='coolwarm', normalize=True, figsize=(10, 6))"
   ]
  },
  {
   "cell_type": "markdown",
   "metadata": {},
   "source": [
    "We can select the top 5 parameters that have the biggest influcence on the pressure wave summary statistics extracted from the Nagavi Model."
   ]
  },
  {
   "cell_type": "code",
   "execution_count": 14,
   "metadata": {
    "ExecuteTime": {
     "end_time": "2025-08-07T13:58:23.752382Z",
     "start_time": "2025-08-07T13:58:23.626519Z"
    }
   },
   "outputs": [
    {
     "data": {
      "text/plain": [
       "['lv.k_pas', 'lv.E_pas', 'la.E_act', 'ven.r', 'lv.E_act']"
      ]
     },
     "execution_count": 14,
     "metadata": {},
     "output_type": "execute_result"
    }
   ],
   "source": [
    "top_parameters_sa = si.top_n_sobol_params(si_df,top_n=5)\n",
    "top_parameters_sa"
   ]
  },
  {
   "cell_type": "markdown",
   "metadata": {},
   "source": [
    "The parameters that are found to be less influential are fixed to a mid point value within its range."
   ]
  },
  {
   "cell_type": "code",
   "execution_count": 15,
   "metadata": {
    "ExecuteTime": {
     "end_time": "2025-08-07T13:58:23.752534Z",
     "start_time": "2025-08-07T13:58:23.628969Z"
    }
   },
   "outputs": [
    {
     "name": "stdout",
     "output_type": "stream",
     "text": [
      "Fixing parameter ao.r to a value within its range (120.0, 360.0)\n",
      "Fixing parameter ao.c to a value within its range (0.15, 0.44999999999999996)\n",
      "Fixing parameter art.r to a value within its range (562.5, 1687.5)\n",
      "Fixing parameter art.c to a value within its range (1.5, 4.5)\n",
      "Fixing parameter ven.c to a value within its range (66.65, 199.95000000000002)\n",
      "Fixing parameter av.r to a value within its range (3.0, 9.0)\n",
      "Fixing parameter mv.r to a value within its range (2.05, 6.1499999999999995)\n",
      "Fixing parameter la.E_pas to a value within its range (0.22, 0.66)\n",
      "Fixing parameter la.v_ref to a value within its range (5.0, 15.0)\n",
      "Fixing parameter la.k_pas to a value within its range (0.01665, 0.07500000000000001)\n",
      "Fixing parameter lv.v_ref to a value within its range (5.0, 15.0)\n"
     ]
    }
   ],
   "source": [
    "updated_range = {}\n",
    "for param_name, (min_val, max_val) in simulator.parameters_range.items():\n",
    "    if param_name not in top_parameters_sa:\n",
    "        print(f\"Fixing parameter {param_name} to a value within its range ({min_val}, {max_val})\")\n",
    "        midpoint_value = (max_val + min_val) / 2.0\n",
    "        updated_range[param_name] = (midpoint_value,midpoint_value)\n",
    "    else:\n",
    "        updated_range[param_name] = simulator.parameters_range[param_name]# Fix to a value\n",
    "        "
   ]
  },
  {
   "cell_type": "code",
   "execution_count": 16,
   "metadata": {
    "ExecuteTime": {
     "end_time": "2025-08-07T13:58:23.752644Z",
     "start_time": "2025-08-07T13:58:23.635219Z"
    }
   },
   "outputs": [
    {
     "name": "stdout",
     "output_type": "stream",
     "text": [
      "Updated parameters range with fixed values for non-sensitive parameters:\n",
      "{'ao.r': (240.0, 240.0), 'ao.c': (0.3, 0.3), 'art.r': (1125.0, 1125.0), 'art.c': (3.0, 3.0), 'ven.r': (4.5, 13.5), 'ven.c': (133.3, 133.3), 'av.r': (6.0, 6.0), 'mv.r': (4.1, 4.1), 'la.E_pas': (0.44, 0.44), 'la.E_act': (0.225, 0.675), 'la.v_ref': (10.0, 10.0), 'la.k_pas': (0.045825000000000005, 0.045825000000000005), 'lv.E_pas': (0.5, 1.5), 'lv.E_act': (1.5, 4.5), 'lv.v_ref': (10.0, 10.0), 'lv.k_pas': (0.00999, 0.045)}\n"
     ]
    }
   ],
   "source": [
    "print(\"Updated parameters range with fixed values for non-sensitive parameters:\")\n",
    "print(updated_range)\n",
    "simulator.parameters_range = updated_range"
   ]
  },
  {
   "cell_type": "markdown",
   "metadata": {},
   "source": [
    "### Patient level calibration\n",
    "\n",
    "To refine our emulator, we need real-world observations to compare against. These observations can come from experiments reported in the literature. \n",
    "\n",
    "In this example, we'll generate synthetic \"observations\" by running the simulator at the midpoint of each parameter range, treating these as our \"ground truth\" values for calibration. Note that in a real world example one can have multiple observations."
   ]
  },
  {
   "cell_type": "code",
   "execution_count": 17,
   "metadata": {
    "ExecuteTime": {
     "end_time": "2025-08-07T13:58:25.602409Z",
     "start_time": "2025-08-07T13:58:23.640099Z"
    }
   },
   "outputs": [],
   "source": [
    "# Calculate midpoint parameters\n",
    "midpoint_params_patient = []\n",
    "patient_true_values = {}\n",
    "for param_name in simulator.parameters_range:\n",
    "    # Calculate the midpoint of the parameter range\n",
    "    min_val, max_val = simulator.parameters_range[param_name]\n",
    "    midpoint_params_patient.append((max_val + min_val) / 2.0)\n",
    "    patient_true_values[param_name] = midpoint_params_patient[-1]\n",
    "\n",
    "# Run the simulator with midpoint parameters\n",
    "midpoint_results = simulator.forward(torch.tensor(midpoint_params_patient).reshape(1, -1))"
   ]
  },
  {
   "cell_type": "code",
   "execution_count": 18,
   "metadata": {
    "ExecuteTime": {
     "end_time": "2025-08-07T13:58:25.606166Z",
     "start_time": "2025-08-07T13:58:25.602315Z"
    }
   },
   "outputs": [
    {
     "data": {
      "text/plain": [
       "{'lv.P_i_min': (12.257057189941406, 0.12257057189941406),\n",
       " 'lv.P_i_max': (22.596208572387695, 0.22596208572387697),\n",
       " 'lv.P_i_mean': (20.69025421142578, 0.20690254211425782),\n",
       " 'lv.P_i_range': (10.339152336120605, 0.10339152336120605),\n",
       " 'lv.P_o_min': (12.257057189941406, 0.12257057189941406),\n",
       " 'lv.P_o_max': (22.596208572387695, 0.22596208572387697),\n",
       " 'lv.P_o_mean': (20.69025421142578, 0.20690254211425782),\n",
       " 'lv.P_o_range': (10.339152336120605, 0.10339152336120605)}"
      ]
     },
     "execution_count": 18,
     "metadata": {},
     "output_type": "execute_result"
    }
   ],
   "source": [
    "# Create observations dictionary\n",
    "observations = {\n",
    "    name: (val.item(), max(abs(val.item()) * 0.01, 0.01)) for\n",
    "    name, val in \n",
    "    zip(simulator.output_names, midpoint_results[0])}\n",
    "observations\n"
   ]
  },
  {
   "cell_type": "markdown",
   "metadata": {},
   "source": [
    "### History Matching\n",
    "\n",
    "Once the influential parameters have been selected with sensitivity analysis, we want to find which values of those parameters are consistent with the clinical data for a specific patient. Rather than directly estimating the parameters, history matching first focuses on excluding regions of the parameter space that are not plausible.\n",
    "\n",
    "AutoEmulate has the history matching workflow where we use the simulator and a fast emulator to generate model predictions for many parameter combinations.\n",
    "\n",
    "For each simulation, \n",
    "\n",
    "- Compare the model output f(θ) to the observed data $y_{obs}$.  \n",
    "- Compute an implausibility measure for each parameter set: $I_i(\\overline{x_0}) = \\frac{|z_i - \\mathbb{E}(f_i(\\overline{x_0}))|}{\\sqrt{\\text{Var}[z_i - \\mathbb{E}(f_i(\\overline{x_0}))]}}$\n",
    "- Rule out all θ such that I(θ)>threshold (e.g., 3).\n",
    "\n",
    "Repeat this in waves:\n",
    "\n",
    "- After each wave, retrain the emulator on the non-implausible region (NROY).\n",
    "- Stop when the NROY region changes little between waves (e.g., <10% of new points are excluded).\n"
   ]
  },
  {
   "cell_type": "markdown",
   "metadata": {},
   "source": [
    "We now need to train a Gaussian Process emulator as we need uncertainty quantification for History Matching. Let's start generated a new dataset only sampling the most sensitive parameters and use this to train the GP emulator."
   ]
  },
  {
   "cell_type": "code",
   "execution_count": null,
   "metadata": {},
   "outputs": [
    {
     "name": "stderr",
     "output_type": "stream",
     "text": [
      "Running simulations:  50%|████▉     | 511/1.02k [02:24<02:27, 3.47sample/s]   "
     ]
    }
   ],
   "source": [
    "x = simulator.sample_inputs(N_samples,random_seed=42)\n",
    "y, x = simulator.forward_batch_skip_failures(x)\n"
   ]
  },
  {
   "cell_type": "code",
   "execution_count": null,
   "metadata": {
    "ExecuteTime": {
     "end_time": "2025-08-07T13:58:55.528594Z",
     "start_time": "2025-08-07T13:58:25.605338Z"
    }
   },
   "outputs": [],
   "source": [
    "ae_hm = AutoEmulate(\n",
    "    x, \n",
    "    y, \n",
    "    models=[\"GaussianProcess\"],  \n",
    "    model_tuning=False\n",
    ")"
   ]
  },
  {
   "cell_type": "code",
   "execution_count": null,
   "metadata": {},
   "outputs": [],
   "source": [
    "from autoemulate.core.model_selection import evaluate\n",
    "from autoemulate.emulators.gaussian_process.exact import GaussianProcess\n",
    "from autoemulate.emulators.gaussian_process.kernel import matern_3_2_kernel\n",
    "from autoemulate.transforms import *\n",
    "\n",
    "# extract train data\n",
    "x_train, y_train = ae_hm._convert_to_tensors(ae_hm.train_val)\n",
    "\n",
    "# Create a GP and standardize x&y values (y gets standardised by default, just being explicit here for clarity)\n",
    "gp_matern = GaussianProcess(\n",
    "    x_train,\n",
    "    y_train,\n",
    "    standardize_x=True,\n",
    "    standardize_y=True,\n",
    "    covar_module_fn=matern_3_2_kernel\n",
    ")\n",
    "gp_matern.fit(x_train, y_train)\n",
    "\n",
    "# evaluate on test data\n",
    "x_test, y_test = ae_hm._convert_to_tensors(ae_hm.test)\n",
    "y_pred = gp_matern.predict(x_test)\n",
    "evaluate(y_pred, y_test)"
   ]
  },
  {
   "cell_type": "code",
   "execution_count": null,
   "metadata": {
    "ExecuteTime": {
     "end_time": "2025-08-07T13:58:55.806666Z",
     "start_time": "2025-08-07T13:58:55.528348Z"
    }
   },
   "outputs": [],
   "source": [
    "prediction = gp_matern.predict(x.float())\n",
    "\n",
    "\n",
    "print('mean',((prediction.mean-(y))/y).mean())\n",
    "print('std',((prediction.mean-y)/y).std())\n",
    "\n",
    "print('ratio',(prediction.variance/y).mean())\n",
    "print('ratio',(prediction.variance/y).std())\n",
    "\n",
    "print('prediction variance mean', (prediction.variance/prediction.mean).mean())\n",
    "print('prediction variance std', (prediction.variance/prediction.mean).std())\n",
    "\n",
    "i=0\n",
    "print (prediction.variance[i], prediction.mean[i], y[i])\n"
   ]
  },
  {
   "cell_type": "code",
   "execution_count": null,
   "metadata": {},
   "outputs": [],
   "source": [
    "import matplotlib.pyplot as plt\n",
    "\n",
    "# Scatterplot of prediction.mean vs y\n",
    "plt.figure(figsize=(8, 6))\n",
    "plt.scatter(y.numpy(), prediction.mean, alpha=0.6, edgecolor='k')\n",
    "plt.xlabel('True Values (y)')\n",
    "plt.ylabel('Predicted Values (prediction.mean)')\n",
    "plt.title('Scatterplot of Predicted vs True Values')\n",
    "plt.grid(True)\n",
    "plt.show()"
   ]
  },
  {
   "cell_type": "code",
   "execution_count": null,
   "metadata": {},
   "outputs": [],
   "source": [
    "ae_mlp = AutoEmulate(\n",
    "    x, \n",
    "    y, \n",
    "    models=[\"MLP\"],  \n",
    "    model_tuning=True\n",
    ")\n",
    "\n",
    "model_mlp = ae_mlp.best_result().model\n",
    "\n",
    "prediction = model_mlp.predict(x.float())\n",
    "\n",
    "\n",
    "print('mean',((prediction-(y))/y).mean())\n",
    "print('std',((prediction-y)/y).std())\n"
   ]
  },
  {
   "cell_type": "markdown",
   "metadata": {},
   "source": [
    "Create a HistoryMatchingWorkflow object."
   ]
  },
  {
   "cell_type": "code",
   "execution_count": null,
   "metadata": {
    "ExecuteTime": {
     "end_time": "2025-08-07T13:58:55.821840Z",
     "start_time": "2025-08-07T13:58:55.806448Z"
    }
   },
   "outputs": [],
   "source": [
    "from autoemulate.calibration.history_matching import HistoryMatchingWorkflow\n",
    "\n",
    "hmw = HistoryMatchingWorkflow(\n",
    "    simulator=simulator,\n",
    "    emulator=gp_matern,\n",
    "    observations=observations,\n",
    "    threshold=3.0,\n",
    "    train_x=x.float(),\n",
    "    train_y=y.float()\n",
    ")"
   ]
  },
  {
   "cell_type": "markdown",
   "metadata": {},
   "source": [
    "Run waves."
   ]
  },
  {
   "cell_type": "markdown",
   "metadata": {},
   "source": []
  },
  {
   "cell_type": "code",
   "execution_count": null,
   "metadata": {
    "ExecuteTime": {
     "end_time": "2025-08-07T14:25:15.136595Z",
     "start_time": "2025-08-07T13:58:55.822216Z"
    }
   },
   "outputs": [],
   "source": [
    "# Save the results\n",
    "history_matching_results = hmw.run_waves(n_waves=5, n_simulations=N_samples, n_test_samples=20000,max_retries=10000,buffer_ratio=0)"
   ]
  },
  {
   "cell_type": "code",
   "execution_count": null,
   "metadata": {
    "ExecuteTime": {
     "end_time": "2025-08-07T14:25:15.146891Z",
     "start_time": "2025-08-07T14:25:15.124934Z"
    }
   },
   "outputs": [],
   "source": [
    "#get last values from HM\n",
    "test_parameters, impl_scores = history_matching_results[-1]\n",
    "nory_points = hmw.get_nroy(impl_scores,test_parameters) # Implausibility < 3.0\n"
   ]
  },
  {
   "cell_type": "markdown",
   "metadata": {},
   "source": [
    "This dashboard shows the implausibility scores for each parameter combination, allowing us to visualize which regions of the parameter space are plausible (i.e., not ruled out) based on the observed data. The NROY region is highlighted, showing the parameters that remain after history matching."
   ]
  },
  {
   "cell_type": "code",
   "execution_count": null,
   "metadata": {
    "ExecuteTime": {
     "end_time": "2025-08-07T14:25:15.542755Z",
     "start_time": "2025-08-07T14:25:15.129804Z"
    }
   },
   "outputs": [],
   "source": [
    "from autoemulate.calibration.history_matching_dashboard import HistoryMatchingDashboard\n",
    "dashboard = HistoryMatchingDashboard(\n",
    "    samples=test_parameters,\n",
    "    impl_scores=impl_scores,\n",
    "    param_names=simulator.param_names,  \n",
    "    output_names=simulator.output_names, \n",
    "    )\n",
    "dashboard.display()"
   ]
  },
  {
   "cell_type": "markdown",
   "metadata": {},
   "source": []
  },
  {
   "cell_type": "code",
   "execution_count": null,
   "metadata": {
    "ExecuteTime": {
     "end_time": "2025-08-07T14:25:15.543052Z",
     "start_time": "2025-08-07T14:25:15.505074Z"
    }
   },
   "outputs": [],
   "source": [
    "params_post_hm = hmw.generate_param_bounds(nroy_x=nory_points,param_names=simulator.param_names)"
   ]
  },
  {
   "cell_type": "code",
   "execution_count": null,
   "metadata": {
    "ExecuteTime": {
     "end_time": "2025-08-07T14:25:15.543581Z",
     "start_time": "2025-08-07T14:25:15.505735Z"
    }
   },
   "outputs": [],
   "source": [
    "for param_name, bounds in params_post_hm.items():\n",
    "    \n",
    "    print (f\"Pre HM parameter bounds for {param_name}: {simulator.parameters_range[param_name]}\")\n",
    "    print (f\"Post HM parameter bounds for {param_name}: {bounds}\")\n",
    "    \n"
   ]
  },
  {
   "cell_type": "markdown",
   "metadata": {},
   "source": [
    "### Bayesian calibration\n",
    "With the reduced and plausible parameter space from history matching, we now perform Bayesian inference to estimate the posterior distribution of parameters given patient data. We apply the following steps:\n",
    "\n",
    "- Define a prior over parameters using the NROY region from history matching.\n",
    "\n",
    "- Define a likelihood function that compares model predictions to patient data, including observation and model error.\n",
    "\n",
    "- Use a Bayesian method (MCMC) to sample from the posterior.\n",
    "\n"
   ]
  },
  {
   "cell_type": "code",
   "execution_count": null,
   "metadata": {
    "ExecuteTime": {
     "end_time": "2025-08-07T14:27:56.042393Z",
     "start_time": "2025-08-07T14:25:15.507521Z"
    }
   },
   "outputs": [],
   "source": [
    "from autoemulate.calibration.bayes import BayesianCalibration\n",
    "\n",
    "model_post_hm = hmw.emulator  # Use the emulator from history matching\n",
    "\n",
    "bc = BayesianCalibration(\n",
    "    emulator=model_post_hm,\n",
    "    parameter_range=params_post_hm,\n",
    "    observations = {k: torch.tensor(v[0]) for k,v in observations.items()},\n",
    "    observation_noise={k: v[1] for k,v in observations.items()},\n",
    "    calibration_params = top_parameters_sa\n",
    ")\n",
    "\n",
    "mcmc = bc.run_mcmc(warmup_steps=10, num_samples=10000, sampler='nuts')\n"
   ]
  },
  {
   "cell_type": "code",
   "execution_count": null,
   "metadata": {
    "ExecuteTime": {
     "end_time": "2025-08-07T14:27:56.052312Z",
     "start_time": "2025-08-07T14:27:56.038552Z"
    }
   },
   "outputs": [],
   "source": [
    "mcmc.summary()\n"
   ]
  },
  {
   "cell_type": "markdown",
   "metadata": {},
   "source": [
    "We can check if the posterior samples are consistent with the true values of the parameters."
   ]
  },
  {
   "cell_type": "code",
   "execution_count": null,
   "metadata": {
    "ExecuteTime": {
     "end_time": "2025-08-07T14:27:56.054014Z",
     "start_time": "2025-08-07T14:27:56.045232Z"
    }
   },
   "outputs": [],
   "source": [
    "print(patient_true_values)\n"
   ]
  },
  {
   "cell_type": "markdown",
   "metadata": {},
   "source": []
  },
  {
   "cell_type": "code",
   "execution_count": null,
   "metadata": {
    "ExecuteTime": {
     "end_time": "2025-08-07T14:27:56.492999Z",
     "start_time": "2025-08-07T14:27:56.046868Z"
    }
   },
   "outputs": [],
   "source": [
    "import arviz as az\n",
    "import matplotlib.pyplot as plt\n",
    "idata = bc.to_arviz(mcmc)\n",
    "\n",
    "az.plot_posterior(idata, var_names=top_parameters_sa, kind='hist', figsize=(10, 6))\n",
    "plt.tight_layout()\n",
    "plt.show()\n"
   ]
  }
 ],
 "metadata": {
  "jupyter": {
   "tags": [
    "skip-execution"
   ]
  },
  "kernelspec": {
   "display_name": "poetry-ae-casestudy",
   "language": "python",
   "name": "poetry-ae-casestudy"
  },
  "language_info": {
   "codemirror_mode": {
    "name": "ipython",
    "version": 3
   },
   "file_extension": ".py",
   "mimetype": "text/x-python",
   "name": "python",
   "nbconvert_exporter": "python",
   "pygments_lexer": "ipython3",
   "version": "3.12.11"
  }
 },
 "nbformat": 4,
 "nbformat_minor": 2
}
