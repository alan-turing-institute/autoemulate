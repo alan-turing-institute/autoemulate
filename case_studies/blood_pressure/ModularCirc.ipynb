{
 "cells": [
  {
   "cell_type": "markdown",
   "metadata": {},
   "source": [
    "# End-to-end AutoEmulate workflow \n",
    "\n",
    "## Overview\n",
    "\n",
    "<!-- <b>In this workflow we demonstrate the integration of a Cardiovascular simulator, Naghavi Model from ModularCirc in an end-to-end AutoEmulate workflow.</b>  -->\n",
    "\n",
    "Naghavi model is a 0D (zero-dimensional) computational model of the cardiovascular system, which is used to simulate blood flow and pressure dynamics in the heart and blood vessels.\n",
    "\n",
    "This demo includes:\n",
    "- Setting up parameter ranges \n",
    "- Creating samples\n",
    "- Running the simulator to generate training data for the emulator \n",
    "- Using AutoEmulate to find the best pre-processing technique and model tailored to the simulation data \n",
    "- Applying history matching to refine the model and enhance parameter ranges \n",
    "- Sensitivity Analysis \n",
    "- Bayesian calibration\n",
    "\n",
    "TODO: update figure?\n",
    "<!-- <img src=\"https://raw.githubusercontent.com/alan-turing-institute/autoemulate/refs/heads/main/misc/workflow.png\" alt=\"Work Flow\" style=\"width:100%;\"/> -->\n"
   ]
  },
  {
   "cell_type": "code",
   "execution_count": 2,
   "metadata": {
    "ExecuteTime": {
     "end_time": "2025-07-28T11:05:12.732968Z",
     "start_time": "2025-07-28T11:05:08.035556Z"
    }
   },
   "outputs": [],
   "source": [
    "import pandas as pd\n",
    "import torch"
   ]
  },
  {
   "cell_type": "markdown",
   "metadata": {},
   "source": [
    "## 1: Set up simulator and generate data\n",
    "\n",
    "TODO: add link here to how subclass the `Simulator` class to integrate their own simulator into an `AutoEmulate` workflow (see `docs/experimental/tutorials/simulator/01_custom_simulations.ipynb`)\n",
    "\n",
    "Below we import all that we need."
   ]
  },
  {
   "cell_type": "markdown",
   "metadata": {},
   "source": [
    "The `NaghaviSimulator` models a range of parameters. Below we choose to only track a subset of those. Note that the simulator is set up to output summary statistics for each of the tracked variables."
   ]
  },
  {
   "cell_type": "code",
   "execution_count": 3,
   "metadata": {
    "ExecuteTime": {
     "end_time": "2025-07-28T11:05:16.853668Z",
     "start_time": "2025-07-28T11:05:12.727607Z"
    }
   },
   "outputs": [],
   "source": [
    "from cardiac_simulator import NaghaviSimulator\n",
    "\n",
    "simulator = NaghaviSimulator(\n",
    "    output_variables=['lv.P_i', 'lv.P_o'],  # Only the ones you're interested in\n",
    "    n_cycles=300, \n",
    "    dt=0.001,\n",
    ")"
   ]
  },
  {
   "cell_type": "markdown",
   "metadata": {},
   "source": [
    "The simulator comes with predefined input parameters ranges. We can sample from those using Latin Hypercube Sampling to generate data to train the emulator with."
   ]
  },
  {
   "cell_type": "code",
   "execution_count": 4,
   "metadata": {
    "ExecuteTime": {
     "end_time": "2025-07-28T11:05:16.855569Z",
     "start_time": "2025-07-28T11:05:16.841489Z"
    }
   },
   "outputs": [
    {
     "data": {
      "text/plain": "{'ao.r': (120.0, 360.0),\n 'ao.c': (0.15, 0.44999999999999996),\n 'art.r': (562.5, 1687.5),\n 'art.c': (1.5, 4.5),\n 'ven.r': (4.5, 13.5),\n 'ven.c': (66.65, 199.95000000000002),\n 'av.r': (3.0, 9.0),\n 'mv.r': (2.05, 6.1499999999999995),\n 'la.E_pas': (0.22, 0.66),\n 'la.E_act': (0.225, 0.675),\n 'la.v_ref': (5.0, 15.0),\n 'la.k_pas': (0.01665, 0.07500000000000001),\n 'lv.E_pas': (0.5, 1.5),\n 'lv.E_act': (1.5, 4.5),\n 'lv.v_ref': (5.0, 15.0),\n 'lv.k_pas': (0.00999, 0.045)}"
     },
     "execution_count": 4,
     "metadata": {},
     "output_type": "execute_result"
    }
   ],
   "source": [
    "simulator.parameters_range"
   ]
  },
  {
   "cell_type": "code",
   "execution_count": 5,
   "metadata": {
    "ExecuteTime": {
     "end_time": "2025-07-28T11:05:16.944348Z",
     "start_time": "2025-07-28T11:05:16.849910Z"
    }
   },
   "outputs": [],
   "source": [
    "N_samples = 100\n",
    "x = simulator.sample_inputs(N_samples)"
   ]
  },
  {
   "cell_type": "markdown",
   "metadata": {},
   "source": [
    "We can now use the simulator to generate predictions for the sampled parameters. Alternatively, for convenience. we can load already simulated data."
   ]
  },
  {
   "cell_type": "code",
   "execution_count": 6,
   "metadata": {
    "ExecuteTime": {
     "end_time": "2025-07-28T11:05:16.944695Z",
     "start_time": "2025-07-28T11:05:16.929014Z"
    }
   },
   "outputs": [],
   "source": [
    "import os\n",
    "save = True\n",
    "\n",
    "if not os.path.exists('simulator_results.csv'):\n",
    "    # Run batch simulations with the samples generated in Cell 1\n",
    "    y = simulator.forward_batch(x)\n",
    "\n",
    "    # Convert results to DataFrame for analysis\n",
    "    results_df = pd.DataFrame(y)\n",
    "    \n",
    "    if save:\n",
    "        # Save the results to a CSV file\n",
    "        results_df.to_csv('simulator_results.csv', index=False)\n",
    "\n",
    "else:\n",
    "    # Read the results from the CSV file\n",
    "    results_df = pd.read_csv('simulator_results.csv')\n",
    "    y = torch.tensor(results_df.to_numpy())"
   ]
  },
  {
   "cell_type": "markdown",
   "metadata": {},
   "source": [
    "These are the output variables we've simulated."
   ]
  },
  {
   "cell_type": "code",
   "execution_count": 7,
   "metadata": {
    "ExecuteTime": {
     "end_time": "2025-07-28T11:05:16.945043Z",
     "start_time": "2025-07-28T11:05:16.937571Z"
    }
   },
   "outputs": [
    {
     "data": {
      "text/plain": "['lv.P_i_min',\n 'lv.P_i_max',\n 'lv.P_i_mean',\n 'lv.P_i_range',\n 'lv.P_o_min',\n 'lv.P_o_max',\n 'lv.P_o_mean',\n 'lv.P_o_range']"
     },
     "execution_count": 7,
     "metadata": {},
     "output_type": "execute_result"
    }
   ],
   "source": [
    "simulator.output_names"
   ]
  },
  {
   "cell_type": "markdown",
   "metadata": {},
   "source": [
    "## 2: Train emulator with AutoEmulate\n",
    " \n",
    "User should choose from the available `models` the `models` they would like to investigate. Here we restrict to just Gaussian Processes as we need an uncertainty aware emulator.\n",
    "\n",
    "TODO: below we also use PCA to reduce dimensionality of the outputs but we should not do this if we're working with summary statistics."
   ]
  },
  {
   "cell_type": "code",
   "execution_count": 8,
   "metadata": {
    "ExecuteTime": {
     "end_time": "2025-07-28T11:05:17.925416Z",
     "start_time": "2025-07-28T11:05:16.938382Z"
    }
   },
   "outputs": [
    {
     "name": "stdout",
     "output_type": "stream",
     "text": [
      "Requirement already satisfied: torchrbf in /Users/crangelsmith/Library/Caches/pypoetry/virtualenvs/blood-pressure-R1QmbDOT-py3.12/lib/python3.12/site-packages (0.0.1)\r\n"
     ]
    }
   ],
   "source": [
    "!pip install torchrbf"
   ]
  },
  {
   "cell_type": "code",
   "execution_count": 9,
   "metadata": {
    "ExecuteTime": {
     "end_time": "2025-07-28T11:05:31.381984Z",
     "start_time": "2025-07-28T11:05:17.917264Z"
    }
   },
   "outputs": [
    {
     "name": "stderr",
     "output_type": "stream",
     "text": [
      "Comparing models: 100%|██████████| 1.00/1.00 [00:11<00:00, 11.3s/model]\n"
     ]
    }
   ],
   "source": [
    "from autoemulate.experimental.compare import AutoEmulate\n",
    "\n",
    "from autoemulate.experimental.emulators.nn.mlp import MLP\n",
    "\n",
    "ae = AutoEmulate(\n",
    "    x, \n",
    "    y, \n",
    "    models=[MLP],  \n",
    ")"
   ]
  },
  {
   "cell_type": "markdown",
   "metadata": {},
   "source": [
    "TODO: the GPs are not doing great here"
   ]
  },
  {
   "cell_type": "code",
   "execution_count": 10,
   "metadata": {
    "ExecuteTime": {
     "end_time": "2025-07-28T11:05:31.405380Z",
     "start_time": "2025-07-28T11:05:31.381021Z"
    }
   },
   "outputs": [
    {
     "data": {
      "text/plain": "  model_name              x_transforms              y_transforms  \\\n0        MLP  [StandardizeTransform()]  [StandardizeTransform()]   \n\n                                              config  rmse_test   r2_test  \\\n0  {'epochs': 100, 'layer_dims': [32, 16], 'lr': ...   4.378646 -0.137841   \n\n   r2_test_std  r2_train  r2_train_std  \n0     0.171073 -0.014048      0.014359  ",
      "text/html": "<div>\n<style scoped>\n    .dataframe tbody tr th:only-of-type {\n        vertical-align: middle;\n    }\n\n    .dataframe tbody tr th {\n        vertical-align: top;\n    }\n\n    .dataframe thead th {\n        text-align: right;\n    }\n</style>\n<table border=\"1\" class=\"dataframe\">\n  <thead>\n    <tr style=\"text-align: right;\">\n      <th></th>\n      <th>model_name</th>\n      <th>x_transforms</th>\n      <th>y_transforms</th>\n      <th>config</th>\n      <th>rmse_test</th>\n      <th>r2_test</th>\n      <th>r2_test_std</th>\n      <th>r2_train</th>\n      <th>r2_train_std</th>\n    </tr>\n  </thead>\n  <tbody>\n    <tr>\n      <th>0</th>\n      <td>MLP</td>\n      <td>[StandardizeTransform()]</td>\n      <td>[StandardizeTransform()]</td>\n      <td>{'epochs': 100, 'layer_dims': [32, 16], 'lr': ...</td>\n      <td>4.378646</td>\n      <td>-0.137841</td>\n      <td>0.171073</td>\n      <td>-0.014048</td>\n      <td>0.014359</td>\n    </tr>\n  </tbody>\n</table>\n</div>"
     },
     "execution_count": 10,
     "metadata": {},
     "output_type": "execute_result"
    }
   ],
   "source": [
    "ae.summarise()"
   ]
  },
  {
   "cell_type": "markdown",
   "metadata": {},
   "source": [
    "Extract the best performing emulator."
   ]
  },
  {
   "cell_type": "code",
   "execution_count": 11,
   "metadata": {
    "ExecuteTime": {
     "end_time": "2025-07-28T11:05:31.445179Z",
     "start_time": "2025-07-28T11:05:31.397928Z"
    }
   },
   "outputs": [],
   "source": [
    "model = ae.best_result().model"
   ]
  },
  {
   "cell_type": "markdown",
   "metadata": {},
   "source": [
    "## 3: Sensitivity Analysis \n",
    "Use AutoEmulate to perform sensitivity analysis. This will help identify the parameters that have higher impact on the outputs to narrow down the search space for performing model calibration. \n",
    "\n",
    "TODO: could link to sensitivity analysis overview notebook."
   ]
  },
  {
   "cell_type": "code",
   "execution_count": 12,
   "metadata": {
    "ExecuteTime": {
     "end_time": "2025-07-28T11:05:31.547445Z",
     "start_time": "2025-07-28T11:05:31.400178Z"
    }
   },
   "outputs": [],
   "source": [
    "from autoemulate.experimental.sensitivity_analysis import SensitivityAnalysis\n",
    "\n",
    "# Define the problem dictionary for Sobol sensitivity analysis\n",
    "problem = {\n",
    "    'num_vars': simulator.in_dim,\n",
    "    'names': simulator.param_names,\n",
    "    'bounds': simulator.param_bounds\n",
    "}\n",
    "\n",
    "si = SensitivityAnalysis(model, problem=problem)"
   ]
  },
  {
   "cell_type": "markdown",
   "metadata": {},
   "source": [
    "TODO: currently the below runs super slow, have no idea why. It crashed when I tried running it on 8 output variables."
   ]
  },
  {
   "cell_type": "code",
   "execution_count": 13,
   "metadata": {
    "ExecuteTime": {
     "end_time": "2025-07-28T11:05:32.687491Z",
     "start_time": "2025-07-28T11:05:31.451872Z"
    }
   },
   "outputs": [],
   "source": [
    "si_df = si.run(method='sobol')\n"
   ]
  },
  {
   "cell_type": "code",
   "execution_count": 14,
   "metadata": {
    "ExecuteTime": {
     "end_time": "2025-07-28T11:05:33.304756Z",
     "start_time": "2025-07-28T11:05:32.667728Z"
    }
   },
   "outputs": [
    {
     "data": {
      "text/plain": "<Figure size 1350x1200 with 8 Axes>",
      "image/png": "[encoded data removed]"
     },
     "execution_count": 14,
     "metadata": {},
     "output_type": "execute_result"
    }
   ],
   "source": [
    "si.plot_sobol(si_df)"
   ]
  },
  {
   "cell_type": "code",
   "execution_count": 15,
   "metadata": {
    "ExecuteTime": {
     "end_time": "2025-07-28T11:05:33.587241Z",
     "start_time": "2025-07-28T11:05:33.300066Z"
    }
   },
   "outputs": [
    {
     "data": {
      "text/plain": "<Figure size 1000x600 with 2 Axes>",
      "image/png": "[encoded data removed]"
     },
     "execution_count": 15,
     "metadata": {},
     "output_type": "execute_result"
    }
   ],
   "source": [
    "si.plot_sa_heatmap(si_df, index='ST', cmap='coolwarm', normalize=True, figsize=(10, 6))"
   ]
  },
  {
   "cell_type": "code",
   "execution_count": 16,
   "metadata": {
    "ExecuteTime": {
     "end_time": "2025-07-28T11:05:33.587947Z",
     "start_time": "2025-07-28T11:05:33.402348Z"
    }
   },
   "outputs": [],
   "source": [
    "top_parameters_sa = si.top_n_sobol_params(si_df,top_n=7)"
   ]
  },
  {
   "cell_type": "code",
   "execution_count": 17,
   "outputs": [
    {
     "name": "stdout",
     "output_type": "stream",
     "text": [
      "Fixing parameter ven.r to a value within its range (4.5, 13.5)\n",
      "Fixing parameter ven.c to a value within its range (66.65, 199.95000000000002)\n",
      "Fixing parameter mv.r to a value within its range (2.05, 6.1499999999999995)\n",
      "Fixing parameter la.v_ref to a value within its range (5.0, 15.0)\n",
      "Fixing parameter la.k_pas to a value within its range (0.01665, 0.07500000000000001)\n",
      "Fixing parameter lv.E_pas to a value within its range (0.5, 1.5)\n",
      "Fixing parameter lv.E_act to a value within its range (1.5, 4.5)\n",
      "Fixing parameter lv.v_ref to a value within its range (5.0, 15.0)\n",
      "Fixing parameter lv.k_pas to a value within its range (0.00999, 0.045)\n",
      "Updated parameters range with fixed values for non-sensitive parameters:\n",
      "{'ao.r': (120.0, 360.0), 'ao.c': (0.15, 0.44999999999999996), 'art.r': (562.5, 1687.5), 'art.c': (1.5, 4.5), 'ven.r': 4.5, 'ven.c': 66.65, 'av.r': (3.0, 9.0), 'mv.r': 2.05, 'la.E_pas': (0.22, 0.66), 'la.E_act': (0.225, 0.675), 'la.v_ref': 5.0, 'la.k_pas': 0.029175000000000006, 'lv.E_pas': 0.5, 'lv.E_act': 1.5, 'lv.v_ref': 5.0, 'lv.k_pas': 0.017505}\n"
     ]
    }
   ],
   "source": [
    "# TODO simulator.param_names update to include only the top N parameters from sensitivity analysis fixing to a value the rest \n",
    "\n",
    "for param_name, (min_val, max_val) in simulator.parameters_range.items():\n",
    "    if param_name not in top_parameters_sa:\n",
    "        print(f\"Fixing parameter {param_name} to a value within its range ({min_val}, {max_val})\")\n",
    "        simulator.parameters_range[param_name] = ((max_val-min_val) / 2.0)  # Fix to a value\n",
    "        \n",
    "print(\"Updated parameters range with fixed values for non-sensitive parameters:\")\n",
    "print(simulator.parameters_range)"
   ],
   "metadata": {
    "collapsed": false,
    "ExecuteTime": {
     "end_time": "2025-07-28T11:05:33.588831Z",
     "start_time": "2025-07-28T11:05:33.408045Z"
    }
   }
  },
  {
   "cell_type": "markdown",
   "metadata": {},
   "source": [
    "## 4: Model calibration\n",
    "\n",
    "To refine our emulator, we need real-world observations to compare against. These observations can come from experiments reported in the literature. \n",
    "\n",
    "In this example, we'll generate synthetic \"observations\" by running the simulator at the midpoint of each parameter range, treating these as our \"ground truth\" values for calibration. Note that in a real world example one can have multiple observations."
   ]
  },
  {
   "cell_type": "code",
   "execution_count": 18,
   "metadata": {
    "ExecuteTime": {
     "end_time": "2025-07-28T11:05:33.588917Z",
     "start_time": "2025-07-28T11:05:33.415419Z"
    }
   },
   "outputs": [],
   "source": [
    "# An example of how to define observed data with means and variances from a hypothetical experiment\n",
    "observations = {\n",
    "    'lv.P_i_min': (5.0, 0.1),   # Minimum of minimum LV pressure\n",
    "    'lv.P_i_max': (20.0, 0.1),   # Maximum of minimum LV pressure\n",
    "    'lv.P_i_mean': (10.0, 0.1),  # Mean of minimum LV pressure\n",
    "    'lv.P_i_range': (15.0, 0.5), # Range of minimum LV pressure\n",
    "    'lv.P_o_min': (1.0, 0.1),  # Minimum of maximum LV pressure\n",
    "    'lv.P_o_max': (13.0, 0.1),  # Maximum of maximum LV pressure\n",
    "    'lv.P_o_mean': (12.0, 0.1), # Mean of maximum LV pressure\n",
    "    'lv.P_o_range': (20.0, 0.5)  # Range of maximum LV pressure\n",
    "}"
   ]
  },
  {
   "cell_type": "code",
   "execution_count": 36,
   "metadata": {
    "ExecuteTime": {
     "end_time": "2025-07-28T13:04:07.822217Z",
     "start_time": "2025-07-28T13:04:06.794497Z"
    }
   },
   "outputs": [
    {
     "name": "stdout",
     "output_type": "stream",
     "text": [
      "Parameter: ao.r\n",
      "Parameter: ao.c\n",
      "Parameter: art.r\n",
      "Parameter: art.c\n",
      "Parameter: ven.r\n",
      "Parameter: ven.c\n",
      "Parameter: av.r\n",
      "Parameter: mv.r\n",
      "Parameter: la.E_pas\n",
      "Parameter: la.E_act\n",
      "Parameter: la.v_ref\n",
      "Parameter: la.k_pas\n",
      "Parameter: lv.E_pas\n",
      "Parameter: lv.E_act\n",
      "Parameter: lv.v_ref\n",
      "Parameter: lv.k_pas\n"
     ]
    }
   ],
   "source": [
    "# Otherwise, use one forward pass of your simualtion to get the observed data\n",
    "# Calculate midpoint parameters\n",
    "midpoint_params = []\n",
    "for param_name in simulator.parameters_range:\n",
    "    print(f\"Parameter: {param_name}\")\n",
    "    # Calculate the midpoint of the parameter range\n",
    "    if isinstance(simulator.parameters_range[param_name],tuple) :\n",
    "        min_val, max_val = simulator.parameters_range[param_name]\n",
    "        midpoint_params.append((max_val - min_val) / 2.0)\n",
    "    else:\n",
    "        # If the parameter is fixed to a value, use that value\n",
    "        midpoint_params.append(simulator.parameters_range[param_name])\n",
    "# Run the simulator with midpoint parameters\n",
    "midpoint_results = simulator.forward(torch.tensor(midpoint_params).reshape(1, -1))"
   ]
  },
  {
   "cell_type": "code",
   "execution_count": 38,
   "outputs": [
    {
     "data": {
      "text/plain": "tensor([[ 2.3288, 11.6479,  7.9240,  9.3191,  2.3288, 11.6479,  7.9240,  9.3191]])"
     },
     "execution_count": 38,
     "metadata": {},
     "output_type": "execute_result"
    }
   ],
   "source": [
    "midpoint_results"
   ],
   "metadata": {
    "collapsed": false,
    "ExecuteTime": {
     "end_time": "2025-07-28T13:04:20.054093Z",
     "start_time": "2025-07-28T13:04:20.035827Z"
    }
   }
  },
  {
   "cell_type": "code",
   "execution_count": 39,
   "metadata": {
    "ExecuteTime": {
     "end_time": "2025-07-28T13:04:24.979144Z",
     "start_time": "2025-07-28T13:04:24.931293Z"
    }
   },
   "outputs": [
    {
     "data": {
      "text/plain": "{'lv.P_i_min': (2.328786611557007, 0.023287866115570068),\n 'lv.P_i_max': (11.647878646850586, 0.11647878646850586),\n 'lv.P_i_mean': (7.9239654541015625, 0.07923965454101563),\n 'lv.P_i_range': (9.319092750549316, 0.09319092750549317),\n 'lv.P_o_min': (2.328786611557007, 0.023287866115570068),\n 'lv.P_o_max': (11.647878646850586, 0.11647878646850586),\n 'lv.P_o_mean': (7.9239654541015625, 0.07923965454101563),\n 'lv.P_o_range': (9.319092750549316, 0.09319092750549317)}"
     },
     "execution_count": 39,
     "metadata": {},
     "output_type": "execute_result"
    }
   ],
   "source": [
    "# Create observations dictionary\n",
    "observations = {\n",
    "    name: (val.item(), max(abs(val.item()) * 0.01, 0.01)) for\n",
    "    name, val in \n",
    "    zip(simulator.output_names, midpoint_results[0])}\n",
    "observations\n"
   ]
  },
  {
   "cell_type": "markdown",
   "metadata": {},
   "source": [
    "### History Matching\n",
    " \n",
    "Once you have the final model, running history matching can improve your model. The Implausibility metric is calculated using the following relation for each set of parameter:\n",
    "\n",
    "$I_i(\\overline{x_0}) = \\frac{|z_i - \\mathbb{E}(f_i(\\overline{x_0}))|}{\\sqrt{\\text{Var}[z_i - \\mathbb{E}(f_i(\\overline{x_0}))]}}$\n",
    "Where if implosibility ($I_i$) exceeds a threshhold value, the points will be rulled out. \n",
    "The outcome of history matching are the NORY (Not Ruled Out Yet) and RO (Ruled Out) points.\n",
    "\n",
    "- create a dictionary of your observations, this should match the output names of your simulator \n",
    "- create the history matching object \n",
    "- run history matching \n"
   ]
  },
  {
   "cell_type": "code",
   "execution_count": 40,
   "metadata": {
    "ExecuteTime": {
     "end_time": "2025-07-28T13:06:06.503350Z",
     "start_time": "2025-07-28T13:04:48.461899Z"
    }
   },
   "outputs": [
    {
     "name": "stderr",
     "output_type": "stream",
     "text": [
      "Comparing models: 100%|██████████| 1.00/1.00 [01:18<00:00, 78.0s/model]\n"
     ]
    }
   ],
   "source": [
    "from autoemulate.experimental.emulators.gaussian_process.exact import GaussianProcessExact\n",
    "\n",
    "ae_hm = AutoEmulate(\n",
    "    x, \n",
    "    y, \n",
    "    models=[GaussianProcessExact],  \n",
    ")\n",
    "\n",
    "model_hm = ae_hm.best_result().model\n"
   ]
  },
  {
   "cell_type": "code",
   "execution_count": 41,
   "metadata": {
    "ExecuteTime": {
     "end_time": "2025-07-28T13:06:57.789298Z",
     "start_time": "2025-07-28T13:06:06.498199Z"
    }
   },
   "outputs": [
    {
     "name": "stderr",
     "output_type": "stream",
     "text": [
      "Comparing models: 100%|██████████| 1.00/1.00 [00:51<00:00, 51.2s/model]\n"
     ]
    }
   ],
   "source": [
    "ae_hm.compare()"
   ]
  },
  {
   "cell_type": "code",
   "execution_count": 42,
   "metadata": {
    "ExecuteTime": {
     "end_time": "2025-07-28T13:11:09.130159Z",
     "start_time": "2025-07-28T13:11:09.098302Z"
    }
   },
   "outputs": [],
   "source": [
    "from autoemulate.experimental.calibration.history_matching import HistoryMatchingWorkflow\n",
    "\n",
    "hmw = HistoryMatchingWorkflow(\n",
    "    simulator=simulator,\n",
    "    emulator=model_hm,\n",
    "    observations=observations,\n",
    "    threshold=3.0,\n",
    "    train_x=x.float(),\n",
    "    train_y=y.float()\n",
    ")"
   ]
  },
  {
   "cell_type": "code",
   "execution_count": null,
   "outputs": [],
   "source": [
    "# Save the results\n",
    "history_matching_results = hmw.run_waves(n_waves=1, n_simulations=100, n_test_samples=10000,max_retries=10)"
   ],
   "metadata": {
    "collapsed": false,
    "is_executing": true,
    "ExecuteTime": {
     "start_time": "2025-07-28T14:37:19.558619Z"
    }
   }
  },
  {
   "cell_type": "code",
   "execution_count": 52,
   "outputs": [],
   "source": [
    "#get last values from HM\n",
    "test_parameters, impl_scores = history_matching_results[-1]\n",
    "nory_points = hmw.get_nroy(impl_scores,test_parameters) # Implausibility < 3.0\n"
   ],
   "metadata": {
    "collapsed": false,
    "ExecuteTime": {
     "end_time": "2025-07-28T13:16:20.142690Z",
     "start_time": "2025-07-28T13:16:20.070058Z"
    }
   }
  },
  {
   "cell_type": "code",
   "execution_count": 53,
   "metadata": {
    "ExecuteTime": {
     "end_time": "2025-07-28T13:16:21.724768Z",
     "start_time": "2025-07-28T13:16:21.427448Z"
    }
   },
   "outputs": [
    {
     "data": {
      "text/plain": "HTML(value='<h2>History Matching Dashboard</h2>')",
      "application/vnd.jupyter.widget-view+json": {
       "version_major": 2,
       "version_minor": 0,
       "model_id": "f98c7caea39d40ec978d551369d57ff6"
      }
     },
     "metadata": {},
     "output_type": "display_data"
    },
    {
     "data": {
      "text/plain": "VBox(children=(HBox(children=(Dropdown(description='Plot Type:', options=('Parameter vs Implausibility', 'Pair…",
      "application/vnd.jupyter.widget-view+json": {
       "version_major": 2,
       "version_minor": 0,
       "model_id": "6d7158b5cd0f4ff6b3aa984b19c83467"
      }
     },
     "metadata": {},
     "output_type": "display_data"
    }
   ],
   "source": [
    "from autoemulate.experimental.calibration.history_matching_dashboard import HistoryMatchingDashboard\n",
    "dashboard = HistoryMatchingDashboard(\n",
    "    samples=test_parameters,\n",
    "    impl_scores=impl_scores,\n",
    "    param_names=simulator.param_names,  \n",
    "    output_names=simulator.output_names, \n",
    "    )\n",
    "dashboard.display()"
   ]
  },
  {
   "cell_type": "markdown",
   "source": [],
   "metadata": {
    "collapsed": false
   }
  },
  {
   "cell_type": "code",
   "execution_count": 60,
   "outputs": [],
   "source": [
    "params_post_hm = hmw.generate_param_bounds(nroy_x=nory_points,param_names=simulator.param_names)"
   ],
   "metadata": {
    "collapsed": false,
    "ExecuteTime": {
     "end_time": "2025-07-28T13:19:13.135618Z",
     "start_time": "2025-07-28T13:19:13.055380Z"
    }
   }
  },
  {
   "cell_type": "code",
   "execution_count": 63,
   "outputs": [
    {
     "data": {
      "text/plain": "tensor([[2.3765e+02, 4.1900e-01, 1.2717e+03,  ..., 4.2484e+00, 6.8427e+00,\n         3.3495e-02],\n        [3.5574e+02, 4.2277e-01, 6.2016e+02,  ..., 3.0911e+00, 9.1990e+00,\n         3.5352e-02],\n        [2.5298e+02, 4.4305e-01, 1.4730e+03,  ..., 2.0938e+00, 7.3689e+00,\n         2.0649e-02],\n        ...,\n        [2.1722e+02, 2.8582e-01, 8.7784e+02,  ..., 2.5683e+00, 1.4012e+01,\n         1.0482e-02],\n        [1.3689e+02, 2.2618e-01, 6.8872e+02,  ..., 3.9471e+00, 5.1833e+00,\n         4.2416e-02],\n        [3.5270e+02, 3.0630e-01, 1.5661e+03,  ..., 3.3338e+00, 1.2777e+01,\n         3.6344e-02]])"
     },
     "execution_count": 63,
     "metadata": {},
     "output_type": "execute_result"
    }
   ],
   "source": [
    "params_post_hm"
   ],
   "metadata": {
    "collapsed": false,
    "ExecuteTime": {
     "end_time": "2025-07-28T13:25:05.489947Z",
     "start_time": "2025-07-28T13:25:05.462276Z"
    }
   }
  },
  {
   "cell_type": "code",
   "execution_count": 62,
   "outputs": [
    {
     "data": {
      "text/plain": "{'ao.r': (120.0, 360.0),\n 'ao.c': (0.15, 0.44999999999999996),\n 'art.r': (562.5, 1687.5),\n 'art.c': (1.5, 4.5),\n 'ven.r': 4.5,\n 'ven.c': 66.65,\n 'av.r': (3.0, 9.0),\n 'mv.r': 2.05,\n 'la.E_pas': (0.22, 0.66),\n 'la.E_act': (0.225, 0.675),\n 'la.v_ref': 5.0,\n 'la.k_pas': 0.029175000000000006,\n 'lv.E_pas': 0.5,\n 'lv.E_act': 1.5,\n 'lv.v_ref': 5.0,\n 'lv.k_pas': 0.017505}"
     },
     "execution_count": 62,
     "metadata": {},
     "output_type": "execute_result"
    }
   ],
   "source": [
    "simulator.parameters_range"
   ],
   "metadata": {
    "collapsed": false,
    "ExecuteTime": {
     "end_time": "2025-07-28T13:21:18.436758Z",
     "start_time": "2025-07-28T13:21:18.390325Z"
    }
   }
  },
  {
   "cell_type": "markdown",
   "metadata": {},
   "source": [
    "### Bayesian calibration\n",
    "Once you have identified the important parameters through the Sensitivity analysis tool, the MCMC module can return the calibrated parameter values with uncertainty. \n",
    "The MCMC algorithm tries to find parameter values that match the predictions by the emulator to your `observations` whilst staying within the `parameters_range` (priors)\n",
    "and accounting for uncertainty.\n",
    "\n",
    "TODO: link to tutorial (once added). This will show "
   ]
  },
  {
   "cell_type": "code",
   "execution_count": null,
   "metadata": {
    "ExecuteTime": {
     "start_time": "2025-07-28T11:05:33.489908Z"
    }
   },
   "outputs": [],
   "source": [
    "# with sensitivity analysis, can choose N top params to calibrate\n",
    "# n_top = 2\n",
    "# top_params = si.top_n_sobol_params(si_df, n_top)"
   ]
  },
  {
   "cell_type": "code",
   "execution_count": null,
   "metadata": {
    "ExecuteTime": {
     "start_time": "2025-07-28T11:05:33.490823Z"
    }
   },
   "outputs": [],
   "source": [
    "torch.tensor(list({k: v[0] for k,v in observations.items()}.values())).ndim"
   ]
  },
  {
   "cell_type": "code",
   "execution_count": null,
   "metadata": {
    "ExecuteTime": {
     "start_time": "2025-07-28T11:05:33.491723Z"
    }
   },
   "outputs": [],
   "source": [
    "from autoemulate.experimental.calibration.bayes import BayesianCalibration\n",
    "\n",
    "bc = BayesianCalibration(\n",
    "    model,\n",
    "    # the parameter range here could be narrowd using history matching\n",
    "    # specifically the `hm.generate_param_bounds` method\n",
    "    simulator.parameters_range,\n",
    "    observations = {k: torch.tensor(v[0]) for k,v in observations.items()},\n",
    "    observation_noise={k: v[1] for k,v in observations.items()},\n",
    "    # if had top N sensitive params, could pass those here\n",
    "    # top_param = top_params\n",
    ")\n",
    "\n",
    "mcmc = bc.run_mcmc(warmup_steps=10, num_samples=10, sampler='nuts')\n"
   ]
  },
  {
   "cell_type": "code",
   "execution_count": null,
   "metadata": {
    "ExecuteTime": {
     "start_time": "2025-07-28T11:05:33.492839Z"
    }
   },
   "outputs": [],
   "source": [
    "mcmc.summary()"
   ]
  }
 ],
 "metadata": {
  "jupyter": {
   "tags": [
    "skip-execution"
   ]
  },
  "kernelspec": {
   "display_name": "poetry-ae-casestudy",
   "language": "python",
   "name": "poetry-ae-casestudy"
  },
  "language_info": {
   "codemirror_mode": {
    "name": "ipython",
    "version": 3
   },
   "file_extension": ".py",
   "mimetype": "text/x-python",
   "name": "python",
   "nbconvert_exporter": "python",
   "pygments_lexer": "ipython3",
   "version": "3.12.11"
  }
 },
 "nbformat": 4,
 "nbformat_minor": 2
}
