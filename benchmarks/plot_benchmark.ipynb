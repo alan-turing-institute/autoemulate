{
 "cells": [
  {
   "cell_type": "code",
   "execution_count": null,
   "id": "702bb87d",
   "metadata": {},
   "outputs": [],
   "source": [
    "import matplotlib.pyplot as plt\n",
    "import numpy as np\n",
    "import pandas as pd\n",
    "\n",
    "df = pd.read_csv(\"https://github.com/user-attachments/files/21469860/benchmark_results.csv\")"
   ]
  },
  {
   "cell_type": "code",
   "execution_count": null,
   "id": "c0dd4297",
   "metadata": {},
   "outputs": [],
   "source": [
    "N_BOOTSTRAPS=100\n",
    "\n",
    "def generate_plots(df, metric=\"r2_train\", exclude = [\"SupportVectorMachine\", \"LightGBM\"], fontsize=\"small\"):\n",
    "    simulator_list = sorted(df[\"simulator\"].unique().tolist())\n",
    "    n_iter_list = sorted(df[\"n_iter\"].unique().tolist())\n",
    "    n_splits_list = sorted(df[\"n_splits\"].unique().tolist())\n",
    "    color = {name:f\"C{idx}\" for idx, name in enumerate(sorted(df[\"model_name\"].unique().tolist()))}\n",
    "    for plot_idx, simulator in enumerate(simulator_list):\n",
    "        fig, axs = plt.subplots(len(n_splits_list), len(n_iter_list), figsize=(12, 6), squeeze=False)\n",
    "        handles = []\n",
    "        labels = []\n",
    "        for row_idx, n_splits in enumerate(n_splits_list):\n",
    "            for col_idx, n_iter in enumerate(n_iter_list):\n",
    "                subset = df[df[\"simulator\"].eq(simulator) & df[\"n_splits\"].eq(n_splits) & df[\"n_iter\"].eq(n_iter)]\n",
    "                ax = axs[row_idx][col_idx]\n",
    "                for idx, ((name,), group) in enumerate(subset.groupby([\"model_name\"], sort=True)): \n",
    "                    if name in exclude:\n",
    "                        continue\n",
    "                    group_sorted = group.sort_values(\"n_samples\")\n",
    "                    line = ax.plot(group_sorted[\"n_samples\"], group_sorted[metric], label=name, c=color[name])\n",
    "\n",
    "                    if row_idx == 0 and col_idx == 0:\n",
    "                        handles.append(line[0])\n",
    "                        labels.append(name)\n",
    "                    \n",
    "                    mean = group_sorted[metric]\n",
    "                    ste = group_sorted[f\"{metric}_std\"] / np.sqrt(N_BOOTSTRAPS)\n",
    "                    ax.fill_between(group_sorted[\"n_samples\"], mean - ste, mean + ste, alpha=0.2, lw=0, color=color[name])\n",
    "                ax.set_ylim(-0.1, 1.05)\n",
    "                # ax.set_xlim(df[\"n_samples\"].min(), df[\"n_samples\"].max())\n",
    "                ax.set_xlim(10, df[\"n_samples\"].max())\n",
    "                ax.axhline(0., lw=0.5, ls=\"--\", c=\"grey\", alpha=0.5, zorder=-1)\n",
    "                \n",
    "                ax.set_xscale(\"log\")\n",
    "                # ax.set_yscale(\"log\")\n",
    "                if col_idx == 0:\n",
    "                    ax.set_ylabel(metric, size=fontsize)\n",
    "                if row_idx == len(n_splits_list)-1:\n",
    "                    ax.set_xlabel(\"n_samples\", size=fontsize)\n",
    "                ax.tick_params(labelsize=fontsize)\n",
    "                ax.set_title(f\"{simulator} (n_iter={n_iter}, n_splits={n_splits})\", size=fontsize)\n",
    "                ax.grid(True, which='both', linestyle=':', linewidth=0.5, alpha=0.7)\n",
    "        fig.legend(handles, labels, loc='upper center', bbox_to_anchor=(0.5, 0.98), ncol=df[\"model_name\"].nunique()-len(exclude), fontsize=fontsize)\n",
    "        \n",
    "        # Adjust layout to make room for legend\n",
    "        plt.tight_layout()\n",
    "        plt.subplots_adjust(top=0.88)\n",
    "        \n",
    "        plt.show()\n"
   ]
  },
  {
   "cell_type": "code",
   "execution_count": null,
   "id": "be99a004",
   "metadata": {},
   "outputs": [],
   "source": [
    "# All models\n",
    "generate_plots(df, metric=\"r2_test\", exclude=[])\n"
   ]
  },
  {
   "cell_type": "code",
   "execution_count": null,
   "id": "ffa939d7",
   "metadata": {},
   "outputs": [],
   "source": [
    "# GPs, ensembles and MLPs only\n",
    "generate_plots(df, metric=\"r2_test\", exclude=[\"RandomForest\", \"LightGBM\", \"SupportVectorMachine\", \"RadialBasisFunctions\"])"
   ]
  },
  {
   "cell_type": "code",
   "execution_count": null,
   "id": "a313ab5c",
   "metadata": {},
   "outputs": [],
   "source": []
  }
 ],
 "metadata": {
  "kernelspec": {
   "display_name": ".venv",
   "language": "python",
   "name": "python3"
  },
  "language_info": {
   "codemirror_mode": {
    "name": "ipython",
    "version": 3
   },
   "file_extension": ".py",
   "mimetype": "text/x-python",
   "name": "python",
   "nbconvert_exporter": "python",
   "pygments_lexer": "ipython3",
   "version": "3.12.11"
  }
 },
 "nbformat": 4,
 "nbformat_minor": 5
}
