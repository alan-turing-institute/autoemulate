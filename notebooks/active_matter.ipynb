{
 "cells": [
  {
   "cell_type": "code",
   "execution_count": null,
   "id": "e2ed041b",
   "metadata": {},
   "outputs": [],
   "source": [
    "from the_well.data import WellDataset\n",
    "\n",
    "the_well = WellDataset(\n",
    "    well_base_path=\"./the_well/datasets\",\n",
    "    well_dataset_name=\"active_matter\",\n",
    "    well_split_name=\"test\",\n",
    "    n_steps_input=1,\n",
    "    n_steps_output=1,\n",
    "    \n",
    ")"
   ]
  },
  {
   "cell_type": "code",
   "execution_count": null,
   "id": "0a970dee",
   "metadata": {},
   "outputs": [],
   "source": [
    "from torch.utils.data import DataLoader\n",
    "\n",
    "train_loader = DataLoader(the_well)\n",
    "\n",
    "batch = next(iter(train_loader))\n"
   ]
  },
  {
   "cell_type": "code",
   "execution_count": null,
   "id": "1034a1b2",
   "metadata": {},
   "outputs": [],
   "source": [
    "batch[\"input_fields\"].shape, batch[\"output_fields\"].shape"
   ]
  },
  {
   "cell_type": "code",
   "execution_count": null,
   "id": "8603904e",
   "metadata": {},
   "outputs": [],
   "source": [
    "\n",
    "batch[\"input_fields\"][0, 0, :, :, 0].shape"
   ]
  },
  {
   "cell_type": "code",
   "execution_count": null,
   "id": "6706c086",
   "metadata": {},
   "outputs": [],
   "source": [
    "\n",
    "import matplotlib.pyplot as plt\n",
    "\n",
    "plt.imshow(batch[\"input_fields\"][0, 0, :, :, 0])\n"
   ]
  },
  {
   "cell_type": "code",
   "execution_count": null,
   "id": "6fd34bc7",
   "metadata": {},
   "outputs": [],
   "source": [
    "from neuralop.models import FNO, FNO2d\n",
    "\n",
    "\n",
    "# Q: what happens if there is more than one channel? How are these combined\n",
    "model = FNO2d(\n",
    "    n_modes_height=16,\n",
    "    n_modes_width=16,\n",
    "    hidden_channels=16,\n",
    "    in_channels=1,  # Single scalar field input\n",
    "    out_channels=1,  # Single scalar field output\n",
    "    \n",
    ")"
   ]
  },
  {
   "cell_type": "code",
   "execution_count": null,
   "id": "f35bc1b3",
   "metadata": {},
   "outputs": [],
   "source": [
    "x = batch[\"input_fields\"][:1, 0, :, :, :1]  # [batch, height, width, channels]\n",
    "x = x.permute(0, 3, 1, 2)  # Convert to [batch, channels, height, width]\n",
    "x.shape"
   ]
  },
  {
   "cell_type": "code",
   "execution_count": null,
   "id": "675c25b8",
   "metadata": {},
   "outputs": [],
   "source": [
    "model(x).shape"
   ]
  },
  {
   "cell_type": "code",
   "execution_count": null,
   "id": "b25e051d",
   "metadata": {},
   "outputs": [],
   "source": [
    "from torch.optim import AdamW\n",
    "from torch.nn import MSELoss as RMSELoss\n",
    "optimizer = AdamW(\n",
    "    model.parameters(),\n",
    "    lr=8e-3,\n",
    "    weight_decay=1e-4\n",
    ")\n",
    "loss_fn = RMSELoss()\n",
    "\n",
    "for i, batch in enumerate(iter(the_well)):\n",
    "    x = batch[\"input_fields\"][:1, :, :, :1]  # [batch, height, width, channels]\n",
    "    y = batch[\"output_fields\"][:1, :, :, :1]  # [batch, height, width, channels]\n",
    "    # transpose to correct channel location\n",
    "    x = x.permute(0, 3, 1, 2)  # Convert to [batch, channels, height, width]\n",
    "    y = y.permute(0, 3, 1, 2)  #\n",
    "\n",
    "    # Get prediction\n",
    "    y_pred = model(x)\n",
    "\n",
    "    # Get loss\n",
    "    loss = loss_fn(y_pred, y)\n",
    "    \n",
    "    print(f\"Batch {i+1}, Loss: {loss.item():.6f}\")\n",
    "\n",
    "    loss.backward()\n",
    "    optimizer.step()\n",
    "    optimizer.zero_grad()"
   ]
  },
  {
   "cell_type": "code",
   "execution_count": null,
   "id": "b99a2eac",
   "metadata": {},
   "outputs": [],
   "source": []
  }
 ],
 "metadata": {
  "kernelspec": {
   "display_name": ".venv",
   "language": "python",
   "name": "python3"
  },
  "language_info": {
   "codemirror_mode": {
    "name": "ipython",
    "version": 3
   },
   "file_extension": ".py",
   "mimetype": "text/x-python",
   "name": "python",
   "nbconvert_exporter": "python",
   "pygments_lexer": "ipython3",
   "version": "3.12.11"
  }
 },
 "nbformat": 4,
 "nbformat_minor": 5
}
