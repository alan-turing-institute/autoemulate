{
 "cells": [
  {
   "cell_type": "code",
   "execution_count": null,
   "metadata": {},
   "outputs": [],
   "source": [
    "# probabilistic programming\n",
    "import pyro \n",
    "\n",
    "# MCMC plotting\n",
    "import arviz as az\n",
    "import matplotlib.pyplot as plt\n",
    "from getdist import plots\n",
    "\n",
    "# autoemulate imports\n",
    "from autoemulate.calibration.interval_excursion_set import IntervalExcursionSetCalibration\n",
    "from autoemulate.core.compare import AutoEmulate\n",
    "from autoemulate.data.utils import set_random_seed\n",
    "from autoemulate.simulations.projectile import Projectile\n",
    "from autoemulate.emulators.gaussian_process.exact import GaussianProcessRBF\n",
    "\n",
    "# suppress warnings in notebook for readability\n",
    "import os\n",
    "import warnings\n",
    "\n",
    "# ignore warnings\n",
    "warnings.filterwarnings(\"ignore\")\n",
    "os.environ[\"PYTHONWARNINGS\"] = \"ignore\"\n",
    "\n",
    "# random seed for reproducibility\n",
    "random_seed = 42\n",
    "set_random_seed(random_seed)\n",
    "pyro.set_rng_seed(random_seed)"
   ]
  },
  {
   "cell_type": "markdown",
   "metadata": {},
   "source": [
    "# Interval Excursion Set\n",
    "\n",
    "In this tutorial we will demonstrate how to use `AutoEmulate` to estimate the interval excursion set of a simulator. The interval excursion set is the set of input parameters for which the simulator output lies within a specified interval. This is a more general problem than estimating level sets, superlevel sets, or sublevel sets, as it allows for the specification of both lower and upper bounds on the output.\n",
    "\n",
    "We will use the `Projectile` simulator from the previous tutorials. We will first generate training data and fit a Gaussian process (GP) model to the data. We will then formulate the interval excursion set as a probabilistic model and then use the `IntervalExcursionSetCalibration` class to estimate the interval excursion set using both gradient-based MCMC (NUTS) and Sequential Monte Carlo (SMC) sampling methods."
   ]
  },
  {
   "cell_type": "markdown",
   "metadata": {},
   "source": [
    "## Projectile simulation: run simulator and fit emulator\n",
    "\n",
    "To begin with we create a simulator and generate some training data, before fitting a Gaussian process (GP) emulator to the data using AutoEmulate."
   ]
  },
  {
   "cell_type": "code",
   "execution_count": null,
   "metadata": {},
   "outputs": [],
   "source": [
    "# Create simulator and generate training data\n",
    "simulator = Projectile(\n",
    "    parameters_range={\"c\": (-5.0, 1.0), \"v0\": (0.0, 10.0)},\n",
    "    log_level=\"error\"\n",
    ")\n",
    "x = simulator.sample_inputs(1000)\n",
    "y, _ = simulator.forward_batch(x)\n",
    "\n",
    "# Visualize training data\n",
    "c = x[:, 0]\n",
    "v0 = x[:, 1]\n",
    "plt.scatter(c, v0, c=y[:, 0], cmap='viridis')\n",
    "plt.xlabel('Drag coefficient')\n",
    "plt.ylabel('Initial velocity (m/s)')\n",
    "plt.colorbar(label=\"Distance (m)\")\n",
    "plt.show()\n",
    "\n",
    "# Run AutoEmulate to find the best GP model\n",
    "ae = AutoEmulate(\n",
    "    x, \n",
    "    y, \n",
    "    models=[GaussianProcessRBF],\n",
    "    model_params={},\n",
    "    log_level=\"error\", \n",
    ")\n",
    "\n",
    "# Get best GP model\n",
    "gp = ae.best_result().model"
   ]
  },
  {
   "cell_type": "markdown",
   "metadata": {},
   "source": [
    "## Problem set-up: identify an interval excursion set for $f(x)$\n",
    "\n",
    "The aim for the remainder of this notebook is to explore methods that are able to identify samples $x$ from the interval excursion set.\n",
    "\n",
    "Mathematically this is:\n",
    "\n",
    "$$\n",
    "x \\in \\mathbb{R}^n, \\quad \n",
    "a, b \\in \\mathbb{R}^m, \\quad \n",
    "f: \\mathbb{R}^n \\to \\mathbb{R}^m, \\quad \n",
    "a_i < f_i(x) < b_i \\;\\; \\forall i \\in I \\subseteq \\{1,\\dots,m\\}\n",
    "$$\n",
    "\n",
    "with the interval excursion defined as:\n",
    "\n",
    "$$\n",
    "\\text{Interval Excursion Set (IES):} \\quad \n",
    "\\mathrm{IES}_{a,b,I} := \\{\\, x \\in \\mathbb{R}^n : a_i < f_i(x) < b_i \\;\\; \\forall i \\in I \\,\\}.\n",
    "\\\n",
    "$$\n",
    "\n",
    "The interval excursion set encompasses, as special cases, several familiar constructions:\n",
    "- the level set defined by $f(x) = c$,\n",
    "- the superlevel set defined by $f(x) > c$, and\n",
    "- the sublevel set defined by $f(x) < c$."
   ]
  },
  {
   "cell_type": "markdown",
   "metadata": {},
   "source": [
    "The probability that a Gaussian random variable $y \\sim \\mathcal{N}(\\mu, \\sigma^2)$ lies in the interval $a < y < b$ is:\n",
    "\n",
    "$$\n",
    "P(a < y < b) = \\Phi\\left(\\frac{b - \\mu}{\\sigma}\\right) - \\Phi\\left(\\frac{a - \\mu}{\\sigma}\\right)\n",
    "$$\n",
    "\n",
    "where $\\Phi(\\cdot)$ is the cumulative distribution function (CDF) of the standard normal distribution.\n",
    "\n"
   ]
  },
  {
   "cell_type": "markdown",
   "metadata": {},
   "source": [
    "In the Bayesian setting, this interval probability is used as a likelihood function. The posterior density for $x$ is then proportional to the product of the prior $p(x)$ and the probability that the model output $f(x)$ lies in the interval $a < y < b$:\n",
    "\n",
    "$$\n",
    "\n",
    "p(x \\mid a < f(x) < b) \\propto p(x) \\left[ \\Phi\\left(\\frac{b - \\mu(x)}{\\sigma(x)}\\right) - \\Phi\\left(\\frac{a - \\mu(x)}{\\sigma(x)}\\right) \\right]\n",
    "\n",
    "$$\n",
    "\n",
    "where $\\mu(x)$ and $\\sigma(x)$ are the mean and standard deviation of the model output at $x$."
   ]
  },
  {
   "cell_type": "code",
   "execution_count": null,
   "metadata": {},
   "outputs": [],
   "source": [
    "lower, upper = 6.0, 8.0\n",
    "ies = IntervalExcursionSetCalibration(\n",
    "    gp,\n",
    "    parameters_range=simulator.parameters_range,\n",
    "    output_bounds={\"distance\": (lower, upper)},\n",
    "    output_names=simulator.output_names,\n",
    "    log_level=\"error\",\n",
    ")"
   ]
  },
  {
   "cell_type": "markdown",
   "metadata": {},
   "source": [
    "## Interval excursion set samples using MCMC\n",
    "\n",
    "We next run the MCMC sampler. By default, it uses NUTS here, but Metropolis can also produce reasonable samples for low-dimensional parameter spaces, as is the case in this projectile simulator model."
   ]
  },
  {
   "cell_type": "code",
   "execution_count": null,
   "metadata": {},
   "outputs": [],
   "source": [
    "mcmc = ies.run_mcmc(\n",
    "    num_samples=500,\n",
    "    warmup_steps=200,\n",
    "    num_chains=2,\n",
    "    sampler=\"nuts\",\n",
    "    # sampler=\"metropolis\",\n",
    "    model_kwargs={\"uniform_prior\": True}\n",
    ")\n",
    "az_mcmc = ies.to_arviz(mcmc)"
   ]
  },
  {
   "cell_type": "markdown",
   "metadata": {},
   "source": [
    "Draw posterior predictive samples."
   ]
  },
  {
   "cell_type": "code",
   "execution_count": null,
   "metadata": {},
   "outputs": [],
   "source": [
    "y_pred = ies.posterior_predictive(mcmc)\n",
    "plt.hist(y_pred[\"distance\"], density=False, alpha=0.7)\n",
    "plt.xlabel(\"Distance (m)\")\n",
    "plt.ylabel(\"Frequency\")\n",
    "plt.show()"
   ]
  },
  {
   "cell_type": "markdown",
   "metadata": {},
   "source": [
    "Plot likelihood and mean of MCMC samples."
   ]
  },
  {
   "cell_type": "code",
   "execution_count": null,
   "metadata": {},
   "outputs": [],
   "source": [
    "ies.plot_samples(az_mcmc)"
   ]
  },
  {
   "cell_type": "markdown",
   "metadata": {},
   "source": [
    "Convert to arviz InferenceData object for further analysis, such as `plot_posterior()`."
   ]
  },
  {
   "cell_type": "code",
   "execution_count": null,
   "metadata": {},
   "outputs": [],
   "source": [
    "az_data = ies.to_arviz(mcmc)\n",
    "_ = az.plot_posterior(az_data)"
   ]
  },
  {
   "cell_type": "markdown",
   "metadata": {},
   "source": [
    "`GetDist` can also be used to create a plot of posterior sample densities."
   ]
  },
  {
   "cell_type": "code",
   "execution_count": null,
   "metadata": {},
   "outputs": [],
   "source": [
    "def get_dist_and_plot(ies, data):\n",
    "    \"\"\"Convert and plot GetDist MCSamples from MCMC samples.\"\"\"\n",
    "    emu_data = ies.to_getdist(data, label=\"Emulator\")\n",
    "    emu_data.smooth_scale_1D = 0.8\n",
    "    g = plots.get_subplot_plotter()\n",
    "    g.triangle_plot([emu_data], filled=True)\n",
    "    plt.show()\n",
    "\n",
    "get_dist_and_plot(ies, mcmc)"
   ]
  },
  {
   "cell_type": "markdown",
   "metadata": {},
   "source": [
    "## Interval excursion set samples using SMC with adaptive tempering\n",
    "\n",
    "The Sequential Monte Carlo (SMC) implementation provides an alternative to MCMC approaches.\n",
    "\n",
    "It works by tempering the interval excursion set likelihood from 0 to 1 (i.e. sampling from the prior to the posterior), adaptively controlling steps to hit a target Effective Sample Size (ESS). We resample when ESS falls below the threshold. This converges to the exact target at temperature 1 without gradients."
   ]
  },
  {
   "cell_type": "code",
   "execution_count": null,
   "metadata": {},
   "outputs": [],
   "source": [
    "# Run SMC and plot diagnostics\n",
    "az_data_smc = ies.run_smc(\n",
    "    n_particles=4000,\n",
    "    ess_target_frac=0.6,\n",
    "    move_steps=2,\n",
    "    rw_step=0.25,\n",
    "    seed=random_seed,\n",
    "    uniform_prior=True,\n",
    "    plot_diagnostics=True,\n",
    "    return_az_data=True\n",
    ")"
   ]
  },
  {
   "cell_type": "markdown",
   "metadata": {},
   "source": [
    "`plot_posterior()` for SMC samples."
   ]
  },
  {
   "cell_type": "code",
   "execution_count": null,
   "metadata": {},
   "outputs": [],
   "source": [
    "_ = az.plot_posterior(az_data_smc)"
   ]
  },
  {
   "cell_type": "markdown",
   "metadata": {},
   "source": [
    "Plot the likelihood and values of SMC samples."
   ]
  },
  {
   "cell_type": "code",
   "execution_count": null,
   "metadata": {},
   "outputs": [],
   "source": [
    "assert isinstance(az_data_smc, az.InferenceData)\n",
    "ies.plot_samples(az_data_smc)"
   ]
  },
  {
   "cell_type": "markdown",
   "metadata": {},
   "source": [
    "And finally a `GetDist` plot comparing the MCMC and SMC posterior sample densities. Some differences are expected due to the different sampling approaches, but overall the posterior sample densities are similar."
   ]
  },
  {
   "cell_type": "code",
   "execution_count": null,
   "metadata": {},
   "outputs": [],
   "source": [
    "assert isinstance(az_data_smc, az.InferenceData)\n",
    "g = plots.get_subplot_plotter()\n",
    "_ = g.triangle_plot( \n",
    "    [ies.to_getdist(az_mcmc, \"MCMC\"), ies.to_getdist(az_data_smc, \"SMC\")],\n",
    "    filled=True,\n",
    ")"
   ]
  }
 ],
 "metadata": {
  "kernelspec": {
   "display_name": ".venv",
   "language": "python",
   "name": "python3"
  },
  "language_info": {
   "codemirror_mode": {
    "name": "ipython",
    "version": 3
   },
   "file_extension": ".py",
   "mimetype": "text/x-python",
   "name": "python",
   "nbconvert_exporter": "python",
   "pygments_lexer": "ipython3",
   "version": "3.12.11"
  }
 },
 "nbformat": 4,
 "nbformat_minor": 2
}
