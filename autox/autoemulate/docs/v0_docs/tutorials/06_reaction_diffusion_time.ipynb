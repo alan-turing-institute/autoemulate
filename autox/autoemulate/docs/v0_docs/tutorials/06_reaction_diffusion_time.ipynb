{
 "cells": [
  {
   "cell_type": "markdown",
   "metadata": {},
   "source": [
    "# Reduced-dimension Emulator: Reaction-Diffusion example\n",
    "\n",
    "### Overview\n",
    "In this example, we aim to create an _emulator_ to generate solutions to a 2D parameterized reaction-diffusion problem governed by the following partial differential equations:\n",
    "\n",
    "$$\n",
    "\\dot{u} = (1 - (u^2 + v^2)) u + \\beta (u^2 + v^2) v + d (u_{xx} + u_{yy}),\n",
    "$$\n",
    "$$\n",
    "\\dot{v} = -\\beta (u^2 + v^2) u + (1 - (u^2 + v^2)) v + d (v_{xx} + v_{yy}),\n",
    "$$\n",
    "\n",
    "where:\n",
    "- $ u $ and $ v $ are the concentrations of two species,\n",
    "- $ \\beta $ and $ d $ control the reaction and diffusion terms.\n",
    "\n",
    "This system exhibits complex spatio-temporal dynamics such as spiral waves."
   ]
  },
  {
   "cell_type": "code",
   "execution_count": null,
   "metadata": {},
   "outputs": [],
   "source": [
    "import numpy as np\n",
    "import pandas as pd\n",
    "import os\n",
    "import matplotlib.pyplot as plt \n",
    "import autoemulate as ae\n",
    "from tqdm import tqdm\n",
    "\n",
    "from autoemulate_design import LatinHypercube\n",
    "from autoemulate.simulations.reaction_diffusion import simulate_reaction_diffusion\n",
    "from autoemulate.compare import AutoEmulate\n",
    "from autoemulate.plotting import _predict_with_optional_std"
   ]
  },
  {
   "cell_type": "markdown",
   "metadata": {},
   "source": [
    "### 1) Data generation\n",
    "Data are computed using a numerical [_simulator_](https://github.com/dynamicslab/pysindy/blob/master/examples/10_PDEFIND_examples.ipynb) using Fourier spectral method.\n",
    "The simulator takes two inputs: the reaction parameter $\\beta$ and the diffusion parameter $d$.\n",
    "\n",
    "We sample 80 sets of inputs `X` using Latin Hypercube sampling and run the simulator for those inputs to get the solutions `Y`.\n"
   ]
  },
  {
   "cell_type": "code",
   "execution_count": null,
   "metadata": {},
   "outputs": [],
   "source": [
    "save = False\n",
    "train = False"
   ]
  },
  {
   "cell_type": "code",
   "execution_count": null,
   "metadata": {},
   "outputs": [],
   "source": [
    "n = 50\n",
    "\n",
    "# Reaction-diffusion parameters\n",
    "beta = (1., 2.) # lower and upper bounds for the reaction coefficient\n",
    "d = (0.05, 0.3) # lower and upper bounds for the diffusion coefficient\n",
    "n_param_samples = 30\n",
    "lhd = LatinHypercube([beta, d])\n",
    "X_param = lhd.sample(n_param_samples)\n",
    "\n",
    "# Time configuration\n",
    "dt, T = 0.5, 12. # time step and total time\n",
    "X_time = np.linspace(0, T, int(T/dt), endpoint=True) \n",
    "n_time_samples = len(X_time)\n",
    "\n",
    "# Create the input array (combining parameters and time)\n",
    "param_expanded = np.repeat(X_param, n_time_samples, axis=0)  # (n_samples * n_time_step, n_param)\n",
    "time_expanded = np.tile(X_time, n_param_samples)  # (n_samples * n_time_step,)\n",
    "X = np.column_stack((param_expanded, time_expanded))  # (n_samples * n_time_step, n_param + 1)\n",
    "\n",
    "if train:\n",
    "  U, V = zip(*[simulate_reaction_diffusion(x, n=n, dt=dt, T=T, return_timeseries=True) for x in tqdm(X_param)])\n",
    "  U = np.stack(U)\n",
    "  V = np.stack(V)\n",
    "  U = U.reshape(n_param_samples*n_time_samples, n*n)\n",
    "  V = V.reshape(n_param_samples*n_time_samples, n*n)\n",
    "\n",
    "    # Let's consider as output the concentration of the specie U\n",
    "  Y = U\n",
    "\n",
    "  if save:\n",
    "    # Create the data folder if it doesn't exist\n",
    "    data_folder = \"autoemulate/data/reactiondiffusion\"\n",
    "    if not os.path.exists(data_folder):\n",
    "        os.makedirs(data_folder)  \n",
    "    # Save the data\n",
    "    X_file = os.path.join(data_folder, \"X_time.csv\")\n",
    "    Y_file = os.path.join(data_folder, \"Y_time.csv\")\n",
    "    pd.DataFrame(X).to_csv(X_file, index=False)\n",
    "    pd.DataFrame(Y).to_csv(Y_file, index=False)\n",
    "\n",
    "else:\n",
    "  data_folder = \"autoemulate/data/reactiondiffusion\"\n",
    "  if not os.path.exists(data_folder):\n",
    "      os.makedirs(data_folder)  \n",
    "  # Save the data\n",
    "  X_file = os.path.join(data_folder, \"X_time.csv\")\n",
    "  Y_file = os.path.join(data_folder, \"Y_time.csv\")\n",
    "# Load the data\n",
    "  X = pd.read_csv(X_file).values\n",
    "  Y = pd.read_csv(Y_file).values\n",
    "\n",
    "\n",
    "print(f\"shapes: input X: {X.shape}, output Y: {Y.shape}\\n\")"
   ]
  },
  {
   "cell_type": "markdown",
   "metadata": {},
   "source": [
    "`X` and `Y` are matrices where each row represents one run of the simulation.  In the input matrix `X` each column is a different input parameters. \n",
    "In the output matrix `Y` each column indicates a spatial location where the solution (i.e. the concentration of $U$ at final time $T$) is computed. <br>\n",
    "We consider a 2D spatial grid of $32\\times 32$ points, therefore each row of `Y` corresponds to a 1024-dimensional vector!\n",
    "\n",
    "Let’s now plot the simulated data to see how the reaction-diffusion pattern looks like."
   ]
  },
  {
   "cell_type": "code",
   "execution_count": null,
   "metadata": {},
   "outputs": [],
   "source": [
    "plt.figure(figsize=(15,4.5))\n",
    "time = n_time_samples - 1\n",
    "for param in range(3):\n",
    "    plt.subplot(1,3,1+param)\n",
    "    plt.imshow(Y.reshape(n_param_samples, n_time_samples, n,n)[param][time], interpolation='bilinear')\n",
    "    plt.axis('off')\n",
    "    plt.xlabel('x', fontsize=12)\n",
    "    plt.ylabel('y')\n",
    "    plt.title(r'$\\beta = {:.2f}, d = {:.2f}, t = {:.1f}$'.format(X_param[param][0], X_param[param][1], X_time[time]), fontsize=12)\n",
    "    plt.colorbar(fraction=0.046)\n",
    "plt.suptitle('2D solutions to the reaction-diffusion system for different parameters', fontsize=15)\n",
    "plt.show()\n"
   ]
  },
  {
   "cell_type": "markdown",
   "metadata": {},
   "source": [
    "## 2) Reduced-dimension Emulator\n",
    "The numerical simulator is computationally expensive to run, thus we aim to replace it with a fast _emulator_.\n",
    "As output we aim to emulate is the full spatial fields of the concentration of $U$ which is high-dimensional, we employ dimensionality reduction techniques to create a faster and more efficient emulator.\n",
    "\n",
    "You can do so by selecting `reduce_dim_output=True` and indicate which dimensionality reducer `dim_reducer_output` you want to use among:\n",
    "- `\"PCA\"`: Principal Component Analysis (deafult),\n",
    "- `\"AE\"`: Autoencoder,\n",
    "- `\"VAE\"`: Variational Autoencoder,\n",
    "\n",
    "which will be trained together with the emulator."
   ]
  },
  {
   "cell_type": "code",
   "execution_count": null,
   "metadata": {},
   "outputs": [],
   "source": [
    "from sklearn.decomposition import PCA\n",
    "from sklearn.model_selection import KFold\n",
    "em = AutoEmulate()\n",
    "cross_validator = KFold(\n",
    "            n_splits=2, shuffle=True, random_state=np.random.randint(1e5)\n",
    "        )\n",
    "\n",
    "preprocessing_methods = [{\"name\": \"PCA\", \"params\": {\"reduced_dim\": 16}},\n",
    "                        {\"name\": \"PCA\", \"params\": {\"reduced_dim\": 32}},\n",
    "                        {\"name\": \"PCA\", \"params\": {\"reduced_dim\": 64}}]\n",
    "\n",
    "em.setup(X, Y, models=[\"gp\"], scale_output = False, cross_validator = cross_validator, reduce_dim_output=True, preprocessing_methods=preprocessing_methods)\n",
    "\n",
    "best_model = em.compare()"
   ]
  },
  {
   "cell_type": "code",
   "execution_count": null,
   "metadata": {},
   "outputs": [],
   "source": [
    "best_model"
   ]
  },
  {
   "cell_type": "markdown",
   "metadata": {},
   "source": [
    "## 3) Summarising cross-validation results\n",
    "We can look at the cross-validation results to see which model provides the best emulator. "
   ]
  },
  {
   "cell_type": "code",
   "execution_count": null,
   "metadata": {},
   "outputs": [],
   "source": [
    "em.summarise_cv()"
   ]
  },
  {
   "cell_type": "markdown",
   "metadata": {},
   "source": [
    "We can select the best performing emulator model (in this case GaussianProcess) and see how it performs on the test-set, which AutoEmulate automatically sets aside.\n",
    "\n",
    "We can plot the test-set performance for chosen emulator."
   ]
  },
  {
   "cell_type": "code",
   "execution_count": null,
   "metadata": {},
   "outputs": [],
   "source": [
    "## 3) Evaluate the emulator (on the test set)\n",
    "gp = em.get_model('GaussianProcess')\n",
    "em.evaluate(gp)"
   ]
  },
  {
   "cell_type": "code",
   "execution_count": null,
   "metadata": {},
   "outputs": [],
   "source": [
    "em.plot_eval(gp, input_index=[2], output_index=[0,130, 1000])"
   ]
  },
  {
   "cell_type": "markdown",
   "metadata": {},
   "source": [
    "## 4) Refitting the model on the full dataset\n",
    "AutoEmulate splits the dataset into a training and holdout set. All cross-validation, parameter optimisation and model selection is done on the training set. After we selected a best emulator model, we can refit it on the full traiing dataset."
   ]
  },
  {
   "cell_type": "code",
   "execution_count": null,
   "metadata": {},
   "outputs": [],
   "source": [
    "gp_final = em.refit(em.get_model())"
   ]
  },
  {
   "cell_type": "markdown",
   "metadata": {},
   "source": [
    "## 5) Predict on the test set\n",
    "Now we run the emulator for unseen combinations of reaction and diffusion parameter and we compare its performance with respect to the reference (simulator)"
   ]
  },
  {
   "cell_type": "code",
   "execution_count": null,
   "metadata": {},
   "outputs": [],
   "source": [
    "# Define parameter bounds\n",
    "beta_bounds = (1.0, 2.0)\n",
    "d_bounds = (0.05, 0.3)\n",
    "\n",
    "# Generate two random parameter samples\n",
    "np.random.seed(14)  # For reproducibility\n",
    "n_test_samples = 2\n",
    "X_param_test = np.array([\n",
    "    [np.random.uniform(*beta_bounds), np.random.uniform(*d_bounds)],\n",
    "    [np.random.uniform(*beta_bounds), np.random.uniform(*d_bounds)]\n",
    "])\n",
    "\n",
    "# Create a time array for the test samples\n",
    "dt_test = 0.25\n",
    "T_test = T\n",
    "X_time_test = np.linspace(0, T_test, int(T_test/dt_test), endpoint=True)\n",
    "n_time_samples_test = len(X_time_test)\n",
    "\n",
    "# Expand across time\n",
    "param_expanded_test = np.repeat(X_param_test, n_time_samples_test, axis=0)\n",
    "time_expanded_test = np.tile(X_time_test, n_test_samples)  # Two test samples\n",
    "X_test = np.column_stack((param_expanded_test, time_expanded_test))\n",
    "\n",
    "# Simulate the reaction-diffusion system for test parameters\n",
    "U_test, V_test = zip(*[simulate_reaction_diffusion(x, n=n, dt=dt_test, T=T_test, return_timeseries=True) for x in tqdm(X_param_test)])\n",
    "U_test = np.stack(U_test)\n",
    "V_test = np.stack(V_test)\n",
    "U_test = U_test.reshape(n_test_samples * n_time_samples_test, n * n)\n",
    "V_test = V_test.reshape(n_test_samples * n_time_samples_test, n * n)"
   ]
  },
  {
   "cell_type": "code",
   "execution_count": null,
   "metadata": {},
   "outputs": [],
   "source": [
    "#y_pred = gp_final.predict(X[em.test_idxs]) #TODO: fix this\n",
    "y_pred, y_std_pred = _predict_with_optional_std(gp_final, X_test)\n",
    "y_true = U_test"
   ]
  },
  {
   "cell_type": "code",
   "execution_count": null,
   "metadata": {},
   "outputs": [],
   "source": [
    "n_param_samples"
   ]
  },
  {
   "cell_type": "code",
   "execution_count": null,
   "metadata": {},
   "outputs": [],
   "source": [
    "# Plot the results for some unseen (test) parameter instances\n",
    "params_test = [0,1]\n",
    "times_test = [15, 25]\n",
    "\n",
    "for param_test in params_test:\n",
    "  for time_test in times_test:\n",
    "    plt.figure(figsize=(20,4.5))\n",
    "    plt.subplot(1,4,1)\n",
    "    plt.imshow(y_true.reshape(n_test_samples, n_time_samples_test, n,n)[param_test][time_test], interpolation='bilinear', vmin=-1, vmax=1)\n",
    "    plt.axis('off')\n",
    "    plt.xlabel('x', fontsize=12)\n",
    "    plt.ylabel('y')\n",
    "    plt.title('True solution (simulator)', fontsize=12)\n",
    "    plt.colorbar(fraction=0.046)\n",
    "\n",
    "    plt.subplot(1,4,2)\n",
    "    plt.imshow(y_pred.reshape(n_test_samples, n_time_samples_test, n,n)[param_test][time_test], interpolation='bilinear', vmin=-1, vmax=1)\n",
    "    plt.axis('off')\n",
    "    plt.xlabel('x', fontsize=12)\n",
    "    plt.ylabel('y')\n",
    "    plt.title('Prediction (emulator)', fontsize=12)\n",
    "    plt.colorbar(fraction=0.046)\n",
    "\n",
    "    plt.subplot(1,4,3)\n",
    "    plt.imshow(y_std_pred.reshape(n_test_samples, n_time_samples_test, n,n)[param_test][time_test], cmap = 'bwr', interpolation='bilinear', vmax = np.max(y_std_pred[params_test]))\n",
    "    plt.axis('off')\n",
    "    plt.xlabel('x', fontsize=12)\n",
    "    plt.ylabel('y')\n",
    "    plt.title('Standard Deviation (emulator)', fontsize=12)\n",
    "    plt.colorbar(fraction=0.046)\n",
    "\n",
    "    plt.subplot(1,4,4)\n",
    "    plt.imshow(np.abs(y_pred - y_true).reshape(n_test_samples, n_time_samples_test, n,n)[param_test][time_test], cmap = 'bwr', interpolation='bilinear')\n",
    "    plt.axis('off')\n",
    "    plt.xlabel('x', fontsize=12)\n",
    "    plt.ylabel('y')\n",
    "    plt.title('Absolute error', fontsize=12)\n",
    "    plt.colorbar(fraction=0.046)\n",
    "\n",
    "    plt.suptitle(r'Results for test parameters: $\\beta = {:.2f}, d = {:.2f}, t = {:.1f}$'.format(X_param_test[param_test][0], X_param_test[param_test][0], X_time_test[time_test]), fontsize=12)\n",
    "    plt.show()"
   ]
  },
  {
   "cell_type": "code",
   "execution_count": null,
   "metadata": {},
   "outputs": [],
   "source": [
    "import matplotlib.animation as animation\n",
    "from IPython.display import Image, display\n",
    "\n",
    "# Define test parameters and reshape Y_test\n",
    "params_test = [0, 1]\n",
    "y_true_reshaped = y_true.reshape(n_test_samples, n_time_samples_test, n, n)\n",
    "y_pred_reshaped = y_pred.reshape(n_test_samples, n_time_samples_test, n, n)\n",
    "y_std_pred_reshaped = y_std_pred.reshape(n_test_samples, n_time_samples_test, n, n)\n",
    "abs_error = np.abs(y_pred - y_true).reshape(n_test_samples, n_time_samples_test, n, n)\n",
    "\n",
    "# Function to update the animation frame\n",
    "def update(frame, im_true, im_pred, im_std, im_err, title, param_idx):\n",
    "    im_true.set_array(y_true_reshaped[param_idx][frame])\n",
    "    im_pred.set_array(y_pred_reshaped[param_idx][frame])\n",
    "    im_std.set_array(y_std_pred_reshaped[param_idx][frame])\n",
    "    im_err.set_array(abs_error[param_idx][frame])\n",
    "\n",
    "    title.set_text(r'Results for test parameters: $\\beta = {:.2f}, d = {:.2f}, t = {:.1f}$'.format(\n",
    "        X_param_test[param_idx][0], X_param_test[param_idx][1], X_time[frame])\n",
    "    )\n",
    "\n",
    "    return [im_true, im_pred, im_std, im_err, title]\n",
    "\n",
    "# Create animations for each test parameter instance\n",
    "for param_test in params_test:\n",
    "    fig, axes = plt.subplots(1, 4, figsize=(20, 4.5))\n",
    "\n",
    "    # Titles for each subplot\n",
    "    titles = [\"True solution (simulator)\", \"Prediction (emulator)\", \"Standard Deviation (emulator)\", \"Absolute Error\"]\n",
    "    \n",
    "    # Initialize images with desired colormaps\n",
    "    ims = []\n",
    "    ims.append(axes[0].imshow(y_true_reshaped[param_test][0], interpolation='bilinear', cmap=\"viridis\", vmin=-1, vmax=1))\n",
    "    ims.append(axes[1].imshow(y_pred_reshaped[param_test][0], interpolation='bilinear', cmap=\"viridis\", vmin=-1, vmax=1))\n",
    "    ims.append(axes[2].imshow(y_std_pred_reshaped[param_test][0], interpolation='bilinear', cmap=\"bwr\"))  # rwb colormap for std\n",
    "    ims.append(axes[3].imshow(abs_error[param_test][0], interpolation='bilinear', cmap=\"bwr\", vmin = 0, vmax = 0.2))  # rwb colormap for error\n",
    "    \n",
    "    # Remove ticks and set titles\n",
    "    for i, ax in enumerate(axes):\n",
    "        ax.set_xticks([])\n",
    "        ax.set_yticks([])\n",
    "        ax.set_title(titles[i], fontsize=12)\n",
    "        plt.colorbar(ims[i], ax=ax, fraction=0.046)\n",
    "\n",
    "    # Global title\n",
    "    suptitle = fig.suptitle(\"\", fontsize=12)\n",
    "\n",
    "    # Create the animation\n",
    "    ani = animation.FuncAnimation(\n",
    "        fig, update, frames=n_time_samples, fargs=(ims[0], ims[1], ims[2], ims[3], suptitle, param_test), interval=300\n",
    "    )\n",
    "\n",
    "    # Save animation as GIF\n",
    "    gif_filename = f\"reaction_diffusion_test_param{param_test}.gif\"\n",
    "    ani.save(gif_filename, writer=\"pillow\", dpi=200)\n",
    "    \n",
    "    # Display GIF inline in the Jupyter notebook\n",
    "    display(Image(filename=gif_filename))\n",
    "\n",
    "    # Close the figure to prevent displaying it\n",
    "    plt.close(fig)\n"
   ]
  }
 ],
 "metadata": {
  "kernelspec": {
   "display_name": ".venv",
   "language": "python",
   "name": "python3"
  },
  "language_info": {
   "codemirror_mode": {
    "name": "ipython",
    "version": 3
   },
   "file_extension": ".py",
   "mimetype": "text/x-python",
   "name": "python",
   "nbconvert_exporter": "python",
   "pygments_lexer": "ipython3",
   "version": "3.12.0"
  }
 },
 "nbformat": 4,
 "nbformat_minor": 2
}
