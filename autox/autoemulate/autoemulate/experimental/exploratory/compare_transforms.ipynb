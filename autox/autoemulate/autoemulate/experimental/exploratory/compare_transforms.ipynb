{
 "cells": [
  {
   "cell_type": "code",
   "execution_count": null,
   "id": "0",
   "metadata": {},
   "outputs": [],
   "source": [
    "import torch\n",
    "from autoemulate.emulators import GaussianProcess\n",
    "from autoemulate.emulators.random_forest import RandomForest\n",
    "from autoemulate.emulators.transformed.base import TransformedEmulator\n",
    "from autoemulate.transforms import PCATransform, VAETransform, StandardizeTransform\n",
    "from sklearn.datasets import make_regression\n",
    "import torchmetrics\n",
    "from autoemulate.core.model_selection import evaluate\n",
    "from autoemulate.core.types import TensorLike\n",
    "from autoemulate.core.compare import AutoEmulate\n",
    "\n",
    "# Uncomment to enable logging for GPs\n",
    "import logging\n",
    "# logging.basicConfig(level=logging.INFO)\n",
    "\n",
    "def make_data(\n",
    "    random_state: int = 42,\n",
    "    n_samples: int = 200,\n",
    "    n_informative:int = 2,\n",
    "    n_features: int = 5,\n",
    "    noise: float = 0.2,\n",
    "    n_targets: int = 500\n",
    "):\n",
    "    x, y, _ = make_regression(\n",
    "        n_samples=n_samples,\n",
    "        n_features=n_features,\n",
    "        noise=noise,\n",
    "        random_state=random_state,\n",
    "        n_informative=n_informative,\n",
    "        n_targets=n_targets,\n",
    "        coef=True,\n",
    "    )\n",
    "    x = torch.tensor(x, dtype=torch.float32)\n",
    "    y = torch.tensor(y, dtype=torch.float32)\n",
    "    return x, y\n",
    "\n",
    "# Train data\n",
    "x, y = make_data(random_state=42, n_features=10, n_targets=2, noise=0.01)\n",
    "\n",
    "# Test data\n",
    "x2, y2 = make_data(random_state=43, n_features=10, n_targets=2, noise=0.01)\n"
   ]
  },
  {
   "cell_type": "code",
   "execution_count": null,
   "id": "1",
   "metadata": {},
   "outputs": [],
   "source": [
    "ae = AutoEmulate(\n",
    "    x,\n",
    "    y,\n",
    "    models=[GaussianProcess, RandomForest],\n",
    "    x_transforms_list=[[], [StandardizeTransform(), PCATransform(n_components=5)]],\n",
    "    y_transforms_list=[[], [StandardizeTransform(), PCATransform(n_components=1)]]\n",
    ")\n"
   ]
  },
  {
   "cell_type": "code",
   "execution_count": null,
   "id": "2",
   "metadata": {},
   "outputs": [],
   "source": [
    "outputs  = ae.compare(4)\n"
   ]
  },
  {
   "cell_type": "code",
   "execution_count": null,
   "id": "3",
   "metadata": {},
   "outputs": [],
   "source": [
    "outputs"
   ]
  },
  {
   "cell_type": "code",
   "execution_count": null,
   "id": "4",
   "metadata": {},
   "outputs": [],
   "source": [
    "import pandas as pd\n",
    "df = pd.DataFrame.from_records(outputs).sort_values(by=[\"r2_score\", \"rmse_score\"], ascending=False, inplace=False)\n",
    "best_model_idx = df.index[0]\n",
    "df\n"
   ]
  },
  {
   "cell_type": "code",
   "execution_count": null,
   "id": "5",
   "metadata": {},
   "outputs": [],
   "source": [
    "outputs[best_model_idx]"
   ]
  },
  {
   "cell_type": "code",
   "execution_count": null,
   "id": "6",
   "metadata": {},
   "outputs": [],
   "source": [
    "em = TransformedEmulator(\n",
    "    x,\n",
    "    y,\n",
    "    model=outputs[best_model_idx][\"model_cls\"],\n",
    "    x_transforms=outputs[best_model_idx][\"x_transforms\"],\n",
    "    y_transforms=outputs[best_model_idx][\"y_transforms\"],\n",
    "    **outputs[best_model_idx][\"config\"]\n",
    ")\n",
    "em.fit(x, y)"
   ]
  },
  {
   "cell_type": "code",
   "execution_count": null,
   "id": "7",
   "metadata": {},
   "outputs": [],
   "source": [
    "from autoemulate.model_selection import r2_metric\n",
    "\n",
    "y_pred = em.predict(x[:100])\n",
    "evaluate(y_pred.mean, y[:100], r2_metric())"
   ]
  },
  {
   "cell_type": "code",
   "execution_count": null,
   "id": "8",
   "metadata": {},
   "outputs": [],
   "source": [
    "# Poor held-out performance\n",
    "y_pred = em.predict(x2)\n",
    "evaluate(y_pred.mean, y2, r2_metric())"
   ]
  },
  {
   "cell_type": "code",
   "execution_count": null,
   "id": "9",
   "metadata": {},
   "outputs": [],
   "source": []
  }
 ],
 "metadata": {
  "kernelspec": {
   "display_name": ".venv",
   "language": "python",
   "name": "python3"
  },
  "language_info": {
   "codemirror_mode": {
    "name": "ipython",
    "version": 3
   },
   "file_extension": ".py",
   "mimetype": "text/x-python",
   "name": "python",
   "nbconvert_exporter": "python",
   "pygments_lexer": "ipython3",
   "version": "3.12.11"
  }
 },
 "nbformat": 4,
 "nbformat_minor": 5
}
