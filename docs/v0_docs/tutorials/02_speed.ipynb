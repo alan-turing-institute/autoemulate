{
 "cells": [
  {
   "cell_type": "markdown",
   "metadata": {},
   "source": [
    "# Minimising computation time"
   ]
  },
  {
   "cell_type": "markdown",
   "metadata": {},
   "source": [
    "`AutoEmulate` can be slow if the input data has many observations (rows) or many output variables. By default, `AutoEmulate` cross-validates each model, so we're computing 5 fits per models. The computation time will be relatively short for datasets up to a few thousands of datapoints, but some models (e.g. Gaussian Processes) don't scale well, so computation time might quickly become an issue. \n",
    "\n",
    "In this tutorial we walk through four strategies to speed up `AutoEmulate`:\n",
    "\n",
    "1) parallelise model fits using `n_jobs` \n",
    "2) restrict the range of models using the `models` argument \n",
    "3) run fewer cross validation folds using `cross_validator` \n",
    "4) for hyperparameter search:\n",
    "    - all of the above\n",
    "    - run fewer iterations using `param_search_iters`"
   ]
  },
  {
   "cell_type": "code",
   "execution_count": 1,
   "metadata": {},
   "outputs": [],
   "source": [
    "from sklearn.datasets import make_regression\n",
    "from autoemulate.compare import AutoEmulate"
   ]
  },
  {
   "cell_type": "markdown",
   "metadata": {},
   "source": [
    "Let's make a dataset."
   ]
  },
  {
   "cell_type": "code",
   "execution_count": 2,
   "metadata": {},
   "outputs": [
    {
     "data": {
      "text/plain": [
       "((500, 10), (500, 5))"
      ]
     },
     "execution_count": 2,
     "metadata": {},
     "output_type": "execute_result"
    }
   ],
   "source": [
    "X, y = make_regression(n_samples=500, n_features=10, n_targets=5)\n",
    "X.shape, y.shape"
   ]
  },
  {
   "cell_type": "markdown",
   "metadata": {},
   "source": [
    "And see how long `AutoEmulate` takes to run (without hyperparameter search)."
   ]
  },
  {
   "cell_type": "code",
   "execution_count": 3,
   "metadata": {},
   "outputs": [
    {
     "data": {
      "text/html": [
       "<p>AutoEmulate is set up with the following settings:</p>"
      ],
      "text/plain": [
       "<IPython.core.display.HTML object>"
      ]
     },
     "metadata": {},
     "output_type": "display_data"
    },
    {
     "data": {
      "text/html": [
       "<table border=\"1\" class=\"dataframe\">\n",
       "  <thead>\n",
       "    <tr style=\"text-align: right;\">\n",
       "      <th></th>\n",
       "      <th>Values</th>\n",
       "    </tr>\n",
       "  </thead>\n",
       "  <tbody>\n",
       "    <tr>\n",
       "      <th>Simulation input shape (X)</th>\n",
       "      <td>(500, 10)</td>\n",
       "    </tr>\n",
       "    <tr>\n",
       "      <th>Simulation output shape (y)</th>\n",
       "      <td>(500, 5)</td>\n",
       "    </tr>\n",
       "    <tr>\n",
       "      <th>Proportion of data for testing (test_set_size)</th>\n",
       "      <td>0.2</td>\n",
       "    </tr>\n",
       "    <tr>\n",
       "      <th>Scale input data (scale)</th>\n",
       "      <td>True</td>\n",
       "    </tr>\n",
       "    <tr>\n",
       "      <th>Scaler (scaler)</th>\n",
       "      <td>StandardScaler</td>\n",
       "    </tr>\n",
       "    <tr>\n",
       "      <th>Scale output data (scale_output)</th>\n",
       "      <td>True</td>\n",
       "    </tr>\n",
       "    <tr>\n",
       "      <th>Scaler output (scaler_output)</th>\n",
       "      <td>StandardScaler</td>\n",
       "    </tr>\n",
       "    <tr>\n",
       "      <th>Do hyperparameter search (param_search)</th>\n",
       "      <td>False</td>\n",
       "    </tr>\n",
       "    <tr>\n",
       "      <th>Reduce input dimensionality (reduce_dim)</th>\n",
       "      <td>False</td>\n",
       "    </tr>\n",
       "    <tr>\n",
       "      <th>Reduce output dimensionality (reduce_dim_output)</th>\n",
       "      <td>False</td>\n",
       "    </tr>\n",
       "    <tr>\n",
       "      <th>Cross validator (cross_validator)</th>\n",
       "      <td>KFold</td>\n",
       "    </tr>\n",
       "    <tr>\n",
       "      <th>Parallel jobs (n_jobs)</th>\n",
       "      <td>1</td>\n",
       "    </tr>\n",
       "  </tbody>\n",
       "</table>"
      ],
      "text/plain": [
       "<IPython.core.display.HTML object>"
      ]
     },
     "metadata": {},
     "output_type": "display_data"
    },
    {
     "data": {
      "application/vnd.jupyter.widget-view+json": {
       "model_id": "fc9b674151e04cd48707e84c2df3ed66",
       "version_major": 2,
       "version_minor": 0
      },
      "text/plain": [
       "Cross-validating:   0%|          | 0/8 [00:00<?, ?it/s]"
      ]
     },
     "metadata": {},
     "output_type": "display_data"
    },
    {
     "name": "stdout",
     "output_type": "stream",
     "text": [
      "Time taken: 35.2008638381958 seconds\n"
     ]
    }
   ],
   "source": [
    "import time\n",
    "\n",
    "start = time.time()\n",
    "\n",
    "em = AutoEmulate()\n",
    "em.setup(X, y)\n",
    "em.compare()\n",
    "\n",
    "end = time.time()\n",
    "print(f\"Time taken: {end - start} seconds\")"
   ]
  },
  {
   "cell_type": "markdown",
   "metadata": {},
   "source": [
    "## 1) parallise model fits using `n_jobs`\n",
    "The n_jobs parameter allows you to specify the number of CPU cores to use for parallel processing. Setting n_jobs = -1  uses all available cores, speeding up computations when working with large datasets.\n",
    "\n",
    "Note: Maxing out all available cores might not always lead to faster computation times. Due to overhead from parallelization, memory bandwidth limitations, and potential load imbalances, using more cores can sometimes result in diminishing returns or even slower performance.\n",
    "\n",
    "Here we accomplish a speed-up by setting n_jobs to 5."
   ]
  },
  {
   "cell_type": "code",
   "execution_count": 4,
   "metadata": {},
   "outputs": [
    {
     "data": {
      "application/vnd.jupyter.widget-view+json": {
       "model_id": "d410b8c97411406085ddbb17c9419dd1",
       "version_major": 2,
       "version_minor": 0
      },
      "text/plain": [
       "Cross-validating:   0%|          | 0/8 [00:00<?, ?it/s]"
      ]
     },
     "metadata": {},
     "output_type": "display_data"
    },
    {
     "name": "stdout",
     "output_type": "stream",
     "text": [
      "Time taken: 51.6426100730896 seconds\n"
     ]
    }
   ],
   "source": [
    "start = time.time()\n",
    "\n",
    "em = AutoEmulate()\n",
    "em.setup(X, y, n_jobs=5, print_setup=False)\n",
    "em.compare()\n",
    "\n",
    "end = time.time()\n",
    "print(f\"Time taken: {end - start} seconds\")"
   ]
  },
  {
   "cell_type": "markdown",
   "metadata": {},
   "source": [
    "## 2) restrict the range of models\n",
    "\n",
    "Another approach is to limit the range of models by selecting a subset of relevant types based on your domain and problem expertise. This selection process typically considers factors such as the nature of the problem, data characteristics or the need for interpretability. By narrowing down the types of models, you can reduce the computational burden and focus on the most promising architectures for your specific task."
   ]
  },
  {
   "cell_type": "code",
   "execution_count": 5,
   "metadata": {},
   "outputs": [
    {
     "data": {
      "application/vnd.jupyter.widget-view+json": {
       "model_id": "108b48d47a8b42b2965eb88b2b08e047",
       "version_major": 2,
       "version_minor": 0
      },
      "text/plain": [
       "Cross-validating:   0%|          | 0/3 [00:00<?, ?it/s]"
      ]
     },
     "metadata": {},
     "output_type": "display_data"
    },
    {
     "name": "stdout",
     "output_type": "stream",
     "text": [
      "Time taken: 2.5493457317352295 seconds\n"
     ]
    }
   ],
   "source": [
    "em = AutoEmulate()\n",
    "em.setup(X, y, print_setup=False)\n",
    "\n",
    "# let's see all models, which we can refer to by short or full name\n",
    "em.model_registry.get_model_names()\n",
    "\n",
    "# setup with fewer models\n",
    "start = time.time()\n",
    "\n",
    "em.setup(X, y, models=[\"sop\", \"rbf\", \"gb\"], print_setup=False)\n",
    "em.compare()\n",
    "\n",
    "end = time.time()\n",
    "print(f\"Time taken: {end - start} seconds\")"
   ]
  },
  {
   "cell_type": "markdown",
   "metadata": {},
   "source": [
    "## 3) reduce the number of folds in cross validation using `cross_validator` "
   ]
  },
  {
   "cell_type": "markdown",
   "metadata": {},
   "source": [
    "With larger datasets, you might initially want to set the number of folds for the cross validation to 3 instead of 5 (the default), so that there are fewer models to fit. `AutoEmulate` takes a `cross_validator` argument, which takes an scklearn cross validator or [splitter](https://scikit-learn.org/stable/api/sklearn.model_selection.html). Let's use kfold with 3 splits, which saves 2 model fits per model."
   ]
  },
  {
   "cell_type": "code",
   "execution_count": 6,
   "metadata": {},
   "outputs": [
    {
     "data": {
      "application/vnd.jupyter.widget-view+json": {
       "model_id": "62bfafa094c64248897285ae05ed5a4b",
       "version_major": 2,
       "version_minor": 0
      },
      "text/plain": [
       "Cross-validating:   0%|          | 0/8 [00:00<?, ?it/s]"
      ]
     },
     "metadata": {},
     "output_type": "display_data"
    },
    {
     "name": "stdout",
     "output_type": "stream",
     "text": [
      "Time taken: 18.824736833572388 seconds\n"
     ]
    }
   ],
   "source": [
    "from sklearn.model_selection import KFold\n",
    "\n",
    "start = time.time()\n",
    "\n",
    "em = AutoEmulate()\n",
    "em.setup(X, y, cross_validator=KFold(n_splits=3), print_setup=False)\n",
    "em.compare()\n",
    "\n",
    "end = time.time()\n",
    "print(f\"Time taken: {end - start} seconds\")"
   ]
  },
  {
   "cell_type": "markdown",
   "metadata": {},
   "source": [
    "## 4) modify hyperparameter search\n",
    "\n",
    "If we want to use hyperparameter search, we suddenly have to fit many more models. For each model, we might have 20 different parameter combinations, and because we cross validate each combination, we are running 20 * 5 = 100 model fits per model. It's therefore recommended to focus on a few models of interest when using hyperparameter search.\n",
    "\n",
    "To get a ballpark figure for how long hyperparameter search might take, we can run `AutoEmulate` without hyperparameter search, and then multiply the time taken by the number of parameter combinations we want to try."
   ]
  },
  {
   "cell_type": "code",
   "execution_count": 7,
   "metadata": {},
   "outputs": [
    {
     "data": {
      "application/vnd.jupyter.widget-view+json": {
       "model_id": "be7dcacafb8f479faeaf4fe7ddd1cc47",
       "version_major": 2,
       "version_minor": 0
      },
      "text/plain": [
       "Cross-validating:   0%|          | 0/8 [00:00<?, ?it/s]"
      ]
     },
     "metadata": {},
     "output_type": "display_data"
    },
    {
     "name": "stdout",
     "output_type": "stream",
     "text": [
      "Time taken: 29.96882200241089 seconds\n"
     ]
    }
   ],
   "source": [
    "start = time.time()\n",
    "\n",
    "em = AutoEmulate()\n",
    "em.setup(X, y, print_setup=False)\n",
    "em.compare()\n",
    "\n",
    "end = time.time()\n",
    "run_time = end - start\n",
    "print(f\"Time taken: {run_time} seconds\")"
   ]
  },
  {
   "cell_type": "markdown",
   "metadata": {},
   "source": [
    "The default number parameter combinations to search over (see`param_search_iters`) is 20, so we can expect hyperparameter search to take `20 * run_time` seconds. Although this can be sped up by running in parallel or running fewer cross-validation folds, we are usually interested only in some emulator models anyway, which will speed up computation time. To figure out which models to optimise, let's inspect the cv results from the training data."
   ]
  },
  {
   "cell_type": "code",
   "execution_count": 8,
   "metadata": {},
   "outputs": [
    {
     "data": {
      "application/vnd.microsoft.datawrangler.viewer.v0+json": {
       "columns": [
        {
         "name": "index",
         "rawType": "int64",
         "type": "integer"
        },
        {
         "name": "preprocessing",
         "rawType": "object",
         "type": "string"
        },
        {
         "name": "model",
         "rawType": "object",
         "type": "string"
        },
        {
         "name": "short",
         "rawType": "object",
         "type": "string"
        },
        {
         "name": "fold",
         "rawType": "int64",
         "type": "integer"
        },
        {
         "name": "rmse",
         "rawType": "float64",
         "type": "float"
        },
        {
         "name": "r2",
         "rawType": "float64",
         "type": "float"
        }
       ],
       "conversionMethod": "pd.DataFrame",
       "ref": "9a78fcae-ccb9-4897-a0d9-305ed3295fcf",
       "rows": [
        [
         "0",
         "None",
         "SecondOrderPolynomial",
         "sop",
         "2",
         "8.970131809870282e-06",
         "0.9999999999999973"
        ],
        [
         "1",
         "None",
         "SecondOrderPolynomial",
         "sop",
         "4",
         "8.58428736437979e-06",
         "0.9999999999999971"
        ],
        [
         "2",
         "None",
         "RadialBasisFunctions",
         "rbf",
         "2",
         "9.635911763488489e-06",
         "0.999999999999997"
        ],
        [
         "3",
         "None",
         "RadialBasisFunctions",
         "rbf",
         "4",
         "8.87139008643115e-06",
         "0.999999999999997"
        ],
        [
         "4",
         "None",
         "SecondOrderPolynomial",
         "sop",
         "1",
         "1.1148983870086822e-05",
         "0.9999999999999958"
        ],
        [
         "5",
         "None",
         "RadialBasisFunctions",
         "rbf",
         "0",
         "1.0259918069348035e-05",
         "0.9999999999999958"
        ],
        [
         "6",
         "None",
         "SecondOrderPolynomial",
         "sop",
         "0",
         "1.0404231666040227e-05",
         "0.9999999999999956"
        ],
        [
         "7",
         "None",
         "RadialBasisFunctions",
         "rbf",
         "1",
         "1.148091059383803e-05",
         "0.9999999999999956"
        ],
        [
         "8",
         "None",
         "SecondOrderPolynomial",
         "sop",
         "3",
         "1.2018433501816322e-05",
         "0.999999999999995"
        ],
        [
         "9",
         "None",
         "RadialBasisFunctions",
         "rbf",
         "3",
         "1.2311829471655215e-05",
         "0.9999999999999949"
        ],
        [
         "10",
         "None",
         "GaussianProcess",
         "gp",
         "4",
         "3.2618690614574404",
         "0.9995886412116087"
        ],
        [
         "11",
         "None",
         "GaussianProcess",
         "gp",
         "2",
         "3.5385211251478808",
         "0.9995872078237552"
        ],
        [
         "12",
         "None",
         "GaussianProcess",
         "gp",
         "1",
         "4.305551732387653",
         "0.9993739887974034"
        ],
        [
         "13",
         "None",
         "GaussianProcess",
         "gp",
         "0",
         "3.9833158861974076",
         "0.9993525825428675"
        ],
        [
         "14",
         "None",
         "GaussianProcess",
         "gp",
         "3",
         "5.783583737546941",
         "0.9988534665690331"
        ],
        [
         "15",
         "None",
         "ConditionalNeuralProcess",
         "cnp",
         "4",
         "5.949516903197393",
         "0.9986367790781616"
        ],
        [
         "16",
         "None",
         "ConditionalNeuralProcess",
         "cnp",
         "1",
         "7.86096588414361",
         "0.9979296884442821"
        ],
        [
         "17",
         "None",
         "ConditionalNeuralProcess",
         "cnp",
         "0",
         "8.033505143190851",
         "0.9974715706446841"
        ],
        [
         "18",
         "None",
         "ConditionalNeuralProcess",
         "cnp",
         "3",
         "8.964478886047313",
         "0.9972691090196779"
        ],
        [
         "19",
         "None",
         "ConditionalNeuralProcess",
         "cnp",
         "2",
         "9.422825964193303",
         "0.9969419656610843"
        ],
        [
         "20",
         "None",
         "SupportVectorMachines",
         "svm",
         "4",
         "38.99234615562758",
         "0.9416072127539727"
        ],
        [
         "21",
         "None",
         "SupportVectorMachines",
         "svm",
         "2",
         "48.60015304148949",
         "0.9222114168153333"
        ],
        [
         "22",
         "None",
         "SupportVectorMachines",
         "svm",
         "0",
         "48.007590072605524",
         "0.9104167028184452"
        ],
        [
         "23",
         "None",
         "LightGBM",
         "lgbm",
         "4",
         "49.754522021553456",
         "0.9035913285731713"
        ],
        [
         "24",
         "None",
         "LightGBM",
         "lgbm",
         "2",
         "55.3048335458336",
         "0.8985147041676624"
        ],
        [
         "25",
         "None",
         "SupportVectorMachines",
         "svm",
         "1",
         "56.470521250852485",
         "0.8933940441064665"
        ],
        [
         "26",
         "None",
         "LightGBM",
         "lgbm",
         "1",
         "56.882800181886374",
         "0.8927332477741323"
        ],
        [
         "27",
         "None",
         "GradientBoosting",
         "gb",
         "2",
         "57.59450236428721",
         "0.8914359215053331"
        ],
        [
         "28",
         "None",
         "GradientBoosting",
         "gb",
         "4",
         "55.219220648754664",
         "0.8812460199520894"
        ],
        [
         "29",
         "None",
         "GradientBoosting",
         "gb",
         "1",
         "59.86282434710931",
         "0.8803660226989564"
        ],
        [
         "30",
         "None",
         "LightGBM",
         "lgbm",
         "0",
         "56.81098895643133",
         "0.8735373734115962"
        ],
        [
         "31",
         "None",
         "LightGBM",
         "lgbm",
         "3",
         "62.5462299760444",
         "0.8675273072909115"
        ],
        [
         "32",
         "None",
         "GradientBoosting",
         "gb",
         "3",
         "62.738682900892115",
         "0.8662122129932254"
        ],
        [
         "33",
         "None",
         "GradientBoosting",
         "gb",
         "0",
         "60.886450525197986",
         "0.8539910660707232"
        ],
        [
         "34",
         "None",
         "SupportVectorMachines",
         "svm",
         "3",
         "67.21828031279665",
         "0.8485237632786248"
        ],
        [
         "35",
         "None",
         "RandomForest",
         "rf",
         "2",
         "93.06446713999047",
         "0.7116184328471901"
        ],
        [
         "36",
         "None",
         "RandomForest",
         "rf",
         "1",
         "93.97988455220538",
         "0.7028290169294154"
        ],
        [
         "37",
         "None",
         "RandomForest",
         "rf",
         "4",
         "92.13304564688956",
         "0.6708288873154599"
        ],
        [
         "38",
         "None",
         "RandomForest",
         "rf",
         "0",
         "92.47010975874745",
         "0.6608734805697242"
        ],
        [
         "39",
         "None",
         "RandomForest",
         "rf",
         "3",
         "101.06344699503128",
         "0.6517309281584012"
        ]
       ],
       "shape": {
        "columns": 6,
        "rows": 40
       }
      },
      "text/html": [
       "<div>\n",
       "<style scoped>\n",
       "    .dataframe tbody tr th:only-of-type {\n",
       "        vertical-align: middle;\n",
       "    }\n",
       "\n",
       "    .dataframe tbody tr th {\n",
       "        vertical-align: top;\n",
       "    }\n",
       "\n",
       "    .dataframe thead th {\n",
       "        text-align: right;\n",
       "    }\n",
       "</style>\n",
       "<table border=\"1\" class=\"dataframe\">\n",
       "  <thead>\n",
       "    <tr style=\"text-align: right;\">\n",
       "      <th></th>\n",
       "      <th>preprocessing</th>\n",
       "      <th>model</th>\n",
       "      <th>short</th>\n",
       "      <th>fold</th>\n",
       "      <th>rmse</th>\n",
       "      <th>r2</th>\n",
       "    </tr>\n",
       "  </thead>\n",
       "  <tbody>\n",
       "    <tr>\n",
       "      <th>0</th>\n",
       "      <td>None</td>\n",
       "      <td>SecondOrderPolynomial</td>\n",
       "      <td>sop</td>\n",
       "      <td>2</td>\n",
       "      <td>0.000009</td>\n",
       "      <td>1.000000</td>\n",
       "    </tr>\n",
       "    <tr>\n",
       "      <th>1</th>\n",
       "      <td>None</td>\n",
       "      <td>SecondOrderPolynomial</td>\n",
       "      <td>sop</td>\n",
       "      <td>4</td>\n",
       "      <td>0.000009</td>\n",
       "      <td>1.000000</td>\n",
       "    </tr>\n",
       "    <tr>\n",
       "      <th>2</th>\n",
       "      <td>None</td>\n",
       "      <td>RadialBasisFunctions</td>\n",
       "      <td>rbf</td>\n",
       "      <td>2</td>\n",
       "      <td>0.000010</td>\n",
       "      <td>1.000000</td>\n",
       "    </tr>\n",
       "    <tr>\n",
       "      <th>3</th>\n",
       "      <td>None</td>\n",
       "      <td>RadialBasisFunctions</td>\n",
       "      <td>rbf</td>\n",
       "      <td>4</td>\n",
       "      <td>0.000009</td>\n",
       "      <td>1.000000</td>\n",
       "    </tr>\n",
       "    <tr>\n",
       "      <th>4</th>\n",
       "      <td>None</td>\n",
       "      <td>SecondOrderPolynomial</td>\n",
       "      <td>sop</td>\n",
       "      <td>1</td>\n",
       "      <td>0.000011</td>\n",
       "      <td>1.000000</td>\n",
       "    </tr>\n",
       "    <tr>\n",
       "      <th>5</th>\n",
       "      <td>None</td>\n",
       "      <td>RadialBasisFunctions</td>\n",
       "      <td>rbf</td>\n",
       "      <td>0</td>\n",
       "      <td>0.000010</td>\n",
       "      <td>1.000000</td>\n",
       "    </tr>\n",
       "    <tr>\n",
       "      <th>6</th>\n",
       "      <td>None</td>\n",
       "      <td>SecondOrderPolynomial</td>\n",
       "      <td>sop</td>\n",
       "      <td>0</td>\n",
       "      <td>0.000010</td>\n",
       "      <td>1.000000</td>\n",
       "    </tr>\n",
       "    <tr>\n",
       "      <th>7</th>\n",
       "      <td>None</td>\n",
       "      <td>RadialBasisFunctions</td>\n",
       "      <td>rbf</td>\n",
       "      <td>1</td>\n",
       "      <td>0.000011</td>\n",
       "      <td>1.000000</td>\n",
       "    </tr>\n",
       "    <tr>\n",
       "      <th>8</th>\n",
       "      <td>None</td>\n",
       "      <td>SecondOrderPolynomial</td>\n",
       "      <td>sop</td>\n",
       "      <td>3</td>\n",
       "      <td>0.000012</td>\n",
       "      <td>1.000000</td>\n",
       "    </tr>\n",
       "    <tr>\n",
       "      <th>9</th>\n",
       "      <td>None</td>\n",
       "      <td>RadialBasisFunctions</td>\n",
       "      <td>rbf</td>\n",
       "      <td>3</td>\n",
       "      <td>0.000012</td>\n",
       "      <td>1.000000</td>\n",
       "    </tr>\n",
       "    <tr>\n",
       "      <th>10</th>\n",
       "      <td>None</td>\n",
       "      <td>GaussianProcess</td>\n",
       "      <td>gp</td>\n",
       "      <td>4</td>\n",
       "      <td>3.261869</td>\n",
       "      <td>0.999589</td>\n",
       "    </tr>\n",
       "    <tr>\n",
       "      <th>11</th>\n",
       "      <td>None</td>\n",
       "      <td>GaussianProcess</td>\n",
       "      <td>gp</td>\n",
       "      <td>2</td>\n",
       "      <td>3.538521</td>\n",
       "      <td>0.999587</td>\n",
       "    </tr>\n",
       "    <tr>\n",
       "      <th>12</th>\n",
       "      <td>None</td>\n",
       "      <td>GaussianProcess</td>\n",
       "      <td>gp</td>\n",
       "      <td>1</td>\n",
       "      <td>4.305552</td>\n",
       "      <td>0.999374</td>\n",
       "    </tr>\n",
       "    <tr>\n",
       "      <th>13</th>\n",
       "      <td>None</td>\n",
       "      <td>GaussianProcess</td>\n",
       "      <td>gp</td>\n",
       "      <td>0</td>\n",
       "      <td>3.983316</td>\n",
       "      <td>0.999353</td>\n",
       "    </tr>\n",
       "    <tr>\n",
       "      <th>14</th>\n",
       "      <td>None</td>\n",
       "      <td>GaussianProcess</td>\n",
       "      <td>gp</td>\n",
       "      <td>3</td>\n",
       "      <td>5.783584</td>\n",
       "      <td>0.998853</td>\n",
       "    </tr>\n",
       "    <tr>\n",
       "      <th>15</th>\n",
       "      <td>None</td>\n",
       "      <td>ConditionalNeuralProcess</td>\n",
       "      <td>cnp</td>\n",
       "      <td>4</td>\n",
       "      <td>5.949517</td>\n",
       "      <td>0.998637</td>\n",
       "    </tr>\n",
       "    <tr>\n",
       "      <th>16</th>\n",
       "      <td>None</td>\n",
       "      <td>ConditionalNeuralProcess</td>\n",
       "      <td>cnp</td>\n",
       "      <td>1</td>\n",
       "      <td>7.860966</td>\n",
       "      <td>0.997930</td>\n",
       "    </tr>\n",
       "    <tr>\n",
       "      <th>17</th>\n",
       "      <td>None</td>\n",
       "      <td>ConditionalNeuralProcess</td>\n",
       "      <td>cnp</td>\n",
       "      <td>0</td>\n",
       "      <td>8.033505</td>\n",
       "      <td>0.997472</td>\n",
       "    </tr>\n",
       "    <tr>\n",
       "      <th>18</th>\n",
       "      <td>None</td>\n",
       "      <td>ConditionalNeuralProcess</td>\n",
       "      <td>cnp</td>\n",
       "      <td>3</td>\n",
       "      <td>8.964479</td>\n",
       "      <td>0.997269</td>\n",
       "    </tr>\n",
       "    <tr>\n",
       "      <th>19</th>\n",
       "      <td>None</td>\n",
       "      <td>ConditionalNeuralProcess</td>\n",
       "      <td>cnp</td>\n",
       "      <td>2</td>\n",
       "      <td>9.422826</td>\n",
       "      <td>0.996942</td>\n",
       "    </tr>\n",
       "    <tr>\n",
       "      <th>20</th>\n",
       "      <td>None</td>\n",
       "      <td>SupportVectorMachines</td>\n",
       "      <td>svm</td>\n",
       "      <td>4</td>\n",
       "      <td>38.992346</td>\n",
       "      <td>0.941607</td>\n",
       "    </tr>\n",
       "    <tr>\n",
       "      <th>21</th>\n",
       "      <td>None</td>\n",
       "      <td>SupportVectorMachines</td>\n",
       "      <td>svm</td>\n",
       "      <td>2</td>\n",
       "      <td>48.600153</td>\n",
       "      <td>0.922211</td>\n",
       "    </tr>\n",
       "    <tr>\n",
       "      <th>22</th>\n",
       "      <td>None</td>\n",
       "      <td>SupportVectorMachines</td>\n",
       "      <td>svm</td>\n",
       "      <td>0</td>\n",
       "      <td>48.007590</td>\n",
       "      <td>0.910417</td>\n",
       "    </tr>\n",
       "    <tr>\n",
       "      <th>23</th>\n",
       "      <td>None</td>\n",
       "      <td>LightGBM</td>\n",
       "      <td>lgbm</td>\n",
       "      <td>4</td>\n",
       "      <td>49.754522</td>\n",
       "      <td>0.903591</td>\n",
       "    </tr>\n",
       "    <tr>\n",
       "      <th>24</th>\n",
       "      <td>None</td>\n",
       "      <td>LightGBM</td>\n",
       "      <td>lgbm</td>\n",
       "      <td>2</td>\n",
       "      <td>55.304834</td>\n",
       "      <td>0.898515</td>\n",
       "    </tr>\n",
       "    <tr>\n",
       "      <th>25</th>\n",
       "      <td>None</td>\n",
       "      <td>SupportVectorMachines</td>\n",
       "      <td>svm</td>\n",
       "      <td>1</td>\n",
       "      <td>56.470521</td>\n",
       "      <td>0.893394</td>\n",
       "    </tr>\n",
       "    <tr>\n",
       "      <th>26</th>\n",
       "      <td>None</td>\n",
       "      <td>LightGBM</td>\n",
       "      <td>lgbm</td>\n",
       "      <td>1</td>\n",
       "      <td>56.882800</td>\n",
       "      <td>0.892733</td>\n",
       "    </tr>\n",
       "    <tr>\n",
       "      <th>27</th>\n",
       "      <td>None</td>\n",
       "      <td>GradientBoosting</td>\n",
       "      <td>gb</td>\n",
       "      <td>2</td>\n",
       "      <td>57.594502</td>\n",
       "      <td>0.891436</td>\n",
       "    </tr>\n",
       "    <tr>\n",
       "      <th>28</th>\n",
       "      <td>None</td>\n",
       "      <td>GradientBoosting</td>\n",
       "      <td>gb</td>\n",
       "      <td>4</td>\n",
       "      <td>55.219221</td>\n",
       "      <td>0.881246</td>\n",
       "    </tr>\n",
       "    <tr>\n",
       "      <th>29</th>\n",
       "      <td>None</td>\n",
       "      <td>GradientBoosting</td>\n",
       "      <td>gb</td>\n",
       "      <td>1</td>\n",
       "      <td>59.862824</td>\n",
       "      <td>0.880366</td>\n",
       "    </tr>\n",
       "    <tr>\n",
       "      <th>30</th>\n",
       "      <td>None</td>\n",
       "      <td>LightGBM</td>\n",
       "      <td>lgbm</td>\n",
       "      <td>0</td>\n",
       "      <td>56.810989</td>\n",
       "      <td>0.873537</td>\n",
       "    </tr>\n",
       "    <tr>\n",
       "      <th>31</th>\n",
       "      <td>None</td>\n",
       "      <td>LightGBM</td>\n",
       "      <td>lgbm</td>\n",
       "      <td>3</td>\n",
       "      <td>62.546230</td>\n",
       "      <td>0.867527</td>\n",
       "    </tr>\n",
       "    <tr>\n",
       "      <th>32</th>\n",
       "      <td>None</td>\n",
       "      <td>GradientBoosting</td>\n",
       "      <td>gb</td>\n",
       "      <td>3</td>\n",
       "      <td>62.738683</td>\n",
       "      <td>0.866212</td>\n",
       "    </tr>\n",
       "    <tr>\n",
       "      <th>33</th>\n",
       "      <td>None</td>\n",
       "      <td>GradientBoosting</td>\n",
       "      <td>gb</td>\n",
       "      <td>0</td>\n",
       "      <td>60.886451</td>\n",
       "      <td>0.853991</td>\n",
       "    </tr>\n",
       "    <tr>\n",
       "      <th>34</th>\n",
       "      <td>None</td>\n",
       "      <td>SupportVectorMachines</td>\n",
       "      <td>svm</td>\n",
       "      <td>3</td>\n",
       "      <td>67.218280</td>\n",
       "      <td>0.848524</td>\n",
       "    </tr>\n",
       "    <tr>\n",
       "      <th>35</th>\n",
       "      <td>None</td>\n",
       "      <td>RandomForest</td>\n",
       "      <td>rf</td>\n",
       "      <td>2</td>\n",
       "      <td>93.064467</td>\n",
       "      <td>0.711618</td>\n",
       "    </tr>\n",
       "    <tr>\n",
       "      <th>36</th>\n",
       "      <td>None</td>\n",
       "      <td>RandomForest</td>\n",
       "      <td>rf</td>\n",
       "      <td>1</td>\n",
       "      <td>93.979885</td>\n",
       "      <td>0.702829</td>\n",
       "    </tr>\n",
       "    <tr>\n",
       "      <th>37</th>\n",
       "      <td>None</td>\n",
       "      <td>RandomForest</td>\n",
       "      <td>rf</td>\n",
       "      <td>4</td>\n",
       "      <td>92.133046</td>\n",
       "      <td>0.670829</td>\n",
       "    </tr>\n",
       "    <tr>\n",
       "      <th>38</th>\n",
       "      <td>None</td>\n",
       "      <td>RandomForest</td>\n",
       "      <td>rf</td>\n",
       "      <td>0</td>\n",
       "      <td>92.470110</td>\n",
       "      <td>0.660873</td>\n",
       "    </tr>\n",
       "    <tr>\n",
       "      <th>39</th>\n",
       "      <td>None</td>\n",
       "      <td>RandomForest</td>\n",
       "      <td>rf</td>\n",
       "      <td>3</td>\n",
       "      <td>101.063447</td>\n",
       "      <td>0.651731</td>\n",
       "    </tr>\n",
       "  </tbody>\n",
       "</table>\n",
       "</div>"
      ],
      "text/plain": [
       "   preprocessing                     model short  fold        rmse        r2\n",
       "0           None     SecondOrderPolynomial   sop     2    0.000009  1.000000\n",
       "1           None     SecondOrderPolynomial   sop     4    0.000009  1.000000\n",
       "2           None      RadialBasisFunctions   rbf     2    0.000010  1.000000\n",
       "3           None      RadialBasisFunctions   rbf     4    0.000009  1.000000\n",
       "4           None     SecondOrderPolynomial   sop     1    0.000011  1.000000\n",
       "5           None      RadialBasisFunctions   rbf     0    0.000010  1.000000\n",
       "6           None     SecondOrderPolynomial   sop     0    0.000010  1.000000\n",
       "7           None      RadialBasisFunctions   rbf     1    0.000011  1.000000\n",
       "8           None     SecondOrderPolynomial   sop     3    0.000012  1.000000\n",
       "9           None      RadialBasisFunctions   rbf     3    0.000012  1.000000\n",
       "10          None           GaussianProcess    gp     4    3.261869  0.999589\n",
       "11          None           GaussianProcess    gp     2    3.538521  0.999587\n",
       "12          None           GaussianProcess    gp     1    4.305552  0.999374\n",
       "13          None           GaussianProcess    gp     0    3.983316  0.999353\n",
       "14          None           GaussianProcess    gp     3    5.783584  0.998853\n",
       "15          None  ConditionalNeuralProcess   cnp     4    5.949517  0.998637\n",
       "16          None  ConditionalNeuralProcess   cnp     1    7.860966  0.997930\n",
       "17          None  ConditionalNeuralProcess   cnp     0    8.033505  0.997472\n",
       "18          None  ConditionalNeuralProcess   cnp     3    8.964479  0.997269\n",
       "19          None  ConditionalNeuralProcess   cnp     2    9.422826  0.996942\n",
       "20          None     SupportVectorMachines   svm     4   38.992346  0.941607\n",
       "21          None     SupportVectorMachines   svm     2   48.600153  0.922211\n",
       "22          None     SupportVectorMachines   svm     0   48.007590  0.910417\n",
       "23          None                  LightGBM  lgbm     4   49.754522  0.903591\n",
       "24          None                  LightGBM  lgbm     2   55.304834  0.898515\n",
       "25          None     SupportVectorMachines   svm     1   56.470521  0.893394\n",
       "26          None                  LightGBM  lgbm     1   56.882800  0.892733\n",
       "27          None          GradientBoosting    gb     2   57.594502  0.891436\n",
       "28          None          GradientBoosting    gb     4   55.219221  0.881246\n",
       "29          None          GradientBoosting    gb     1   59.862824  0.880366\n",
       "30          None                  LightGBM  lgbm     0   56.810989  0.873537\n",
       "31          None                  LightGBM  lgbm     3   62.546230  0.867527\n",
       "32          None          GradientBoosting    gb     3   62.738683  0.866212\n",
       "33          None          GradientBoosting    gb     0   60.886451  0.853991\n",
       "34          None     SupportVectorMachines   svm     3   67.218280  0.848524\n",
       "35          None              RandomForest    rf     2   93.064467  0.711618\n",
       "36          None              RandomForest    rf     1   93.979885  0.702829\n",
       "37          None              RandomForest    rf     4   92.133046  0.670829\n",
       "38          None              RandomForest    rf     0   92.470110  0.660873\n",
       "39          None              RandomForest    rf     3  101.063447  0.651731"
      ]
     },
     "execution_count": 8,
     "metadata": {},
     "output_type": "execute_result"
    }
   ],
   "source": [
    "em.summarise_cv()"
   ]
  },
  {
   "cell_type": "markdown",
   "metadata": {},
   "source": [
    "Now, we might like to see whether the Support Vector Machines model could do better with better hyperparameters. To minimise computation time, we only take those this one model, and run 50 iterations (instead of the default 20), we run them in parallel using 5 jobs."
   ]
  },
  {
   "cell_type": "code",
   "execution_count": 9,
   "metadata": {},
   "outputs": [
    {
     "data": {
      "application/vnd.jupyter.widget-view+json": {
       "model_id": "c23a2a6008dc4c3f89d7610dae2faa2e",
       "version_major": 2,
       "version_minor": 0
      },
      "text/plain": [
       "Optimising and cross-validating:   0%|          | 0/1 [00:00<?, ?it/s]"
      ]
     },
     "metadata": {},
     "output_type": "display_data"
    },
    {
     "name": "stdout",
     "output_type": "stream",
     "text": [
      "Time taken: 6.434678077697754 seconds\n"
     ]
    },
    {
     "data": {
      "application/vnd.microsoft.datawrangler.viewer.v0+json": {
       "columns": [
        {
         "name": "index",
         "rawType": "int64",
         "type": "integer"
        },
        {
         "name": "preprocessing",
         "rawType": "object",
         "type": "string"
        },
        {
         "name": "model",
         "rawType": "object",
         "type": "string"
        },
        {
         "name": "short",
         "rawType": "object",
         "type": "string"
        },
        {
         "name": "fold",
         "rawType": "int64",
         "type": "integer"
        },
        {
         "name": "rmse",
         "rawType": "float64",
         "type": "float"
        },
        {
         "name": "r2",
         "rawType": "float64",
         "type": "float"
        }
       ],
       "conversionMethod": "pd.DataFrame",
       "ref": "9c1f1cf0-ed46-4ff6-b3de-ea9630d6b90f",
       "rows": [
        [
         "0",
         "None",
         "SupportVectorMachines",
         "svm",
         "2",
         "8.720925214692816",
         "0.9975364679011992"
        ],
        [
         "1",
         "None",
         "SupportVectorMachines",
         "svm",
         "0",
         "7.939373376335",
         "0.9974821437923449"
        ],
        [
         "2",
         "None",
         "SupportVectorMachines",
         "svm",
         "1",
         "9.151468529211567",
         "0.9972248836751838"
        ],
        [
         "3",
         "None",
         "SupportVectorMachines",
         "svm",
         "3",
         "9.114728846293456",
         "0.9972036179170759"
        ],
        [
         "4",
         "None",
         "SupportVectorMachines",
         "svm",
         "4",
         "8.73105070887409",
         "0.9971045752136319"
        ]
       ],
       "shape": {
        "columns": 6,
        "rows": 5
       }
      },
      "text/html": [
       "<div>\n",
       "<style scoped>\n",
       "    .dataframe tbody tr th:only-of-type {\n",
       "        vertical-align: middle;\n",
       "    }\n",
       "\n",
       "    .dataframe tbody tr th {\n",
       "        vertical-align: top;\n",
       "    }\n",
       "\n",
       "    .dataframe thead th {\n",
       "        text-align: right;\n",
       "    }\n",
       "</style>\n",
       "<table border=\"1\" class=\"dataframe\">\n",
       "  <thead>\n",
       "    <tr style=\"text-align: right;\">\n",
       "      <th></th>\n",
       "      <th>preprocessing</th>\n",
       "      <th>model</th>\n",
       "      <th>short</th>\n",
       "      <th>fold</th>\n",
       "      <th>rmse</th>\n",
       "      <th>r2</th>\n",
       "    </tr>\n",
       "  </thead>\n",
       "  <tbody>\n",
       "    <tr>\n",
       "      <th>0</th>\n",
       "      <td>None</td>\n",
       "      <td>SupportVectorMachines</td>\n",
       "      <td>svm</td>\n",
       "      <td>2</td>\n",
       "      <td>8.720925</td>\n",
       "      <td>0.997536</td>\n",
       "    </tr>\n",
       "    <tr>\n",
       "      <th>1</th>\n",
       "      <td>None</td>\n",
       "      <td>SupportVectorMachines</td>\n",
       "      <td>svm</td>\n",
       "      <td>0</td>\n",
       "      <td>7.939373</td>\n",
       "      <td>0.997482</td>\n",
       "    </tr>\n",
       "    <tr>\n",
       "      <th>2</th>\n",
       "      <td>None</td>\n",
       "      <td>SupportVectorMachines</td>\n",
       "      <td>svm</td>\n",
       "      <td>1</td>\n",
       "      <td>9.151469</td>\n",
       "      <td>0.997225</td>\n",
       "    </tr>\n",
       "    <tr>\n",
       "      <th>3</th>\n",
       "      <td>None</td>\n",
       "      <td>SupportVectorMachines</td>\n",
       "      <td>svm</td>\n",
       "      <td>3</td>\n",
       "      <td>9.114729</td>\n",
       "      <td>0.997204</td>\n",
       "    </tr>\n",
       "    <tr>\n",
       "      <th>4</th>\n",
       "      <td>None</td>\n",
       "      <td>SupportVectorMachines</td>\n",
       "      <td>svm</td>\n",
       "      <td>4</td>\n",
       "      <td>8.731051</td>\n",
       "      <td>0.997105</td>\n",
       "    </tr>\n",
       "  </tbody>\n",
       "</table>\n",
       "</div>"
      ],
      "text/plain": [
       "  preprocessing                  model short  fold      rmse        r2\n",
       "0          None  SupportVectorMachines   svm     2  8.720925  0.997536\n",
       "1          None  SupportVectorMachines   svm     0  7.939373  0.997482\n",
       "2          None  SupportVectorMachines   svm     1  9.151469  0.997225\n",
       "3          None  SupportVectorMachines   svm     3  9.114729  0.997204\n",
       "4          None  SupportVectorMachines   svm     4  8.731051  0.997105"
      ]
     },
     "execution_count": 9,
     "metadata": {},
     "output_type": "execute_result"
    }
   ],
   "source": [
    "start = time.time()\n",
    "\n",
    "em_svm = AutoEmulate()\n",
    "em_svm.setup(X, y, models=[\"svm\"], param_search=True, param_search_iters=50, \n",
    "         n_jobs=5, print_setup=False)\n",
    "em_svm.compare()\n",
    "\n",
    "end = time.time()\n",
    "print(f\"Time taken: {end - start} seconds\")\n",
    "\n",
    "em_svm.summarise_cv()"
   ]
  },
  {
   "cell_type": "markdown",
   "metadata": {},
   "source": [
    "And indeed, the SVM model does perform better with better hyperparameters! Let's have a look at them. SVM is a pipeline, so we first extract the 'model' step, and then get the parameters. "
   ]
  },
  {
   "cell_type": "code",
   "execution_count": 10,
   "metadata": {},
   "outputs": [
    {
     "data": {
      "text/plain": [
       "{'estimator__C': 2.9745514805217894,\n",
       " 'estimator__cache_size': 200,\n",
       " 'estimator__coef0': 0.6864724407544227,\n",
       " 'estimator__degree': 4,\n",
       " 'estimator__epsilon': 0.11043299726789946,\n",
       " 'estimator__gamma': 'auto',\n",
       " 'estimator__kernel': 'linear',\n",
       " 'estimator__max_iter': -1,\n",
       " 'estimator__normalise_y': True,\n",
       " 'estimator__shrinking': False,\n",
       " 'estimator__tol': 0.0010043197053019159,\n",
       " 'estimator__verbose': False,\n",
       " 'estimator': SupportVectorMachines(C=2.9745514805217894, coef0=0.6864724407544227, degree=4,\n",
       "                       epsilon=0.11043299726789946, gamma='auto',\n",
       "                       kernel='linear', shrinking=False,\n",
       "                       tol=0.0010043197053019159),\n",
       " 'n_jobs': None}"
      ]
     },
     "execution_count": 10,
     "metadata": {},
     "output_type": "execute_result"
    }
   ],
   "source": [
    "svm = em_svm.get_model(name=\"svm\")\n",
    "svm.named_steps['model'].get_params()"
   ]
  },
  {
   "cell_type": "markdown",
   "metadata": {},
   "source": []
  }
 ],
 "metadata": {
  "kernelspec": {
   "display_name": ".venv",
   "language": "python",
   "name": "python3"
  },
  "language_info": {
   "codemirror_mode": {
    "name": "ipython",
    "version": 3
   },
   "file_extension": ".py",
   "mimetype": "text/x-python",
   "name": "python",
   "nbconvert_exporter": "python",
   "pygments_lexer": "ipython3",
   "version": "3.12.4"
  }
 },
 "nbformat": 4,
 "nbformat_minor": 2
}
