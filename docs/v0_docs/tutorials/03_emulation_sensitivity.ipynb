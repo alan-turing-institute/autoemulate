{
 "cells": [
  {
   "cell_type": "markdown",
   "metadata": {},
   "source": [
    "# Scaling Sensitivity Analysis with Emulation\n",
    "\n",
    "In this tutorial we demonstrate how `AutoEmulate` can facilitate finding the best emulator for the simulation of fluid flow in a cardiovascular system. \n",
    "\n",
    "By the end of this tutorial: \n",
    "- Participants will learn how to use `Autoemulate` for the emulation of a real-world simulation in an end-to-end pipeline. \n",
    "- Participants will learn how to explore the relationship between underlying cardiac health parameters and non-invasive measures using synthetic data, with a focus on how these insights can improve understanding and estimation of key cardiovascular dynamics\n"
   ]
  },
  {
   "cell_type": "markdown",
   "metadata": {},
   "source": [
    "## The Problem\n",
    "In the field of cardiovascular modeling, capturing the dynamics of blood flow and the associated pressures and volumes within the vascular system is crucial for understanding heart function and disease. Physics-based models that accurately represent these dynamics often require significant computational resources, making them challenging to apply in large-scale or real-time scenarios. Emulation techniques provide a way to achieve high-fidelity simulations of the cardiovascular system, allowing for efficient and accurate analysis of key hemodynamic parameters."
   ]
  },
  {
   "cell_type": "markdown",
   "metadata": {},
   "source": [
    "## Content\n",
    "This tutorial includes:\n",
    "\n",
    "1. Setting up a simulation : The system simulated is a tube with an input flow rate at any given time. The tube is divided to 10 compartments which allows for the study of the pressure and flow rate at various points in the tube. \n",
    "2. Running the simulation for 60 sets of parameters sampled from the parameter space.  \n",
    "3. Using Autoemulate to find the best emulator fot this simulation \n",
    "5. Assessing model accuracy, performing sensitivity analysis."
   ]
  },
  {
   "cell_type": "code",
   "execution_count": null,
   "metadata": {},
   "outputs": [],
   "source": [
    "import os\n",
    "import numpy as np\n",
    "import pandas as pd\n",
    "import matplotlib.pyplot as plt\n",
    "from tqdm import tqdm\n",
    "from autoemulate.compare import AutoEmulate\n",
    "from sklearn.metrics import r2_score\n",
    "\n",
    "from autoemulate_design import LatinHypercube\n",
    "from autoemulate.simulations.flow_functions import FlowProblem\n",
    "\n",
    "show_progress = False if os.getenv(\"JUPYTER_BOOK_BUILD\", \"false\").lower() == \"true\" else True"
   ]
  },
  {
   "cell_type": "markdown",
   "metadata": {},
   "source": [
    "### Define your simulator\n",
    "\n",
    "This simulator simulates a vessel divided to 10 compartments. \n",
    "\n",
    "##### Parameters\n",
    "The simulation parameters include : \n",
    "\n",
    "1. R (Resistance):\n",
    "Represents the resistance to blood flow in blood vessels, akin to the hydraulic resistance caused by vessel diameter and blood viscosity (Analogous to electrical resistor).\n",
    "2. L (Inductance):\n",
    "Represents the inertial effects of blood flow, capturing how blood resists changes in its velocity (Analogous to electrical inductor).\n",
    "3. C (Capacitance):\n",
    "Represents the compliance or elasticity of blood vessels, primarily large arteries, which store and release blood volume with changes in pressure (Analogous to a capacitor).\n",
    "\n",
    "\n",
    "##### Boundary conditions \n",
    "\n",
    "1. Neumann boundary condition : Specifies the derivative of the variable at the boundary.\n",
    "2. Dirichlet Boundary condition : Specifies the value of the variable directly at the boundary.\n",
    "\n",
    "##### The setup \n",
    "The input flow rate in each compartment is $Q_i(t)$ for the $i^{th}$ compartment and the output flow rate is  $Q_{i+1}(t)$. \n",
    "\n",
    "$Q_0(t) = \n",
    "\\begin{cases} \n",
    "A \\cdot \\sin^2\\left(\\frac{\\pi}{t_d} t\\right), & \\text{if } 0 \\leq t < T, \\\\\n",
    "0, & \\text{otherwise}.\n",
    "\\end{cases}$\n",
    "\n",
    "Where:\n",
    "- $Q_0(t)$  is the input pulse function (flow rate) at time  t \n",
    "- A   is the amplitude of the pulse \n",
    "- $t_d$  is the pulse duration.\n",
    "\n"
   ]
  },
  {
   "cell_type": "code",
   "execution_count": null,
   "metadata": {},
   "outputs": [],
   "source": [
    "fp = FlowProblem(ncycles=10, ncomp=10, amp=900.)\n",
    "fp.generate_pulse_function()\n"
   ]
  },
  {
   "cell_type": "markdown",
   "metadata": {},
   "source": [
    "### Solve \n",
    "Pressure in Each Compartment ($P_i$): This determines how the pressure in each compartment evolves over time, based on the inflow ($Q_i(t)$) and the outflow ($Q_{i+1}(t)$). where $i$ is the number of compartment. \n",
    "\n",
    "\n",
    "\n",
    "\n",
    "<img src=\"../../misc/circuit.jpg\" alt=\"Circuit Diagram\" style=\"width:60%;\"/>\n",
    "\n",
    "$\\frac{dP_i}{dt} = \\frac{1}{C_n} \\left( Q_i(t) - Q_{i+1}(t) \\right)$ where, $C_n = \\frac{C}{n_\\text{comp}}$\n",
    "\n",
    "Flow rate equation ($Q_i$): This governs how the flow in each compartment changes over time, depending on the pressures in the neighboring compartments and the resistance and inertance properties of each compartment.\n",
    "\n",
    "$\\frac{dQ_i}{dt} = \\frac{1}{L_n} \\left( P_i - P_{10} - R_n Q_i(t) \\right)$, where $L_n = \\frac{L}{n_\\text{comp}}, \\quad R_n = \\frac{R}{n_\\text{comp}}$"
   ]
  },
  {
   "cell_type": "code",
   "execution_count": null,
   "metadata": {},
   "outputs": [],
   "source": [
    "fp.solve()"
   ]
  },
  {
   "cell_type": "markdown",
   "metadata": {},
   "source": [
    "### Plotting Pressure and flow rate \n",
    "\n",
    "Here the pressure and flow rate have been plotted for all 10 compartments (the colour of the line fades for later compartments). As it is apaprent from the figure the peak pressure as well as the flow rate drops for the later compartments. "
   ]
  },
  {
   "cell_type": "code",
   "execution_count": null,
   "metadata": {},
   "outputs": [],
   "source": [
    "fig, ax = fp.plot_res()\n",
    "plt.show()"
   ]
  },
  {
   "cell_type": "markdown",
   "metadata": {},
   "source": [
    "### Experimental Design\n",
    "\n",
    "We set up the parameters for the simulation and their range. The range is set to the domain of interest for the problem we are solving. Furthermore, it is important to restrict the range to enhance the fitting of the model. \n",
    "\n"
   ]
  },
  {
   "cell_type": "code",
   "execution_count": null,
   "metadata": {},
   "outputs": [],
   "source": [
    "## specify valid parameter ranges\n",
    "# Dictionary with parameters and their scaled ranges for the blood flow model\n",
    "parameters_range = {\n",
    "    'T': tuple(np.array([0.5, 1.5]) * 1.0),  # Cardiac cycle period (s)\n",
    "    'td': tuple(np.array([0.8, 1.2]) * 0.2),  # Pulse duration (s)\n",
    "    'amp': tuple(np.array([0.8, 1.2]) * 900.0),  # Amplitude (e.g., pressure or flow rate)\n",
    "    'dt': tuple(np.array([0.5, 1.5]) * 0.001),  # Time step (s)\n",
    "    'C': tuple(np.array([0.8, 1.2]) * 38.0),  # Compliance (unit varies based on context)\n",
    "    'R': tuple(np.array([0.8, 1.2]) * 0.06),  # Resistance (unit varies based on context)\n",
    "    'L': tuple(np.array([0.8, 1.2]) * 0.0017),  # Inductance (unit varies based on context)\n",
    "    'R_o': tuple(np.array([0.8, 1.2]) * 0.025),  # Outflow resistance (unit varies based on context)\n",
    "    'p_o': tuple(np.array([0.9, 1.1]) * 10.0)  # Initial pressure (unit varies based on context)\n",
    "}\n",
    "\n",
    "# Output the dictionary for verification\n",
    "\n",
    "parameters_range"
   ]
  },
  {
   "cell_type": "markdown",
   "metadata": {},
   "source": [
    "### Sampling parameters\n",
    "\n",
    "Secondly we sample the parameter space usning the Latin hypercube sampling (LHS) method. \n",
    "\n",
    "Latin Hypercube Sampling (LHS) is a statistical method used for generating a sample of plausible values from a multidimensional distribution and guarantees that every sample is drawn from a different quantile of the underlying distribution. It is particularly effective for uncertainty quantification, sensitivity analysis, and simulation studies where the goal is to explore the behavior of a system or a model across a wide range of input parameter values."
   ]
  },
  {
   "cell_type": "code",
   "execution_count": null,
   "metadata": {},
   "outputs": [],
   "source": [
    "## sample from parameter range\n",
    "\n",
    "N_samples = 60\n",
    "lhd = LatinHypercube(parameters_range.values())\n",
    "sample_array = lhd.sample(N_samples)\n",
    "sample_df    = pd.DataFrame(sample_array, columns=parameters_range.keys())  \n",
    "print(\"Number of parameters\", sample_df.shape[1], \"Number of samples from each parameter\", sample_df.shape[0])\n",
    "sample_df.head()"
   ]
  },
  {
   "cell_type": "markdown",
   "metadata": {},
   "source": [
    "### Enforcing relationship between correlated parameters \n",
    "\n",
    "The parameters are randomly sampled from the parameter space. However, some of the parameters are by nature correlated. For example in our simulation the duration of the pulse $t_d$ is directly correlated with $T$ which is the length of a full cycle. In this cell, we enforce the relationship between these two parameters. In otherwords scale $t_d$ in accordance with the value of $T$."
   ]
  },
  {
   "cell_type": "code",
   "execution_count": null,
   "metadata": {},
   "outputs": [],
   "source": [
    "# enforce parameter relations (eg td <= T)\n",
    "sample_df['td'] = sample_df.apply(lambda row: row['td']* row['T'], axis=1)\n"
   ]
  },
  {
   "cell_type": "markdown",
   "metadata": {},
   "source": [
    "### Simulate\n",
    "\n",
    "Here we run the simulation which involves:  \n",
    "1- Generating the pulse functions.  \n",
    "2- Solving the differential equations.  \n",
    "3- Returning the pressure and flow rate in y for every set of parameters sampled (every row of sample_df data frame).\n",
    "\n",
    "The full output of the simulation is quite large for fitting an emulator model. Therefore, it is standard practice to grab the most relavant information for training the emulator. Here we have chosen to train the emulator on the maximum pressure in each compartment. There are a variety of outputs that could be considered (max / min / average /mean / median / gradiant / PCA ).\n",
    "\n",
    "\n"
   ]
  },
  {
   "cell_type": "code",
   "execution_count": null,
   "metadata": {},
   "outputs": [],
   "source": [
    "# Fixed parameters: Number of compartments and cycles\n",
    "ncomp = 10\n",
    "ncycles = 10\n",
    "\n",
    "# Function to run a simulation for a given set of parameters\n",
    "def simulate(param_dict):\n",
    "    fp = FlowProblem(ncycles=ncycles, ncomp=ncomp, **param_dict)\n",
    "    fp.generate_pulse_function()\n",
    "    fp.solve()\n",
    "    return fp, fp.res.t, fp.res.y\n",
    "\n",
    "Y = []\n",
    "# Iterate over each sample of parameters\n",
    "for index, row in tqdm(sample_df.iterrows(), total=len(sample_df), disable=show_progress):\n",
    "    param_dict = row.to_dict() \n",
    "    fp, t, y = simulate(param_dict) \n",
    "    # extract peak pressure\n",
    "    peak_pressure = y[:ncomp, :].max()\n",
    "    Y.append(peak_pressure)"
   ]
  },
  {
   "cell_type": "markdown",
   "metadata": {},
   "source": [
    "### Emulate & Validate\n",
    "\n",
    "Here we setup Autoemulate. \n",
    "\n",
    "The models currently available for performing cross-validation are as follows: \n",
    "- sop: SecondOrderPolynomial\n",
    "- rbf: RadialBasisFunctions\n",
    "- rf: RandomForest\n",
    "- gb: GradientBoosting\n",
    "- lgbm: LightGBM\n",
    "- svm: SupportVectorMachines\n",
    "- gp: GaussianProcess\n",
    "- gpmt: GaussianProcessMT\n",
    "- gps: GaussianProcessSklearn\n",
    "- nns: NeuralNetSk\n",
    "\n",
    "We have selected four of these models for cross-validation, feel free to explore more!  "
   ]
  },
  {
   "cell_type": "code",
   "execution_count": null,
   "metadata": {},
   "outputs": [],
   "source": [
    "em = AutoEmulate()\n",
    "parameter_names = list(parameters_range.keys())\n",
    "em.setup(sample_df[parameter_names], Y, models = ['gp', 'svm','lgbm'])\n",
    "best_model = em.compare()\n"
   ]
  },
  {
   "cell_type": "code",
   "execution_count": null,
   "metadata": {},
   "outputs": [],
   "source": [
    "em.summarise_cv()"
   ]
  },
  {
   "cell_type": "code",
   "execution_count": null,
   "metadata": {},
   "outputs": [],
   "source": [
    "gp = em.get_model(\"GaussianProcess\")\n",
    "em.evaluate(gp)\n"
   ]
  },
  {
   "cell_type": "code",
   "execution_count": null,
   "metadata": {},
   "outputs": [],
   "source": [
    "em.plot_eval(gp)"
   ]
  },
  {
   "cell_type": "code",
   "execution_count": null,
   "metadata": {},
   "outputs": [],
   "source": [
    "best_emulator = em.refit(gp)\n"
   ]
  },
  {
   "cell_type": "markdown",
   "metadata": {},
   "source": [
    "### Sensitivity Analysis\n",
    "\n",
    "1. Define the problem by creating a dictionary which contains the names and the boundaries of the parameters \n",
    "2. contribution of each parameter , importance of each parameter \n",
    "    - S₁: First-order sensitivity index.\n",
    "    - S₂: Second-order sensitivity index.\n",
    "    - Sₜ: Total sensitivity index."
   ]
  },
  {
   "cell_type": "code",
   "execution_count": null,
   "metadata": {},
   "outputs": [],
   "source": [
    "# Extract parameter names and bounds from the dictionary\n",
    "parameter_names = list(parameters_range.keys())\n",
    "parameter_bounds = list(parameters_range.values())\n",
    "\n",
    "# Define the problem dictionary for Sobol sensitivity analysis\n",
    "problem = {\n",
    "    'num_vars': len(parameter_names),\n",
    "    'names': parameter_names,\n",
    "    'bounds': parameter_bounds\n",
    "}\n"
   ]
  },
  {
   "cell_type": "code",
   "execution_count": null,
   "metadata": {},
   "outputs": [],
   "source": [
    "em.sensitivity_analysis(problem=problem)\n"
   ]
  }
 ],
 "metadata": {
  "kernelspec": {
   "display_name": ".venv",
   "language": "python",
   "name": "python3"
  },
  "language_info": {
   "codemirror_mode": {
    "name": "ipython",
    "version": 3
   },
   "file_extension": ".py",
   "mimetype": "text/x-python",
   "name": "python",
   "nbconvert_exporter": "python",
   "pygments_lexer": "ipython3",
   "version": "3.12.4"
  }
 },
 "nbformat": 4,
 "nbformat_minor": 2
}
