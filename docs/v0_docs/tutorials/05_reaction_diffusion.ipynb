{
 "cells": [
  {
   "cell_type": "markdown",
   "metadata": {},
   "source": [
    "# Reduced-dimension Emulator: Reaction-Diffusion example\n",
    "\n",
    "### Overview\n",
    "In this example, we aim to create an _emulator_ to generate solutions to a 2D parameterized reaction-diffusion problem governed by the following partial differential equations:\n",
    "\n",
    "$$\n",
    "\\dot{u} = (1 - (u^2 + v^2)) u + \\beta (u^2 + v^2) v + d (u_{xx} + u_{yy}),\n",
    "$$\n",
    "$$\n",
    "\\dot{v} = -\\beta (u^2 + v^2) u + (1 - (u^2 + v^2)) v + d (v_{xx} + v_{yy}),\n",
    "$$\n",
    "\n",
    "where:\n",
    "- $ u $ and $ v $ are the concentrations of two species,\n",
    "- $ \\beta $ and $ d $ control the reaction and diffusion terms.\n",
    "\n",
    "This system exhibits complex spatio-temporal dynamics such as spiral waves."
   ]
  },
  {
   "cell_type": "code",
   "execution_count": null,
   "metadata": {},
   "outputs": [],
   "source": [
    "import numpy as np\n",
    "import pandas as pd\n",
    "import matplotlib.pyplot as plt \n",
    "import autoemulate as ae\n",
    "from tqdm import tqdm\n",
    "import os\n",
    "\n",
    "from autoemulate_design import LatinHypercube\n",
    "from autoemulate.simulations.reaction_diffusion import simulate_reaction_diffusion\n",
    "from autoemulate.compare import AutoEmulate\n",
    "\n",
    "save = False\n",
    "train = False"
   ]
  },
  {
   "cell_type": "markdown",
   "metadata": {},
   "source": [
    "### 1) Data generation\n",
    "Data are computed using a numerical [_simulator_](https://github.com/dynamicslab/pysindy/blob/master/examples/10_PDEFIND_examples.ipynb) using Fourier spectral method.\n",
    "The simulator takes two inputs: the reaction parameter $\\beta$ and the diffusion parameter $d$.\n",
    "\n",
    "We sample 50 sets of inputs `X` using Latin Hypercube sampling and run the simulator for those inputs to get the solutions `Y`.\n"
   ]
  },
  {
   "cell_type": "code",
   "execution_count": null,
   "metadata": {},
   "outputs": [],
   "source": [
    "n = 50\n",
    "\n",
    "# Reaction-diffusion parameters\n",
    "beta = (1., 2.) # lower and upper bounds for the reaction coefficient\n",
    "d = (0.05, 0.3) # lower and upper bounds for the diffusion coefficient\n",
    "lhd = LatinHypercube([beta, d])\n",
    "n_samples = 50\n",
    "X = lhd.sample(n_samples)\n",
    "\n",
    "data_folder = \"../data/reaction_diffusion\"\n",
    "if not os.path.exists(data_folder):\n",
    "    os.makedirs(data_folder)  \n",
    "X_file = os.path.join(data_folder, \"X.csv\")\n",
    "Y_file = os.path.join(data_folder, \"Y.csv\")\n",
    "\n",
    "if train:\n",
    "    # Run the simulator to generate data \n",
    "    U, V = zip(*[simulate_reaction_diffusion(x, n=n, T=10) for x in tqdm(X)])\n",
    "    U = np.stack(U)\n",
    "    V = np.stack(V)\n",
    "\n",
    "    # Let's consider as output the concentration of the specie U\n",
    "    Y = U.reshape(n_samples, -1)\n",
    "\n",
    "    if save:\n",
    "        # Save the data\n",
    "        pd.DataFrame(X).to_csv(X_file, index=False)\n",
    "        pd.DataFrame(Y).to_csv(Y_file, index=False)\n",
    "else:\n",
    "    # Load the data\n",
    "    X = pd.read_csv(X_file).values\n",
    "    Y = pd.read_csv(Y_file).values\n",
    "\n",
    "print(f\"shapes: input X: {X.shape}, output Y: {Y.shape}\\n\")"
   ]
  },
  {
   "cell_type": "markdown",
   "metadata": {},
   "source": [
    "`X` and `Y` are matrices where each row represents one run of the simulation.  In the input matrix `X` the two columuns indicates the input parameters (reaction $\\beta$ and diffusion $d$ parameters, respetively). \n",
    "In the output matrix `Y` each column indicates a spatial location where the solution (i.e. the concentration of $u$ at final time $T=10$) is computed. <br>\n",
    "We consider a 2D spatial grid of $50\\times 50$ points, therefore each row of `Y` corresponds to a 2500-dimensional vector!\n",
    "\n",
    "Let’s now plot the simulated data to see how the reaction-diffusion pattern looks like."
   ]
  },
  {
   "cell_type": "code",
   "execution_count": null,
   "metadata": {},
   "outputs": [],
   "source": [
    "plt.figure(figsize=(15,4.5))\n",
    "for param in range(3):\n",
    "  plt.subplot(1,3,1+param)\n",
    "  plt.imshow(Y[param].reshape(n,n), interpolation='bilinear')\n",
    "  plt.axis('off')\n",
    "  plt.xlabel('x', fontsize=12)\n",
    "  plt.ylabel('y')\n",
    "  plt.title(r'$\\beta = {:.2f}, d = {:.2f}$'.format(X[param][0], X[param][1]), fontsize=12)\n",
    "  plt.colorbar(fraction=0.046)\n",
    "plt.suptitle('2D solutions to the reaction-diffusion system for different parameters', fontsize=15)\n",
    "plt.show()"
   ]
  },
  {
   "cell_type": "markdown",
   "metadata": {},
   "source": [
    "## 2) Reduced-dimension Emulator\n",
    "The numerical simulator is computationally expensive to run, thus we aim to replace it with a fast _emulator_.\n",
    "As output we aim to emulate is the full spatial fields of the concentration of $u$ which is high-dimensional, we employ **dimensionality reduction** techniques to create a faster and more efficient emulator.\n",
    "\n",
    "You can do so by selecting `reduce_dim_output=True` and indicate in a dictionary `preprocessing_methods`, which dimensionality reducer you want to use among\n",
    "- `\"PCA\"`: Principal Component Analysis,\n",
    "- `\"VAE\"`: Variational Autoencoder,\n",
    "\n",
    "which will be trained together with the emulator.\n",
    "\n",
    "More details about the dimensionality reudcers can be provided as `params`, such as `reduced_dim` to select how many latents varaibles we want to consider (e.g., if `reduced_dim = 8`, we compress 2500-dimensional data into a 8-dimensional variables), or hyperparameters (learning rate, batch_size, etc.) for deep learning methhods.\n",
    "\n",
    "\n",
    "\n"
   ]
  },
  {
   "cell_type": "code",
   "execution_count": null,
   "metadata": {},
   "outputs": [],
   "source": [
    "em = AutoEmulate()\n",
    "\n",
    "preprocessing_methods = [{\"name\": \"PCA\", \"params\": {\"reduced_dim\": 8}},\n",
    "                         {\"name\": \"PCA\", \"params\": {\"reduced_dim\": 16}},\n",
    "                         {\"name\": \"VAE\", \"params\": {\"reduced_dim\": 8}},\n",
    "                         {\"name\": \"VAE\", \"params\": {\"reduced_dim\": 16, \"learning_rate\" : 1e-4, \"batch_size\" : 16, \"epochs\": 5000, \"beta\": 1e-4}}]\n",
    "\n",
    "em.setup(X, Y, scale_output=True, reduce_dim_output=True, preprocessing_methods=preprocessing_methods)"
   ]
  },
  {
   "cell_type": "markdown",
   "metadata": {},
   "source": [
    "AutoEmulate automatically selects the best combination of **dimesnionality reducer** and **model**, just by running `.compare()`.\n"
   ]
  },
  {
   "cell_type": "code",
   "execution_count": null,
   "metadata": {},
   "outputs": [],
   "source": [
    "best_model = em.compare()\n",
    "best_model"
   ]
  },
  {
   "cell_type": "markdown",
   "metadata": {},
   "source": [
    "## 3) Summarising cross-validation results\n",
    "We can look at the cross-validation results to see which model provides the best emulator. "
   ]
  },
  {
   "cell_type": "code",
   "execution_count": null,
   "metadata": {},
   "outputs": [],
   "source": [
    "em.summarise_cv()"
   ]
  },
  {
   "cell_type": "markdown",
   "metadata": {},
   "source": [
    "We can select the best performing emulator model (in this case GaussianProcess) and see how it performs on the test-set, which AutoEmulate automatically sets aside.\n",
    "\n",
    "We can plot the test-set performance for chosen emulator."
   ]
  },
  {
   "cell_type": "code",
   "execution_count": null,
   "metadata": {},
   "outputs": [],
   "source": [
    "gp = em.get_model('GaussianProcess')\n",
    "em.evaluate(gp)"
   ]
  },
  {
   "cell_type": "code",
   "execution_count": null,
   "metadata": {},
   "outputs": [],
   "source": [
    "em.plot_eval(gp, input_index=[0], output_index=[0,130,1000])"
   ]
  },
  {
   "cell_type": "markdown",
   "metadata": {},
   "source": [
    "## 4) Refitting the model on the full dataset\n",
    "AutoEmulate splits the dataset into a training and holdout set. All cross-validation, parameter optimisation and model selection is done on the training set. After we selected a best emulator model, we can refit it on the full traiing dataset."
   ]
  },
  {
   "cell_type": "code",
   "execution_count": null,
   "metadata": {},
   "outputs": [],
   "source": [
    "gp_final = em.refit(gp)"
   ]
  },
  {
   "cell_type": "markdown",
   "metadata": {},
   "source": [
    "## 5) Predict on the test set\n",
    "Now we run the emulator for unseen combinations of reaction and diffusion parameter and we compare its performance with respect to the reference (simulator)"
   ]
  },
  {
   "cell_type": "code",
   "execution_count": null,
   "metadata": {},
   "outputs": [],
   "source": [
    "y_pred, y_std_pred  = gp_final.predict(X[em.test_idxs], return_std = True)\n",
    "y_true = Y[em.test_idxs]"
   ]
  },
  {
   "cell_type": "code",
   "execution_count": null,
   "metadata": {},
   "outputs": [],
   "source": [
    "# Plot the results for some unseen (test) parameter instances\n",
    "params_test = [0,1,2,3]\n",
    "\n",
    "for param_test in params_test:\n",
    "  plt.figure(figsize=(20,4.5))\n",
    "  plt.subplot(1,4,1)\n",
    "  plt.imshow(y_true[param_test].reshape(n,n), interpolation='bilinear')\n",
    "  plt.axis('off')\n",
    "  plt.xlabel('x', fontsize=12)\n",
    "  plt.ylabel('y')\n",
    "  plt.title('True solution (simulator)', fontsize=12)\n",
    "  plt.colorbar(fraction=0.046)\n",
    "\n",
    "  plt.subplot(1,4,2)\n",
    "  plt.imshow(y_pred[param_test].reshape(n,n), interpolation='bilinear')\n",
    "  plt.axis('off')\n",
    "  plt.xlabel('x', fontsize=12)\n",
    "  plt.ylabel('y')\n",
    "  plt.title('Prediction (emulator)', fontsize=12)\n",
    "  plt.colorbar(fraction=0.046)\n",
    "\n",
    "  plt.subplot(1,4,3)\n",
    "  plt.imshow(y_std_pred[param_test].reshape(n,n), cmap = 'bwr', interpolation='bilinear', vmax = np.max(y_std_pred[params_test]))\n",
    "  plt.axis('off')\n",
    "  plt.xlabel('x', fontsize=12)\n",
    "  plt.ylabel('y')\n",
    "  plt.title('Standard Deviation (emulator)', fontsize=12)\n",
    "  plt.colorbar(fraction=0.046)\n",
    "\n",
    "  plt.subplot(1,4,4)\n",
    "  plt.imshow(np.abs(y_pred[param_test] - y_true[param_test]).reshape(n,n), cmap = 'bwr', interpolation='bilinear')\n",
    "  plt.axis('off')\n",
    "  plt.xlabel('x', fontsize=12)\n",
    "  plt.ylabel('y')\n",
    "  plt.title('Absolute error', fontsize=12)\n",
    "  plt.colorbar(fraction=0.046)\n",
    "\n",
    "  plt.suptitle(r'Results for test parameters: $\\beta = {:.2f}, d = {:.2f}$'.format(X[em.test_idxs][param_test][0], X[em.test_idxs][param_test][1]), fontsize=12)\n",
    "  plt.show()"
   ]
  }
 ],
 "metadata": {
  "kernelspec": {
   "display_name": ".venv",
   "language": "python",
   "name": "python3"
  },
  "language_info": {
   "codemirror_mode": {
    "name": "ipython",
    "version": 3
   },
   "file_extension": ".py",
   "mimetype": "text/x-python",
   "name": "python",
   "nbconvert_exporter": "python",
   "pygments_lexer": "ipython3",
   "version": "3.12.9"
  }
 },
 "nbformat": 4,
 "nbformat_minor": 2
}
