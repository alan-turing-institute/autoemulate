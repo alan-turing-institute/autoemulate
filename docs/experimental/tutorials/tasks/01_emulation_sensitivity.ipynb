{
 "cells": [
  {
   "cell_type": "code",
   "execution_count": 17,
   "id": "344b54f2",
   "metadata": {},
   "outputs": [],
   "source": [
    "from autoemulate.experimental.sensitivity_analysis import SensitivityAnalysis\n",
    "from autoemulate.experimental.compare import AutoEmulate\n",
    "from autoemulate.experimental.emulators import *\n",
    "from autoemulate.experimental.simulations.flow_problem import FlowProblem\n",
    "from autoemulate.experimental.simulations.projectile import ProjectileMultioutput"
   ]
  },
  {
   "cell_type": "code",
   "execution_count": 2,
   "id": "9cbfa716",
   "metadata": {},
   "outputs": [],
   "source": [
    "param_ranges = {\"T\": (0.5, 2.0),\n",
    "                \"td\": (0.1, 0.5),\n",
    "                \"amp\": (100.0, 1000.0),\n",
    "                \"dt\": (0.0001, 0.01),\n",
    "                \"ncycles\": (5, 20),\n",
    "                \"ncomp\": (5, 20),\n",
    "                \"C\": (20.0, 60.0),\n",
    "                \"R\": (0.01, 0.1),\n",
    "                \"L\": (0.001, 0.005),\n",
    "                \"R_o\": (0.01, 0.05),\n",
    "                \"p_o\": (5.0, 15.0)}\n",
    "output_names = [\"pressure\"]\n",
    "\n",
    "simulator = FlowProblem(\n",
    "    param_ranges=param_ranges,\n",
    "    output_names=output_names,\n",
    ")"
   ]
  },
  {
   "cell_type": "code",
   "execution_count": 3,
   "id": "0e97a2ef",
   "metadata": {},
   "outputs": [
    {
     "data": {
      "text/plain": [
       "torch.Size([10, 11])"
      ]
     },
     "execution_count": 3,
     "metadata": {},
     "output_type": "execute_result"
    }
   ],
   "source": [
    "input_samples = simulator.sample_inputs(10)\n",
    "input_samples.shape"
   ]
  },
  {
   "cell_type": "code",
   "execution_count": 4,
   "id": "37ef4f8d",
   "metadata": {},
   "outputs": [
    {
     "data": {
      "text/plain": [
       "tensor([[1.3781e+00, 3.7993e-01, 9.5719e+02, 3.7398e-03, 1.3305e+01, 1.4198e+01,\n",
       "         5.3651e+01, 1.4842e-02, 3.7284e-03, 2.9434e-02, 9.1827e+00],\n",
       "        [1.4582e+00, 1.6033e-01, 3.7194e+02, 1.0135e-03, 5.1452e+00, 7.1387e+00,\n",
       "         2.4778e+01, 3.4315e-02, 1.4927e-03, 4.4667e-02, 1.3904e+01],\n",
       "        [1.6167e+00, 4.1322e-01, 6.6905e+02, 6.8606e-03, 6.5592e+00, 1.0466e+01,\n",
       "         2.0907e+01, 7.2993e-02, 2.6707e-03, 3.7285e-02, 7.7396e+00],\n",
       "        [7.2377e-01, 2.7410e-01, 5.6092e+02, 8.4794e-03, 1.0835e+01, 1.5548e+01,\n",
       "         5.8571e+01, 7.8491e-02, 1.8622e-03, 1.2684e-02, 1.2807e+01],\n",
       "        [9.1336e-01, 3.0583e-01, 1.7642e+02, 9.8507e-03, 1.5882e+01, 1.3295e+01,\n",
       "         3.4486e+01, 5.9645e-02, 4.8418e-03, 4.0434e-02, 1.4075e+01],\n",
       "        [5.9208e-01, 4.4897e-01, 3.6939e+02, 5.8084e-03, 1.8631e+01, 1.7417e+01,\n",
       "         4.8142e+01, 3.9636e-02, 1.1513e-03, 1.6886e-02, 1.1305e+01],\n",
       "        [1.8823e+00, 1.8618e-01, 8.7706e+02, 7.7568e-03, 1.7760e+01, 1.1019e+01,\n",
       "         3.9338e+01, 5.1455e-02, 4.5227e-03, 4.7986e-02, 8.6247e+00],\n",
       "        [1.2434e+00, 2.2225e-01, 5.2608e+02, 1.7495e-03, 1.1650e+01, 8.1973e+00,\n",
       "         4.2160e+01, 8.8444e-02, 3.0816e-03, 1.9882e-02, 5.9528e+00],\n",
       "        [1.8016e+00, 4.9712e-01, 2.4737e+02, 2.1818e-03, 8.5667e+00, 6.2625e+00,\n",
       "         2.9376e+01, 9.9397e-02, 2.4102e-03, 3.2440e-02, 1.0567e+01],\n",
       "        [1.0838e+00, 1.3743e-01, 7.4248e+02, 4.4052e-03, 1.5318e+01, 1.9651e+01,\n",
       "         4.4731e+01, 2.0697e-02, 3.8242e-03, 2.4833e-02, 6.5207e+00]])"
      ]
     },
     "execution_count": 4,
     "metadata": {},
     "output_type": "execute_result"
    }
   ],
   "source": [
    "input_samples"
   ]
  },
  {
   "cell_type": "code",
   "execution_count": 5,
   "id": "55dc984a",
   "metadata": {},
   "outputs": [
    {
     "name": "stdout",
     "output_type": "stream",
     "text": [
      "tensor([[ 13.0053,   2.5250,  12.9668,  10.0925,  12.9376,  22.8323,  12.9589,\n",
      "          38.8043,  13.0251,  58.4594,  13.1039,  80.8184,  13.1487, 101.3486,\n",
      "          13.1405, 114.4052,  13.0616, 117.3930,  12.9146, 115.4014,  12.7216,\n",
      "         110.0404,  12.5281, 104.0501,  12.3685, 101.2799,  12.2232,  99.6762]])\n"
     ]
    },
    {
     "data": {
      "text/plain": [
       "torch.Size([1, 28])"
      ]
     },
     "execution_count": 5,
     "metadata": {},
     "output_type": "execute_result"
    }
   ],
   "source": [
    "single_output = simulator.forward(\n",
    "    input_samples[0:1]\n",
    ")\n",
    "\n",
    "print(single_output)\n",
    "single_output.shape"
   ]
  },
  {
   "cell_type": "code",
   "execution_count": 26,
   "id": "b2bed181",
   "metadata": {},
   "outputs": [
    {
     "name": "stdout",
     "output_type": "stream",
     "text": [
      "11\n",
      "['T', 'td', 'amp', 'dt', 'ncycles', 'ncomp', 'C', 'R', 'L', 'R_o', 'p_o']\n",
      "[(0.5, 2.0), (0.1, 0.5), (100.0, 1000.0), (0.0001, 0.01), (5, 20), (5, 20), (20.0, 60.0), (0.01, 0.1), (0.001, 0.005), (0.01, 0.05), (5.0, 15.0)]\n",
      "['pressure']\n"
     ]
    }
   ],
   "source": [
    "print(simulator.in_dim)\n",
    "print(simulator.param_names)\n",
    "print(simulator.param_bounds)\n",
    "print(simulator.output_names)"
   ]
  },
  {
   "cell_type": "code",
   "execution_count": 29,
   "id": "37496926",
   "metadata": {},
   "outputs": [
    {
     "name": "stderr",
     "output_type": "stream",
     "text": [
      "Running simulations: 100%|██████████| 100/100 [00:00<00:00, 1.14ksample/s]\n"
     ]
    }
   ],
   "source": [
    "simulator = ProjectileMultioutput()\n",
    "x = simulator.sample_inputs(100)\n",
    "y = simulator.forward_batch(x)"
   ]
  },
  {
   "cell_type": "code",
   "execution_count": 30,
   "id": "2e660297",
   "metadata": {},
   "outputs": [
    {
     "data": {
      "text/plain": [
       "(torch.Size([100, 2]), torch.Size([100, 2]))"
      ]
     },
     "execution_count": 30,
     "metadata": {},
     "output_type": "execute_result"
    }
   ],
   "source": [
    "x.shape, y.shape"
   ]
  },
  {
   "cell_type": "code",
   "execution_count": 31,
   "id": "dd1d2391",
   "metadata": {},
   "outputs": [
    {
     "name": "stderr",
     "output_type": "stream",
     "text": [
      "Comparing models: 100%|██████████| 1.00/1.00 [00:05<00:00, 5.60s/model]\n"
     ]
    }
   ],
   "source": [
    "ae = AutoEmulate(x, y, models=[RandomForest])"
   ]
  },
  {
   "cell_type": "code",
   "execution_count": 32,
   "id": "df33bb96",
   "metadata": {},
   "outputs": [],
   "source": [
    "best = ae.best_result()\n",
    "model = best.model"
   ]
  },
  {
   "cell_type": "code",
   "execution_count": 33,
   "id": "aec58b48",
   "metadata": {},
   "outputs": [],
   "source": [
    "problem = {\n",
    "    'num_vars': simulator.in_dim,\n",
    "    'names': simulator.param_names,\n",
    "    'bounds': simulator.param_bounds,\n",
    "    'output_names': simulator.output_names,\n",
    "    }\n",
    "sa = SensitivityAnalysis(model, problem=problem)"
   ]
  },
  {
   "cell_type": "code",
   "execution_count": 34,
   "id": "e3febe49",
   "metadata": {},
   "outputs": [],
   "source": [
    "df = sa.run(\"sobol\")"
   ]
  }
 ],
 "metadata": {
  "kernelspec": {
   "display_name": "autoemulate-l4vGdsmY-py3.11",
   "language": "python",
   "name": "python3"
  },
  "language_info": {
   "codemirror_mode": {
    "name": "ipython",
    "version": 3
   },
   "file_extension": ".py",
   "mimetype": "text/x-python",
   "name": "python",
   "nbconvert_exporter": "python",
   "pygments_lexer": "ipython3",
   "version": "3.11.3"
  }
 },
 "nbformat": 4,
 "nbformat_minor": 5
}
