{
 "cells": [
  {
   "cell_type": "markdown",
   "id": "e4b1a7da",
   "metadata": {},
   "source": [
    "# Sensitivity Analysis\n",
    "\n",
    "In this tutorial we demonstrate how to perform sensitivity analysis as part of the `AutoEmulate` workflow. The tutorial covers:\n",
    "\n",
    "1. Setting up an example simulation: here we use our \"FlowProblem\" simulator. The system simulated is from the field of cardiovascular modeling, a tube with an input flow rate at any given time. The tube is divided to 10 compartments which allows for the study of the pressure and flow rate at various points in the tube. See \"The Flow Problem\" below for more details.\n",
    "2. Running the simulation for 100 sets of parameters sampled from the parameter space.\n",
    "3. Using Autoemulate to find the best emulator for this simulation\n",
    "4. Performing sensitivity analysis.\n",
    "\n",
    "<details>\n",
    "<summary>The Flow Problem</summary>\n",
    "\n",
    "In the field of cardiovascular modeling, capturing the dynamics of blood flow and the associated pressures and volumes within the vascular system is crucial for understanding heart function and disease. Physics-based models that accurately represent these dynamics often require significant computational resources, making them challenging to apply in large-scale or real-time scenarios. Emulation techniques provide a way to achieve high-fidelity simulations of the cardiovascular system, allowing for efficient and accurate analysis of key hemodynamic parameters.\n",
    "</details>"
   ]
  },
  {
   "cell_type": "code",
   "execution_count": null,
   "id": "344b54f2",
   "metadata": {},
   "outputs": [],
   "source": [
    "from autoemulate.experimental.compare import AutoEmulate\n",
    "from autoemulate.experimental.sensitivity_analysis import SensitivityAnalysis\n",
    "from autoemulate.experimental.simulations.flow_problem import FlowProblem\n",
    "import warnings\n",
    "warnings.filterwarnings(\"ignore\")\n",
    "figsize = (9, 5)"
   ]
  },
  {
   "cell_type": "markdown",
   "id": "1e748079",
   "metadata": {},
   "source": [
    "Set up the simulation parameters and ranges:"
   ]
  },
  {
   "cell_type": "code",
   "execution_count": null,
   "id": "9cbfa716",
   "metadata": {},
   "outputs": [],
   "source": [
    "parameters_range = {\"T\": (0.5, 2.0), # Cardiac cycle period (s)\n",
    "                \"td\": (0.1, 0.5), # Pulse duration (s)\n",
    "                \"amp\": (100.0, 1000.0), # Amplitude (e.g., pressure or flow rate)\n",
    "                \"dt\": (0.0001, 0.01), # Time step (s)\n",
    "                \"C\": (20.0, 60.0), # Compliance (unit varies based on context)\n",
    "                \"R\": (0.01, 0.1), # Resistance (unit varies based on context)\n",
    "                \"L\": (0.001, 0.005), # Inductance (unit varies based on context)\n",
    "                \"R_o\": (0.01, 0.05), # Outflow resistance (unit varies based on context)\n",
    "                \"p_o\": (5.0, 15.0)} # Initial pressure (unit varies based on context)\n",
    "output_names = [\"pressure\"]\n",
    "\n",
    "simulator = FlowProblem(\n",
    "    parameters_range=parameters_range,\n",
    "    output_names=output_names,\n",
    ")"
   ]
  },
  {
   "cell_type": "markdown",
   "id": "d72ec9ae",
   "metadata": {},
   "source": [
    "Run the simulation for 100 sets of parameters sampled from the parameter space:"
   ]
  },
  {
   "cell_type": "code",
   "execution_count": null,
   "id": "55dc984a",
   "metadata": {},
   "outputs": [],
   "source": [
    "x = simulator.sample_inputs(100)\n",
    "y = simulator.forward_batch(x)"
   ]
  },
  {
   "cell_type": "code",
   "execution_count": null,
   "id": "2e660297",
   "metadata": {},
   "outputs": [],
   "source": [
    "x.shape, y.shape"
   ]
  },
  {
   "cell_type": "markdown",
   "id": "802240c3",
   "metadata": {},
   "source": [
    "Use AutoEmulate to find the best emulator for this simulation:"
   ]
  },
  {
   "cell_type": "code",
   "execution_count": null,
   "id": "dd1d2391",
   "metadata": {},
   "outputs": [],
   "source": [
    "ae = AutoEmulate(x, y, models=[\"MLP\", \"GPE\"])  # remove models argument to use all models\n",
    "best = ae.best_result()\n",
    "best.model_name"
   ]
  },
  {
   "cell_type": "markdown",
   "id": "faf68abe",
   "metadata": {},
   "source": [
    "### Sensitivity Analysis\n",
    "\n",
    "1. Define the problem by creating a dictionary which contains the names and the boundaries of the parameters \n",
    "2. Evaluate the contribution of each parameter via the Sobol and Morris methods."
   ]
  },
  {
   "cell_type": "code",
   "execution_count": null,
   "id": "aec58b48",
   "metadata": {},
   "outputs": [],
   "source": [
    "problem = {\n",
    "    'num_vars': simulator.in_dim,\n",
    "    'names': simulator.param_names,\n",
    "    'bounds': simulator.param_bounds,\n",
    "    'output_names': simulator.output_names,\n",
    "    }\n",
    "sa = SensitivityAnalysis(best.model, problem=problem)"
   ]
  },
  {
   "cell_type": "markdown",
   "id": "5726399d",
   "metadata": {},
   "source": [
    "Sobol metrics:\n",
    "\n",
    "- $S_1$: First-order sensitivity index.\n",
    "- $S_2$: Second-order sensitivity index.\n",
    "- $S_t$: Total sensitivity index.\n",
    "\n",
    "Sobol interpretation:\n",
    "- $S_1$ values sum to ≤ 1.0 (exact fraction of variance explained)\n",
    "- $S_t - S_1$ = interaction effects involving that parameter\n",
    "- Large $S_t - S_1$ gap indicates strong interactions\n"
   ]
  },
  {
   "cell_type": "code",
   "execution_count": null,
   "id": "e3febe49",
   "metadata": {},
   "outputs": [],
   "source": [
    "sobol_df = sa.run(\"sobol\")\n",
    "sobol_df"
   ]
  },
  {
   "cell_type": "code",
   "execution_count": null,
   "id": "0258fb6a",
   "metadata": {},
   "outputs": [],
   "source": [
    "sa.plot_sobol(sobol_df, index=\"ST\", figsize=figsize) "
   ]
  },
  {
   "cell_type": "markdown",
   "id": "3ede2c02",
   "metadata": {},
   "source": [
    "Morris Interpretation:\n",
    "\n",
    "- High $\\mu^*$, Low $\\sigma$: Important parameter with linear/monotonic effects\n",
    "- High $\\mu^*$, High $\\sigma$: Important parameter with non-linear effects or interactions\n",
    "- Low $\\mu^*$, High $\\sigma$: Parameter involved in interactions but not individually important\n",
    "- Low $\\mu^*$, Low $\\sigma$: Unimportant parameter"
   ]
  },
  {
   "cell_type": "code",
   "execution_count": null,
   "id": "73804def",
   "metadata": {},
   "outputs": [],
   "source": [
    "morris_df = sa.run(\"morris\")\n",
    "morris_df"
   ]
  },
  {
   "cell_type": "code",
   "execution_count": null,
   "id": "33f9a2c0",
   "metadata": {},
   "outputs": [],
   "source": [
    "sa.plot_morris(morris_df, figsize=figsize)"
   ]
  }
 ],
 "metadata": {
  "kernelspec": {
   "display_name": "autoemulate-l4vGdsmY-py3.11",
   "language": "python",
   "name": "python3"
  },
  "language_info": {
   "codemirror_mode": {
    "name": "ipython",
    "version": 3
   },
   "file_extension": ".py",
   "mimetype": "text/x-python",
   "name": "python",
   "nbconvert_exporter": "python",
   "pygments_lexer": "ipython3",
   "version": "3.11.3"
  }
 },
 "nbformat": 4,
 "nbformat_minor": 5
}
