{
 "cells": [
  {
   "cell_type": "code",
   "execution_count": 21,
   "id": "344b54f2",
   "metadata": {},
   "outputs": [],
   "source": [
    "from autoemulate.experimental.sensitivity_analysis import SensitivityAnalysis\n",
    "from autoemulate.experimental.compare import AutoEmulate\n",
    "from autoemulate.experimental.emulators import *\n",
    "from autoemulate.experimental.simulations.flow_problem import FlowProblem\n",
    "from autoemulate.experimental.simulations.projectile import Projectile"
   ]
  },
  {
   "cell_type": "code",
   "execution_count": 2,
   "id": "9cbfa716",
   "metadata": {},
   "outputs": [],
   "source": [
    "param_ranges = {\"T\": (0.5, 2.0),\n",
    "                \"td\": (0.1, 0.5),\n",
    "                \"amp\": (100.0, 1000.0),\n",
    "                \"dt\": (0.0001, 0.01),\n",
    "                \"ncycles\": (5, 20),\n",
    "                \"ncomp\": (5, 20),\n",
    "                \"C\": (20.0, 60.0),\n",
    "                \"R\": (0.01, 0.1),\n",
    "                \"L\": (0.001, 0.005),\n",
    "                \"R_o\": (0.01, 0.05),\n",
    "                \"p_o\": (5.0, 15.0)}\n",
    "output_names = [\"pressure\"]\n",
    "\n",
    "simulator = FlowProblem(\n",
    "    param_ranges=param_ranges,\n",
    "    output_names=output_names,\n",
    ")"
   ]
  },
  {
   "cell_type": "code",
   "execution_count": 3,
   "id": "0e97a2ef",
   "metadata": {},
   "outputs": [
    {
     "data": {
      "text/plain": [
       "torch.Size([10, 11])"
      ]
     },
     "execution_count": 3,
     "metadata": {},
     "output_type": "execute_result"
    }
   ],
   "source": [
    "input_samples = simulator.sample_inputs(10)\n",
    "input_samples.shape"
   ]
  },
  {
   "cell_type": "code",
   "execution_count": 16,
   "id": "37ef4f8d",
   "metadata": {},
   "outputs": [
    {
     "data": {
      "text/plain": [
       "tensor([[1.8760e+00, 3.4523e-01, 9.2727e+02, 3.8372e-03, 5.6852e+00, 1.0582e+01,\n",
       "         4.5429e+01, 5.7972e-02, 1.9657e-03, 1.4033e-02, 1.4366e+01],\n",
       "        [8.7721e-01, 3.1255e-01, 3.0077e+02, 5.0834e-03, 1.0669e+01, 8.9293e+00,\n",
       "         2.1851e+01, 4.5945e-02, 3.0285e-03, 2.0908e-02, 1.3901e+01],\n",
       "        [1.4444e+00, 2.5302e-01, 2.1589e+02, 8.5628e-04, 1.7947e+01, 1.3747e+01,\n",
       "         4.2066e+01, 2.5816e-02, 1.2443e-03, 3.5126e-02, 5.9070e+00],\n",
       "        [1.0577e+00, 1.0990e-01, 1.1304e+02, 8.4253e-03, 6.6031e+00, 7.5853e+00,\n",
       "         3.9947e+01, 6.8437e-02, 4.1531e-03, 4.8094e-02, 8.1970e+00],\n",
       "        [7.2231e-01, 1.7345e-01, 6.4265e+02, 7.6380e-03, 8.9660e+00, 1.5042e+01,\n",
       "         3.0596e+01, 9.6958e-02, 1.7046e-03, 4.4914e-02, 9.7769e+00],\n",
       "        [1.5631e+00, 3.9125e-01, 7.5877e+02, 6.4274e-03, 1.9976e+01, 5.4351e+00,\n",
       "         5.8771e+01, 4.9377e-02, 2.8647e-03, 3.8124e-02, 1.1483e+01],\n",
       "        [1.8095e+00, 2.6165e-01, 6.3873e+02, 1.9172e-03, 1.3043e+01, 1.6039e+01,\n",
       "         4.8715e+01, 7.3247e-02, 3.5297e-03, 2.3092e-02, 7.5803e+00],\n",
       "        [5.3431e-01, 1.8560e-01, 3.9486e+02, 4.0625e-03, 1.5889e+01, 1.8498e+01,\n",
       "         2.6378e+01, 8.8888e-02, 4.7179e-03, 1.3621e-02, 1.2441e+01],\n",
       "        [1.1193e+00, 4.9654e-01, 5.1635e+02, 2.6445e-03, 1.1273e+01, 1.2495e+01,\n",
       "         3.5655e+01, 1.4809e-02, 2.3856e-03, 2.9369e-02, 6.2746e+00],\n",
       "        [1.3959e+00, 4.2865e-01, 8.2773e+02, 9.0550e-03, 1.5459e+01, 1.9296e+01,\n",
       "         5.4424e+01, 3.5104e-02, 4.5967e-03, 3.2928e-02, 1.0379e+01]])"
      ]
     },
     "execution_count": 16,
     "metadata": {},
     "output_type": "execute_result"
    }
   ],
   "source": [
    "input_samples"
   ]
  },
  {
   "cell_type": "code",
   "execution_count": 13,
   "id": "55dc984a",
   "metadata": {},
   "outputs": [
    {
     "name": "stdout",
     "output_type": "stream",
     "text": [
      "tensor([[17.4555,  8.1120, 17.4094, 16.1027, 17.3178, 23.8527, 17.1823, 31.2461,\n",
      "         17.0047, 38.1727, 16.7877, 44.5290, 16.5347, 50.2204, 16.2492, 55.1621,\n",
      "         15.9357, 59.2807, 15.5988, 62.5149]])\n"
     ]
    },
    {
     "data": {
      "text/plain": [
       "torch.Size([1, 20])"
      ]
     },
     "execution_count": 13,
     "metadata": {},
     "output_type": "execute_result"
    }
   ],
   "source": [
    "single_output = simulator.forward(\n",
    "    input_samples[0:1]\n",
    ")\n",
    "\n",
    "print(single_output)\n",
    "single_output.shape"
   ]
  },
  {
   "cell_type": "code",
   "execution_count": 20,
   "id": "13b9ef05",
   "metadata": {},
   "outputs": [
    {
     "name": "stderr",
     "output_type": "stream",
     "text": [
      "Running simulations: 100%|██████████| 500/500 [03:57<00:00, 2.11sample/s] \n"
     ]
    },
    {
     "ename": "RuntimeError",
     "evalue": "Sizes of tensors must match except in dimension 0. Expected size 28 but got size 36 for tensor number 1 in the list.",
     "output_type": "error",
     "traceback": [
      "\u001b[31m---------------------------------------------------------------------------\u001b[39m",
      "\u001b[31mRuntimeError\u001b[39m                              Traceback (most recent call last)",
      "\u001b[36mCell\u001b[39m\u001b[36m \u001b[39m\u001b[32mIn[20]\u001b[39m\u001b[32m, line 3\u001b[39m\n\u001b[32m      1\u001b[39m n_samples = \u001b[32m500\u001b[39m\n\u001b[32m      2\u001b[39m x = simulator.sample_inputs(n_samples).float()\n\u001b[32m----> \u001b[39m\u001b[32m3\u001b[39m y = \u001b[43msimulator\u001b[49m\u001b[43m.\u001b[49m\u001b[43mforward_batch\u001b[49m\u001b[43m(\u001b[49m\u001b[43mx\u001b[49m\u001b[43m)\u001b[49m.float()\n",
      "\u001b[36mFile \u001b[39m\u001b[32m~/projects/autoemulate/autoemulate/experimental/simulations/base.py:192\u001b[39m, in \u001b[36mSimulator.forward_batch\u001b[39m\u001b[34m(self, samples)\u001b[39m\n\u001b[32m    184\u001b[39m \u001b[38;5;28mself\u001b[39m.logger.info(\n\u001b[32m    185\u001b[39m     \u001b[33m\"\u001b[39m\u001b[33mSuccessfully completed \u001b[39m\u001b[38;5;132;01m%d\u001b[39;00m\u001b[33m/\u001b[39m\u001b[38;5;132;01m%d\u001b[39;00m\u001b[33m simulations (\u001b[39m\u001b[38;5;132;01m%.1f\u001b[39;00m\u001b[38;5;132;01m%%\u001b[39;00m\u001b[33m)\u001b[39m\u001b[33m\"\u001b[39m,\n\u001b[32m    186\u001b[39m     successful,\n\u001b[32m    187\u001b[39m     \u001b[38;5;28mlen\u001b[39m(samples),\n\u001b[32m    188\u001b[39m     (successful / \u001b[38;5;28mlen\u001b[39m(samples) * \u001b[32m100\u001b[39m \u001b[38;5;28;01mif\u001b[39;00m \u001b[38;5;28mlen\u001b[39m(samples) > \u001b[32m0\u001b[39m \u001b[38;5;28;01melse\u001b[39;00m \u001b[32m0.0\u001b[39m),\n\u001b[32m    189\u001b[39m )\n\u001b[32m    191\u001b[39m \u001b[38;5;66;03m# stack results into a 2D array on first dim using torch\u001b[39;00m\n\u001b[32m--> \u001b[39m\u001b[32m192\u001b[39m \u001b[38;5;28;01mreturn\u001b[39;00m \u001b[43mtorch\u001b[49m\u001b[43m.\u001b[49m\u001b[43mcat\u001b[49m\u001b[43m(\u001b[49m\u001b[43mresults\u001b[49m\u001b[43m,\u001b[49m\u001b[43m \u001b[49m\u001b[43mdim\u001b[49m\u001b[43m=\u001b[49m\u001b[32;43m0\u001b[39;49m\u001b[43m)\u001b[49m\n",
      "\u001b[31mRuntimeError\u001b[39m: Sizes of tensors must match except in dimension 0. Expected size 28 but got size 36 for tensor number 1 in the list."
     ]
    }
   ],
   "source": [
    "n_samples = 500\n",
    "x = simulator.sample_inputs(n_samples).float()\n",
    "y = simulator.forward_batch(x).float()"
   ]
  },
  {
   "cell_type": "code",
   "execution_count": 22,
   "id": "37496926",
   "metadata": {},
   "outputs": [
    {
     "name": "stderr",
     "output_type": "stream",
     "text": [
      "Running simulations: 100%|██████████| 500/500 [00:00<00:00, 1.17ksample/s]\n",
      "Running simulations: 100%|██████████| 500/500 [00:00<00:00, 1.17ksample/s]\n"
     ]
    },
    {
     "data": {
      "text/plain": [
       "(torch.Size([500, 2]), torch.Size([500, 1]))"
      ]
     },
     "execution_count": 22,
     "metadata": {},
     "output_type": "execute_result"
    }
   ],
   "source": [
    "projectile = Projectile()\n",
    "\n",
    "# sample from a simulation\n",
    "n_samples = 500\n",
    "x = projectile.sample_inputs(n_samples).float()\n",
    "y = projectile.forward_batch(x).float()\n",
    "\n",
    "x.shape, y.shape"
   ]
  },
  {
   "cell_type": "code",
   "execution_count": 23,
   "id": "2e660297",
   "metadata": {},
   "outputs": [
    {
     "data": {
      "text/plain": [
       "(torch.Size([500, 2]), torch.Size([500, 1]))"
      ]
     },
     "execution_count": 23,
     "metadata": {},
     "output_type": "execute_result"
    }
   ],
   "source": [
    "x.shape, y.shape"
   ]
  },
  {
   "cell_type": "code",
   "execution_count": 24,
   "id": "dd1d2391",
   "metadata": {},
   "outputs": [
    {
     "name": "stderr",
     "output_type": "stream",
     "text": [
      "Comparing models: 100%|██████████| 1.00/1.00 [01:03<00:00, 63.2s/model]\n"
     ]
    }
   ],
   "source": [
    "ae = AutoEmulate(x, y, models=[MLP])"
   ]
  },
  {
   "cell_type": "code",
   "execution_count": 25,
   "id": "df33bb96",
   "metadata": {},
   "outputs": [],
   "source": [
    "best = ae.best_result()\n",
    "model = best.model"
   ]
  },
  {
   "cell_type": "code",
   "execution_count": 27,
   "id": "aec58b48",
   "metadata": {},
   "outputs": [],
   "source": [
    "problem = {\n",
    "    'num_vars': simulator.in_dim,\n",
    "    'names': simulator.param_names,\n",
    "    'bounds': simulator.param_bounds\n",
    "    }\n",
    "sa = SensitivityAnalysis(model, problem=problem)"
   ]
  },
  {
   "cell_type": "code",
   "execution_count": 28,
   "id": "e3febe49",
   "metadata": {},
   "outputs": [
    {
     "ename": "RuntimeError",
     "evalue": "The size of tensor a (11) must match the size of tensor b (2) at non-singleton dimension 1",
     "output_type": "error",
     "traceback": [
      "\u001b[31m---------------------------------------------------------------------------\u001b[39m",
      "\u001b[31mRuntimeError\u001b[39m                              Traceback (most recent call last)",
      "\u001b[36mCell\u001b[39m\u001b[36m \u001b[39m\u001b[32mIn[28]\u001b[39m\u001b[32m, line 1\u001b[39m\n\u001b[32m----> \u001b[39m\u001b[32m1\u001b[39m df = \u001b[43msa\u001b[49m\u001b[43m.\u001b[49m\u001b[43mrun\u001b[49m\u001b[43m(\u001b[49m\u001b[33;43m\"\u001b[39;49m\u001b[33;43msobol\u001b[39;49m\u001b[33;43m\"\u001b[39;49m\u001b[43m)\u001b[49m\n",
      "\u001b[36mFile \u001b[39m\u001b[32m~/projects/autoemulate/autoemulate/experimental/sensitivity_analysis.py:232\u001b[39m, in \u001b[36mSensitivityAnalysis.run\u001b[39m\u001b[34m(self, method, n_samples, conf_level)\u001b[39m\n\u001b[32m    229\u001b[39m     \u001b[38;5;28;01mraise\u001b[39;00m \u001b[38;5;167;01mValueError\u001b[39;00m(msg)\n\u001b[32m    231\u001b[39m param_samples = \u001b[38;5;28mself\u001b[39m._sample(method, n_samples)\n\u001b[32m--> \u001b[39m\u001b[32m232\u001b[39m y = \u001b[38;5;28;43mself\u001b[39;49m\u001b[43m.\u001b[49m\u001b[43m_predict\u001b[49m\u001b[43m(\u001b[49m\u001b[43mparam_samples\u001b[49m\u001b[43m)\u001b[49m\n\u001b[32m    233\u001b[39m output_names = \u001b[38;5;28mself\u001b[39m._get_output_names(y.shape[\u001b[32m1\u001b[39m])\n\u001b[32m    235\u001b[39m results = {}\n",
      "\u001b[36mFile \u001b[39m\u001b[32m~/projects/autoemulate/autoemulate/experimental/sensitivity_analysis.py:150\u001b[39m, in \u001b[36mSensitivityAnalysis._predict\u001b[39m\u001b[34m(self, param_samples)\u001b[39m\n\u001b[32m    148\u001b[39m param_tensor = \u001b[38;5;28mself\u001b[39m._convert_to_tensors(param_samples)\n\u001b[32m    149\u001b[39m \u001b[38;5;28;01massert\u001b[39;00m \u001b[38;5;28misinstance\u001b[39m(param_tensor, TensorLike)\n\u001b[32m--> \u001b[39m\u001b[32m150\u001b[39m y_pred = \u001b[38;5;28;43mself\u001b[39;49m\u001b[43m.\u001b[49m\u001b[43memulator\u001b[49m\u001b[43m.\u001b[49m\u001b[43mpredict\u001b[49m\u001b[43m(\u001b[49m\u001b[43mparam_tensor\u001b[49m\u001b[43m)\u001b[49m\n\u001b[32m    152\u001b[39m \u001b[38;5;66;03m# handle types, convert to numpy\u001b[39;00m\n\u001b[32m    153\u001b[39m \u001b[38;5;28;01mif\u001b[39;00m \u001b[38;5;28misinstance\u001b[39m(y_pred, TensorLike):\n",
      "\u001b[36mFile \u001b[39m\u001b[32m~/projects/autoemulate/autoemulate/experimental/emulators/base.py:73\u001b[39m, in \u001b[36mEmulator.predict\u001b[39m\u001b[34m(self, x, with_grad)\u001b[39m\n\u001b[32m     71\u001b[39m \u001b[38;5;28mself\u001b[39m._check(x, \u001b[38;5;28;01mNone\u001b[39;00m)\n\u001b[32m     72\u001b[39m (x,) = \u001b[38;5;28mself\u001b[39m._move_tensors_to_device(x)\n\u001b[32m---> \u001b[39m\u001b[32m73\u001b[39m output = \u001b[38;5;28;43mself\u001b[39;49m\u001b[43m.\u001b[49m\u001b[43m_predict\u001b[49m\u001b[43m(\u001b[49m\u001b[43mx\u001b[49m\u001b[43m,\u001b[49m\u001b[43m \u001b[49m\u001b[43mwith_grad\u001b[49m\u001b[43m)\u001b[49m\n\u001b[32m     74\u001b[39m \u001b[38;5;28mself\u001b[39m._check_output(output)\n\u001b[32m     75\u001b[39m \u001b[38;5;28;01mreturn\u001b[39;00m output\n",
      "\u001b[36mFile \u001b[39m\u001b[32m~/projects/autoemulate/autoemulate/experimental/emulators/transformed/base.py:383\u001b[39m, in \u001b[36mTransformedEmulator._predict\u001b[39m\u001b[34m(self, x, with_grad)\u001b[39m\n\u001b[32m    380\u001b[39m     \u001b[38;5;28;01mraise\u001b[39;00m \u001b[38;5;167;01mValueError\u001b[39;00m(msg)\n\u001b[32m    382\u001b[39m \u001b[38;5;66;03m# Transform and invert transform for prediction in original data space\u001b[39;00m\n\u001b[32m--> \u001b[39m\u001b[32m383\u001b[39m x_t = \u001b[38;5;28;43mself\u001b[39;49m\u001b[43m.\u001b[49m\u001b[43m_transform_x\u001b[49m\u001b[43m(\u001b[49m\u001b[43mx\u001b[49m\u001b[43m)\u001b[49m\n\u001b[32m    384\u001b[39m y_t_pred = \u001b[38;5;28mself\u001b[39m.model.predict(x_t, with_grad)\n\u001b[32m    386\u001b[39m \u001b[38;5;66;03m# If TensorLike, transform tensor back to original space\u001b[39;00m\n",
      "\u001b[36mFile \u001b[39m\u001b[32m~/projects/autoemulate/autoemulate/experimental/emulators/transformed/base.py:206\u001b[39m, in \u001b[36mTransformedEmulator._transform_x\u001b[39m\u001b[34m(self, x)\u001b[39m\n\u001b[32m    191\u001b[39m \u001b[38;5;28;01mdef\u001b[39;00m\u001b[38;5;250m \u001b[39m\u001b[34m_transform_x\u001b[39m(\u001b[38;5;28mself\u001b[39m, x: TensorLike) -> TensorLike:\n\u001b[32m    192\u001b[39m \u001b[38;5;250m    \u001b[39m\u001b[33;03m\"\"\"\u001b[39;00m\n\u001b[32m    193\u001b[39m \u001b[33;03m    Transform the input tensor `x` using `x_transforms` returning a `TensorLike`.\u001b[39;00m\n\u001b[32m    194\u001b[39m \n\u001b[32m   (...)\u001b[39m\u001b[32m    204\u001b[39m \n\u001b[32m    205\u001b[39m \u001b[33;03m    \"\"\"\u001b[39;00m\n\u001b[32m--> \u001b[39m\u001b[32m206\u001b[39m     x_t = \u001b[43mComposeTransform\u001b[49m\u001b[43m(\u001b[49m\u001b[38;5;28;43mself\u001b[39;49m\u001b[43m.\u001b[49m\u001b[43m_cast\u001b[49m\u001b[43m(\u001b[49m\u001b[38;5;28;43mself\u001b[39;49m\u001b[43m.\u001b[49m\u001b[43mx_transforms\u001b[49m\u001b[43m)\u001b[49m\u001b[43m)\u001b[49m\u001b[43m(\u001b[49m\u001b[43mx\u001b[49m\u001b[43m)\u001b[49m\n\u001b[32m    207\u001b[39m     \u001b[38;5;28;01massert\u001b[39;00m \u001b[38;5;28misinstance\u001b[39m(x_t, TensorLike)\n\u001b[32m    208\u001b[39m     \u001b[38;5;28;01mreturn\u001b[39;00m x_t\n",
      "\u001b[36mFile \u001b[39m\u001b[32m~/Library/Caches/pypoetry/virtualenvs/autoemulate-l4vGdsmY-py3.11/lib/python3.11/site-packages/torch/distributions/transforms.py:358\u001b[39m, in \u001b[36mComposeTransform.__call__\u001b[39m\u001b[34m(self, x)\u001b[39m\n\u001b[32m    356\u001b[39m \u001b[38;5;28;01mdef\u001b[39;00m\u001b[38;5;250m \u001b[39m\u001b[34m__call__\u001b[39m(\u001b[38;5;28mself\u001b[39m, x):\n\u001b[32m    357\u001b[39m     \u001b[38;5;28;01mfor\u001b[39;00m part \u001b[38;5;129;01min\u001b[39;00m \u001b[38;5;28mself\u001b[39m.parts:\n\u001b[32m--> \u001b[39m\u001b[32m358\u001b[39m         x = \u001b[43mpart\u001b[49m\u001b[43m(\u001b[49m\u001b[43mx\u001b[49m\u001b[43m)\u001b[49m\n\u001b[32m    359\u001b[39m     \u001b[38;5;28;01mreturn\u001b[39;00m x\n",
      "\u001b[36mFile \u001b[39m\u001b[32m~/projects/autoemulate/autoemulate/experimental/transforms/base.py:35\u001b[39m, in \u001b[36mAutoEmulateTransform.__call__\u001b[39m\u001b[34m(self, x)\u001b[39m\n\u001b[32m     34\u001b[39m \u001b[38;5;28;01mdef\u001b[39;00m\u001b[38;5;250m \u001b[39m\u001b[34m__call__\u001b[39m(\u001b[38;5;28mself\u001b[39m, x: TensorLike) -> TensorLike:\n\u001b[32m---> \u001b[39m\u001b[32m35\u001b[39m     output = \u001b[38;5;28;43msuper\u001b[39;49m\u001b[43m(\u001b[49m\u001b[43m)\u001b[49m\u001b[43m.\u001b[49m\u001b[34;43m__call__\u001b[39;49m\u001b[43m(\u001b[49m\u001b[43mx\u001b[49m\u001b[43m)\u001b[49m\n\u001b[32m     36\u001b[39m     \u001b[38;5;28;01massert\u001b[39;00m \u001b[38;5;28misinstance\u001b[39m(output, TensorLike)\n\u001b[32m     37\u001b[39m     \u001b[38;5;28;01mreturn\u001b[39;00m output\n",
      "\u001b[36mFile \u001b[39m\u001b[32m~/Library/Caches/pypoetry/virtualenvs/autoemulate-l4vGdsmY-py3.11/lib/python3.11/site-packages/torch/distributions/transforms.py:158\u001b[39m, in \u001b[36mTransform.__call__\u001b[39m\u001b[34m(self, x)\u001b[39m\n\u001b[32m    154\u001b[39m \u001b[38;5;250m\u001b[39m\u001b[33;03m\"\"\"\u001b[39;00m\n\u001b[32m    155\u001b[39m \u001b[33;03mComputes the transform `x => y`.\u001b[39;00m\n\u001b[32m    156\u001b[39m \u001b[33;03m\"\"\"\u001b[39;00m\n\u001b[32m    157\u001b[39m \u001b[38;5;28;01mif\u001b[39;00m \u001b[38;5;28mself\u001b[39m._cache_size == \u001b[32m0\u001b[39m:\n\u001b[32m--> \u001b[39m\u001b[32m158\u001b[39m     \u001b[38;5;28;01mreturn\u001b[39;00m \u001b[38;5;28;43mself\u001b[39;49m\u001b[43m.\u001b[49m\u001b[43m_call\u001b[49m\u001b[43m(\u001b[49m\u001b[43mx\u001b[49m\u001b[43m)\u001b[49m\n\u001b[32m    159\u001b[39m x_old, y_old = \u001b[38;5;28mself\u001b[39m._cached_x_y\n\u001b[32m    160\u001b[39m \u001b[38;5;28;01mif\u001b[39;00m x \u001b[38;5;129;01mis\u001b[39;00m x_old:\n",
      "\u001b[36mFile \u001b[39m\u001b[32m~/projects/autoemulate/autoemulate/experimental/transforms/standardize.py:41\u001b[39m, in \u001b[36mStandardizeTransform._call\u001b[39m\u001b[34m(self, x)\u001b[39m\n\u001b[32m     39\u001b[39m \u001b[38;5;28;01mdef\u001b[39;00m\u001b[38;5;250m \u001b[39m\u001b[34m_call\u001b[39m(\u001b[38;5;28mself\u001b[39m, x):\n\u001b[32m     40\u001b[39m     \u001b[38;5;28mself\u001b[39m._check_is_fitted()\n\u001b[32m---> \u001b[39m\u001b[32m41\u001b[39m     \u001b[38;5;28;01mreturn\u001b[39;00m (\u001b[43mx\u001b[49m\u001b[43m \u001b[49m\u001b[43m-\u001b[49m\u001b[43m \u001b[49m\u001b[38;5;28;43mself\u001b[39;49m\u001b[43m.\u001b[49m\u001b[43mmean\u001b[49m) / \u001b[38;5;28mself\u001b[39m.std\n",
      "\u001b[31mRuntimeError\u001b[39m: The size of tensor a (11) must match the size of tensor b (2) at non-singleton dimension 1"
     ]
    }
   ],
   "source": [
    "df = sa.run(\"sobol\")"
   ]
  },
  {
   "cell_type": "code",
   "execution_count": null,
   "id": "c1c458ff",
   "metadata": {},
   "outputs": [],
   "source": [
    "sa.plot(df)"
   ]
  }
 ],
 "metadata": {
  "kernelspec": {
   "display_name": "autoemulate-l4vGdsmY-py3.11",
   "language": "python",
   "name": "python3"
  },
  "language_info": {
   "codemirror_mode": {
    "name": "ipython",
    "version": 3
   },
   "file_extension": ".py",
   "mimetype": "text/x-python",
   "name": "python",
   "nbconvert_exporter": "python",
   "pygments_lexer": "ipython3",
   "version": "3.11.3"
  }
 },
 "nbformat": 4,
 "nbformat_minor": 5
}
