{
 "cells": [
  {
   "cell_type": "code",
   "execution_count": 1,
   "id": "344b54f2",
   "metadata": {},
   "outputs": [],
   "source": [
    "from autoemulate.experimental.sensitivity_analysis import SensitivityAnalysis\n",
    "from autoemulate.experimental.compare import AutoEmulate\n",
    "from autoemulate.experimental.emulators import *\n",
    "from autoemulate.experimental.simulations.flow_problem import FlowProblem\n",
    "from autoemulate.experimental.simulations.projectile import ProjectileMultioutput"
   ]
  },
  {
   "cell_type": "code",
   "execution_count": 2,
   "id": "9cbfa716",
   "metadata": {},
   "outputs": [],
   "source": [
    "param_ranges = {\"T\": (0.5, 2.0),\n",
    "                \"td\": (0.1, 0.5),\n",
    "                \"amp\": (100.0, 1000.0),\n",
    "                \"dt\": (0.0001, 0.01),\n",
    "                \"C\": (20.0, 60.0),\n",
    "                \"R\": (0.01, 0.1),\n",
    "                \"L\": (0.001, 0.005),\n",
    "                \"R_o\": (0.01, 0.05),\n",
    "                \"p_o\": (5.0, 15.0)}\n",
    "output_names = [\"pressure\"]\n",
    "\n",
    "simulator = FlowProblem(\n",
    "    param_ranges=param_ranges,\n",
    "    output_names=output_names,\n",
    ")"
   ]
  },
  {
   "cell_type": "code",
   "execution_count": 3,
   "id": "55dc984a",
   "metadata": {},
   "outputs": [
    {
     "name": "stderr",
     "output_type": "stream",
     "text": [
      "Running simulations: 100%|██████████| 100/100 [00:41<00:00, 2.42sample/s] \n"
     ]
    }
   ],
   "source": [
    "x = simulator.sample_inputs(100)\n",
    "y = simulator.forward_batch(x)"
   ]
  },
  {
   "cell_type": "code",
   "execution_count": 5,
   "id": "2e660297",
   "metadata": {},
   "outputs": [
    {
     "data": {
      "text/plain": [
       "(torch.Size([100, 9]), torch.Size([100, 20]))"
      ]
     },
     "execution_count": 5,
     "metadata": {},
     "output_type": "execute_result"
    }
   ],
   "source": [
    "x.shape, y.shape"
   ]
  },
  {
   "cell_type": "code",
   "execution_count": 4,
   "id": "b2bed181",
   "metadata": {},
   "outputs": [
    {
     "name": "stdout",
     "output_type": "stream",
     "text": [
      "9\n",
      "['T', 'td', 'amp', 'dt', 'C', 'R', 'L', 'R_o', 'p_o']\n",
      "[(0.5, 2.0), (0.1, 0.5), (100.0, 1000.0), (0.0001, 0.01), (20.0, 60.0), (0.01, 0.1), (0.001, 0.005), (0.01, 0.05), (5.0, 15.0)]\n",
      "['pressure']\n"
     ]
    }
   ],
   "source": [
    "print(simulator.in_dim)\n",
    "print(simulator.param_names)\n",
    "print(simulator.param_bounds)\n",
    "print(simulator.output_names)"
   ]
  },
  {
   "cell_type": "code",
   "execution_count": 6,
   "id": "dd1d2391",
   "metadata": {},
   "outputs": [
    {
     "name": "stderr",
     "output_type": "stream",
     "text": [
      "Comparing models: 100%|██████████| 1.00/1.00 [00:06<00:00, 6.00s/model]\n"
     ]
    }
   ],
   "source": [
    "ae = AutoEmulate(x, y, models=[RandomForest])"
   ]
  },
  {
   "cell_type": "code",
   "execution_count": 7,
   "id": "df33bb96",
   "metadata": {},
   "outputs": [],
   "source": [
    "best = ae.best_result()\n",
    "model = best.model"
   ]
  },
  {
   "cell_type": "code",
   "execution_count": 8,
   "id": "aec58b48",
   "metadata": {},
   "outputs": [],
   "source": [
    "problem = {\n",
    "    'num_vars': simulator.in_dim,\n",
    "    'names': simulator.param_names,\n",
    "    'bounds': simulator.param_bounds,\n",
    "    'output_names': simulator.output_names,\n",
    "    }\n",
    "sa = SensitivityAnalysis(model, problem=problem)"
   ]
  },
  {
   "cell_type": "code",
   "execution_count": 9,
   "id": "e3febe49",
   "metadata": {},
   "outputs": [],
   "source": [
    "df = sa.run(\"sobol\")"
   ]
  }
 ],
 "metadata": {
  "kernelspec": {
   "display_name": "autoemulate-l4vGdsmY-py3.11",
   "language": "python",
   "name": "python3"
  },
  "language_info": {
   "codemirror_mode": {
    "name": "ipython",
    "version": 3
   },
   "file_extension": ".py",
   "mimetype": "text/x-python",
   "name": "python",
   "nbconvert_exporter": "python",
   "pygments_lexer": "ipython3",
   "version": "3.11.3"
  }
 },
 "nbformat": 4,
 "nbformat_minor": 5
}
