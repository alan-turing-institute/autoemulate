{
 "cells": [
  {
   "cell_type": "code",
   "execution_count": null,
   "metadata": {},
   "outputs": [],
   "source": [
    "import torch\n",
    "\n",
    "import arviz as az\n",
    "\n",
    "from autoemulate.experimental.simulations.projectile import Projectile\n",
    "from autoemulate.experimental.compare import AutoEmulate\n",
    "from autoemulate.experimental.calibration.bayes import BayesianCalibration\n",
    "from autoemulate.experimental.emulators.gaussian_process.exact import (\n",
    "    GaussianProcessExact,\n",
    ")"
   ]
  },
  {
   "cell_type": "markdown",
   "metadata": {},
   "source": [
    "# Bayesian calibration\n",
    "\n",
    "Bayesian calibration estimates the probability distribution over input parameters\n",
    "given observed data, providing uncertainty estimates.\n",
    "\n",
    "Performing Bayesian calibration requires:\n",
    "- a fit emulator that predicts uncertainty (e.g., Gaussian Process) and\n",
    "- observations associated with the simulator output.\n",
    "\n"
   ]
  },
  {
   "cell_type": "markdown",
   "metadata": {},
   "source": [
    "## 1. Simulate data and train an emulator"
   ]
  },
  {
   "cell_type": "code",
   "execution_count": null,
   "metadata": {},
   "outputs": [],
   "source": [
    "simulator = Projectile()\n",
    "x = simulator.sample_inputs(100)\n",
    "y = simulator.forward_batch(x)"
   ]
  },
  {
   "cell_type": "code",
   "execution_count": null,
   "metadata": {},
   "outputs": [],
   "source": [
    "ae = AutoEmulate(x, y, models=[GaussianProcessExact])"
   ]
  },
  {
   "cell_type": "code",
   "execution_count": null,
   "metadata": {},
   "outputs": [],
   "source": [
    "ae.summarise()"
   ]
  },
  {
   "cell_type": "code",
   "execution_count": null,
   "metadata": {},
   "outputs": [],
   "source": [
    "model = ae.best_result().model"
   ]
  },
  {
   "cell_type": "markdown",
   "metadata": {},
   "source": [
    "## 2. Calibrate"
   ]
  },
  {
   "cell_type": "markdown",
   "metadata": {},
   "source": [
    "We start with a set of noisy, experimental observations. \n",
    "\n",
    "Below we pick some initial parameter values and simulate the output. We then add noise to generate 10 pseudo observations."
   ]
  },
  {
   "cell_type": "code",
   "execution_count": null,
   "metadata": {},
   "outputs": [],
   "source": [
    "true_velocity = 50  # m/s\n",
    "true_drag_coefficient = 0.1\n",
    "\n",
    "# simulator expects inputs of shape [1, number of inputs]\n",
    "params = torch.tensor([true_drag_coefficient, true_velocity]).view(1, -1)\n",
    "true_distance = simulator.forward(params)\n",
    "\n",
    "n_obs = 10\n",
    "noise = torch.normal(mean=0, std=1, size=(n_obs,))\n",
    "observed_distances = true_distance[0] + noise\n",
    "\n",
    "observed_distances.shape"
   ]
  },
  {
   "cell_type": "markdown",
   "metadata": {},
   "source": [
    "We set up the `BayesianCalibration` object with out trained emulator, the simulator parameter ranges and the \"observed data\". "
   ]
  },
  {
   "cell_type": "code",
   "execution_count": null,
   "metadata": {},
   "outputs": [],
   "source": [
    "observations = {\"distance\": observed_distances}\n",
    "observation_noise = 1.0\n",
    "\n",
    "bc = BayesianCalibration(\n",
    "    model, \n",
    "    simulator.parameters_range, \n",
    "    observations, \n",
    "    observation_noise\n",
    ")"
   ]
  },
  {
   "cell_type": "markdown",
   "metadata": {},
   "source": [
    "Run MCMC using the NUTS sampler."
   ]
  },
  {
   "cell_type": "code",
   "execution_count": null,
   "metadata": {},
   "outputs": [],
   "source": [
    "mcmc = bc.run_mcmc(\n",
    "    warmup_steps=250, \n",
    "    num_samples=1000,\n",
    "    sampler='nuts',\n",
    "    )"
   ]
  },
  {
   "cell_type": "markdown",
   "metadata": {},
   "source": [
    "The `run_mcmc` method returns the Pyro MCMC object which has a number of useful methods associated with it. One can access all the posterior samples using `mcmc.get_samples()` or access just the summary statistics using `mcmc.summary()`."
   ]
  },
  {
   "cell_type": "code",
   "execution_count": null,
   "metadata": {},
   "outputs": [],
   "source": [
    "mcmc.summary()"
   ]
  },
  {
   "cell_type": "markdown",
   "metadata": {},
   "source": [
    "## 3. Plotting with Arviz\n",
    "\n",
    "The `BayesianCalibrator` object can be used to make the `mcmc` object compatible witg the Arviz plotting library. It is then very easy to produce all the typical plots of the results as well as MCMC diagnostics."
   ]
  },
  {
   "cell_type": "code",
   "execution_count": null,
   "metadata": {},
   "outputs": [],
   "source": [
    "az_data = bc.to_arviz(mcmc, posterior_predictive=True)"
   ]
  },
  {
   "cell_type": "code",
   "execution_count": null,
   "metadata": {},
   "outputs": [],
   "source": [
    "az.plot_pair(az_data, kind='kde')"
   ]
  },
  {
   "cell_type": "code",
   "execution_count": null,
   "metadata": {},
   "outputs": [],
   "source": [
    "az.plot_ppc(az_data, kind='scatter')"
   ]
  },
  {
   "cell_type": "code",
   "execution_count": null,
   "metadata": {},
   "outputs": [],
   "source": [
    "az.plot_trace(az_data)"
   ]
  },
  {
   "cell_type": "code",
   "execution_count": null,
   "metadata": {},
   "outputs": [],
   "source": [
    "az.plot_autocorr(az_data)"
   ]
  }
 ],
 "metadata": {
  "kernelspec": {
   "display_name": ".venv",
   "language": "python",
   "name": "python3"
  },
  "language_info": {
   "codemirror_mode": {
    "name": "ipython",
    "version": 3
   },
   "file_extension": ".py",
   "mimetype": "text/x-python",
   "name": "python",
   "nbconvert_exporter": "python",
   "pygments_lexer": "ipython3",
   "version": "3.12.7"
  }
 },
 "nbformat": 4,
 "nbformat_minor": 2
}
