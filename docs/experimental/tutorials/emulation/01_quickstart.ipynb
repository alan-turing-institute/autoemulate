{
 "cells": [
  {
   "cell_type": "markdown",
   "metadata": {},
   "source": [
    "# Quickstart\n"
   ]
  },
  {
   "cell_type": "markdown",
   "metadata": {},
   "source": [
    "`AutoEmulate`'s goal is to make it easy to create an emulator for your simulation. Here's the basic workflow:\n"
   ]
  },
  {
   "cell_type": "code",
   "execution_count": 1,
   "metadata": {},
   "outputs": [],
   "source": [
    "import pandas as pd\n",
    "from autoemulate.experimental.compare import AutoEmulate\n",
    "from autoemulate.experimental.emulators import *\n",
    "\n",
    "from autoemulate.experimental.simulations.projectile import Projectile\n",
    "\n",
    "import warnings\n",
    "warnings.filterwarnings(\"ignore\")"
   ]
  },
  {
   "cell_type": "markdown",
   "metadata": {},
   "source": [
    "## Toy simulation\n",
    "\n",
    "Before we build an emulator with AutoEmulate, we need to get a set of input/output pairs from our simulation to use as training data.\n",
    "\n",
    "Below is a toy simulation for a projectile's motion with drag (see [here](https://mogp-emulator.readthedocs.io/en/latest/intro/tutorial.html) for details). The simulation includes:\n",
    "- Inputs: drag coefficient (log scale), velocity\n",
    "- Outputs: distance the projectile travelled\n"
   ]
  },
  {
   "cell_type": "code",
   "execution_count": 2,
   "metadata": {},
   "outputs": [
    {
     "name": "stderr",
     "output_type": "stream",
     "text": [
      "Running simulations: 100%|██████████| 500/500 [00:00<00:00, 1.20ksample/s]\n"
     ]
    },
    {
     "data": {
      "text/plain": [
       "(torch.Size([500, 2]), torch.Size([500, 1]))"
      ]
     },
     "execution_count": 2,
     "metadata": {},
     "output_type": "execute_result"
    }
   ],
   "source": [
    "projectile = Projectile()\n",
    "\n",
    "# sample from a simulation\n",
    "n_samples = 500\n",
    "x = projectile.sample_inputs(n_samples).float()\n",
    "y = projectile.forward_batch(x).float()\n",
    "\n",
    "x.shape, y.shape"
   ]
  },
  {
   "cell_type": "markdown",
   "metadata": {},
   "source": [
    "## Comparing emulators\n",
    "\n",
    "This is the core of `AutoEmulate`. With a set of inputs / outputs, we can run a full machine learning pipeline, including data processing, model fitting, model selection and hyperparameter optimisation in just a few lines of code. First, let's check the names of the available emulator models.\n"
   ]
  },
  {
   "cell_type": "code",
   "execution_count": 3,
   "metadata": {},
   "outputs": [
    {
     "data": {
      "text/html": [
       "<div>\n",
       "<style scoped>\n",
       "    .dataframe tbody tr th:only-of-type {\n",
       "        vertical-align: middle;\n",
       "    }\n",
       "\n",
       "    .dataframe tbody tr th {\n",
       "        vertical-align: top;\n",
       "    }\n",
       "\n",
       "    .dataframe thead th {\n",
       "        text-align: right;\n",
       "    }\n",
       "</style>\n",
       "<table border=\"1\" class=\"dataframe\">\n",
       "  <thead>\n",
       "    <tr style=\"text-align: right;\">\n",
       "      <th></th>\n",
       "      <th>Emulator</th>\n",
       "    </tr>\n",
       "  </thead>\n",
       "  <tbody>\n",
       "    <tr>\n",
       "      <th>0</th>\n",
       "      <td>GaussianProcessExact</td>\n",
       "    </tr>\n",
       "    <tr>\n",
       "      <th>1</th>\n",
       "      <td>GaussianProcessExactCorrelated</td>\n",
       "    </tr>\n",
       "    <tr>\n",
       "      <th>2</th>\n",
       "      <td>LightGBM</td>\n",
       "    </tr>\n",
       "    <tr>\n",
       "      <th>3</th>\n",
       "      <td>SupportVectorMachine</td>\n",
       "    </tr>\n",
       "    <tr>\n",
       "      <th>4</th>\n",
       "      <td>RadialBasisFunctions</td>\n",
       "    </tr>\n",
       "    <tr>\n",
       "      <th>5</th>\n",
       "      <td>RandomForest</td>\n",
       "    </tr>\n",
       "    <tr>\n",
       "      <th>6</th>\n",
       "      <td>MLP</td>\n",
       "    </tr>\n",
       "    <tr>\n",
       "      <th>7</th>\n",
       "      <td>EnsembleMLP</td>\n",
       "    </tr>\n",
       "    <tr>\n",
       "      <th>8</th>\n",
       "      <td>EnsembleMLPDropout</td>\n",
       "    </tr>\n",
       "  </tbody>\n",
       "</table>\n",
       "</div>"
      ],
      "text/plain": [
       "                         Emulator\n",
       "0            GaussianProcessExact\n",
       "1  GaussianProcessExactCorrelated\n",
       "2                        LightGBM\n",
       "3            SupportVectorMachine\n",
       "4            RadialBasisFunctions\n",
       "5                    RandomForest\n",
       "6                             MLP\n",
       "7                     EnsembleMLP\n",
       "8              EnsembleMLPDropout"
      ]
     },
     "execution_count": 3,
     "metadata": {},
     "output_type": "execute_result"
    }
   ],
   "source": [
    "# Print list of available emulators\n",
    "AutoEmulate.list_emulators()"
   ]
  },
  {
   "cell_type": "markdown",
   "metadata": {},
   "source": [
    "Now let's initialise an `AutoEmulate` object.\n",
    "\n",
    "This provides the simulation inputs and outputs, then fits a range of different models to the data, evaluating on witheld test data."
   ]
  },
  {
   "cell_type": "code",
   "execution_count": 4,
   "metadata": {},
   "outputs": [
    {
     "name": "stderr",
     "output_type": "stream",
     "text": [
      "Comparing models: 100%|██████████| 9.00/9.00 [04:09<00:00, 27.8s/model]\n"
     ]
    }
   ],
   "source": [
    "ae = AutoEmulate(x, y)"
   ]
  },
  {
   "cell_type": "markdown",
   "metadata": {},
   "source": [
    "Look at the summary for a comparison of emulator performace."
   ]
  },
  {
   "cell_type": "code",
   "execution_count": null,
   "metadata": {},
   "outputs": [
    {
     "data": {
      "text/html": [
       "<div>\n",
       "<style scoped>\n",
       "    .dataframe tbody tr th:only-of-type {\n",
       "        vertical-align: middle;\n",
       "    }\n",
       "\n",
       "    .dataframe tbody tr th {\n",
       "        vertical-align: top;\n",
       "    }\n",
       "\n",
       "    .dataframe thead th {\n",
       "        text-align: right;\n",
       "    }\n",
       "</style>\n",
       "<table border=\"1\" class=\"dataframe\">\n",
       "  <thead>\n",
       "    <tr style=\"text-align: right;\">\n",
       "      <th></th>\n",
       "      <th>model_name</th>\n",
       "      <th>x_transforms</th>\n",
       "      <th>y_transforms</th>\n",
       "      <th>config</th>\n",
       "      <th>rmse_test</th>\n",
       "      <th>r2_test</th>\n",
       "      <th>r2_test_std</th>\n",
       "      <th>r2_train</th>\n",
       "      <th>r2_train_std</th>\n",
       "    </tr>\n",
       "  </thead>\n",
       "  <tbody>\n",
       "    <tr>\n",
       "      <th>4</th>\n",
       "      <td>RadialBasisFunctions</td>\n",
       "      <td>[StandardizeTransform()]</td>\n",
       "      <td>[StandardizeTransform()]</td>\n",
       "      <td>{'kernel': 'gaussian', 'degree': 2, 'smoothing...</td>\n",
       "      <td>15.100912</td>\n",
       "      <td>0.999251</td>\n",
       "      <td>0.000348</td>\n",
       "      <td>0.999354</td>\n",
       "      <td>0.000112</td>\n",
       "    </tr>\n",
       "    <tr>\n",
       "      <th>1</th>\n",
       "      <td>GaussianProcessExactCorrelated</td>\n",
       "      <td>[StandardizeTransform()]</td>\n",
       "      <td>[StandardizeTransform()]</td>\n",
       "      <td>{'mean_module_fn': &lt;function zero_mean at 0x30...</td>\n",
       "      <td>35.860809</td>\n",
       "      <td>0.975162</td>\n",
       "      <td>0.010130</td>\n",
       "      <td>0.965217</td>\n",
       "      <td>0.005827</td>\n",
       "    </tr>\n",
       "    <tr>\n",
       "      <th>2</th>\n",
       "      <td>LightGBM</td>\n",
       "      <td>[StandardizeTransform()]</td>\n",
       "      <td>[StandardizeTransform()]</td>\n",
       "      <td>{'num_leaves': 89, 'max_depth': 2, 'learning_r...</td>\n",
       "      <td>39.194981</td>\n",
       "      <td>0.967744</td>\n",
       "      <td>0.011130</td>\n",
       "      <td>0.942547</td>\n",
       "      <td>0.009963</td>\n",
       "    </tr>\n",
       "    <tr>\n",
       "      <th>0</th>\n",
       "      <td>GaussianProcessExact</td>\n",
       "      <td>[StandardizeTransform()]</td>\n",
       "      <td>[StandardizeTransform()]</td>\n",
       "      <td>{'mean_module_fn': &lt;function zero_mean at 0x30...</td>\n",
       "      <td>39.603783</td>\n",
       "      <td>0.963526</td>\n",
       "      <td>0.011194</td>\n",
       "      <td>0.953418</td>\n",
       "      <td>0.006309</td>\n",
       "    </tr>\n",
       "    <tr>\n",
       "      <th>6</th>\n",
       "      <td>MLP</td>\n",
       "      <td>[StandardizeTransform()]</td>\n",
       "      <td>[StandardizeTransform()]</td>\n",
       "      <td>{'epochs': 50, 'layer_dims': [64, 32, 16], 'lr...</td>\n",
       "      <td>42.412567</td>\n",
       "      <td>0.957706</td>\n",
       "      <td>0.004417</td>\n",
       "      <td>0.945325</td>\n",
       "      <td>0.008483</td>\n",
       "    </tr>\n",
       "    <tr>\n",
       "      <th>3</th>\n",
       "      <td>SupportVectorMachine</td>\n",
       "      <td>[StandardizeTransform()]</td>\n",
       "      <td>[StandardizeTransform()]</td>\n",
       "      <td>{'kernel': 'poly', 'degree': 3, 'gamma': 'auto...</td>\n",
       "      <td>44.884586</td>\n",
       "      <td>0.941765</td>\n",
       "      <td>0.016257</td>\n",
       "      <td>0.945404</td>\n",
       "      <td>0.004572</td>\n",
       "    </tr>\n",
       "    <tr>\n",
       "      <th>5</th>\n",
       "      <td>RandomForest</td>\n",
       "      <td>[StandardizeTransform()]</td>\n",
       "      <td>[StandardizeTransform()]</td>\n",
       "      <td>{'n_estimators': 268, 'min_samples_split': 14,...</td>\n",
       "      <td>51.849110</td>\n",
       "      <td>0.893143</td>\n",
       "      <td>0.052685</td>\n",
       "      <td>0.944426</td>\n",
       "      <td>0.011358</td>\n",
       "    </tr>\n",
       "    <tr>\n",
       "      <th>8</th>\n",
       "      <td>EnsembleMLPDropout</td>\n",
       "      <td>[StandardizeTransform()]</td>\n",
       "      <td>[StandardizeTransform()]</td>\n",
       "      <td>{'n_emulators': 8, 'epochs': 100, 'layer_dims'...</td>\n",
       "      <td>56.129391</td>\n",
       "      <td>0.867089</td>\n",
       "      <td>0.019270</td>\n",
       "      <td>0.862260</td>\n",
       "      <td>0.014564</td>\n",
       "    </tr>\n",
       "    <tr>\n",
       "      <th>7</th>\n",
       "      <td>EnsembleMLP</td>\n",
       "      <td>[StandardizeTransform()]</td>\n",
       "      <td>[StandardizeTransform()]</td>\n",
       "      <td>{'n_emulators': 6, 'epochs': 50, 'layer_dims':...</td>\n",
       "      <td>67.022606</td>\n",
       "      <td>0.720671</td>\n",
       "      <td>0.007743</td>\n",
       "      <td>0.712737</td>\n",
       "      <td>0.006100</td>\n",
       "    </tr>\n",
       "  </tbody>\n",
       "</table>\n",
       "</div>"
      ],
      "text/plain": [
       "                       model_name              x_transforms  \\\n",
       "4            RadialBasisFunctions  [StandardizeTransform()]   \n",
       "1  GaussianProcessExactCorrelated  [StandardizeTransform()]   \n",
       "2                        LightGBM  [StandardizeTransform()]   \n",
       "0            GaussianProcessExact  [StandardizeTransform()]   \n",
       "6                             MLP  [StandardizeTransform()]   \n",
       "3            SupportVectorMachine  [StandardizeTransform()]   \n",
       "5                    RandomForest  [StandardizeTransform()]   \n",
       "8              EnsembleMLPDropout  [StandardizeTransform()]   \n",
       "7                     EnsembleMLP  [StandardizeTransform()]   \n",
       "\n",
       "               y_transforms  \\\n",
       "4  [StandardizeTransform()]   \n",
       "1  [StandardizeTransform()]   \n",
       "2  [StandardizeTransform()]   \n",
       "0  [StandardizeTransform()]   \n",
       "6  [StandardizeTransform()]   \n",
       "3  [StandardizeTransform()]   \n",
       "5  [StandardizeTransform()]   \n",
       "8  [StandardizeTransform()]   \n",
       "7  [StandardizeTransform()]   \n",
       "\n",
       "                                              config  rmse_test   r2_test  \\\n",
       "4  {'kernel': 'gaussian', 'degree': 2, 'smoothing...  15.100912  0.999251   \n",
       "1  {'mean_module_fn': <function zero_mean at 0x30...  35.860809  0.975162   \n",
       "2  {'num_leaves': 89, 'max_depth': 2, 'learning_r...  39.194981  0.967744   \n",
       "0  {'mean_module_fn': <function zero_mean at 0x30...  39.603783  0.963526   \n",
       "6  {'epochs': 50, 'layer_dims': [64, 32, 16], 'lr...  42.412567  0.957706   \n",
       "3  {'kernel': 'poly', 'degree': 3, 'gamma': 'auto...  44.884586  0.941765   \n",
       "5  {'n_estimators': 268, 'min_samples_split': 14,...  51.849110  0.893143   \n",
       "8  {'n_emulators': 8, 'epochs': 100, 'layer_dims'...  56.129391  0.867089   \n",
       "7  {'n_emulators': 6, 'epochs': 50, 'layer_dims':...  67.022606  0.720671   \n",
       "\n",
       "   r2_test_std  r2_train  r2_train_std  \n",
       "4     0.000348  0.999354      0.000112  \n",
       "1     0.010130  0.965217      0.005827  \n",
       "2     0.011130  0.942547      0.009963  \n",
       "0     0.011194  0.953418      0.006309  \n",
       "6     0.004417  0.945325      0.008483  \n",
       "3     0.016257  0.945404      0.004572  \n",
       "5     0.052685  0.944426      0.011358  \n",
       "8     0.019270  0.862260      0.014564  \n",
       "7     0.007743  0.712737      0.006100  "
      ]
     },
     "execution_count": 5,
     "metadata": {},
     "output_type": "execute_result"
    }
   ],
   "source": [
    "ae.summarise()"
   ]
  },
  {
   "cell_type": "markdown",
   "metadata": {},
   "source": [
    "Choose an emulator based on the index from the summary dataframe, or quickly get the best result (based on `r2_score`)."
   ]
  },
  {
   "cell_type": "code",
   "execution_count": 6,
   "metadata": {},
   "outputs": [
    {
     "name": "stdout",
     "output_type": "stream",
     "text": [
      "Model with id:  4  performed best:  RadialBasisFunctions\n"
     ]
    }
   ],
   "source": [
    "best = ae.best_result()\n",
    "print(\"Model with id: \", best.id, \" performed best: \", best.model_name)"
   ]
  },
  {
   "cell_type": "markdown",
   "metadata": {},
   "source": [
    "Let's take a look at the configuration of the best model. These are the values of the model's hyperparameters."
   ]
  },
  {
   "cell_type": "code",
   "execution_count": 7,
   "metadata": {},
   "outputs": [
    {
     "data": {
      "text/plain": [
       "{'kernel': 'gaussian', 'degree': 2, 'smoothing': 0.055212542058606706}"
      ]
     },
     "execution_count": 7,
     "metadata": {},
     "output_type": "execute_result"
    }
   ],
   "source": [
    "best.config"
   ]
  },
  {
   "cell_type": "markdown",
   "metadata": {},
   "source": [
    "Plot the emulator predictions against the simulator outputs."
   ]
  },
  {
   "cell_type": "code",
   "execution_count": 8,
   "metadata": {},
   "outputs": [
    {
     "data": {
      "image/png": "[encoded data removed]",
      "text/plain": [
       "<Figure size 1000x400 with 2 Axes>"
      ]
     },
     "execution_count": 8,
     "metadata": {},
     "output_type": "execute_result"
    }
   ],
   "source": [
    "ae.plot(best)"
   ]
  },
  {
   "cell_type": "markdown",
   "metadata": {},
   "source": [
    "## Predictions\n",
    "\n",
    "We can use the model to make predictions for new inputs. Emulators in `AutoEmulate` can use the `predict` method to make predictions.\n"
   ]
  },
  {
   "cell_type": "code",
   "execution_count": 9,
   "metadata": {},
   "outputs": [
    {
     "data": {
      "text/plain": [
       "tensor([[ 5.6852e+03],\n",
       "        [ 1.6878e+01],\n",
       "        [ 1.0413e+01],\n",
       "        [ 2.5501e+02],\n",
       "        [-4.5424e+01],\n",
       "        [ 6.3762e+03],\n",
       "        [ 6.0650e+02],\n",
       "        [ 2.9446e+04],\n",
       "        [ 4.1558e+03],\n",
       "        [ 1.3868e+01]])"
      ]
     },
     "execution_count": 9,
     "metadata": {},
     "output_type": "execute_result"
    }
   ],
   "source": [
    "best.model.predict(x[:10])"
   ]
  },
  {
   "cell_type": "markdown",
   "metadata": {},
   "source": [
    "# Saving and loading emulators\n",
    "\n",
    "Emulators can be saved to disk and loaded again later."
   ]
  },
  {
   "cell_type": "code",
   "execution_count": 10,
   "metadata": {},
   "outputs": [],
   "source": [
    "# Make a directory to save Emulator models\n",
    "import os\n",
    "path = \"my_emulators\"\n",
    "if not os.path.exists(path):\n",
    "    os.makedirs(path)"
   ]
  },
  {
   "cell_type": "markdown",
   "metadata": {},
   "source": [
    "Save the best result, best performing emulator plus metadata, to disk."
   ]
  },
  {
   "cell_type": "code",
   "execution_count": 11,
   "metadata": {},
   "outputs": [
    {
     "name": "stdout",
     "output_type": "stream",
     "text": [
      "Model and metadata saved to:  my_emulators/RadialBasisFunctions_4_20250716_144908\n"
     ]
    }
   ],
   "source": [
    "# The use_timestamp paramater ensures a new result is saved each time the save method is called\n",
    "best_result_filepath = ae.save(best, path, use_timestamp=True)\n",
    "print(\"Model and metadata saved to: \", best_result_filepath)"
   ]
  },
  {
   "cell_type": "code",
   "execution_count": null,
   "metadata": {},
   "outputs": [],
   "source": [
    "loaded_result = ae.load(best_result_filepath)"
   ]
  },
  {
   "cell_type": "code",
   "execution_count": null,
   "metadata": {},
   "outputs": [
    {
     "data": {
      "text/plain": [
       "{'kernel': 'gaussian', 'degree': 2, 'smoothing': 0.055212542058606706}"
      ]
     },
     "execution_count": 14,
     "metadata": {},
     "output_type": "execute_result"
    }
   ],
   "source": [
    "loaded_result.config"
   ]
  },
  {
   "cell_type": "code",
   "execution_count": null,
   "metadata": {},
   "outputs": [
    {
     "data": {
      "text/plain": [
       "tensor([[ 5.6852e+03],\n",
       "        [ 1.6878e+01],\n",
       "        [ 1.0413e+01],\n",
       "        [ 2.5501e+02],\n",
       "        [-4.5424e+01],\n",
       "        [ 6.3762e+03],\n",
       "        [ 6.0650e+02],\n",
       "        [ 2.9446e+04],\n",
       "        [ 4.1558e+03],\n",
       "        [ 1.3868e+01]])"
      ]
     },
     "execution_count": 13,
     "metadata": {},
     "output_type": "execute_result"
    }
   ],
   "source": [
    "loaded_result.model.predict(x[:10])"
   ]
  }
 ],
 "metadata": {
  "kernelspec": {
   "display_name": "autoemulate-l4vGdsmY-py3.11",
   "language": "python",
   "name": "python3"
  },
  "language_info": {
   "codemirror_mode": {
    "name": "ipython",
    "version": 3
   },
   "file_extension": ".py",
   "mimetype": "text/x-python",
   "name": "python",
   "nbconvert_exporter": "python",
   "pygments_lexer": "ipython3",
   "version": "3.11.3"
  }
 },
 "nbformat": 4,
 "nbformat_minor": 2
}
