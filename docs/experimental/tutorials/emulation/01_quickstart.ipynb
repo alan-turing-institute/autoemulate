{
 "cells": [
  {
   "cell_type": "markdown",
   "metadata": {},
   "source": [
    "# Quickstart\n",
    "\n",
    "`AutoEmulate`'s goal is to make it easy to create an emulator for your simulation.\n",
    "\n",
    "This tutorial's purpose is to walk you through the the basic functionality of the Python API using simple toy simulation as example.\n",
    "\n",
    "We'll demonstrate following steps:\n",
    "1. Getting input and output tensor data from our example simulation\n",
    "2. Creating, comparing and evaluating Emulators with `AutoEmulate`\n",
    "3. Using an `Emulator` model to predict outputs for new inputs\n",
    "4. Saving `Emulator` models (and associated metadata) to disk"
   ]
  },
  {
   "cell_type": "code",
   "execution_count": 1,
   "metadata": {},
   "outputs": [],
   "source": [
    "# General imports for the notebook\n",
    "import pandas as pd\n",
    "import warnings\n",
    "warnings.filterwarnings(\"ignore\")"
   ]
  },
  {
   "cell_type": "markdown",
   "metadata": {},
   "source": [
    "## Toy simulation\n",
    "\n",
    "Before we build an emulator with AutoEmulate, we need to get a set of input/output pairs from our simulation to use as training data.\n",
    "\n",
    "Below is a toy simulation for a projectile's motion with drag (see [here](https://mogp-emulator.readthedocs.io/en/latest/intro/tutorial.html) for details). The simulation includes:\n",
    "- Inputs: drag coefficient (log scale), velocity\n",
    "- Outputs: distance the projectile travelled\n"
   ]
  },
  {
   "cell_type": "code",
   "execution_count": 2,
   "metadata": {},
   "outputs": [
    {
     "name": "stderr",
     "output_type": "stream",
     "text": [
      "Running simulations: 100%|██████████| 500/500 [00:00<00:00, 951sample/s]  \n"
     ]
    },
    {
     "data": {
      "text/plain": [
       "(torch.Size([500, 2]), torch.Size([500, 1]))"
      ]
     },
     "execution_count": 2,
     "metadata": {},
     "output_type": "execute_result"
    }
   ],
   "source": [
    "from autoemulate.experimental.simulations.projectile import Projectile\n",
    "\n",
    "projectile = Projectile()\n",
    "n_samples = 500\n",
    "x = projectile.sample_inputs(n_samples).float()\n",
    "y = projectile.forward_batch(x).float()\n",
    "\n",
    "x.shape, y.shape"
   ]
  },
  {
   "cell_type": "markdown",
   "metadata": {},
   "source": [
    "### Data\n",
    "\n",
    "As you can see, our simulator inputs (`x`) and outputs (`y`) are PyTorch tensors.\n",
    "PyTorch tensors are a common data structure used in machine learning, and `AutoEmulate` is built to work with them."
   ]
  },
  {
   "cell_type": "markdown",
   "metadata": {},
   "source": [
    "## Build and compare Emulators\n",
    "\n",
    "With our simulator inputs and outputs, we can run a full machine learning pipeline, including data processing, model fitting, model selection and hyperparameter optimisation in just a few lines of code.\n",
    "\n",
    "First, let's import `AutoEmulate` and check the names of the available Emulator models.\n"
   ]
  },
  {
   "cell_type": "code",
   "execution_count": 3,
   "metadata": {},
   "outputs": [
    {
     "data": {
      "text/html": [
       "<div>\n",
       "<style scoped>\n",
       "    .dataframe tbody tr th:only-of-type {\n",
       "        vertical-align: middle;\n",
       "    }\n",
       "\n",
       "    .dataframe tbody tr th {\n",
       "        vertical-align: top;\n",
       "    }\n",
       "\n",
       "    .dataframe thead th {\n",
       "        text-align: right;\n",
       "    }\n",
       "</style>\n",
       "<table border=\"1\" class=\"dataframe\">\n",
       "  <thead>\n",
       "    <tr style=\"text-align: right;\">\n",
       "      <th></th>\n",
       "      <th>Emulator</th>\n",
       "    </tr>\n",
       "  </thead>\n",
       "  <tbody>\n",
       "    <tr>\n",
       "      <th>0</th>\n",
       "      <td>GaussianProcessExact</td>\n",
       "    </tr>\n",
       "    <tr>\n",
       "      <th>1</th>\n",
       "      <td>GaussianProcessExactCorrelated</td>\n",
       "    </tr>\n",
       "    <tr>\n",
       "      <th>2</th>\n",
       "      <td>LightGBM</td>\n",
       "    </tr>\n",
       "    <tr>\n",
       "      <th>3</th>\n",
       "      <td>SupportVectorMachine</td>\n",
       "    </tr>\n",
       "    <tr>\n",
       "      <th>4</th>\n",
       "      <td>RadialBasisFunctions</td>\n",
       "    </tr>\n",
       "    <tr>\n",
       "      <th>5</th>\n",
       "      <td>RandomForest</td>\n",
       "    </tr>\n",
       "    <tr>\n",
       "      <th>6</th>\n",
       "      <td>MLP</td>\n",
       "    </tr>\n",
       "    <tr>\n",
       "      <th>7</th>\n",
       "      <td>EnsembleMLP</td>\n",
       "    </tr>\n",
       "    <tr>\n",
       "      <th>8</th>\n",
       "      <td>EnsembleMLPDropout</td>\n",
       "    </tr>\n",
       "  </tbody>\n",
       "</table>\n",
       "</div>"
      ],
      "text/plain": [
       "                         Emulator\n",
       "0            GaussianProcessExact\n",
       "1  GaussianProcessExactCorrelated\n",
       "2                        LightGBM\n",
       "3            SupportVectorMachine\n",
       "4            RadialBasisFunctions\n",
       "5                    RandomForest\n",
       "6                             MLP\n",
       "7                     EnsembleMLP\n",
       "8              EnsembleMLPDropout"
      ]
     },
     "execution_count": 3,
     "metadata": {},
     "output_type": "execute_result"
    }
   ],
   "source": [
    "from autoemulate.experimental.compare import AutoEmulate\n",
    "\n",
    "AutoEmulate.list_emulators()"
   ]
  },
  {
   "cell_type": "markdown",
   "metadata": {},
   "source": [
    "We're now ready run `AutoEmulate` to build and compare emulators.\n",
    "\n",
    "This will fit (including hyperparameter tuning) emulator models to the simulation input and output to the data, evaluating performance on witheld test data."
   ]
  },
  {
   "cell_type": "code",
   "execution_count": 4,
   "metadata": {},
   "outputs": [
    {
     "name": "stderr",
     "output_type": "stream",
     "text": [
      "Comparing models: 100%|██████████| 9.00/9.00 [04:12<00:00, 28.1s/model]\n"
     ]
    }
   ],
   "source": [
    "# Run AutoEmulate with default settings\n",
    "ae = AutoEmulate(x, y)"
   ]
  },
  {
   "cell_type": "markdown",
   "metadata": {},
   "source": [
    "For more information about the configuration options available, see the [AutoEmulate API docs](https://alan-turing-institute.github.io/autoemulate/reference/index.html).\n",
    "Here's a brief overview of some important options:\n",
    "\n",
    "<details>\n",
    "\n",
    "<summary>Model selection</summary>\n",
    "\n",
    "By default, `AutoEmulate` will use of all the listed emulator models, but you can also specify a subset to use if you already know which kinds of models are suitable for your data.\n",
    "\n",
    "Specify models used by AutoEmulate with the `models` argument, for example:\n",
    "```python\n",
    "from autoemulate.experimental.emulators import GaussianProcessExact, RadialBasisFunctions\n",
    "models = [\"GaussianProcessExact\", \"RadialBasisFunctions\"]\n",
    "ae = AutoEmulate(x, y, models=models)\n",
    "```\n",
    "\n",
    "</details>\n",
    "\n",
    "<details>\n",
    "\n",
    "<summary>Logging</summary>\n",
    "\n",
    "When running `AutoEmulate`, you may also wish to enable logging to track the progress and performance of the emulator comparison. You can do this by setting the `log_level` argument when creating the `AutoEmulate` instance:\n",
    "```python\n",
    "ae = AutoEmulate(x, y, models=models, log_level=\"info\")\n",
    "```\n",
    "\n",
    "Try setting various log levels to see the difference. The options are \"progress_bar\", \"debug\", \"info\", \"warning\", \"error\", or \"critical\".\n",
    "\n",
    "</details>\n",
    "\n",
    "Now that we have run `AutoEmulate`, let's look at the summary for a comparison of emulator performance."
   ]
  },
  {
   "cell_type": "code",
   "execution_count": 5,
   "metadata": {},
   "outputs": [
    {
     "data": {
      "text/html": [
       "<div>\n",
       "<style scoped>\n",
       "    .dataframe tbody tr th:only-of-type {\n",
       "        vertical-align: middle;\n",
       "    }\n",
       "\n",
       "    .dataframe tbody tr th {\n",
       "        vertical-align: top;\n",
       "    }\n",
       "\n",
       "    .dataframe thead th {\n",
       "        text-align: right;\n",
       "    }\n",
       "</style>\n",
       "<table border=\"1\" class=\"dataframe\">\n",
       "  <thead>\n",
       "    <tr style=\"text-align: right;\">\n",
       "      <th></th>\n",
       "      <th>model_name</th>\n",
       "      <th>x_transforms</th>\n",
       "      <th>y_transforms</th>\n",
       "      <th>config</th>\n",
       "      <th>rmse_test</th>\n",
       "      <th>r2_test</th>\n",
       "      <th>r2_test_std</th>\n",
       "      <th>r2_train</th>\n",
       "      <th>r2_train_std</th>\n",
       "    </tr>\n",
       "  </thead>\n",
       "  <tbody>\n",
       "    <tr>\n",
       "      <th>1</th>\n",
       "      <td>GaussianProcessExactCorrelated</td>\n",
       "      <td>[StandardizeTransform()]</td>\n",
       "      <td>[StandardizeTransform()]</td>\n",
       "      <td>{'mean_module_fn': &lt;function zero_mean at 0x31...</td>\n",
       "      <td>8.190084</td>\n",
       "      <td>0.999917</td>\n",
       "      <td>0.000040</td>\n",
       "      <td>0.999932</td>\n",
       "      <td>0.000012</td>\n",
       "    </tr>\n",
       "    <tr>\n",
       "      <th>4</th>\n",
       "      <td>RadialBasisFunctions</td>\n",
       "      <td>[StandardizeTransform()]</td>\n",
       "      <td>[StandardizeTransform()]</td>\n",
       "      <td>{'kernel': 'cubic', 'degree': 1, 'smoothing': ...</td>\n",
       "      <td>12.429599</td>\n",
       "      <td>0.999622</td>\n",
       "      <td>0.000126</td>\n",
       "      <td>0.999467</td>\n",
       "      <td>0.000138</td>\n",
       "    </tr>\n",
       "    <tr>\n",
       "      <th>8</th>\n",
       "      <td>EnsembleMLPDropout</td>\n",
       "      <td>[StandardizeTransform()]</td>\n",
       "      <td>[StandardizeTransform()]</td>\n",
       "      <td>{'n_emulators': 8, 'epochs': 200, 'layer_dims'...</td>\n",
       "      <td>33.334476</td>\n",
       "      <td>0.979776</td>\n",
       "      <td>0.008342</td>\n",
       "      <td>0.979086</td>\n",
       "      <td>0.003724</td>\n",
       "    </tr>\n",
       "    <tr>\n",
       "      <th>3</th>\n",
       "      <td>SupportVectorMachine</td>\n",
       "      <td>[StandardizeTransform()]</td>\n",
       "      <td>[StandardizeTransform()]</td>\n",
       "      <td>{'kernel': 'poly', 'degree': 5, 'gamma': 'auto...</td>\n",
       "      <td>38.277473</td>\n",
       "      <td>0.960637</td>\n",
       "      <td>0.032892</td>\n",
       "      <td>0.961181</td>\n",
       "      <td>0.008780</td>\n",
       "    </tr>\n",
       "    <tr>\n",
       "      <th>5</th>\n",
       "      <td>RandomForest</td>\n",
       "      <td>[StandardizeTransform()]</td>\n",
       "      <td>[StandardizeTransform()]</td>\n",
       "      <td>{'n_estimators': 173, 'min_samples_split': 15,...</td>\n",
       "      <td>41.207577</td>\n",
       "      <td>0.951190</td>\n",
       "      <td>0.018350</td>\n",
       "      <td>0.963808</td>\n",
       "      <td>0.009681</td>\n",
       "    </tr>\n",
       "    <tr>\n",
       "      <th>2</th>\n",
       "      <td>LightGBM</td>\n",
       "      <td>[StandardizeTransform()]</td>\n",
       "      <td>[StandardizeTransform()]</td>\n",
       "      <td>{'num_leaves': 74, 'max_depth': 10, 'learning_...</td>\n",
       "      <td>47.018574</td>\n",
       "      <td>0.920745</td>\n",
       "      <td>0.032634</td>\n",
       "      <td>0.922911</td>\n",
       "      <td>0.013701</td>\n",
       "    </tr>\n",
       "    <tr>\n",
       "      <th>0</th>\n",
       "      <td>GaussianProcessExact</td>\n",
       "      <td>[StandardizeTransform()]</td>\n",
       "      <td>[StandardizeTransform()]</td>\n",
       "      <td>{'mean_module_fn': &lt;function linear_mean at 0x...</td>\n",
       "      <td>51.077465</td>\n",
       "      <td>0.874375</td>\n",
       "      <td>0.036879</td>\n",
       "      <td>0.879480</td>\n",
       "      <td>0.018155</td>\n",
       "    </tr>\n",
       "    <tr>\n",
       "      <th>7</th>\n",
       "      <td>EnsembleMLP</td>\n",
       "      <td>[StandardizeTransform()]</td>\n",
       "      <td>[StandardizeTransform()]</td>\n",
       "      <td>{'n_emulators': 6, 'epochs': 50, 'layer_dims':...</td>\n",
       "      <td>60.891102</td>\n",
       "      <td>0.788045</td>\n",
       "      <td>0.014807</td>\n",
       "      <td>0.792054</td>\n",
       "      <td>0.009980</td>\n",
       "    </tr>\n",
       "    <tr>\n",
       "      <th>6</th>\n",
       "      <td>MLP</td>\n",
       "      <td>[StandardizeTransform()]</td>\n",
       "      <td>[StandardizeTransform()]</td>\n",
       "      <td>{'epochs': 100, 'layer_dims': [64, 32, 16], 'l...</td>\n",
       "      <td>100.126930</td>\n",
       "      <td>-0.720457</td>\n",
       "      <td>0.886906</td>\n",
       "      <td>0.244178</td>\n",
       "      <td>0.168395</td>\n",
       "    </tr>\n",
       "  </tbody>\n",
       "</table>\n",
       "</div>"
      ],
      "text/plain": [
       "                       model_name              x_transforms  \\\n",
       "1  GaussianProcessExactCorrelated  [StandardizeTransform()]   \n",
       "4            RadialBasisFunctions  [StandardizeTransform()]   \n",
       "8              EnsembleMLPDropout  [StandardizeTransform()]   \n",
       "3            SupportVectorMachine  [StandardizeTransform()]   \n",
       "5                    RandomForest  [StandardizeTransform()]   \n",
       "2                        LightGBM  [StandardizeTransform()]   \n",
       "0            GaussianProcessExact  [StandardizeTransform()]   \n",
       "7                     EnsembleMLP  [StandardizeTransform()]   \n",
       "6                             MLP  [StandardizeTransform()]   \n",
       "\n",
       "               y_transforms  \\\n",
       "1  [StandardizeTransform()]   \n",
       "4  [StandardizeTransform()]   \n",
       "8  [StandardizeTransform()]   \n",
       "3  [StandardizeTransform()]   \n",
       "5  [StandardizeTransform()]   \n",
       "2  [StandardizeTransform()]   \n",
       "0  [StandardizeTransform()]   \n",
       "7  [StandardizeTransform()]   \n",
       "6  [StandardizeTransform()]   \n",
       "\n",
       "                                              config   rmse_test   r2_test  \\\n",
       "1  {'mean_module_fn': <function zero_mean at 0x31...    8.190084  0.999917   \n",
       "4  {'kernel': 'cubic', 'degree': 1, 'smoothing': ...   12.429599  0.999622   \n",
       "8  {'n_emulators': 8, 'epochs': 200, 'layer_dims'...   33.334476  0.979776   \n",
       "3  {'kernel': 'poly', 'degree': 5, 'gamma': 'auto...   38.277473  0.960637   \n",
       "5  {'n_estimators': 173, 'min_samples_split': 15,...   41.207577  0.951190   \n",
       "2  {'num_leaves': 74, 'max_depth': 10, 'learning_...   47.018574  0.920745   \n",
       "0  {'mean_module_fn': <function linear_mean at 0x...   51.077465  0.874375   \n",
       "7  {'n_emulators': 6, 'epochs': 50, 'layer_dims':...   60.891102  0.788045   \n",
       "6  {'epochs': 100, 'layer_dims': [64, 32, 16], 'l...  100.126930 -0.720457   \n",
       "\n",
       "   r2_test_std  r2_train  r2_train_std  \n",
       "1     0.000040  0.999932      0.000012  \n",
       "4     0.000126  0.999467      0.000138  \n",
       "8     0.008342  0.979086      0.003724  \n",
       "3     0.032892  0.961181      0.008780  \n",
       "5     0.018350  0.963808      0.009681  \n",
       "2     0.032634  0.922911      0.013701  \n",
       "0     0.036879  0.879480      0.018155  \n",
       "7     0.014807  0.792054      0.009980  \n",
       "6     0.886906  0.244178      0.168395  "
      ]
     },
     "execution_count": 5,
     "metadata": {},
     "output_type": "execute_result"
    }
   ],
   "source": [
    "ae.summarise()"
   ]
  },
  {
   "cell_type": "markdown",
   "metadata": {},
   "source": [
    "# Choosing an Emulator\n",
    "\n",
    "From this list, we can choose an emulator based on the index from the summary dataframe, or quickly get the best performing one using the `best_result` function, which picks based on the `r2_test` metric by default."
   ]
  },
  {
   "cell_type": "code",
   "execution_count": 6,
   "metadata": {},
   "outputs": [
    {
     "name": "stdout",
     "output_type": "stream",
     "text": [
      "Model with id:  1  performed best:  GaussianProcessExactCorrelated\n"
     ]
    }
   ],
   "source": [
    "best = ae.best_result()\n",
    "print(\"Model with id: \", best.id, \" performed best: \", best.model_name)"
   ]
  },
  {
   "cell_type": "markdown",
   "metadata": {},
   "source": [
    "Let's take a look at the configuration of the best model. These are the values of the model's hyperparameters."
   ]
  },
  {
   "cell_type": "code",
   "execution_count": 7,
   "metadata": {},
   "outputs": [
    {
     "data": {
      "text/plain": [
       "{'mean_module_fn': <function autoemulate.experimental.emulators.gaussian_process.mean.zero_mean(n_features: int, n_outputs: torch.Size | None) -> gpytorch.means.zero_mean.ZeroMean>,\n",
       " 'covar_module_fn': <function autoemulate.experimental.emulators.gaussian_process.kernel.rbf_plus_constant(n_features: int | None, n_outputs: torch.Size | None) -> gpytorch.kernels.kernel.Kernel>,\n",
       " 'epochs': 200,\n",
       " 'batch_size': 32,\n",
       " 'activation': torch.nn.modules.activation.GELU,\n",
       " 'lr': 0.03556480306223129,\n",
       " 'likelihood_cls': gpytorch.likelihoods.multitask_gaussian_likelihood.MultitaskGaussianLikelihood}"
      ]
     },
     "execution_count": 7,
     "metadata": {},
     "output_type": "execute_result"
    }
   ],
   "source": [
    "best.config"
   ]
  },
  {
   "cell_type": "markdown",
   "metadata": {},
   "source": [
    "We can quickly visualise the performance of this Emulator with a plot of its predictions against the simulator outputs."
   ]
  },
  {
   "cell_type": "code",
   "execution_count": 8,
   "metadata": {},
   "outputs": [
    {
     "data": {
      "image/png": "[encoded data removed]",
      "text/plain": [
       "<Figure size 1000x400 with 2 Axes>"
      ]
     },
     "execution_count": 8,
     "metadata": {},
     "output_type": "execute_result"
    }
   ],
   "source": [
    "ae.plot(best)"
   ]
  },
  {
   "cell_type": "markdown",
   "metadata": {},
   "source": [
    "## Predictions\n",
    "\n",
    "We can use the model to make predictions for new inputs. Emulators in `AutoEmulate` can use the `predict` method to make predictions.\n"
   ]
  },
  {
   "cell_type": "code",
   "execution_count": 9,
   "metadata": {},
   "outputs": [
    {
     "data": {
      "text/plain": [
       "MultitaskMultivariateNormal(mean shape: torch.Size([10, 1]))"
      ]
     },
     "execution_count": 9,
     "metadata": {},
     "output_type": "execute_result"
    }
   ],
   "source": [
    "best.model.predict(x[:10])"
   ]
  },
  {
   "cell_type": "markdown",
   "metadata": {},
   "source": [
    "# Saving and loading emulators\n",
    "\n",
    "Emulators and their metadata (hyperparameter config and performance metrics) can be saved to disk and loaded again later."
   ]
  },
  {
   "cell_type": "code",
   "execution_count": 10,
   "metadata": {},
   "outputs": [],
   "source": [
    "# Make a directory to save Emulator models\n",
    "import os\n",
    "path = \"my_emulators\"\n",
    "if not os.path.exists(path):\n",
    "    os.makedirs(path)"
   ]
  },
  {
   "cell_type": "markdown",
   "metadata": {},
   "source": [
    "Let's save the best result, the best performing emulator plus metadata, to disk."
   ]
  },
  {
   "cell_type": "code",
   "execution_count": 11,
   "metadata": {},
   "outputs": [
    {
     "name": "stdout",
     "output_type": "stream",
     "text": [
      "Model and metadata saved to:  my_emulators/GaussianProcessExactCorrelated_1_20250717_144026\n"
     ]
    }
   ],
   "source": [
    "# The use_timestamp paramater ensures a new result is saved each time the save method is called\n",
    "best_result_filepath = ae.save(best, path, use_timestamp=True)\n",
    "print(\"Model and metadata saved to: \", best_result_filepath)"
   ]
  },
  {
   "cell_type": "markdown",
   "metadata": {},
   "source": [
    "You should now have a two files saved to disk, one with the emulator model and one with the metadata that has the same name and a `.csv` extension.\n",
    "\n",
    "You can later pass this filepath to the `load` method to use the model (and inspect its metadata) again."
   ]
  },
  {
   "cell_type": "code",
   "execution_count": 12,
   "metadata": {},
   "outputs": [],
   "source": [
    "loaded_result = ae.load(best_result_filepath)"
   ]
  },
  {
   "cell_type": "code",
   "execution_count": 13,
   "metadata": {},
   "outputs": [
    {
     "name": "stdout",
     "output_type": "stream",
     "text": [
      "GaussianProcessExactCorrelated\n",
      "{'mean_module_fn': 'zero_mean', 'covar_module_fn': 'rbf_plus_constant', 'epochs': 200, 'batch_size': 32, 'activation': 'GELU', 'lr': 0.03556480306223129, 'likelihood_cls': 'MultitaskGaussianLikelihood'}\n"
     ]
    }
   ],
   "source": [
    "print(loaded_result.model_name)\n",
    "print(loaded_result.config)"
   ]
  },
  {
   "cell_type": "code",
   "execution_count": 14,
   "metadata": {},
   "outputs": [
    {
     "data": {
      "text/plain": [
       "MultitaskMultivariateNormal(mean shape: torch.Size([10, 1]))"
      ]
     },
     "execution_count": 14,
     "metadata": {},
     "output_type": "execute_result"
    }
   ],
   "source": [
    "loaded_result.model.predict(x[:10])"
   ]
  }
 ],
 "metadata": {
  "kernelspec": {
   "display_name": "autoemulate-l4vGdsmY-py3.11",
   "language": "python",
   "name": "python3"
  },
  "language_info": {
   "codemirror_mode": {
    "name": "ipython",
    "version": 3
   },
   "file_extension": ".py",
   "mimetype": "text/x-python",
   "name": "python",
   "nbconvert_exporter": "python",
   "pygments_lexer": "ipython3",
   "version": "3.11.3"
  }
 },
 "nbformat": 4,
 "nbformat_minor": 2
}
