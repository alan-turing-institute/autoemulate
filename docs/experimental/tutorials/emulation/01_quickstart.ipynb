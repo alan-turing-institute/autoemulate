{
 "cells": [
  {
   "cell_type": "markdown",
   "metadata": {},
   "source": [
    "# Quickstart\n"
   ]
  },
  {
   "cell_type": "markdown",
   "metadata": {},
   "source": [
    "`AutoEmulate`'s goal is to make it easy to create an emulator for your simulation. Here's the basic workflow:\n"
   ]
  },
  {
   "cell_type": "code",
   "execution_count": 1,
   "metadata": {},
   "outputs": [],
   "source": [
    "from autoemulate.experimental.compare import AutoEmulate\n",
    "from autoemulate.experimental.emulators import *\n",
    "\n",
    "from autoemulate.experimental.simulations.projectile import Projectile\n",
    "\n",
    "import warnings\n",
    "warnings.filterwarnings(\"ignore\")"
   ]
  },
  {
   "cell_type": "markdown",
   "metadata": {},
   "source": [
    "## Toy simulation\n",
    "\n",
    "Before we build an emulator with AutoEmulate, we need to get a set of input/output pairs from our simulation to use as training data.\n",
    "\n",
    "Below is a toy simulation for a projectile's motion with drag (see [here](https://mogp-emulator.readthedocs.io/en/latest/intro/tutorial.html) for details). The simulation includes:\n",
    "- Inputs: drag coefficient (log scale), velocity\n",
    "- Outputs: distance the projectile travelled\n"
   ]
  },
  {
   "cell_type": "code",
   "execution_count": 2,
   "metadata": {},
   "outputs": [
    {
     "name": "stderr",
     "output_type": "stream",
     "text": [
      "Running simulations: 100%|██████████| 500/500 [00:00<00:00, 1.23ksample/s]\n"
     ]
    },
    {
     "data": {
      "text/plain": [
       "(torch.Size([500, 2]), torch.Size([500, 1]))"
      ]
     },
     "execution_count": 2,
     "metadata": {},
     "output_type": "execute_result"
    }
   ],
   "source": [
    "projectile = Projectile()\n",
    "\n",
    "# sample from a simulation\n",
    "n_samples = 500\n",
    "x = projectile.sample_inputs(n_samples).float()\n",
    "y = projectile.forward_batch(x).float()\n",
    "\n",
    "x.shape, y.shape"
   ]
  },
  {
   "cell_type": "markdown",
   "metadata": {},
   "source": [
    "## Comparing emulators\n",
    "\n",
    "This is the core of `AutoEmulate`. With a set of inputs / outputs, we can run a full machine learning pipeline, including data processing, model fitting, model selection and hyperparameter optimisation in just a few lines of code. First, let's check the names of the available emulator models.\n"
   ]
  },
  {
   "cell_type": "code",
   "execution_count": 3,
   "metadata": {},
   "outputs": [
    {
     "data": {
      "text/html": [
       "<div>\n",
       "<style scoped>\n",
       "    .dataframe tbody tr th:only-of-type {\n",
       "        vertical-align: middle;\n",
       "    }\n",
       "\n",
       "    .dataframe tbody tr th {\n",
       "        vertical-align: top;\n",
       "    }\n",
       "\n",
       "    .dataframe thead th {\n",
       "        text-align: right;\n",
       "    }\n",
       "</style>\n",
       "<table border=\"1\" class=\"dataframe\">\n",
       "  <thead>\n",
       "    <tr style=\"text-align: right;\">\n",
       "      <th></th>\n",
       "      <th>model_name</th>\n",
       "      <th>short_name</th>\n",
       "    </tr>\n",
       "  </thead>\n",
       "  <tbody>\n",
       "    <tr>\n",
       "      <th>0</th>\n",
       "      <td>GaussianProcessExact</td>\n",
       "      <td>GPE</td>\n",
       "    </tr>\n",
       "    <tr>\n",
       "      <th>1</th>\n",
       "      <td>GaussianProcessExactCorrelated</td>\n",
       "      <td>GPEC</td>\n",
       "    </tr>\n",
       "    <tr>\n",
       "      <th>2</th>\n",
       "      <td>LightGBM</td>\n",
       "      <td>LGBM</td>\n",
       "    </tr>\n",
       "    <tr>\n",
       "      <th>3</th>\n",
       "      <td>SupportVectorMachine</td>\n",
       "      <td>SVM</td>\n",
       "    </tr>\n",
       "    <tr>\n",
       "      <th>4</th>\n",
       "      <td>RadialBasisFunctions</td>\n",
       "      <td>RBF</td>\n",
       "    </tr>\n",
       "    <tr>\n",
       "      <th>5</th>\n",
       "      <td>RandomForest</td>\n",
       "      <td>RF</td>\n",
       "    </tr>\n",
       "    <tr>\n",
       "      <th>6</th>\n",
       "      <td>MLP</td>\n",
       "      <td>MLP</td>\n",
       "    </tr>\n",
       "    <tr>\n",
       "      <th>7</th>\n",
       "      <td>EnsembleMLP</td>\n",
       "      <td>EMLP</td>\n",
       "    </tr>\n",
       "    <tr>\n",
       "      <th>8</th>\n",
       "      <td>EnsembleMLPDropout</td>\n",
       "      <td>EMLPD</td>\n",
       "    </tr>\n",
       "  </tbody>\n",
       "</table>\n",
       "</div>"
      ],
      "text/plain": [
       "                       model_name short_name\n",
       "0            GaussianProcessExact        GPE\n",
       "1  GaussianProcessExactCorrelated       GPEC\n",
       "2                        LightGBM       LGBM\n",
       "3            SupportVectorMachine        SVM\n",
       "4            RadialBasisFunctions        RBF\n",
       "5                    RandomForest         RF\n",
       "6                             MLP        MLP\n",
       "7                     EnsembleMLP       EMLP\n",
       "8              EnsembleMLPDropout      EMLPD"
      ]
     },
     "execution_count": 3,
     "metadata": {},
     "output_type": "execute_result"
    }
   ],
   "source": [
    "# Print list of available emulators\n",
    "AutoEmulate.list_emulators()"
   ]
  },
  {
   "cell_type": "markdown",
   "metadata": {},
   "source": [
    "Now let's initialise an `AutoEmulate` object.\n",
    "\n",
    "This provides the simulation inputs and outputs, then fits a range of different models to the data, evaluating on witheld test data."
   ]
  },
  {
   "cell_type": "code",
   "execution_count": null,
   "metadata": {},
   "outputs": [
    {
     "name": "stderr",
     "output_type": "stream",
     "text": [
      "Comparing models:  78%|███████▊  | 7.00/9.00 [01:15<00:28, 14.1s/model]"
     ]
    }
   ],
   "source": [
    "ae = AutoEmulate(x, y)"
   ]
  },
  {
   "cell_type": "markdown",
   "metadata": {},
   "source": [
    "Look at the summary for a comparison of emulator performace."
   ]
  },
  {
   "cell_type": "code",
   "execution_count": null,
   "metadata": {},
   "outputs": [
    {
     "data": {
      "text/html": [
       "<div>\n",
       "<style scoped>\n",
       "    .dataframe tbody tr th:only-of-type {\n",
       "        vertical-align: middle;\n",
       "    }\n",
       "\n",
       "    .dataframe tbody tr th {\n",
       "        vertical-align: top;\n",
       "    }\n",
       "\n",
       "    .dataframe thead th {\n",
       "        text-align: right;\n",
       "    }\n",
       "</style>\n",
       "<table border=\"1\" class=\"dataframe\">\n",
       "  <thead>\n",
       "    <tr style=\"text-align: right;\">\n",
       "      <th></th>\n",
       "      <th>model_name</th>\n",
       "      <th>x_transforms</th>\n",
       "      <th>y_transforms</th>\n",
       "      <th>config</th>\n",
       "      <th>rmse_test</th>\n",
       "      <th>r2_test</th>\n",
       "      <th>r2_test_std</th>\n",
       "      <th>r2_train</th>\n",
       "      <th>r2_train_std</th>\n",
       "    </tr>\n",
       "  </thead>\n",
       "  <tbody>\n",
       "    <tr>\n",
       "      <th>0</th>\n",
       "      <td>GaussianProcessExact</td>\n",
       "      <td>[StandardizeTransform()]</td>\n",
       "      <td>[StandardizeTransform()]</td>\n",
       "      <td>{'mean_module_fn': &lt;function linear_mean at 0x...</td>\n",
       "      <td>11.426279</td>\n",
       "      <td>0.999675</td>\n",
       "      <td>0.000221</td>\n",
       "      <td>0.999947</td>\n",
       "      <td>0.000021</td>\n",
       "    </tr>\n",
       "    <tr>\n",
       "      <th>6</th>\n",
       "      <td>MLP</td>\n",
       "      <td>[StandardizeTransform()]</td>\n",
       "      <td>[StandardizeTransform()]</td>\n",
       "      <td>{'epochs': 200, 'layer_dims': [32, 16], 'lr': ...</td>\n",
       "      <td>19.583685</td>\n",
       "      <td>0.997608</td>\n",
       "      <td>0.000824</td>\n",
       "      <td>0.998844</td>\n",
       "      <td>0.000243</td>\n",
       "    </tr>\n",
       "    <tr>\n",
       "      <th>4</th>\n",
       "      <td>RadialBasisFunctions</td>\n",
       "      <td>[StandardizeTransform()]</td>\n",
       "      <td>[StandardizeTransform()]</td>\n",
       "      <td>{'kernel': 'thin_plate_spline', 'degree': 2, '...</td>\n",
       "      <td>21.108418</td>\n",
       "      <td>0.996777</td>\n",
       "      <td>0.001492</td>\n",
       "      <td>0.997751</td>\n",
       "      <td>0.000543</td>\n",
       "    </tr>\n",
       "    <tr>\n",
       "      <th>3</th>\n",
       "      <td>SupportVectorMachine</td>\n",
       "      <td>[StandardizeTransform()]</td>\n",
       "      <td>[StandardizeTransform()]</td>\n",
       "      <td>{'kernel': 'rbf', 'degree': 5, 'gamma': 'auto'...</td>\n",
       "      <td>38.568764</td>\n",
       "      <td>0.967091</td>\n",
       "      <td>0.009685</td>\n",
       "      <td>0.950135</td>\n",
       "      <td>0.006437</td>\n",
       "    </tr>\n",
       "    <tr>\n",
       "      <th>1</th>\n",
       "      <td>GaussianProcessExactCorrelated</td>\n",
       "      <td>[StandardizeTransform()]</td>\n",
       "      <td>[StandardizeTransform()]</td>\n",
       "      <td>{'mean_module_fn': &lt;function linear_mean at 0x...</td>\n",
       "      <td>40.884655</td>\n",
       "      <td>0.954400</td>\n",
       "      <td>0.012496</td>\n",
       "      <td>0.922193</td>\n",
       "      <td>0.009482</td>\n",
       "    </tr>\n",
       "    <tr>\n",
       "      <th>2</th>\n",
       "      <td>LightGBM</td>\n",
       "      <td>[StandardizeTransform()]</td>\n",
       "      <td>[StandardizeTransform()]</td>\n",
       "      <td>{'num_leaves': 53, 'max_depth': 9, 'learning_r...</td>\n",
       "      <td>42.747314</td>\n",
       "      <td>0.942399</td>\n",
       "      <td>0.027831</td>\n",
       "      <td>0.995921</td>\n",
       "      <td>0.000928</td>\n",
       "    </tr>\n",
       "    <tr>\n",
       "      <th>5</th>\n",
       "      <td>RandomForest</td>\n",
       "      <td>[StandardizeTransform()]</td>\n",
       "      <td>[StandardizeTransform()]</td>\n",
       "      <td>{'n_estimators': 117, 'min_samples_split': 18,...</td>\n",
       "      <td>43.862324</td>\n",
       "      <td>0.942085</td>\n",
       "      <td>0.014668</td>\n",
       "      <td>0.947307</td>\n",
       "      <td>0.011386</td>\n",
       "    </tr>\n",
       "    <tr>\n",
       "      <th>7</th>\n",
       "      <td>EnsembleMLP</td>\n",
       "      <td>[StandardizeTransform()]</td>\n",
       "      <td>[StandardizeTransform()]</td>\n",
       "      <td>{'n_emulators': 6, 'epochs': 50, 'layer_dims':...</td>\n",
       "      <td>44.855186</td>\n",
       "      <td>0.935077</td>\n",
       "      <td>0.008177</td>\n",
       "      <td>0.917923</td>\n",
       "      <td>0.009409</td>\n",
       "    </tr>\n",
       "    <tr>\n",
       "      <th>8</th>\n",
       "      <td>EnsembleMLPDropout</td>\n",
       "      <td>[StandardizeTransform()]</td>\n",
       "      <td>[StandardizeTransform()]</td>\n",
       "      <td>{'n_emulators': 4, 'epochs': 100, 'layer_dims'...</td>\n",
       "      <td>48.981709</td>\n",
       "      <td>0.908862</td>\n",
       "      <td>0.024332</td>\n",
       "      <td>0.868032</td>\n",
       "      <td>0.015726</td>\n",
       "    </tr>\n",
       "  </tbody>\n",
       "</table>\n",
       "</div>"
      ],
      "text/plain": [
       "                       model_name              x_transforms  \\\n",
       "0            GaussianProcessExact  [StandardizeTransform()]   \n",
       "6                             MLP  [StandardizeTransform()]   \n",
       "4            RadialBasisFunctions  [StandardizeTransform()]   \n",
       "3            SupportVectorMachine  [StandardizeTransform()]   \n",
       "1  GaussianProcessExactCorrelated  [StandardizeTransform()]   \n",
       "2                        LightGBM  [StandardizeTransform()]   \n",
       "5                    RandomForest  [StandardizeTransform()]   \n",
       "7                     EnsembleMLP  [StandardizeTransform()]   \n",
       "8              EnsembleMLPDropout  [StandardizeTransform()]   \n",
       "\n",
       "               y_transforms  \\\n",
       "0  [StandardizeTransform()]   \n",
       "6  [StandardizeTransform()]   \n",
       "4  [StandardizeTransform()]   \n",
       "3  [StandardizeTransform()]   \n",
       "1  [StandardizeTransform()]   \n",
       "2  [StandardizeTransform()]   \n",
       "5  [StandardizeTransform()]   \n",
       "7  [StandardizeTransform()]   \n",
       "8  [StandardizeTransform()]   \n",
       "\n",
       "                                              config  rmse_test   r2_test  \\\n",
       "0  {'mean_module_fn': <function linear_mean at 0x...  11.426279  0.999675   \n",
       "6  {'epochs': 200, 'layer_dims': [32, 16], 'lr': ...  19.583685  0.997608   \n",
       "4  {'kernel': 'thin_plate_spline', 'degree': 2, '...  21.108418  0.996777   \n",
       "3  {'kernel': 'rbf', 'degree': 5, 'gamma': 'auto'...  38.568764  0.967091   \n",
       "1  {'mean_module_fn': <function linear_mean at 0x...  40.884655  0.954400   \n",
       "2  {'num_leaves': 53, 'max_depth': 9, 'learning_r...  42.747314  0.942399   \n",
       "5  {'n_estimators': 117, 'min_samples_split': 18,...  43.862324  0.942085   \n",
       "7  {'n_emulators': 6, 'epochs': 50, 'layer_dims':...  44.855186  0.935077   \n",
       "8  {'n_emulators': 4, 'epochs': 100, 'layer_dims'...  48.981709  0.908862   \n",
       "\n",
       "   r2_test_std  r2_train  r2_train_std  \n",
       "0     0.000221  0.999947      0.000021  \n",
       "6     0.000824  0.998844      0.000243  \n",
       "4     0.001492  0.997751      0.000543  \n",
       "3     0.009685  0.950135      0.006437  \n",
       "1     0.012496  0.922193      0.009482  \n",
       "2     0.027831  0.995921      0.000928  \n",
       "5     0.014668  0.947307      0.011386  \n",
       "7     0.008177  0.917923      0.009409  \n",
       "8     0.024332  0.868032      0.015726  "
      ]
     },
     "execution_count": 5,
     "metadata": {},
     "output_type": "execute_result"
    }
   ],
   "source": [
    "ae.summarise()"
   ]
  },
  {
   "cell_type": "markdown",
   "metadata": {},
   "source": [
    "Choose an emulator based on the index from the summary dataframe, or quickly get the best result (based on `r2_score`)."
   ]
  },
  {
   "cell_type": "code",
   "execution_count": null,
   "metadata": {},
   "outputs": [
    {
     "name": "stdout",
     "output_type": "stream",
     "text": [
      "Model  0  performed best:  GaussianProcessExact\n"
     ]
    }
   ],
   "source": [
    "best = ae.best_result()\n",
    "print(\"Model \", best.id, \" performed best: \", best.model_name)"
   ]
  },
  {
   "cell_type": "markdown",
   "metadata": {},
   "source": [
    "Plot the emulator predictions against the simulator outputs."
   ]
  },
  {
   "cell_type": "code",
   "execution_count": null,
   "metadata": {},
   "outputs": [
    {
     "data": {
      "image/png": "[encoded data removed]",
      "text/plain": [
       "<Figure size 1000x400 with 2 Axes>"
      ]
     },
     "execution_count": 7,
     "metadata": {},
     "output_type": "execute_result"
    }
   ],
   "source": [
    "ae.plot(best)"
   ]
  },
  {
   "cell_type": "markdown",
   "metadata": {},
   "source": [
    "## Predictions\n",
    "\n",
    "We can use the model to make predictions for new inputs. Emulators in `AutoEmulate` can use the `predict` method to make predictions.\n"
   ]
  },
  {
   "cell_type": "code",
   "execution_count": null,
   "metadata": {},
   "outputs": [
    {
     "data": {
      "text/plain": [
       "MultitaskMultivariateNormal(mean shape: torch.Size([10, 1]))"
      ]
     },
     "execution_count": 8,
     "metadata": {},
     "output_type": "execute_result"
    }
   ],
   "source": [
    "best.model.predict(x[:10])"
   ]
  },
  {
   "cell_type": "markdown",
   "metadata": {},
   "source": [
    "# Saving and loading emulators\n",
    "\n",
    "Emulators can be saved to disk and loaded again later."
   ]
  },
  {
   "cell_type": "code",
   "execution_count": null,
   "metadata": {},
   "outputs": [],
   "source": [
    "# Make a directory to save Emulator models\n",
    "import os\n",
    "path = \"my_emulators\"\n",
    "if not os.path.exists(path):\n",
    "    os.makedirs(path)"
   ]
  },
  {
   "cell_type": "markdown",
   "metadata": {},
   "source": [
    "Save the best model to disk."
   ]
  },
  {
   "cell_type": "code",
   "execution_count": null,
   "metadata": {},
   "outputs": [
    {
     "ename": "TypeError",
     "evalue": "AutoEmulate.save() got an unexpected keyword argument 'use_timestamp'",
     "output_type": "error",
     "traceback": [
      "\u001b[31m---------------------------------------------------------------------------\u001b[39m",
      "\u001b[31mTypeError\u001b[39m                                 Traceback (most recent call last)",
      "\u001b[36mCell\u001b[39m\u001b[36m \u001b[39m\u001b[32mIn[22]\u001b[39m\u001b[32m, line 2\u001b[39m\n\u001b[32m      1\u001b[39m \u001b[38;5;66;03m# The use_timestamp paramater ensures a new model is saved each time the save method is called\u001b[39;00m\n\u001b[32m----> \u001b[39m\u001b[32m2\u001b[39m best_model_saved = \u001b[43mae\u001b[49m\u001b[43m.\u001b[49m\u001b[43msave\u001b[49m\u001b[43m(\u001b[49m\u001b[43mbest\u001b[49m\u001b[43m,\u001b[49m\u001b[43m \u001b[49m\u001b[43mpath\u001b[49m\u001b[43m,\u001b[49m\u001b[43m \u001b[49m\u001b[43muse_timestamp\u001b[49m\u001b[43m=\u001b[49m\u001b[38;5;28;43;01mTrue\u001b[39;49;00m\u001b[43m)\u001b[49m\n\u001b[32m      3\u001b[39m \u001b[38;5;28mprint\u001b[39m(\u001b[33m\"\u001b[39m\u001b[33mModel saved to: \u001b[39m\u001b[33m\"\u001b[39m, best_model_saved)\n",
      "\u001b[31mTypeError\u001b[39m: AutoEmulate.save() got an unexpected keyword argument 'use_timestamp'"
     ]
    }
   ],
   "source": [
    "# The use_timestamp paramater ensures a new model is saved each time the save method is called\n",
    "best_model_saved = ae.save(best, path, use_timestamp=True)\n",
    "print(\"Model saved to: \", best_model_saved)"
   ]
  },
  {
   "cell_type": "code",
   "execution_count": null,
   "metadata": {},
   "outputs": [
    {
     "name": "stdout",
     "output_type": "stream",
     "text": [
      "INFO    2025-07-15 15:29:33,239 - autoemulate - Model loaded from my_emulators/GaussianProcessExact_20250715_152905\n"
     ]
    }
   ],
   "source": [
    "loaded_model = ae.load(best_model_saved)"
   ]
  },
  {
   "cell_type": "code",
   "execution_count": null,
   "metadata": {},
   "outputs": [
    {
     "data": {
      "text/plain": [
       "MultitaskMultivariateNormal(mean shape: torch.Size([10, 1]))"
      ]
     },
     "execution_count": 20,
     "metadata": {},
     "output_type": "execute_result"
    }
   ],
   "source": [
    "loaded_model.predict(x[:10])"
   ]
  }
 ],
 "metadata": {
  "kernelspec": {
   "display_name": "autoemulate-l4vGdsmY-py3.11",
   "language": "python",
   "name": "python3"
  },
  "language_info": {
   "codemirror_mode": {
    "name": "ipython",
    "version": 3
   },
   "file_extension": ".py",
   "mimetype": "text/x-python",
   "name": "python",
   "nbconvert_exporter": "python",
   "pygments_lexer": "ipython3",
   "version": "3.11.3"
  }
 },
 "nbformat": 4,
 "nbformat_minor": 2
}
