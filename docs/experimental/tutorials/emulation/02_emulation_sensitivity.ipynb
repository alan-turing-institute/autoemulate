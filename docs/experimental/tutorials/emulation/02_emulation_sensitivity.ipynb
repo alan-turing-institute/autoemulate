{
 "cells": [
  {
   "cell_type": "code",
   "execution_count": 1,
   "id": "4f786ba4",
   "metadata": {},
   "outputs": [],
   "source": [
    "from autoemulate.experimental.simulations.flow_problem import FlowProblem"
   ]
  },
  {
   "cell_type": "code",
   "execution_count": 2,
   "id": "9cbfa716",
   "metadata": {},
   "outputs": [],
   "source": [
    "param_ranges = {\"T\": (0.5, 2.0),\n",
    "                \"td\": (0.1, 0.5),\n",
    "                \"amp\": (100.0, 1000.0),\n",
    "                \"dt\": (0.0001, 0.01),\n",
    "                \"ncycles\": (5, 20),\n",
    "                \"ncomp\": (5, 20),\n",
    "                \"C\": (20.0, 60.0),\n",
    "                \"R\": (0.01, 0.1),\n",
    "                \"L\": (0.001, 0.005),\n",
    "                \"R_o\": (0.01, 0.05),\n",
    "                \"p_o\": (5.0, 15.0)}\n",
    "output_names = [\"pressure\"]\n",
    "\n",
    "simulator = FlowProblem(\n",
    "    param_ranges=param_ranges,\n",
    "    output_names=output_names,\n",
    ")"
   ]
  },
  {
   "cell_type": "code",
   "execution_count": 3,
   "id": "0e97a2ef",
   "metadata": {},
   "outputs": [
    {
     "data": {
      "text/plain": [
       "torch.Size([10, 11])"
      ]
     },
     "execution_count": 3,
     "metadata": {},
     "output_type": "execute_result"
    }
   ],
   "source": [
    "input_samples = simulator.sample_inputs(10)\n",
    "input_samples.shape"
   ]
  },
  {
   "cell_type": "code",
   "execution_count": 4,
   "id": "55dc984a",
   "metadata": {},
   "outputs": [
    {
     "name": "stdout",
     "output_type": "stream",
     "text": [
      "tensor([[14.5723,  1.6684, 14.5693,  3.3271, 14.5633,  4.9726, 14.5543,  6.5972,\n",
      "         14.5424,  8.1926, 14.5275,  9.7538, 14.5099, 11.2748, 14.4895, 12.7520,\n",
      "         14.4664, 14.1805, 14.4408, 15.5516, 14.4126, 16.8560]])\n"
     ]
    },
    {
     "data": {
      "text/plain": [
       "torch.Size([1, 22])"
      ]
     },
     "execution_count": 4,
     "metadata": {},
     "output_type": "execute_result"
    }
   ],
   "source": [
    "single_output = simulator.forward(\n",
    "    input_samples[0:1]\n",
    ")\n",
    "\n",
    "print(single_output)\n",
    "single_output.shape"
   ]
  },
  {
   "cell_type": "code",
   "execution_count": 5,
   "id": "aec58b48",
   "metadata": {},
   "outputs": [],
   "source": [
    "# problem = {\n",
    "#     'num_vars': simulator.in_dim,\n",
    "#     'names': simulator.param_names,\n",
    "#     'bounds': simulator.param_bounds\n",
    "#     }\n",
    "# sa = SensitivityAnalysis(emulator, problem=problem)\n",
    "# df = sa.run(\"sobol\")\n",
    "# sa.plot(df)"
   ]
  }
 ],
 "metadata": {
  "kernelspec": {
   "display_name": "autoemulate-l4vGdsmY-py3.11",
   "language": "python",
   "name": "python3"
  },
  "language_info": {
   "codemirror_mode": {
    "name": "ipython",
    "version": 3
   },
   "file_extension": ".py",
   "mimetype": "text/x-python",
   "name": "python",
   "nbconvert_exporter": "python",
   "pygments_lexer": "ipython3",
   "version": "3.11.3"
  }
 },
 "nbformat": 4,
 "nbformat_minor": 5
}
