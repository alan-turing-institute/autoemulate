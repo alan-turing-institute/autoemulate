{
 "cells": [
  {
   "cell_type": "markdown",
   "id": "0",
   "metadata": {},
   "source": [
    "# Adding emulators\n",
    "\n",
    "In addition to providing a library of core emulators, AutoEmulate is designed to be easily extensible. This tutorial walks you through the steps of adding new emulators to the library. We cover two scenarios: adding new Gaussian Process kernels and adding entirely new models."
   ]
  },
  {
   "cell_type": "markdown",
   "id": "1",
   "metadata": {},
   "source": [
    "## 1. Adding Gaussian Process kernels\n",
    "\n",
    "Gaussian Processes (GPs) are primarily defined by their kernel functions, which determine the covariance structure of the data. AutoEmulate includes several built-in GP kernels:\n",
    "- Radial Basis Function (RBF)\n",
    "- Matern 3/2\n",
    "- Matern 5/2\n",
    "- Rational Quadratic (RQ)\n",
    "- Linear\n",
    "\n",
    "You can easily create new kernels by composing any two or more of these existing kernels. For example, you might want to create a kernel that combines the RBF and Linear kernels to capture both smooth variations and linear trends in your data.\n",
    "\n",
    "In AutoEmulate, each kernel is defined by an initialisation function that takes as inputs the number of data input features and the number of output features. Below we define a custom kernel function following this pattern."
   ]
  },
  {
   "cell_type": "code",
   "execution_count": null,
   "id": "2",
   "metadata": {},
   "outputs": [],
   "source": [
    "from autoemulate.emulators.gaussian_process.kernel import rbf_kernel, linear_kernel\n",
    "\n",
    "def rbs_plus_linear_kernel(n_features, n_outputs):\n",
    "    \"\"\"\n",
    "    Example of a custom kernel function that combines RBF and linear kernels.\n",
    "    \"\"\"\n",
    "    return rbf_kernel(n_features, n_outputs) + linear_kernel(n_features, n_outputs)"
   ]
  },
  {
   "cell_type": "markdown",
   "id": "3",
   "metadata": {},
   "source": [
    "Once this function has been defined, you can create a new GP emulator class using the `create_gp_subclass` function."
   ]
  },
  {
   "cell_type": "code",
   "execution_count": null,
   "id": "4",
   "metadata": {},
   "outputs": [],
   "source": [
    "from autoemulate.emulators.gaussian_process.exact import GaussianProcess, create_gp_subclass\n",
    "\n",
    "GaussianProcessRBFandLinear = create_gp_subclass(\n",
    "   \"GaussianProcessRBFandLinear\", \n",
    "   GaussianProcess, \n",
    "   # the custom kernel function goes here\n",
    "   covar_module_fn=rbs_plus_linear_kernel,\n",
    ")"
   ]
  },
  {
   "cell_type": "markdown",
   "id": "5",
   "metadata": {},
   "source": [
    "Now we can tell AutoEmulate to use the new GP class by passing it to the `models` argument when initialising an `AutoEmulate` object."
   ]
  },
  {
   "cell_type": "code",
   "execution_count": null,
   "id": "6",
   "metadata": {},
   "outputs": [],
   "source": [
    "from autoemulate import AutoEmulate\n",
    "import torch\n",
    "\n",
    "# create some example data\n",
    "x = torch.linspace(0, 1, 100).unsqueeze(-1)\n",
    "y = torch.sin(2 * 3.14 * x) + 0.1 * torch.randn_like(x)\n",
    "\n",
    "ae = AutoEmulate(x, y, models=[GaussianProcessRBFandLinear])"
   ]
  },
  {
   "cell_type": "code",
   "execution_count": null,
   "id": "7",
   "metadata": {},
   "outputs": [],
   "source": [
    "ae.summarise()"
   ]
  },
  {
   "cell_type": "markdown",
   "id": "8",
   "metadata": {},
   "source": [
    "\n",
    "\n"
   ]
  }
 ],
 "metadata": {
  "kernelspec": {
   "display_name": "autoemulate",
   "language": "python",
   "name": "python3"
  },
  "language_info": {
   "codemirror_mode": {
    "name": "ipython",
    "version": 3
   },
   "file_extension": ".py",
   "mimetype": "text/x-python",
   "name": "python",
   "nbconvert_exporter": "python",
   "pygments_lexer": "ipython3",
   "version": "3.12.7"
  }
 },
 "nbformat": 4,
 "nbformat_minor": 5
}
