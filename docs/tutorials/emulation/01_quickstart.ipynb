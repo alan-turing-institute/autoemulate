{
 "cells": [
  {
   "cell_type": "markdown",
   "metadata": {},
   "source": [
    "# Quickstart\n",
    "\n",
    "`AutoEmulate`'s goal is to make it easy to create an emulator for your simulation.\n",
    "\n",
    "This tutorial's purpose is to walk you through the the basic functionality of the Python API using simple toy simulation as example.\n",
    "\n",
    "We'll demonstrate following steps:\n",
    "1. Getting input and output tensor data from our example simulation\n",
    "2. Creating, comparing and evaluating Emulators with `AutoEmulate`\n",
    "3. Using an `Emulator` model to predict outputs for new inputs\n",
    "4. Saving `Emulator` models (and associated metadata) to disk"
   ]
  },
  {
   "cell_type": "code",
   "execution_count": null,
   "metadata": {},
   "outputs": [],
   "source": [
    "# General imports for the notebook\n",
    "import warnings\n",
    "warnings.filterwarnings(\"ignore\")"
   ]
  },
  {
   "cell_type": "markdown",
   "metadata": {},
   "source": [
    "## Toy simulation\n",
    "\n",
    "Before we build an emulator with AutoEmulate, we need to get a set of input/output pairs from our simulation to use as training data.\n",
    "\n",
    "Below is a toy simulation for a projectile's motion with drag (see [here](https://mogp-emulator.readthedocs.io/en/latest/intro/tutorial.html) for details). The simulation includes:\n",
    "- Inputs: drag coefficient (log scale), velocity\n",
    "- Outputs: distance the projectile travelled\n"
   ]
  },
  {
   "cell_type": "code",
   "execution_count": null,
   "metadata": {},
   "outputs": [],
   "source": [
    "from autoemulate.simulations.projectile import Projectile\n",
    "\n",
    "projectile = Projectile(log_level=\"error\")\n",
    "n_samples = 500\n",
    "x = projectile.sample_inputs(n_samples).float()\n",
    "y = projectile.forward_batch(x).float()\n",
    "\n",
    "x.shape, y.shape"
   ]
  },
  {
   "cell_type": "markdown",
   "metadata": {},
   "source": [
    "### Data\n",
    "\n",
    "As you can see, our simulator inputs (`x`) and outputs (`y`) are PyTorch tensors.\n",
    "PyTorch tensors are a common data structure used in machine learning, and `AutoEmulate` is built to work with them."
   ]
  },
  {
   "cell_type": "markdown",
   "metadata": {},
   "source": [
    "## Build and compare Emulators\n",
    "\n",
    "With our simulator inputs and outputs, we can run a full machine learning pipeline, including data processing, model fitting, model selection and hyperparameter optimisation in just a few lines of code.\n",
    "\n",
    "First, let's import `AutoEmulate` and check the names of the available Emulator models.\n"
   ]
  },
  {
   "cell_type": "code",
   "execution_count": null,
   "metadata": {},
   "outputs": [],
   "source": [
    "from autoemulate.core.compare import AutoEmulate\n",
    "\n",
    "AutoEmulate.list_emulators()"
   ]
  },
  {
   "cell_type": "markdown",
   "metadata": {},
   "source": [
    "We're now ready run `AutoEmulate` to build and compare emulators.\n",
    "\n",
    "This will fit (including hyperparameter tuning) emulator models to the simulation input and output to the data, evaluating performance on witheld test data."
   ]
  },
  {
   "cell_type": "code",
   "execution_count": null,
   "metadata": {},
   "outputs": [],
   "source": [
    "# Run AutoEmulate with default settings\n",
    "ae = AutoEmulate(x, y, log_level=\"error\")"
   ]
  },
  {
   "cell_type": "markdown",
   "metadata": {},
   "source": [
    "For more information about the configuration options available, see the [AutoEmulate API docs](https://alan-turing-institute.github.io/autoemulate/reference/index.html).\n",
    "Here's a brief overview of some important options:\n",
    "\n",
    "<details>\n",
    "\n",
    "<summary>Model selection</summary>\n",
    "\n",
    "By default, `AutoEmulate` will use of all the listed emulator models, but you can also specify a subset to use if you already know which kinds of models are suitable for your data.\n",
    "\n",
    "Specify models used by AutoEmulate with the `models` argument, for example:\n",
    "```python\n",
    "from autoemulate.emulators import GaussianProcessExact, RadialBasisFunctions\n",
    "models = [\"GaussianProcessExact\", \"RadialBasisFunctions\"]\n",
    "ae = AutoEmulate(x, y, models=models)\n",
    "```\n",
    "\n",
    "</details>\n",
    "\n",
    "<details>\n",
    "\n",
    "<summary>Logging</summary>\n",
    "\n",
    "When running `AutoEmulate`, you may also wish to enable logging to track the progress and performance of the emulator comparison. You can do this by setting the `log_level` argument when creating the `AutoEmulate` instance:\n",
    "```python\n",
    "ae = AutoEmulate(x, y, models=models, log_level=\"info\")\n",
    "```\n",
    "\n",
    "Try setting various log levels to see the difference. The options are \"progress_bar\", \"debug\", \"info\", \"warning\", \"error\", or \"critical\".\n",
    "\n",
    "</details>\n",
    "\n",
    "Now that we have run `AutoEmulate`, let's look at the summary for a comparison of emulator performance (r-squared and RMSE) on both the train and test data."
   ]
  },
  {
   "cell_type": "code",
   "execution_count": null,
   "metadata": {},
   "outputs": [],
   "source": [
    "ae.summarise()"
   ]
  },
  {
   "cell_type": "markdown",
   "metadata": {},
   "source": [
    "# Choosing an Emulator\n",
    "\n",
    "From this list, we can choose an emulator based on the index from the summary dataframe, or quickly get the best performing one using the `best_result` function, which picks based on the `r2_test` metric by default."
   ]
  },
  {
   "cell_type": "code",
   "execution_count": null,
   "metadata": {},
   "outputs": [],
   "source": [
    "best = ae.best_result()\n",
    "print(\"Model with id: \", best.id, \" performed best: \", best.model_name)"
   ]
  },
  {
   "cell_type": "markdown",
   "metadata": {},
   "source": [
    "Let's take a look at the configuration of the best model. These are the values of the model's hyperparameters."
   ]
  },
  {
   "cell_type": "code",
   "execution_count": null,
   "metadata": {},
   "outputs": [],
   "source": [
    "print(best.params)"
   ]
  },
  {
   "cell_type": "markdown",
   "metadata": {},
   "source": [
    "We can quickly visualise the performance of this Emulator with a plot of its predictions against the simulator outputs for the heldout test data."
   ]
  },
  {
   "cell_type": "code",
   "execution_count": null,
   "metadata": {},
   "outputs": [],
   "source": [
    "ae.plot(best)"
   ]
  },
  {
   "cell_type": "markdown",
   "metadata": {},
   "source": [
    "## Predictions\n",
    "\n",
    "We can use the emulator to make predictions using the `predict` method.\n"
   ]
  },
  {
   "cell_type": "code",
   "execution_count": null,
   "metadata": {},
   "outputs": [],
   "source": [
    "best.model.predict(x[:10])"
   ]
  },
  {
   "cell_type": "markdown",
   "metadata": {},
   "source": [
    "# Saving and loading emulators\n",
    "\n",
    "Emulators and their metadata (hyperparameter config and performance metrics) can be saved to disk and loaded again later."
   ]
  },
  {
   "cell_type": "code",
   "execution_count": null,
   "metadata": {},
   "outputs": [],
   "source": [
    "# Make a directory to save Emulator models\n",
    "import os\n",
    "path = \"my_emulators\"\n",
    "if not os.path.exists(path):\n",
    "    os.makedirs(path)"
   ]
  },
  {
   "cell_type": "markdown",
   "metadata": {},
   "source": [
    "Let's save the best result, the best performing emulator plus metadata, to disk."
   ]
  },
  {
   "cell_type": "code",
   "execution_count": null,
   "metadata": {},
   "outputs": [],
   "source": [
    "# The use_timestamp paramater ensures a new result is saved each time the save method is called\n",
    "best_result_filepath = ae.save(best, path, use_timestamp=True)\n",
    "print(\"Model and metadata saved to: \", best_result_filepath)"
   ]
  },
  {
   "cell_type": "markdown",
   "metadata": {},
   "source": [
    "You should now have a two files saved to disk, one with the emulator model and one with the metadata that has the same name and a `.csv` extension.\n",
    "\n",
    "You can later pass this filepath to the `load` method to use the model (and inspect its metadata) again."
   ]
  },
  {
   "cell_type": "code",
   "execution_count": null,
   "metadata": {},
   "outputs": [],
   "source": [
    "loaded_result = ae.load(best_result_filepath)"
   ]
  },
  {
   "cell_type": "code",
   "execution_count": null,
   "metadata": {},
   "outputs": [],
   "source": [
    "print(loaded_result.model_name)\n",
    "print(loaded_result.params)"
   ]
  },
  {
   "cell_type": "code",
   "execution_count": null,
   "metadata": {},
   "outputs": [],
   "source": [
    "loaded_result.model.predict(x[:10])"
   ]
  }
 ],
 "metadata": {
  "kernelspec": {
   "display_name": ".venv",
   "language": "python",
   "name": "python3"
  },
  "language_info": {
   "codemirror_mode": {
    "name": "ipython",
    "version": 3
   },
   "file_extension": ".py",
   "mimetype": "text/x-python",
   "name": "python",
   "nbconvert_exporter": "python",
   "pygments_lexer": "ipython3",
   "version": "3.12.11"
  }
 },
 "nbformat": 4,
 "nbformat_minor": 2
}
