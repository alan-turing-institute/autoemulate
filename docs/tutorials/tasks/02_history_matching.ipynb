{
 "cells": [
  {
   "cell_type": "code",
   "execution_count": null,
   "metadata": {},
   "outputs": [],
   "source": [
    "import torch\n",
    "\n",
    "import matplotlib.pyplot as plt\n",
    "\n",
    "from autoemulate.emulators import GaussianProcess\n",
    "from autoemulate.core.compare import AutoEmulate\n",
    "from autoemulate.simulations.projectile import Projectile\n",
    "from autoemulate.calibration.history_matching import HistoryMatching"
   ]
  },
  {
   "cell_type": "markdown",
   "metadata": {},
   "source": [
    "# History Matching"
   ]
  },
  {
   "cell_type": "markdown",
   "metadata": {},
   "source": [
    "In this tutorial we demonstrate the use of History Matching to determine which points in the input space are plausible given a set of observations. \n",
    "\n",
    "Performing History Matching requires:\n",
    "- a fit emulator that predicts uncertainty (e.g., Gaussian Process) and \n",
    "- an observation associated with the simulator output. \n",
    "\n",
    "The emulator is used to efficiently estimate the simulator output, accounting for all uncertainties. The emulated output is then compared with the observation and parameter inputs that are unlikely to produce the observation can then be “ruled out” as implausible, reducing the input space."
   ]
  },
  {
   "cell_type": "markdown",
   "metadata": {},
   "source": [
    "## 1. Simulate data and train an emulator\n",
    "\n",
    "In this example we use the `Projectile` simulator. It returns distance travelled by a projectile given a drag coefficient `c` and initial velocity `v0`."
   ]
  },
  {
   "cell_type": "code",
   "execution_count": null,
   "metadata": {},
   "outputs": [],
   "source": [
    "simulator = Projectile(log_level=\"error\", parameters_range={'c': (-5.0, 1.0), 'v0': (0.0, 10)})\n",
    "x = simulator.sample_inputs(1000)\n",
    "y, _ = simulator.forward_batch(x)"
   ]
  },
  {
   "cell_type": "code",
   "execution_count": null,
   "metadata": {},
   "outputs": [],
   "source": [
    "plt.scatter(x[:, 0], x[:, 1], c=y, cmap='viridis')\n",
    "plt.xlabel('Drag coefficient')\n",
    "plt.ylabel('Initial velocity')\n",
    "plt.colorbar(label=\"Distance\")\n",
    "plt.show"
   ]
  },
  {
   "cell_type": "markdown",
   "metadata": {},
   "source": [
    "Since we need an uncertainty aware emulator, we restrict AutoEmulate to only train a Gaussian Process. For the purposes of this tutorial, we use default parameters."
   ]
  },
  {
   "cell_type": "code",
   "execution_count": null,
   "metadata": {},
   "outputs": [],
   "source": [
    "ae = AutoEmulate(x, y, models=[GaussianProcess], model_params={}, log_level=\"error\")"
   ]
  },
  {
   "cell_type": "markdown",
   "metadata": {},
   "source": [
    "We can verify that the fitted emulator performs well on both the train and test data."
   ]
  },
  {
   "cell_type": "code",
   "execution_count": null,
   "metadata": {},
   "outputs": [],
   "source": [
    "ae.summarise()"
   ]
  },
  {
   "cell_type": "code",
   "execution_count": null,
   "metadata": {},
   "outputs": [],
   "source": [
    "model = ae.best_result().model"
   ]
  },
  {
   "cell_type": "markdown",
   "metadata": {},
   "source": [
    "## 2. Calibrate\n",
    "\n",
    "To instantiate the `HistoryMatching` object, we need an observed mean and, optionally, variance for each simulator output. "
   ]
  },
  {
   "cell_type": "code",
   "execution_count": null,
   "metadata": {},
   "outputs": [],
   "source": [
    "true_drag = -2.0\n",
    "true_velocity = 7.0\n",
    "distance = simulator.forward(torch.tensor([[true_drag, true_velocity]]))\n",
    "stdev = distance.item() * 0.05\n",
    "observation = {\"distance\": (distance.item(), stdev**2)}"
   ]
  },
  {
   "cell_type": "code",
   "execution_count": null,
   "metadata": {},
   "outputs": [],
   "source": [
    "distance"
   ]
  },
  {
   "cell_type": "code",
   "execution_count": null,
   "metadata": {},
   "outputs": [],
   "source": [
    "#  observed data: (mean, variance)\n",
    "hm = HistoryMatching(observations=observation)"
   ]
  },
  {
   "cell_type": "markdown",
   "metadata": {},
   "source": [
    "We also need predictions for a set of query points using the trained emulator. These must have uncertainty estimates."
   ]
  },
  {
   "cell_type": "code",
   "execution_count": null,
   "metadata": {},
   "outputs": [],
   "source": [
    "x_new = simulator.sample_inputs(1000)\n",
    "mean, variance = model.predict_mean_and_variance(x_new)"
   ]
  },
  {
   "cell_type": "markdown",
   "metadata": {},
   "source": [
    "Primary use of the `HistoryMatching` class is the `calculate_implausibility` method, which returns the implausibility metric (a number of standard deviations between the emulator mean and the observation) for the queried points."
   ]
  },
  {
   "cell_type": "code",
   "execution_count": null,
   "metadata": {},
   "outputs": [],
   "source": [
    "implausability = hm.calculate_implausibility(mean, variance)\n",
    "\n",
    "# first 10 implausability scores\n",
    "implausability[:10]"
   ]
  },
  {
   "cell_type": "markdown",
   "metadata": {},
   "source": [
    "The `get_nroy` method can be used to filter the queried points given the implausability scores and only retain those that have not been ruled out yet (NROY)."
   ]
  },
  {
   "cell_type": "code",
   "execution_count": null,
   "metadata": {},
   "outputs": [],
   "source": [
    "nroy_params = hm.get_nroy(implausability, x_new)"
   ]
  },
  {
   "cell_type": "markdown",
   "metadata": {},
   "source": [
    "Below we plot the NROY parameters against the true parameters used to generate the observed data. History matching has successfully ruled out a portion of the input space."
   ]
  },
  {
   "cell_type": "code",
   "execution_count": null,
   "metadata": {},
   "outputs": [],
   "source": [
    "fig, ax = plt.subplots(1, 2, figsize=(10, 4))\n",
    "\n",
    "ax[0].boxplot(nroy_params[:, 0], vert=True, patch_artist=True, boxprops=dict(facecolor='lightblue'))\n",
    "ax[0].axhline(true_drag, color=\"k\", linestyle=\"--\", label=\"True drag\")\n",
    "ax[0].set_ylabel(\"Drag coefficient\")\n",
    "ax[0].legend()\n",
    "\n",
    "ax[1].boxplot(nroy_params[:, 1], vert=True, patch_artist=True, boxprops=dict(facecolor='lightgreen'))\n",
    "ax[1].axhline(true_velocity, color=\"k\", linestyle=\"--\", label=\"True initial velocity\")\n",
    "ax[1].legend()\n",
    "ax[1].set_ylabel(\"Initial velocity\")\n",
    "\n",
    "plt.suptitle(\"Box plot of NROY parameters after history matching\")\n",
    "plt.show()"
   ]
  }
 ],
 "metadata": {
  "kernelspec": {
   "display_name": ".venv",
   "language": "python",
   "name": "python3"
  },
  "language_info": {
   "codemirror_mode": {
    "name": "ipython",
    "version": 3
   },
   "file_extension": ".py",
   "mimetype": "text/x-python",
   "name": "python",
   "nbconvert_exporter": "python",
   "pygments_lexer": "ipython3",
   "version": "3.12.7"
  }
 },
 "nbformat": 4,
 "nbformat_minor": 2
}
