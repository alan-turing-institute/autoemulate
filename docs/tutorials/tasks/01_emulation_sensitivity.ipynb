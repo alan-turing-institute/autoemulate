{
 "cells": [
  {
   "cell_type": "markdown",
   "id": "0",
   "metadata": {},
   "source": [
    "# Sensitivity Analysis\n",
    "\n",
    "In this tutorial we demonstrate how to perform sensitivity analysis as part of the `AutoEmulate` workflow. The tutorial covers:\n",
    "\n",
    "1. Setting up an example simulation: here we use our \"FlowProblem\" simulator. This is a cardiovascular modelling example, simulating a blood vessel divided into 10 compartments. This allows for the study of the pressure and flow rate at various points in the tube. See \"The Flow Problem\" below for more details.\n",
    "2. Running the simulation for 100 sets of parameters sampled from the parameter space.\n",
    "3. Using Autoemulate to find the best emulator for this simulation\n",
    "4. Performing sensitivity analysis.\n",
    "\n",
    "<details>\n",
    "<summary>The Flow Problem</summary>\n",
    "\n",
    "In the field of cardiovascular modeling, capturing the dynamics of blood flow and the associated pressures and volumes within the vascular system is crucial for understanding heart function and disease. This simulator simulates a vessel divided to 10 compartments.\n",
    "\n",
    "### Parameters\n",
    "\n",
    "The simulation parameters include :\n",
    "\n",
    "1. R (Resistance):\n",
    "   Represents the resistance to blood flow in blood vessels, akin to the hydraulic resistance caused by vessel diameter and blood viscosity (Analogous to electrical resistor).\n",
    "2. L (Inductance):\n",
    "   Represents the inertial effects of blood flow, capturing how blood resists changes in its velocity (Analogous to electrical inductor).\n",
    "3. C (Capacitance):\n",
    "   Represents the compliance or elasticity of blood vessels, primarily large arteries, which store and release blood volume with changes in pressure (Analogous to a capacitor).\n",
    "\n",
    "### Boundary conditions\n",
    "\n",
    "1. Neumann boundary condition : Specifies the derivative of the variable at the boundary.\n",
    "2. Dirichlet Boundary condition : Specifies the value of the variable directly at the boundary.\n",
    "\n",
    "### The setup\n",
    "\n",
    "The input flow rate in each compartment is $Q_i(t)$ for the $i^{th}$ compartment and the output flow rate is $Q_{i+1}(t)$.\n",
    "\n",
    "$Q_0(t) = \n",
    "\\begin{cases} \n",
    "A \\cdot \\sin^2\\left(\\frac{\\pi}{t_d} t\\right), & \\text{if } 0 \\leq t < T, \\\\\n",
    "0, & \\text{otherwise}.\n",
    "\\end{cases}$\n",
    "\n",
    "Where:\n",
    "\n",
    "- $Q_0(t)$ is the input pulse function (flow rate) at time t\n",
    "- A is the amplitude of the pulse\n",
    "- $t_d$ is the pulse duration.\n",
    "\n",
    "### Solve\n",
    "\n",
    "Pressure in Each Compartment ($P_i$): This determines how the pressure in each compartment evolves over time, based on the inflow ($Q_i(t)$) and the outflow ($Q_{i+1}(t)$). where $i$ is the number of compartment.\n",
    "\n",
    "<img src=\"../../../../misc/circuit.jpg\" alt=\"Circuit Diagram\" style=\"width:60%;\"/>\n",
    "\n",
    "$\\frac{dP_i}{dt} = \\frac{1}{C_n} \\left( Q_i(t) - Q_{i+1}(t) \\right)$ where, $C_n = \\frac{C}{n_\\text{comp}}$\n",
    "\n",
    "Flow rate equation ($Q_i$): This governs how the flow in each compartment changes over time, depending on the pressures in the neighboring compartments and the resistance and inertance properties of each compartment.\n",
    "\n",
    "$\\frac{dQ_i}{dt} = \\frac{1}{L_n} \\left( P_i - P_{10} - R_n Q_i(t) \\right)$, where $L_n = \\frac{L}{n_\\text{comp}}, \\quad R_n = \\frac{R}{n_\\text{comp}}$\n",
    "\n",
    "</details>\n"
   ]
  },
  {
   "cell_type": "code",
   "execution_count": null,
   "id": "1",
   "metadata": {},
   "outputs": [],
   "source": [
    "from autoemulate.core.compare import AutoEmulate\n",
    "from autoemulate.core.sensitivity_analysis import SensitivityAnalysis\n",
    "from autoemulate.simulations.flow_problem import FlowProblem\n",
    "import warnings\n",
    "warnings.filterwarnings(\"ignore\")\n",
    "figsize = (9, 5)"
   ]
  },
  {
   "cell_type": "markdown",
   "id": "2",
   "metadata": {},
   "source": [
    "Set up the simulation parameters and ranges:\n"
   ]
  },
  {
   "cell_type": "code",
   "execution_count": null,
   "id": "3",
   "metadata": {},
   "outputs": [],
   "source": [
    "parameters_range = {\n",
    "    \"T\": (0.5, 2.0), # Cardiac cycle period (s)\n",
    "    \"td\": (0.1, 0.5), # Pulse duration (s)\n",
    "    \"amp\": (100.0, 1000.0), # Amplitude (e.g., pressure or flow rate)\n",
    "    \"dt\": (0.0001, 0.01), # Time step (s)\n",
    "    \"C\": (20.0, 60.0), # Compliance (unit varies based on context)\n",
    "    \"R\": (0.01, 0.1), # Resistance (unit varies based on context)\n",
    "    \"L\": (0.001, 0.005), # Inductance (unit varies based on context)\n",
    "    \"R_o\": (0.01, 0.05), # Outflow resistance (unit varies based on context)\n",
    "    \"p_o\": (5.0, 15.0) # Initial pressure (unit varies based on context)\n",
    "}\n",
    "output_names = [\"pressure\"]\n",
    "\n",
    "simulator = FlowProblem(\n",
    "    parameters_range=parameters_range,\n",
    "    output_names=output_names,\n",
    "    log_level=\"error\"\n",
    ")"
   ]
  },
  {
   "cell_type": "markdown",
   "id": "4",
   "metadata": {},
   "source": [
    "Run the simulation for 100 sets of parameters sampled from the parameter space:\n"
   ]
  },
  {
   "cell_type": "code",
   "execution_count": null,
   "id": "5",
   "metadata": {},
   "outputs": [],
   "source": [
    "x = simulator.sample_inputs(100)\n",
    "y = simulator.forward_batch(x)"
   ]
  },
  {
   "cell_type": "code",
   "execution_count": null,
   "id": "6",
   "metadata": {},
   "outputs": [],
   "source": [
    "print(x.shape, y.shape)"
   ]
  },
  {
   "cell_type": "markdown",
   "id": "7",
   "metadata": {},
   "source": [
    "Use AutoEmulate to find the best emulator for this simulation:\n"
   ]
  },
  {
   "cell_type": "code",
   "execution_count": null,
   "id": "8",
   "metadata": {},
   "outputs": [],
   "source": [
    "ae = AutoEmulate(x, y, models=[\"MLP\", \"GP\"], log_level=\"error\")  # remove models argument to use all models\n",
    "best = ae.best_result()\n",
    "print(best.model_name)"
   ]
  },
  {
   "cell_type": "markdown",
   "id": "9",
   "metadata": {},
   "source": [
    "### Sensitivity Analysis\n",
    "\n",
    "1. Define the problem by creating a dictionary which contains the names and the boundaries of the parameters\n",
    "2. Evaluate the contribution of each parameter via the Sobol and Morris methods.\n"
   ]
  },
  {
   "cell_type": "code",
   "execution_count": null,
   "id": "10",
   "metadata": {},
   "outputs": [],
   "source": [
    "problem = {\n",
    "    'num_vars': simulator.in_dim,\n",
    "    'names': simulator.param_names,\n",
    "    'bounds': simulator.param_bounds,\n",
    "    'output_names': simulator.output_names,\n",
    "}\n",
    "sa = SensitivityAnalysis(best.model, problem=problem)"
   ]
  },
  {
   "cell_type": "markdown",
   "id": "11",
   "metadata": {},
   "source": [
    "Sobol metrics:\n",
    "\n",
    "- $S_1$: First-order sensitivity index.\n",
    "- $S_2$: Second-order sensitivity index.\n",
    "- $S_t$: Total sensitivity index.\n",
    "\n",
    "Sobol interpretation:\n",
    "\n",
    "- $S_1$ values sum to ≤ 1.0 (exact fraction of variance explained)\n",
    "- $S_t - S_1$ = interaction effects involving that parameter\n",
    "- Large $S_t - S_1$ gap indicates strong interactions\n"
   ]
  },
  {
   "cell_type": "code",
   "execution_count": null,
   "id": "12",
   "metadata": {},
   "outputs": [],
   "source": [
    "sobol_df = sa.run(\"sobol\")\n",
    "sobol_df"
   ]
  },
  {
   "cell_type": "code",
   "execution_count": null,
   "id": "13",
   "metadata": {},
   "outputs": [],
   "source": [
    "sa.plot_sobol(sobol_df, index=\"ST\", figsize=figsize) "
   ]
  },
  {
   "cell_type": "markdown",
   "id": "14",
   "metadata": {},
   "source": [
    "You can also save the plot directly to a file by passing the `fname` argument to the plotting function. "
   ]
  },
  {
   "cell_type": "code",
   "execution_count": null,
   "id": "15",
   "metadata": {},
   "outputs": [],
   "source": [
    "sa.plot_sobol(sobol_df, index=\"ST\", figsize=figsize, fname=\"sobol_plot.png\") "
   ]
  },
  {
   "cell_type": "markdown",
   "id": "16",
   "metadata": {},
   "source": [
    "Morris Interpretation:\n",
    "\n",
    "- High $\\mu^*$, Low $\\sigma$: Important parameter with linear/monotonic effects\n",
    "- High $\\mu^*$, High $\\sigma$: Important parameter with non-linear effects or interactions\n",
    "- Low $\\mu^*$, High $\\sigma$: Parameter involved in interactions but not individually important\n",
    "- Low $\\mu^*$, Low $\\sigma$: Unimportant parameter\n"
   ]
  },
  {
   "cell_type": "code",
   "execution_count": null,
   "id": "17",
   "metadata": {},
   "outputs": [],
   "source": [
    "morris_df = sa.run(\"morris\")\n",
    "morris_df"
   ]
  },
  {
   "cell_type": "code",
   "execution_count": null,
   "id": "18",
   "metadata": {},
   "outputs": [],
   "source": [
    "sa.plot_morris(morris_df, figsize=figsize)"
   ]
  }
 ],
 "metadata": {
  "kernelspec": {
   "display_name": "autoemulate-py3.12",
   "language": "python",
   "name": "python3"
  },
  "language_info": {
   "codemirror_mode": {
    "name": "ipython",
    "version": 3
   },
   "file_extension": ".py",
   "mimetype": "text/x-python",
   "name": "python",
   "nbconvert_exporter": "python",
   "pygments_lexer": "ipython3",
   "version": "3.12.7"
  }
 },
 "nbformat": 4,
 "nbformat_minor": 5
}
