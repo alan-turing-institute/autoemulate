{
 "cells": [
  {
   "cell_type": "markdown",
   "id": "0",
   "metadata": {},
   "source": [
    "# Custom Simulations\n",
    "\n",
    "Some features in AutoEmuluate can be run simply on data where as other require a simulation to be run. For example, features such as *active learning*, require the user to provide a simulator that can be run by AutoEmulate. This tutorial will step through how to do this. \n"
   ]
  },
  {
   "cell_type": "markdown",
   "id": "1",
   "metadata": {},
   "source": [
    "## The Simulator Class\n",
    "\n",
    "The simulator class is a Base Python Class that can be inherited to create a custom simulator. The simulator class requires the user to implement the following: \n",
    "\n",
    "- `parameter_range`: A parameter set at class inititation. A dictionary of str to tuple pairs. The string is the name of the prameter and the tuple is the min and max value of the parameter. A range is given because the simulator will sample prior to running the simulation from this distribution.\n",
    "- `output_variables`: A parameter set at class initiation. A list of strings that are the names of the outputs that the simulator will return.\n",
    "- `_forward`: An abstract method that must be implemented by the user. This method will define a single forward pass of the simulation, taking in the input parameters and returning the output variables. *There are some important rules for this method:*\n",
    "  - The input to the method must be a tensor of shape `(1, n)` where `n` is the number of input parameters.\n",
    "  - The output of th method must be a tensor of shape `(1, m)` where `m` is the number of output variables. \n",
    "  - If the simulation fails, it must output `None`.\n"
   ]
  },
  {
   "cell_type": "markdown",
   "id": "2",
   "metadata": {},
   "source": [
    "Below is an example of a custom simulator that can be used with AutoEmulate. \n",
    "\n",
    "The example is a projectile simulation, where we will simulate the distance travelled given a launch angle and initial velocity. "
   ]
  },
  {
   "cell_type": "code",
   "execution_count": null,
   "id": "3",
   "metadata": {},
   "outputs": [],
   "source": [
    "from autoemulate.simulations.base import Simulator\n",
    "import torch"
   ]
  },
  {
   "cell_type": "code",
   "execution_count": null,
   "id": "4",
   "metadata": {},
   "outputs": [],
   "source": [
    "class Projectile(Simulator):\n",
    "    \"\"\"\n",
    "    Simulator of projectile motion.\n",
    "    \"\"\"\n",
    "\n",
    "    def __init__(self, param_ranges, output_names):\n",
    "        super().__init__(param_ranges, output_names, log_level=\"error\")\n",
    "\n",
    "    def _forward(self, x):\n",
    "        \"\"\"\n",
    "        Calculate the horizontal distance a projectile travels using PyTorch.\n",
    "\n",
    "        Parameters:\n",
    "        ----------\n",
    "        velocity: float or torch.Tensor \n",
    "            Initial velocity in m/s.\n",
    "        angle_degrees: float or torch.Tensor \n",
    "            Launch angle in degrees.\n",
    "\n",
    "        Returns:\n",
    "        -------\n",
    "        torch.Tensor \n",
    "            Distance traveled in meters.\n",
    "        \"\"\"\n",
    "        # Extract velocity and angle from input tensor\n",
    "        angle_degrees = x[:, 0]\n",
    "        velocity = x[:, 1]\n",
    "\n",
    "        # Convert angle from degrees to radians and calculate distance\n",
    "        angle_radians = torch.deg2rad(angle_degrees)\n",
    "\n",
    "        # Calculate the distance using the projectile motion formula\n",
    "        distance = (velocity ** 2) * torch.sin(2 * angle_radians) / 9.81\n",
    "\n",
    "        # Ensure the output is a 2D tensor\n",
    "        if distance.ndim == 1:\n",
    "            distance = distance.unsqueeze(1)\n",
    "        return distance\n"
   ]
  },
  {
   "cell_type": "code",
   "execution_count": null,
   "id": "5",
   "metadata": {},
   "outputs": [],
   "source": [
    "param_ranges = {\"angle\": (5, 85), \"velocity\": (0.0, 1000)}\n",
    "output_names = [\"distance\"]\n",
    "\n",
    "projectile_simulator = Projectile(param_ranges=param_ranges, output_names=output_names)"
   ]
  },
  {
   "cell_type": "markdown",
   "id": "6",
   "metadata": {},
   "source": [
    "## What can the simulator do?"
   ]
  },
  {
   "cell_type": "markdown",
   "id": "7",
   "metadata": {},
   "source": [
    "The first thing to do is sample inputs from the parameter space. In the following cell, we sample 10 times. This is appended into a single tensor of shape `(10, 2)` where the first column is the angle and the second column is the velocity. \n",
    "\n",
    "The `input_samples` method implements latin hypercube sampling of the input parameters. However, if you have a preferred sampling method, you can simply override this method.  "
   ]
  },
  {
   "cell_type": "code",
   "execution_count": null,
   "id": "8",
   "metadata": {},
   "outputs": [],
   "source": [
    "input_samples = projectile_simulator.sample_inputs(10)\n",
    "\n",
    "print(input_samples.shape)"
   ]
  },
  {
   "cell_type": "markdown",
   "id": "9",
   "metadata": {},
   "source": [
    "These input samples can now be passed to the simulator to run a simulation. The `forward` method will simulate a single forward pass of the simulation whereas `forward_batch` will simulate a batch of forward passes. \n",
    "\n"
   ]
  },
  {
   "cell_type": "code",
   "execution_count": null,
   "id": "10",
   "metadata": {},
   "outputs": [],
   "source": [
    "single_output = projectile_simulator.forward(input_samples[0:1])\n",
    "\n",
    "print(\"Single output: \", single_output)\n",
    "print(\"Single output shape: \", single_output.shape)"
   ]
  },
  {
   "cell_type": "code",
   "execution_count": null,
   "id": "11",
   "metadata": {},
   "outputs": [],
   "source": [
    "multiple_output = projectile_simulator.forward_batch(input_samples)\n",
    "\n",
    "print(\"Multiple output: \", multiple_output)\n",
    "print(\"Multiple output shape: \", multiple_output.shape)"
   ]
  },
  {
   "cell_type": "markdown",
   "id": "12",
   "metadata": {},
   "source": [
    "You can access the outputs of the simulation in a dictionary format by calling the `get_outputs_as_dict()` method. This is most useful in the cases where the simulator has multiple outputs. "
   ]
  },
  {
   "cell_type": "code",
   "execution_count": null,
   "id": "13",
   "metadata": {},
   "outputs": [],
   "source": [
    "outputs_dict = projectile_simulator.get_outputs_as_dict()\n",
    "outputs_dict"
   ]
  },
  {
   "cell_type": "markdown",
   "id": "14",
   "metadata": {},
   "source": [
    "## Lets look at the results of 10,000 simulations"
   ]
  },
  {
   "cell_type": "code",
   "execution_count": null,
   "id": "15",
   "metadata": {},
   "outputs": [],
   "source": [
    "inputs = projectile_simulator.sample_inputs(10_000)\n",
    "outputs = projectile_simulator.forward_batch(inputs)"
   ]
  },
  {
   "cell_type": "code",
   "execution_count": null,
   "id": "16",
   "metadata": {},
   "outputs": [],
   "source": [
    "import matplotlib.pyplot as plt\n",
    "\n",
    "plt.figure(figsize=(8, 6))\n",
    "sc = plt.scatter(\n",
    "    inputs[:, 0].numpy(),  # angle\n",
    "    inputs[:, 1].numpy(),  # velocity\n",
    "    c=outputs[:, 0].numpy(),  # distance\n",
    "    cmap='viridis',\n",
    "    s=6\n",
    ")\n",
    "plt.xlabel('Angle (degrees)')\n",
    "plt.ylabel('Velocity (m/s)')\n",
    "plt.title('Projectile Distance by Angle and Velocity')\n",
    "plt.colorbar(sc, label='Distance (m)')\n",
    "plt.show()\n"
   ]
  },
  {
   "cell_type": "code",
   "execution_count": null,
   "id": "17",
   "metadata": {},
   "outputs": [],
   "source": []
  }
 ],
 "metadata": {
  "kernelspec": {
   "display_name": ".venv",
   "language": "python",
   "name": "python3"
  },
  "language_info": {
   "codemirror_mode": {
    "name": "ipython",
    "version": 3
   },
   "file_extension": ".py",
   "mimetype": "text/x-python",
   "name": "python",
   "nbconvert_exporter": "python",
   "pygments_lexer": "ipython3",
   "version": "3.12.9"
  }
 },
 "nbformat": 4,
 "nbformat_minor": 5
}
