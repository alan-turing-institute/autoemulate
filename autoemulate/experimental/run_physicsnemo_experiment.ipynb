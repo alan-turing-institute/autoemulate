{
 "cells": [
  {
   "cell_type": "code",
   "execution_count": null,
   "id": "0",
   "metadata": {},
   "outputs": [],
   "source": [
    "\"\"\"https://docs.nvidia.com/physicsnemo/latest/user-guide/simple_training_example.html.\"\"\"\n",
    "\n",
    "from pathlib import Path\n",
    "import physicsnemo\n",
    "import torch\n",
    "# from physicsnemo.datapipes.benchmarks.darcy import Darcy2D\n",
    "from physicsnemo.metrics.general.mse import mse\n",
    "# from physicsnemo.models.fno.fno import FNO\n",
    "import logging\n",
    "from the_well.data.datamodule import WellDataModule\n",
    "from the_well.data.datasets import WellDataset\n",
    "from the_well.benchmark.metrics import VRMSE, RMSE\n",
    "from einops import rearrange\n",
    "\n",
    "# Make a datamodule\n",
    "logging.basicConfig(level=logging.INFO)\n",
    "n_steps_input = 4\n",
    "n_steps_output = 1\n",
    "well_dataset_name=\"turbulent_radiative_layer_2D\"\n",
    "ae_data_module = WellDataModule(\n",
    "    well_base_path=\"./exploratory/data/the_well/datasets\",\n",
    "    well_dataset_name=well_dataset_name,\n",
    "    n_steps_input=n_steps_input,\n",
    "    n_steps_output=n_steps_output,\n",
    "    batch_size=4,\n",
    "    train_dataset=WellDataset,\n",
    ")\n",
    "output_path = Path(\"./exploratory/data/the_well/runs\") / f\"{well_dataset_name}_fno_physicsnemo\""
   ]
  },
  {
   "cell_type": "code",
   "execution_count": null,
   "id": "1",
   "metadata": {},
   "outputs": [],
   "source": [
    "# class PhysicsNemoFNOModel(physicsnemo.models.fno.fno.FNO):\n",
    "from einops import rearrange\n",
    "from torch import nn\n",
    "from neuralop.models.fno import FNO\n",
    "from dataclasses import dataclass\n",
    "from physicsnemo.models.meta import ModelMetaData\n",
    "from physicsnemo.models.module import Module\n",
    "\n",
    "@dataclass\n",
    "class MetaData(ModelMetaData):\n",
    "    name: str = \"FNONemo\"\n",
    "    # Optimization\n",
    "    jit: bool = False\n",
    "    cuda_graphs: bool = True\n",
    "    amp_cpu: bool = True\n",
    "    amp_gpu: bool = True\n",
    "\n",
    "class FNONemo(Module):\n",
    "    nn: FNO\n",
    "\n",
    "    def __init__(self, *args, **kwargs):\n",
    "        super(FNONemo, self).__init__(meta=MetaData())\n",
    "        self.nn = FNO(*args, **kwargs)\n",
    "    def forward(self, x):\n",
    "        # TODO: explore normalization options\n",
    "        x = rearrange(x, \"b t h w c -> b (t c) h w\")\n",
    "        y_pred = self.nn(x)\n",
    "        y_pred = rearrange(y_pred, \"b c h w -> b 1 h w c\")\n",
    "        return y_pred\n",
    "\n",
    "# MyFNOModelFromTorch = Module.from_torch(MyFNO, meta=MetaData)\n"
   ]
  },
  {
   "cell_type": "code",
   "execution_count": null,
   "id": "2",
   "metadata": {},
   "outputs": [],
   "source": [
    "dataloader = ae_data_module.train_dataloader()\n"
   ]
  },
  {
   "cell_type": "code",
   "execution_count": null,
   "id": "3",
   "metadata": {},
   "outputs": [],
   "source": [
    "dataloader = ae_data_module.train_dataloader()\n",
    "dataloader_iter = iter(dataloader)\n",
    "batch = next(dataloader_iter)"
   ]
  },
  {
   "cell_type": "code",
   "execution_count": null,
   "id": "4",
   "metadata": {},
   "outputs": [],
   "source": [
    "_, n_time_steps, height, width, n_channels = batch[\"input_fields\"].shape"
   ]
  },
  {
   "cell_type": "code",
   "execution_count": null,
   "id": "5",
   "metadata": {},
   "outputs": [],
   "source": [
    "dataloader = ae_data_module.train_dataloader()\n",
    "model = FNONemo(\n",
    "    n_modes=(16, 16),\n",
    "    hidden_channels=16,\n",
    "    in_channels=n_steps_input * n_channels,\n",
    "    out_channels=n_steps_output * n_channels,\n",
    ")\n",
    "\n",
    "optimizer = torch.optim.Adam(model.parameters(), lr=0.01)\n",
    "scheduler = torch.optim.lr_scheduler.LambdaLR(\n",
    "    optimizer, lr_lambda=lambda step: 0.85**step\n",
    ")\n",
    "\n",
    "for epoch in range(20):\n",
    "    for batch_idx, batch in enumerate(ae_data_module.train_dataloader()):\n",
    "        optimizer.zero_grad()\n",
    "        y_true = batch[\"output_fields\"]\n",
    "        x = batch[\"input_fields\"]\n",
    "        y_pred = model(x)\n",
    "        loss = mse(y_pred, y_true)\n",
    "        loss.backward()\n",
    "        optimizer.step()\n",
    "        scheduler.step()\n",
    "\n",
    "        print(f\"Epoch: {epoch}, Iteration: {batch_idx}. Loss: {loss.detach().cpu().numpy()}\")"
   ]
  },
  {
   "cell_type": "code",
   "execution_count": null,
   "id": "6",
   "metadata": {},
   "outputs": [],
   "source": [
    "# https://docs.nvidia.com/physicsnemo/latest/user-guide/simple_training_example.html#running-inference-on-trained-models\n",
    "\n",
    "\n",
    "# Save the checkpoint. For demo, we will just save untrained checkpoint,\n",
    "# but in typical workflows is saved after model training.\n",
    "model.save(\"untrained_checkpoint.mdlus\")\n",
    "\n",
    "# Inference code\n",
    "\n",
    "# The parameters to instantitate the model will be loaded from the checkpoint\n",
    "model_inf = physicsnemo.Module.from_checkpoint(\"untrained_checkpoint.mdlus\")\n"
   ]
  },
  {
   "cell_type": "code",
   "execution_count": null,
   "id": "7",
   "metadata": {},
   "outputs": [],
   "source": [
    "# Crashing here\n",
    "batch = next(iter(ae_data_module.val_dataloader()))"
   ]
  },
  {
   "cell_type": "code",
   "execution_count": null,
   "id": "8",
   "metadata": {},
   "outputs": [],
   "source": [
    "\n",
    "# put the model in evaluation mode\n",
    "model_inf.eval()\n",
    "\n",
    "# run inference\n",
    "with torch.inference_mode():\n",
    "    batch = next(iter(ae_data_module.test_dataloader()))\n",
    "    output = model_inf(batch[\"input_fields\"])\n"
   ]
  }
 ],
 "metadata": {
  "kernelspec": {
   "display_name": ".venv",
   "language": "python",
   "name": "python3"
  },
  "language_info": {
   "codemirror_mode": {
    "name": "ipython",
    "version": 3
   },
   "file_extension": ".py",
   "mimetype": "text/x-python",
   "name": "python",
   "nbconvert_exporter": "python",
   "pygments_lexer": "ipython3",
   "version": "3.11.14"
  }
 },
 "nbformat": 4,
 "nbformat_minor": 5
}
