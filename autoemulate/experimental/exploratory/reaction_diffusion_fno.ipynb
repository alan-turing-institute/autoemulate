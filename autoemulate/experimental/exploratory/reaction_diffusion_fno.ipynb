{
 "cells": [
  {
   "cell_type": "code",
   "execution_count": null,
   "id": "0",
   "metadata": {},
   "outputs": [],
   "source": [
    "from autoemulate.simulations.reaction_diffusion import ReactionDiffusion\n",
    "\n",
    "\n",
    "rd = ReactionDiffusion(n=32, T=10, dt=0.1, return_timeseries=True)\n",
    "data = rd.forward_samples_spatiotemporal(20)\n",
    "y = data[\"data\"]"
   ]
  },
  {
   "cell_type": "code",
   "execution_count": null,
   "id": "1",
   "metadata": {},
   "outputs": [],
   "source": [
    "data.keys()\n"
   ]
  },
  {
   "cell_type": "code",
   "execution_count": null,
   "id": "2",
   "metadata": {},
   "outputs": [],
   "source": [
    "import matplotlib.pyplot as plt\n",
    "\n",
    "plt.imshow(y[0, 0, :, :, 0])\n"
   ]
  },
  {
   "cell_type": "code",
   "execution_count": null,
   "id": "3",
   "metadata": {},
   "outputs": [],
   "source": [
    "from torch.utils.data import DataLoader\n",
    "\n",
    "from autoemulate.experimental.data.spatiotemporal_dataset import AutoEmulateDataset\n",
    "\n",
    "dataset = AutoEmulateDataset(data_path=None, data=data, n_steps_input=1, n_steps_output=1)\n",
    "batch_orig = next(iter(DataLoader(dataset)))"
   ]
  },
  {
   "cell_type": "code",
   "execution_count": null,
   "id": "4",
   "metadata": {},
   "outputs": [],
   "source": [
    "batch_orig[\"input_fields\"].shape, batch_orig[\"output_fields\"].shape, batch_orig[\"constant_scalars\"].shape"
   ]
  },
  {
   "cell_type": "code",
   "execution_count": null,
   "id": "5",
   "metadata": {},
   "outputs": [],
   "source": [
    "# for autoregressive prediction , we need to split at trajectory level \n",
    "\n",
    "from torch.utils.data import DataLoader\n",
    "# Split at trajectory level\n",
    "n_trajectories = dataset.n_trajectories\n",
    "train_traj_count = int(0.9 * n_trajectories)\n",
    "\n",
    "# Get trajectory indices\n",
    "train_traj_idxs = list(range(train_traj_count))\n",
    "val_traj_idxs = list(range(train_traj_count, n_trajectories))\n",
    "\n",
    "print(f\"Train trajectories: {len(train_traj_idxs)}, Val trajectories: {len(val_traj_idxs)}\")"
   ]
  },
  {
   "cell_type": "code",
   "execution_count": null,
   "id": "6",
   "metadata": {},
   "outputs": [],
   "source": [
    "train_traj_idxs"
   ]
  },
  {
   "cell_type": "code",
   "execution_count": null,
   "id": "7",
   "metadata": {},
   "outputs": [],
   "source": [
    "# Create train data\n",
    "train_data = {\n",
    "    'data': data[\"data\"][:train_traj_count],\n",
    "    'constant_scalars': data[\"constant_scalars\"][:train_traj_count],\n",
    "    'constant_fields': data[\"constant_fields\"]  # This is None, so just pass it through\n",
    "}\n",
    "\n",
    "# Create val data  \n",
    "val_data = {\n",
    "    'data': data[\"data\"][train_traj_count:],\n",
    "    'constant_scalars': data[\"constant_scalars\"][train_traj_count:],\n",
    "    'constant_fields': data[\"constant_fields\"]  # This is None, so just pass it through\n",
    "}"
   ]
  },
  {
   "cell_type": "code",
   "execution_count": null,
   "id": "8",
   "metadata": {},
   "outputs": [],
   "source": [
    "train_data[\"data\"].shape"
   ]
  },
  {
   "cell_type": "code",
   "execution_count": null,
   "id": "9",
   "metadata": {},
   "outputs": [],
   "source": [
    "train_dataset = AutoEmulateDataset(\n",
    "    data_path=None, \n",
    "    data=train_data, \n",
    "    n_steps_input=1, \n",
    "    n_steps_output=1\n",
    ")\n",
    "\n",
    "val_dataset = AutoEmulateDataset(\n",
    "    data_path=None, \n",
    "    data=val_data, \n",
    "    n_steps_input=1, \n",
    "    n_steps_output=1\n",
    ")"
   ]
  },
  {
   "cell_type": "code",
   "execution_count": null,
   "id": "10",
   "metadata": {},
   "outputs": [],
   "source": [
    "train_loader = DataLoader(train_dataset)\n",
    "val_loader = DataLoader(val_dataset)\n",
    "batch = next(iter(train_loader))"
   ]
  },
  {
   "cell_type": "code",
   "execution_count": null,
   "id": "11",
   "metadata": {},
   "outputs": [],
   "source": [
    "batch[\"input_fields\"].shape, batch[\"output_fields\"].shape, batch[\"constant_scalars\"].shape"
   ]
  },
  {
   "cell_type": "code",
   "execution_count": null,
   "id": "12",
   "metadata": {},
   "outputs": [],
   "source": [
    "batch[\"input_fields\"].shape"
   ]
  },
  {
   "cell_type": "code",
   "execution_count": null,
   "id": "13",
   "metadata": {},
   "outputs": [],
   "source": [
    "import matplotlib.pyplot as plt\n",
    "plt.imshow(batch[\"input_fields\"][0, 0, :, :, 0].cpu())\n",
    "plt.show()"
   ]
  },
  {
   "cell_type": "code",
   "execution_count": null,
   "id": "14",
   "metadata": {},
   "outputs": [],
   "source": [
    "import matplotlib.pyplot as plt\n",
    "plt.imshow(batch[\"input_fields\"][0, 0, :, :, 0].cpu())\n",
    "plt.show()"
   ]
  },
  {
   "cell_type": "code",
   "execution_count": null,
   "id": "15",
   "metadata": {},
   "outputs": [],
   "source": [
    "from autoemulate.experimental.emulators.fno import FNOEmulator\n",
    "\n",
    "emulator = FNOEmulator(\n",
    "    n_modes=(1, 16, 16),\n",
    "    hidden_channels=16,\n",
    "    in_channels=3,\n",
    "    out_channels=1,)\n"
   ]
  },
  {
   "cell_type": "code",
   "execution_count": null,
   "id": "16",
   "metadata": {},
   "outputs": [],
   "source": [
    "next(iter(train_loader)).keys()"
   ]
  },
  {
   "cell_type": "code",
   "execution_count": null,
   "id": "17",
   "metadata": {},
   "outputs": [],
   "source": [
    "# Fit the emulator\n",
    "emulator.fit(train_loader, None)"
   ]
  },
  {
   "cell_type": "code",
   "execution_count": null,
   "id": "18",
   "metadata": {},
   "outputs": [],
   "source": [
    "train_loader"
   ]
  },
  {
   "cell_type": "code",
   "execution_count": null,
   "id": "19",
   "metadata": {},
   "outputs": [],
   "source": [
    "# Predictions\n",
    "y_pred = emulator.predict(val_loader, with_grad=False)\n",
    "y_pred.shape"
   ]
  },
  {
   "cell_type": "code",
   "execution_count": null,
   "id": "20",
   "metadata": {},
   "outputs": [],
   "source": [
    "plt.imshow(y_pred[103,0,0,:,:].cpu())\n"
   ]
  },
  {
   "cell_type": "code",
   "execution_count": null,
   "id": "21",
   "metadata": {},
   "outputs": [],
   "source": [
    "# Get initial sample\n",
    "initial_sample = next(iter(val_loader))\n",
    "\n",
    "# Autoregressive prediction\n",
    "autoregressive_pred = emulator.predict_autoregressive(initial_sample, n_steps=20)\n",
    "print(f\"Autoregressive prediction shape: {autoregressive_pred.shape}\")"
   ]
  },
  {
   "cell_type": "code",
   "execution_count": null,
   "id": "22",
   "metadata": {},
   "outputs": [],
   "source": [
    "data = autoregressive_pred[0, 0].cpu().numpy()\n",
    "data.shape"
   ]
  },
  {
   "cell_type": "code",
   "execution_count": null,
   "id": "23",
   "metadata": {},
   "outputs": [],
   "source": [
    "import matplotlib.pyplot as plt\n",
    "import matplotlib.animation as animation\n",
    "\n",
    "# Take first batch, first channel\n",
    "data = autoregressive_pred[0, 0].cpu().numpy()  # [n_steps, height, width]\n",
    "\n",
    "# Set consistent color scale across all frames\n",
    "vmin, vmax = data.min(), data.max()\n",
    "\n",
    "fig, ax = plt.subplots(figsize=(6, 6))\n",
    "im = ax.imshow(data[0], animated=True, vmin=vmin, vmax=vmax, cmap='viridis')\n",
    "plt.colorbar(im)\n",
    "\n",
    "def animate(frame):\n",
    "    im.set_array(data[frame])\n",
    "    ax.set_title(f'Time step {frame}')\n",
    "    return [im]\n",
    "\n",
    "ani = animation.FuncAnimation(fig, animate, frames=data.shape[0], \n",
    "                            interval=500, blit=True, repeat=True)  # Slower: 500ms\n",
    "plt.show()"
   ]
  },
  {
   "cell_type": "code",
   "execution_count": null,
   "id": "24",
   "metadata": {},
   "outputs": [],
   "source": [
    "plt.plot(data[:,0,0])\n",
    "plt.plot(val_data['data'][0,:,0,0,0])"
   ]
  },
  {
   "cell_type": "code",
   "execution_count": null,
   "id": "25",
   "metadata": {},
   "outputs": [],
   "source": [
    "val_data['data'].shape"
   ]
  },
  {
   "cell_type": "code",
   "execution_count": null,
   "id": "26",
   "metadata": {},
   "outputs": [],
   "source": [
    "# Save animation as GIF file\n",
    "ani.save('autoregressive_prediction.gif', writer='pillow', fps=4)\n",
    "print(\"Animation saved as autoregressive_prediction.gif\")"
   ]
  },
  {
   "cell_type": "code",
   "execution_count": null,
   "id": "27",
   "metadata": {},
   "outputs": [],
   "source": [
    "# Evaluate\n",
    "# TODO: add to emulator perhaps as .evaluate()?\n",
    "import torch\n",
    "from autoemulate.experimental.emulators.fno import prepare_batch\n",
    "\n",
    "y_true = torch.cat(\n",
    "    [\n",
    "        prepare_batch(\n",
    "            batch, channels=(0,), with_constants=True, with_time=True\n",
    "        )[1]\n",
    "        for batch in DataLoader(dataset)\n",
    "    ],\n",
    "    dim=0\n",
    ")\n"
   ]
  },
  {
   "cell_type": "code",
   "execution_count": null,
   "id": "28",
   "metadata": {},
   "outputs": [],
   "source": [
    "# TODO: fix with autoregressive prediction\n",
    "# from torchmetrics import R2Score\n",
    "\n",
    "# R2Score()(y_pred.reshape(-1).detach(), y_true.reshape(-1).detach()).item()"
   ]
  },
  {
   "cell_type": "code",
   "execution_count": null,
   "id": "29",
   "metadata": {},
   "outputs": [],
   "source": []
  }
 ],
 "metadata": {
  "kernelspec": {
   "display_name": ".venv",
   "language": "python",
   "name": "python3"
  },
  "language_info": {
   "codemirror_mode": {
    "name": "ipython",
    "version": 3
   },
   "file_extension": ".py",
   "mimetype": "text/x-python",
   "name": "python",
   "nbconvert_exporter": "python",
   "pygments_lexer": "ipython3",
   "version": "3.12.11"
  }
 },
 "nbformat": 4,
 "nbformat_minor": 5
}
