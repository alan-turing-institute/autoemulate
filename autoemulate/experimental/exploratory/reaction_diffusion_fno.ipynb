{
 "cells": [
  {
   "cell_type": "code",
   "execution_count": null,
   "id": "a1dfb537",
   "metadata": {},
   "outputs": [],
   "source": [
    "from autoemulate.simulations.reaction_diffusion import ReactionDiffusion\n",
    "\n",
    "\n",
    "rd = ReactionDiffusion(n=32, T=10, dt=0.1, return_timeseries=True)\n",
    "x = rd.sample_inputs(3)\n",
    "y, x = rd.forward_batch(x)\n",
    "\n",
    "y = rd.to_spatiotemporal(y)\n",
    "\n",
    "data = {\n",
    "    \"data\": y,\n",
    "    \"constant_scalars\": x,\n",
    "    \"constant_fields\": None\n",
    "}\n"
   ]
  },
  {
   "cell_type": "code",
   "execution_count": null,
   "id": "ed55b4b9",
   "metadata": {},
   "outputs": [],
   "source": [
    "import matplotlib.pyplot as plt\n",
    "\n",
    "plt.imshow(y[0, 0, :, :, 0])\n"
   ]
  },
  {
   "cell_type": "code",
   "execution_count": null,
   "id": "3690ca6f",
   "metadata": {},
   "outputs": [],
   "source": [
    "from torch.utils.data import DataLoader\n",
    "from autoemulate.experimental.data.spatio_temporal_dataset import ReactionDiffusionDataset\n",
    "\n",
    "dataset = ReactionDiffusionDataset(data_path=None, data=data, n_steps_input=1, n_steps_output=1)\n",
    "batch = next(iter(DataLoader(dataset)))"
   ]
  },
  {
   "cell_type": "code",
   "execution_count": null,
   "id": "13",
   "metadata": {},
   "outputs": [],
   "source": [
    "batch[\"input_fields\"].shape, batch[\"output_fields\"].shape, batch[\"constant_scalars\"].shape"
   ]
  },
  {
   "cell_type": "code",
   "execution_count": null,
   "id": "68a5b719",
   "metadata": {},
   "outputs": [],
   "source": [
    "batch[\"input_fields\"].shape"
   ]
  },
  {
   "cell_type": "code",
   "execution_count": null,
   "id": "f3f26ee7",
   "metadata": {},
   "outputs": [],
   "source": [
    "import matplotlib.pyplot as plt\n",
    "\n",
    "plt.imshow(batch[\"input_fields\"][0, 0, :, :, 0].cpu())\n",
    "plt.show()"
   ]
  },
  {
   "cell_type": "code",
   "execution_count": null,
   "id": "14",
   "metadata": {},
   "outputs": [],
   "source": [
    "from neuralop.models import FNO\n",
    "\n",
    "model = FNO(\n",
    "    n_modes=(16, 16),\n",
    "    hidden_channels=16,\n",
    "    in_channels=3,\n",
    "    out_channels=1,\n",
    ")\n"
   ]
  },
  {
   "cell_type": "code",
   "execution_count": null,
   "id": "24088fc6",
   "metadata": {},
   "outputs": [],
   "source": [
    "from autoemulate.experimental.emulators.fno import FNOEmulator\n",
    "\n",
    "emulator = FNOEmulator(\n",
    "    n_modes=(1, 16, 16),\n",
    "    hidden_channels=16,\n",
    "    in_channels=3,\n",
    "    out_channels=1,\n",
    ")\n"
   ]
  },
  {
   "cell_type": "code",
   "execution_count": null,
   "id": "24",
   "metadata": {},
   "outputs": [],
   "source": [
    "emulator.fit(DataLoader(dataset), None)"
   ]
  },
  {
   "cell_type": "code",
   "execution_count": null,
   "id": "8a327c06",
   "metadata": {},
   "outputs": [],
   "source": [
    "# TODO: update predict"
   ]
  }
 ],
 "metadata": {
  "kernelspec": {
   "display_name": ".venv",
   "language": "python",
   "name": "python3"
  },
  "language_info": {
   "codemirror_mode": {
    "name": "ipython",
    "version": 3
   },
   "file_extension": ".py",
   "mimetype": "text/x-python",
   "name": "python",
   "nbconvert_exporter": "python",
   "pygments_lexer": "ipython3",
   "version": "3.12.11"
  }
 },
 "nbformat": 4,
 "nbformat_minor": 5
}
