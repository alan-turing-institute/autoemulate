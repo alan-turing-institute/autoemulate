{
 "cells": [
  {
   "cell_type": "code",
   "execution_count": null,
   "id": "702bb87d",
   "metadata": {},
   "outputs": [],
   "source": [
    "import torch\n",
    "from autoemulate.emulators import GaussianProcess\n",
    "from autoemulate.emulators.random_forest import RandomForest\n",
    "from autoemulate.emulators.transformed.base import TransformedEmulator\n",
    "from autoemulate.transforms import PCATransform, VAETransform, StandardizeTransform\n",
    "from sklearn.datasets import make_regression\n",
    "import torchmetrics\n",
    "from autoemulate.core.model_selection import evaluate\n",
    "from autoemulate.core.types import TensorLike\n",
    "from autoemulate.core.compare import AutoEmulate\n",
    "\n",
    "# Uncomment to enable logging for GPs\n",
    "import logging\n",
    "# logging.basicConfig(level=logging.INFO)\n",
    "\n",
    "def make_data(\n",
    "    random_state: int = 42,\n",
    "    n_samples: int = 200,\n",
    "    n_informative:int = 2,\n",
    "    n_features: int = 5,\n",
    "    noise: float = 0.2,\n",
    "    n_targets: int = 500\n",
    "):\n",
    "    x, y, _ = make_regression(\n",
    "        n_samples=n_samples,\n",
    "        n_features=n_features,\n",
    "        noise=noise,\n",
    "        random_state=random_state,\n",
    "        n_informative=n_informative,\n",
    "        n_targets=n_targets,\n",
    "        coef=True,\n",
    "    )\n",
    "    x = torch.tensor(x, dtype=torch.float32)\n",
    "    y = torch.tensor(y, dtype=torch.float32)\n",
    "    return x, y\n",
    "\n",
    "# Train data\n",
    "x, y = make_data(random_state=42, n_features=10, n_targets=2, noise=0.01)\n",
    "\n",
    "# Test data\n",
    "x2, y2 = make_data(random_state=43, n_features=10, n_targets=2, noise=0.01)\n"
   ]
  },
  {
   "cell_type": "code",
   "execution_count": null,
   "id": "d67372dd",
   "metadata": {},
   "outputs": [],
   "source": [
    "ae = AutoEmulate(\n",
    "    x,\n",
    "    y,\n",
    "    models=[GaussianProcess, RandomForest],\n",
    "    x_transforms_list=[[], [StandardizeTransform(), PCATransform(n_components=5)]],\n",
    "    y_transforms_list=[[], [StandardizeTransform(), PCATransform(n_components=1)]]\n",
    ")\n"
   ]
  },
  {
   "cell_type": "code",
   "execution_count": 3,
   "id": "b898e0f1",
   "metadata": {},
   "outputs": [
    {
     "name": "stderr",
     "output_type": "stream",
     "text": [
      "100%|██████████| 4/4 [00:02<00:00,  1.89it/s]\n",
      "100%|██████████| 4/4 [00:00<00:00, 13.84it/s]\n",
      "  0%|          | 0/4 [00:00<?, ?it/s]/Users/sgreenbury/Projects/fundamentals/autoemulate/autoemulate/experimental/transforms/base.py:209: NumericalWarning: cov not p.d. - added 1.0e-05 to the diagonal and symmetrized\n",
      "  cov_orig = make_positive_definite(cov_orig)\n",
      "100%|██████████| 4/4 [00:00<00:00,  6.73it/s]\n",
      "100%|██████████| 4/4 [00:00<00:00, 12.16it/s]\n",
      "100%|██████████| 4/4 [00:00<00:00,  5.95it/s]\n",
      "100%|██████████| 4/4 [00:00<00:00,  8.52it/s]\n",
      "  0%|          | 0/4 [00:00<?, ?it/s]/Users/sgreenbury/Projects/fundamentals/autoemulate/autoemulate/experimental/transforms/base.py:209: NumericalWarning: cov not p.d. - added 1.0e-05 to the diagonal and symmetrized\n",
      "  cov_orig = make_positive_definite(cov_orig)\n",
      "100%|██████████| 4/4 [00:00<00:00,  6.79it/s]\n",
      "100%|██████████| 4/4 [00:00<00:00,  7.03it/s]\n"
     ]
    }
   ],
   "source": [
    "outputs  = ae.compare(4)\n"
   ]
  },
  {
   "cell_type": "code",
   "execution_count": 4,
   "id": "028201a0",
   "metadata": {},
   "outputs": [
    {
     "data": {
      "text/plain": [
       "[{'config': {'mean_module_fn': <function autoemulate.emulators.gaussian_process.constant_mean(n_features, n_outputs)>,\n",
       "   'covar_module_fn': <function autoemulate.emulators.gaussian_process.rq_kernel(n_features, n_outputs)>,\n",
       "   'epochs': 500,\n",
       "   'batch_size': 32,\n",
       "   'activation': torch.nn.modules.activation.GELU,\n",
       "   'lr': 0.07543120063354615,\n",
       "   'preprocessor_cls': None,\n",
       "   'likelihood_cls': gpytorch.likelihoods.multitask_gaussian_likelihood.MultitaskGaussianLikelihood},\n",
       "  'x_transforms': [],\n",
       "  'y_transforms': [],\n",
       "  'model_cls': autoemulate.emulators.gaussian_process.exact.GaussianProcessExact,\n",
       "  'r2_score': 0.4029142737388611,\n",
       "  'rmse_score': 17.389700325212118},\n",
       " {'config': {'n_estimators': 463,\n",
       "   'min_samples_split': 10,\n",
       "   'min_samples_leaf': 8,\n",
       "   'max_features': 'sqrt',\n",
       "   'bootstrap': True,\n",
       "   'oob_score': False,\n",
       "   'max_depth': 20,\n",
       "   'max_samples': 0.7},\n",
       "  'x_transforms': [],\n",
       "  'y_transforms': [],\n",
       "  'model_cls': autoemulate.emulators.random_forest.RandomForest,\n",
       "  'r2_score': 0.0,\n",
       "  'rmse_score': 39.538688627532196},\n",
       " {'config': {'mean_module_fn': <function autoemulate.emulators.gaussian_process.constant_mean(n_features, n_outputs)>,\n",
       "   'covar_module_fn': <function autoemulate.emulators.gaussian_process.rq_kernel(n_features, n_outputs)>,\n",
       "   'epochs': 1000,\n",
       "   'batch_size': 32,\n",
       "   'activation': torch.nn.modules.activation.ReLU,\n",
       "   'lr': 0.0012067926406393288,\n",
       "   'preprocessor_cls': None,\n",
       "   'likelihood_cls': gpytorch.likelihoods.multitask_gaussian_likelihood.MultitaskGaussianLikelihood},\n",
       "  'x_transforms': [],\n",
       "  'y_transforms': [StandardizeTransform(), PCATransform()],\n",
       "  'model_cls': autoemulate.emulators.gaussian_process.exact.GaussianProcessExact,\n",
       "  'r2_score': -7.341877460479736,\n",
       "  'rmse_score': 28.843349769622694},\n",
       " {'config': {'n_estimators': 362,\n",
       "   'min_samples_split': 10,\n",
       "   'min_samples_leaf': 4,\n",
       "   'max_features': 'sqrt',\n",
       "   'bootstrap': True,\n",
       "   'oob_score': True,\n",
       "   'max_depth': 25,\n",
       "   'max_samples': 0.9},\n",
       "  'x_transforms': [],\n",
       "  'y_transforms': [StandardizeTransform(), PCATransform()],\n",
       "  'model_cls': autoemulate.emulators.random_forest.RandomForest,\n",
       "  'r2_score': -40.155426025390625,\n",
       "  'rmse_score': 35.436852358813454},\n",
       " {'config': {'mean_module_fn': <function autoemulate.emulators.gaussian_process.constant_mean(n_features, n_outputs)>,\n",
       "   'covar_module_fn': <function autoemulate.emulators.gaussian_process.matern_5_2_plus_rq(n_features, n_outputs)>,\n",
       "   'epochs': 1000,\n",
       "   'batch_size': 16,\n",
       "   'activation': torch.nn.modules.activation.ReLU,\n",
       "   'lr': 0.018420699693267154,\n",
       "   'preprocessor_cls': None,\n",
       "   'likelihood_cls': gpytorch.likelihoods.multitask_gaussian_likelihood.MultitaskGaussianLikelihood},\n",
       "  'x_transforms': [StandardizeTransform(), PCATransform()],\n",
       "  'y_transforms': [],\n",
       "  'model_cls': autoemulate.emulators.gaussian_process.exact.GaussianProcessExact,\n",
       "  'r2_score': -0.10747754573822021,\n",
       "  'rmse_score': 21.702006386802932},\n",
       " {'config': {'n_estimators': 50,\n",
       "   'min_samples_split': 11,\n",
       "   'min_samples_leaf': 2,\n",
       "   'max_features': 'log2',\n",
       "   'bootstrap': False,\n",
       "   'oob_score': True,\n",
       "   'max_depth': 5,\n",
       "   'max_samples': 0.9},\n",
       "  'x_transforms': [StandardizeTransform(), PCATransform()],\n",
       "  'y_transforms': [],\n",
       "  'model_cls': autoemulate.emulators.random_forest.RandomForest,\n",
       "  'r2_score': -5.360586357116699,\n",
       "  'rmse_score': 33.049751175382895},\n",
       " {'config': {'mean_module_fn': <function autoemulate.emulators.gaussian_process.constant_mean(n_features, n_outputs)>,\n",
       "   'covar_module_fn': <function autoemulate.emulators.gaussian_process.matern_3_2_kernel(n_features, n_outputs)>,\n",
       "   'epochs': 1000,\n",
       "   'batch_size': 16,\n",
       "   'activation': torch.nn.modules.activation.GELU,\n",
       "   'lr': 0.0021209508879201904,\n",
       "   'preprocessor_cls': autoemulate.data.preprocessors.Standardizer,\n",
       "   'likelihood_cls': gpytorch.likelihoods.multitask_gaussian_likelihood.MultitaskGaussianLikelihood},\n",
       "  'x_transforms': [StandardizeTransform(), PCATransform()],\n",
       "  'y_transforms': [StandardizeTransform(), PCATransform()],\n",
       "  'model_cls': autoemulate.emulators.gaussian_process.exact.GaussianProcessExact,\n",
       "  'r2_score': -14.007648277282716,\n",
       "  'rmse_score': 31.108871604429766},\n",
       " {'config': {'n_estimators': 133,\n",
       "   'min_samples_split': 19,\n",
       "   'min_samples_leaf': 4,\n",
       "   'max_features': 'sqrt',\n",
       "   'bootstrap': False,\n",
       "   'oob_score': False,\n",
       "   'max_depth': None,\n",
       "   'max_samples': 0.5},\n",
       "  'x_transforms': [StandardizeTransform(), PCATransform()],\n",
       "  'y_transforms': [StandardizeTransform(), PCATransform()],\n",
       "  'model_cls': autoemulate.emulators.random_forest.RandomForest,\n",
       "  'r2_score': 0.0,\n",
       "  'rmse_score': 39.51279452844218}]"
      ]
     },
     "execution_count": 4,
     "metadata": {},
     "output_type": "execute_result"
    }
   ],
   "source": [
    "outputs"
   ]
  },
  {
   "cell_type": "code",
   "execution_count": 5,
   "id": "06d670f5",
   "metadata": {},
   "outputs": [
    {
     "data": {
      "application/vnd.microsoft.datawrangler.viewer.v0+json": {
       "columns": [
        {
         "name": "index",
         "rawType": "int64",
         "type": "integer"
        },
        {
         "name": "config",
         "rawType": "object",
         "type": "unknown"
        },
        {
         "name": "x_transforms",
         "rawType": "object",
         "type": "unknown"
        },
        {
         "name": "y_transforms",
         "rawType": "object",
         "type": "unknown"
        },
        {
         "name": "model_cls",
         "rawType": "object",
         "type": "unknown"
        },
        {
         "name": "r2_score",
         "rawType": "float64",
         "type": "float"
        },
        {
         "name": "rmse_score",
         "rawType": "float64",
         "type": "float"
        }
       ],
       "ref": "7f673396-3d44-4a87-9632-c724331a7d76",
       "rows": [
        [
         "0",
         "{'mean_module_fn': <function constant_mean at 0x30989ba60>, 'covar_module_fn': <function rq_kernel at 0x30989b740>, 'epochs': 500, 'batch_size': 32, 'activation': <class 'torch.nn.modules.activation.GELU'>, 'lr': 0.07543120063354615, 'preprocessor_cls': None, 'likelihood_cls': <class 'gpytorch.likelihoods.multitask_gaussian_likelihood.MultitaskGaussianLikelihood'>}",
         "[]",
         "[]",
         "<class 'autoemulate.emulators.gaussian_process.exact.GaussianProcessExact'>",
         "0.4029142737388611",
         "17.389700325212118"
        ],
        [
         "1",
         "{'n_estimators': 463, 'min_samples_split': 10, 'min_samples_leaf': 8, 'max_features': 'sqrt', 'bootstrap': True, 'oob_score': False, 'max_depth': 20, 'max_samples': 0.7}",
         "[]",
         "[]",
         "<class 'autoemulate.emulators.random_forest.RandomForest'>",
         "0.0",
         "39.538688627532196"
        ],
        [
         "7",
         "{'n_estimators': 133, 'min_samples_split': 19, 'min_samples_leaf': 4, 'max_features': 'sqrt', 'bootstrap': False, 'oob_score': False, 'max_depth': None, 'max_samples': 0.5}",
         "[StandardizeTransform(), PCATransform()]",
         "[StandardizeTransform(), PCATransform()]",
         "<class 'autoemulate.emulators.random_forest.RandomForest'>",
         "0.0",
         "39.51279452844218"
        ],
        [
         "4",
         "{'mean_module_fn': <function constant_mean at 0x30989ba60>, 'covar_module_fn': <function matern_5_2_plus_rq at 0x30989b920>, 'epochs': 1000, 'batch_size': 16, 'activation': <class 'torch.nn.modules.activation.ReLU'>, 'lr': 0.018420699693267154, 'preprocessor_cls': None, 'likelihood_cls': <class 'gpytorch.likelihoods.multitask_gaussian_likelihood.MultitaskGaussianLikelihood'>}",
         "[StandardizeTransform(), PCATransform()]",
         "[]",
         "<class 'autoemulate.emulators.gaussian_process.exact.GaussianProcessExact'>",
         "-0.10747754573822021",
         "21.702006386802932"
        ],
        [
         "5",
         "{'n_estimators': 50, 'min_samples_split': 11, 'min_samples_leaf': 2, 'max_features': 'log2', 'bootstrap': False, 'oob_score': True, 'max_depth': 5, 'max_samples': 0.9}",
         "[StandardizeTransform(), PCATransform()]",
         "[]",
         "<class 'autoemulate.emulators.random_forest.RandomForest'>",
         "-5.360586357116699",
         "33.049751175382895"
        ],
        [
         "2",
         "{'mean_module_fn': <function constant_mean at 0x30989ba60>, 'covar_module_fn': <function rq_kernel at 0x30989b740>, 'epochs': 1000, 'batch_size': 32, 'activation': <class 'torch.nn.modules.activation.ReLU'>, 'lr': 0.0012067926406393288, 'preprocessor_cls': None, 'likelihood_cls': <class 'gpytorch.likelihoods.multitask_gaussian_likelihood.MultitaskGaussianLikelihood'>}",
         "[]",
         "[StandardizeTransform(), PCATransform()]",
         "<class 'autoemulate.emulators.gaussian_process.exact.GaussianProcessExact'>",
         "-7.341877460479736",
         "28.843349769622694"
        ],
        [
         "6",
         "{'mean_module_fn': <function constant_mean at 0x30989ba60>, 'covar_module_fn': <function matern_3_2_kernel at 0x30989b600>, 'epochs': 1000, 'batch_size': 16, 'activation': <class 'torch.nn.modules.activation.GELU'>, 'lr': 0.0021209508879201904, 'preprocessor_cls': <class 'autoemulate.data.preprocessors.Standardizer'>, 'likelihood_cls': <class 'gpytorch.likelihoods.multitask_gaussian_likelihood.MultitaskGaussianLikelihood'>}",
         "[StandardizeTransform(), PCATransform()]",
         "[StandardizeTransform(), PCATransform()]",
         "<class 'autoemulate.emulators.gaussian_process.exact.GaussianProcessExact'>",
         "-14.007648277282716",
         "31.108871604429766"
        ],
        [
         "3",
         "{'n_estimators': 362, 'min_samples_split': 10, 'min_samples_leaf': 4, 'max_features': 'sqrt', 'bootstrap': True, 'oob_score': True, 'max_depth': 25, 'max_samples': 0.9}",
         "[]",
         "[StandardizeTransform(), PCATransform()]",
         "<class 'autoemulate.emulators.random_forest.RandomForest'>",
         "-40.155426025390625",
         "35.436852358813454"
        ]
       ],
       "shape": {
        "columns": 6,
        "rows": 8
       }
      },
      "text/html": [
       "<div>\n",
       "<style scoped>\n",
       "    .dataframe tbody tr th:only-of-type {\n",
       "        vertical-align: middle;\n",
       "    }\n",
       "\n",
       "    .dataframe tbody tr th {\n",
       "        vertical-align: top;\n",
       "    }\n",
       "\n",
       "    .dataframe thead th {\n",
       "        text-align: right;\n",
       "    }\n",
       "</style>\n",
       "<table border=\"1\" class=\"dataframe\">\n",
       "  <thead>\n",
       "    <tr style=\"text-align: right;\">\n",
       "      <th></th>\n",
       "      <th>config</th>\n",
       "      <th>x_transforms</th>\n",
       "      <th>y_transforms</th>\n",
       "      <th>model_cls</th>\n",
       "      <th>r2_score</th>\n",
       "      <th>rmse_score</th>\n",
       "    </tr>\n",
       "  </thead>\n",
       "  <tbody>\n",
       "    <tr>\n",
       "      <th>0</th>\n",
       "      <td>{'mean_module_fn': &lt;function constant_mean at ...</td>\n",
       "      <td>[]</td>\n",
       "      <td>[]</td>\n",
       "      <td>&lt;class 'autoemulate.emulators.gau...</td>\n",
       "      <td>0.402914</td>\n",
       "      <td>17.389700</td>\n",
       "    </tr>\n",
       "    <tr>\n",
       "      <th>1</th>\n",
       "      <td>{'n_estimators': 463, 'min_samples_split': 10,...</td>\n",
       "      <td>[]</td>\n",
       "      <td>[]</td>\n",
       "      <td>&lt;class 'autoemulate.emulators.ran...</td>\n",
       "      <td>0.000000</td>\n",
       "      <td>39.538689</td>\n",
       "    </tr>\n",
       "    <tr>\n",
       "      <th>7</th>\n",
       "      <td>{'n_estimators': 133, 'min_samples_split': 19,...</td>\n",
       "      <td>[StandardizeTransform(), PCATransform()]</td>\n",
       "      <td>[StandardizeTransform(), PCATransform()]</td>\n",
       "      <td>&lt;class 'autoemulate.emulators.ran...</td>\n",
       "      <td>0.000000</td>\n",
       "      <td>39.512795</td>\n",
       "    </tr>\n",
       "    <tr>\n",
       "      <th>4</th>\n",
       "      <td>{'mean_module_fn': &lt;function constant_mean at ...</td>\n",
       "      <td>[StandardizeTransform(), PCATransform()]</td>\n",
       "      <td>[]</td>\n",
       "      <td>&lt;class 'autoemulate.emulators.gau...</td>\n",
       "      <td>-0.107478</td>\n",
       "      <td>21.702006</td>\n",
       "    </tr>\n",
       "    <tr>\n",
       "      <th>5</th>\n",
       "      <td>{'n_estimators': 50, 'min_samples_split': 11, ...</td>\n",
       "      <td>[StandardizeTransform(), PCATransform()]</td>\n",
       "      <td>[]</td>\n",
       "      <td>&lt;class 'autoemulate.emulators.ran...</td>\n",
       "      <td>-5.360586</td>\n",
       "      <td>33.049751</td>\n",
       "    </tr>\n",
       "    <tr>\n",
       "      <th>2</th>\n",
       "      <td>{'mean_module_fn': &lt;function constant_mean at ...</td>\n",
       "      <td>[]</td>\n",
       "      <td>[StandardizeTransform(), PCATransform()]</td>\n",
       "      <td>&lt;class 'autoemulate.emulators.gau...</td>\n",
       "      <td>-7.341877</td>\n",
       "      <td>28.843350</td>\n",
       "    </tr>\n",
       "    <tr>\n",
       "      <th>6</th>\n",
       "      <td>{'mean_module_fn': &lt;function constant_mean at ...</td>\n",
       "      <td>[StandardizeTransform(), PCATransform()]</td>\n",
       "      <td>[StandardizeTransform(), PCATransform()]</td>\n",
       "      <td>&lt;class 'autoemulate.emulators.gau...</td>\n",
       "      <td>-14.007648</td>\n",
       "      <td>31.108872</td>\n",
       "    </tr>\n",
       "    <tr>\n",
       "      <th>3</th>\n",
       "      <td>{'n_estimators': 362, 'min_samples_split': 10,...</td>\n",
       "      <td>[]</td>\n",
       "      <td>[StandardizeTransform(), PCATransform()]</td>\n",
       "      <td>&lt;class 'autoemulate.emulators.ran...</td>\n",
       "      <td>-40.155426</td>\n",
       "      <td>35.436852</td>\n",
       "    </tr>\n",
       "  </tbody>\n",
       "</table>\n",
       "</div>"
      ],
      "text/plain": [
       "                                              config  \\\n",
       "0  {'mean_module_fn': <function constant_mean at ...   \n",
       "1  {'n_estimators': 463, 'min_samples_split': 10,...   \n",
       "7  {'n_estimators': 133, 'min_samples_split': 19,...   \n",
       "4  {'mean_module_fn': <function constant_mean at ...   \n",
       "5  {'n_estimators': 50, 'min_samples_split': 11, ...   \n",
       "2  {'mean_module_fn': <function constant_mean at ...   \n",
       "6  {'mean_module_fn': <function constant_mean at ...   \n",
       "3  {'n_estimators': 362, 'min_samples_split': 10,...   \n",
       "\n",
       "                               x_transforms  \\\n",
       "0                                        []   \n",
       "1                                        []   \n",
       "7  [StandardizeTransform(), PCATransform()]   \n",
       "4  [StandardizeTransform(), PCATransform()]   \n",
       "5  [StandardizeTransform(), PCATransform()]   \n",
       "2                                        []   \n",
       "6  [StandardizeTransform(), PCATransform()]   \n",
       "3                                        []   \n",
       "\n",
       "                               y_transforms  \\\n",
       "0                                        []   \n",
       "1                                        []   \n",
       "7  [StandardizeTransform(), PCATransform()]   \n",
       "4                                        []   \n",
       "5                                        []   \n",
       "2  [StandardizeTransform(), PCATransform()]   \n",
       "6  [StandardizeTransform(), PCATransform()]   \n",
       "3  [StandardizeTransform(), PCATransform()]   \n",
       "\n",
       "                                           model_cls   r2_score  rmse_score  \n",
       "0  <class 'autoemulate.emulators.gau...   0.402914   17.389700  \n",
       "1  <class 'autoemulate.emulators.ran...   0.000000   39.538689  \n",
       "7  <class 'autoemulate.emulators.ran...   0.000000   39.512795  \n",
       "4  <class 'autoemulate.emulators.gau...  -0.107478   21.702006  \n",
       "5  <class 'autoemulate.emulators.ran...  -5.360586   33.049751  \n",
       "2  <class 'autoemulate.emulators.gau...  -7.341877   28.843350  \n",
       "6  <class 'autoemulate.emulators.gau... -14.007648   31.108872  \n",
       "3  <class 'autoemulate.emulators.ran... -40.155426   35.436852  "
      ]
     },
     "execution_count": 5,
     "metadata": {},
     "output_type": "execute_result"
    }
   ],
   "source": [
    "import pandas as pd\n",
    "df = pd.DataFrame.from_records(outputs).sort_values(by=[\"r2_score\", \"rmse_score\"], ascending=False, inplace=False)\n",
    "best_model_idx = df.index[0]\n",
    "df\n"
   ]
  },
  {
   "cell_type": "code",
   "execution_count": 6,
   "id": "0ea43ce5",
   "metadata": {},
   "outputs": [
    {
     "data": {
      "text/plain": [
       "{'config': {'mean_module_fn': <function autoemulate.emulators.gaussian_process.constant_mean(n_features, n_outputs)>,\n",
       "  'covar_module_fn': <function autoemulate.emulators.gaussian_process.rq_kernel(n_features, n_outputs)>,\n",
       "  'epochs': 500,\n",
       "  'batch_size': 32,\n",
       "  'activation': torch.nn.modules.activation.GELU,\n",
       "  'lr': 0.07543120063354615,\n",
       "  'preprocessor_cls': None,\n",
       "  'likelihood_cls': gpytorch.likelihoods.multitask_gaussian_likelihood.MultitaskGaussianLikelihood},\n",
       " 'x_transforms': [],\n",
       " 'y_transforms': [],\n",
       " 'model_cls': autoemulate.emulators.gaussian_process.exact.GaussianProcessExact,\n",
       " 'r2_score': 0.4029142737388611,\n",
       " 'rmse_score': 17.389700325212118}"
      ]
     },
     "execution_count": 6,
     "metadata": {},
     "output_type": "execute_result"
    }
   ],
   "source": [
    "outputs[best_model_idx]"
   ]
  },
  {
   "cell_type": "code",
   "execution_count": 7,
   "id": "b54c212d",
   "metadata": {},
   "outputs": [],
   "source": [
    "em = TransformedEmulator(\n",
    "    x,\n",
    "    y,\n",
    "    model=outputs[best_model_idx][\"model_cls\"],\n",
    "    x_transforms=outputs[best_model_idx][\"x_transforms\"],\n",
    "    y_transforms=outputs[best_model_idx][\"y_transforms\"],\n",
    "    **outputs[best_model_idx][\"config\"]\n",
    ")\n",
    "em.fit(x, y)"
   ]
  },
  {
   "cell_type": "code",
   "execution_count": null,
   "id": "4c28c576",
   "metadata": {},
   "outputs": [
    {
     "data": {
      "text/plain": [
       "0.9774684906005859"
      ]
     },
     "execution_count": 8,
     "metadata": {},
     "output_type": "execute_result"
    }
   ],
   "source": [
    "from autoemulate.model_selection import r2_metric\n",
    "\n",
    "y_pred = em.predict(x[:100])\n",
    "evaluate(y_pred.mean, y[:100], r2_metric())"
   ]
  },
  {
   "cell_type": "code",
   "execution_count": null,
   "id": "5c3943e5",
   "metadata": {},
   "outputs": [
    {
     "data": {
      "text/plain": [
       "-0.26360195875167847"
      ]
     },
     "execution_count": 9,
     "metadata": {},
     "output_type": "execute_result"
    }
   ],
   "source": [
    "# Poor held-out performance\n",
    "y_pred = em.predict(x2)\n",
    "evaluate(y_pred.mean, y2, r2_metric())"
   ]
  },
  {
   "cell_type": "code",
   "execution_count": null,
   "id": "5c4ed78b",
   "metadata": {},
   "outputs": [],
   "source": []
  }
 ],
 "metadata": {
  "kernelspec": {
   "display_name": ".venv",
   "language": "python",
   "name": "python3"
  },
  "language_info": {
   "codemirror_mode": {
    "name": "ipython",
    "version": 3
   },
   "file_extension": ".py",
   "mimetype": "text/x-python",
   "name": "python",
   "nbconvert_exporter": "python",
   "pygments_lexer": "ipython3",
   "version": "3.12.11"
  }
 },
 "nbformat": 4,
 "nbformat_minor": 5
}
