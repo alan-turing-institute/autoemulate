{
 "cells": [
  {
   "cell_type": "code",
   "execution_count": null,
   "id": "0",
   "metadata": {},
   "outputs": [],
   "source": [
    "import matplotlib.pyplot as plt\n",
    "import logging\n",
    "from autoemulate.experimental.emulators.the_well import TheWellFNO\n",
    "from autoemulate.experimental.data.spatiotemporal_dataset import AdvectionDiffusionDataset, AutoEmulateDataModule"
   ]
  },
  {
   "cell_type": "code",
   "execution_count": null,
   "id": "1",
   "metadata": {},
   "outputs": [],
   "source": [
    "# Make an autoemulate datamodule from the_well datamodule\n",
    "from autoemulate.simulations.advection_diffusion import AdvectionDiffusion\n",
    "rd = AdvectionDiffusion(n=64, T=10, dt=0.1, return_timeseries=True)\n",
    "data = rd.forward_samples_spatiotemporal(200)\n",
    "# data = rd.forward_samples_spatiotemporal(20)\n",
    "y = data[\"data\"]\n",
    "data_valid = rd.forward_samples_spatiotemporal(4)\n",
    "data_test = rd.forward_samples_spatiotemporal(4)"
   ]
  },
  {
   "cell_type": "code",
   "execution_count": null,
   "id": "2",
   "metadata": {},
   "outputs": [],
   "source": [
    "logging.basicConfig(level=logging.INFO)\n",
    "\n",
    "ae_data_module = AutoEmulateDataModule(\n",
    "    n_steps_input=4,\n",
    "    n_steps_output=10,\n",
    "    data_path=None,\n",
    "    dataset_cls=AdvectionDiffusionDataset,\n",
    "    data={\"train\": data, \"valid\": data_valid, \"test\": data_test},\n",
    "    verbose=False\n",
    ")\n",
    "output_path = \"../data/the_well/runs/advection_diffusion_wip_fix_2\""
   ]
  },
  {
   "cell_type": "code",
   "execution_count": null,
   "id": "3",
   "metadata": {},
   "outputs": [],
   "source": [
    "# Plot example\n",
    "batch = next(iter(ae_data_module.val_dataloader()))\n",
    "plt.imshow(batch[\"input_fields\"][0, 0, :, :, 0])\n",
    "plt.show()"
   ]
  },
  {
   "cell_type": "code",
   "execution_count": null,
   "id": "4",
   "metadata": {},
   "outputs": [],
   "source": [
    "# Initialize the emulator\n",
    "from the_well.data.data_formatter import DefaultChannelsFirstFormatter\n",
    "from the_well.benchmark.metrics import VRMSE\n",
    "from autoemulate.experimental.emulators.the_well import TheWellAFNO, TheWellFNOWithTime, TrainerParams, TheWellFNOWithLearnableWeights, DefaultChannelsFirstFormatterWithTime\n",
    "\n",
    "# FNO with learnable weights\n",
    "# em = TheWellFNOWithLearnableWeights(\n",
    "#     datamodule=ae_data_module,\n",
    "#     formatter_cls=DefaultChannelsFirstFormatter,\n",
    "#     loss_fn=VRMSE(),\n",
    "#     trainer_params=TrainerParams(\n",
    "#         device=\"mps\",\n",
    "#         output_path=output_path,\n",
    "#         max_rollout_steps=100,\n",
    "#         optimizer_params={\"lr\": 1e-5}\n",
    "#     )\n",
    "# )\n",
    "\n",
    "# FNO with teacher forcing\n",
    "em = TheWellFNO(\n",
    "    datamodule=ae_data_module,\n",
    "    formatter_cls=DefaultChannelsFirstFormatter,\n",
    "    loss_fn=VRMSE(),\n",
    "    trainer_params=TrainerParams(\n",
    "        device=\"mps\",\n",
    "        output_path=output_path,\n",
    "        max_rollout_steps=100,\n",
    "        optimizer_params={\"lr\": 1e-3},\n",
    "        enable_tf_schedule=True,\n",
    "    )\n",
    ")\n",
    "\n",
    "# FNO with time\n",
    "em = TheWellFNOWithTime(\n",
    "    datamodule=ae_data_module,\n",
    "    formatter_cls=DefaultChannelsFirstFormatterWithTime,\n",
    "    loss_fn=VRMSE(),\n",
    "    modes_time=2,\n",
    "    modes1=16,\n",
    "    modes2=16,\n",
    "    trainer_params=TrainerParams(\n",
    "        device=\"mps\",\n",
    "        output_path=output_path,\n",
    "        max_rollout_steps=100,\n",
    "        optimizer_params={\"lr\": 1e-2}\n",
    "    )\n",
    ")"
   ]
  },
  {
   "cell_type": "code",
   "execution_count": null,
   "id": "5",
   "metadata": {},
   "outputs": [],
   "source": [
    "# Example of different rollouts\n",
    "y_true = batch[\"output_fields\"].to(em.device)\n",
    "y_teacher_forcing = em.trainer.rollout_model(em.model, batch, em.trainer.formatter, train=False, teacher_forcing=True)[0]\n",
    "y_free_running = em.trainer.rollout_model(em.model, batch, em.trainer.formatter, train=False, teacher_forcing=False)[0]"
   ]
  },
  {
   "cell_type": "code",
   "execution_count": null,
   "id": "6",
   "metadata": {},
   "outputs": [],
   "source": [
    "# Explore passing predictions to loss\n",
    "# vrmse = VRMSE()\n",
    "# print(\"Teacher forcing VRMSE:\", vrmse(y_teacher_forcing, y_true, ae_data_module.train_dataset.metadata).detach().cpu())\n",
    "# print(\"Free running VRMSE:\", vrmse(y_free_running, y_true, ae_data_module.train_dataset.metadata).detach().cpu()[:1])"
   ]
  },
  {
   "cell_type": "code",
   "execution_count": null,
   "id": "7",
   "metadata": {},
   "outputs": [],
   "source": [
    "# Fit the model\n",
    "em.fit()"
   ]
  },
  {
   "cell_type": "code",
   "execution_count": null,
   "id": "8",
   "metadata": {},
   "outputs": [],
   "source": [
    "# Validation loop\n",
    "valid_results = em.trainer.validation_loop(\n",
    "    ae_data_module.rollout_val_dataloader(),\n",
    "    valid_or_test=\"rollout_valid\",\n",
    "    full=True\n",
    ")"
   ]
  },
  {
   "cell_type": "code",
   "execution_count": null,
   "id": "9",
   "metadata": {},
   "outputs": [],
   "source": [
    "test_results = em.trainer.validation_loop(\n",
    "    ae_data_module.rollout_test_dataloader(),\n",
    "    valid_or_test=\"rollout_test\",\n",
    "    full=True\n",
    ")"
   ]
  },
  {
   "cell_type": "code",
   "execution_count": null,
   "id": "10",
   "metadata": {},
   "outputs": [],
   "source": [
    "from pprint import pprint\n",
    "pprint(valid_results)"
   ]
  },
  {
   "cell_type": "code",
   "execution_count": null,
   "id": "11",
   "metadata": {},
   "outputs": [],
   "source": [
    "pprint(test_results)"
   ]
  },
  {
   "cell_type": "code",
   "execution_count": null,
   "id": "12",
   "metadata": {},
   "outputs": [],
   "source": [
    "# Run prediction from a dataloader\n",
    "em.predict(ae_data_module.rollout_test_dataloader()).shape"
   ]
  },
  {
   "cell_type": "code",
   "execution_count": null,
   "id": "13",
   "metadata": {},
   "outputs": [],
   "source": [
    "# Run prediction from a non-rollout dataloader\n",
    "em.predict(ae_data_module.test_dataloader()).shape\n"
   ]
  },
  {
   "cell_type": "code",
   "execution_count": null,
   "id": "14",
   "metadata": {},
   "outputs": [],
   "source": [
    "# Initialize a UNet emulator\n",
    "from autoemulate.experimental.emulators.the_well import TheWellUNetClassic\n",
    "\n",
    "\n",
    "em = TheWellUNetClassic(datamodule=ae_data_module, output_path=output_path, device=\"cpu\")"
   ]
  },
  {
   "cell_type": "code",
   "execution_count": null,
   "id": "15",
   "metadata": {},
   "outputs": [],
   "source": [
    "em.fit()"
   ]
  },
  {
   "cell_type": "code",
   "execution_count": null,
   "id": "16",
   "metadata": {},
   "outputs": [],
   "source": [
    "em.predict(ae_data_module.rollout_test_dataloader()).shape"
   ]
  }
 ],
 "metadata": {
  "kernelspec": {
   "display_name": ".venv",
   "language": "python",
   "name": "python3"
  },
  "language_info": {
   "codemirror_mode": {
    "name": "ipython",
    "version": 3
   },
   "file_extension": ".py",
   "mimetype": "text/x-python",
   "name": "python",
   "nbconvert_exporter": "python",
   "pygments_lexer": "ipython3",
   "version": "3.12.11"
  }
 },
 "nbformat": 4,
 "nbformat_minor": 5
}
