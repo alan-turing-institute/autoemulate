{
 "cells": [
  {
   "cell_type": "code",
   "execution_count": null,
   "id": "76960de2",
   "metadata": {},
   "outputs": [],
   "source": [
    "import torch\n",
    "\n",
    "# device = torch.device(\"mps\" if torch.backends.mps.is_available() else \"cpu\")\n",
    "device = \"cpu\"\n",
    "print(f\"Using device: {device}\")\n",
    "\n",
    "# Set the default tensor type and device for all computations\n",
    "torch.set_default_device(device)"
   ]
  },
  {
   "cell_type": "code",
   "execution_count": null,
   "id": "aa43f79c",
   "metadata": {},
   "outputs": [],
   "source": [
    "\n",
    "from the_well.data import WellDataset\n",
    "\n",
    "the_well = WellDataset(\n",
    "    well_base_path=\"../data/the_well/datasets\",\n",
    "    well_dataset_name=\"active_matter\",\n",
    "    well_split_name=\"test\",\n",
    "    n_steps_input=5,\n",
    "    n_steps_output=1,\n",
    "    \n",
    ")"
   ]
  },
  {
   "cell_type": "code",
   "execution_count": null,
   "id": "304f5384",
   "metadata": {},
   "outputs": [],
   "source": [
    "from torch.utils.data import DataLoader\n",
    "\n",
    "train_loader = DataLoader(the_well, batch_size=1)\n",
    "\n",
    "batch = next(iter(train_loader))\n"
   ]
  },
  {
   "cell_type": "code",
   "execution_count": null,
   "id": "c07ec112",
   "metadata": {},
   "outputs": [],
   "source": [
    "batch[\"input_fields\"].shape, batch[\"output_fields\"].shape\n"
   ]
  },
  {
   "cell_type": "code",
   "execution_count": null,
   "id": "8f3a4ac2",
   "metadata": {},
   "outputs": [],
   "source": [
    "\n",
    "batch[\"input_fields\"][0, 0, :, :, 0].shape\n"
   ]
  },
  {
   "cell_type": "code",
   "execution_count": null,
   "id": "9fad4d95",
   "metadata": {},
   "outputs": [],
   "source": [
    "\n",
    "import matplotlib.pyplot as plt\n",
    "\n",
    "plt.imshow(batch[\"input_fields\"][0, 0, :, :, 0].cpu())\n"
   ]
  },
  {
   "cell_type": "code",
   "execution_count": null,
   "id": "0a0b217e",
   "metadata": {},
   "outputs": [],
   "source": [
    "from neuralop.models import FNO\n",
    "\n",
    "model = FNO(\n",
    "    n_modes=(2, 16, 16),\n",
    "    hidden_channels=16,\n",
    "    in_channels=4,\n",
    "    out_channels=1,\n",
    ")\n"
   ]
  },
  {
   "cell_type": "code",
   "execution_count": null,
   "id": "23e3f352",
   "metadata": {},
   "outputs": [],
   "source": [
    "from autoemulate.core.types import TensorLike\n",
    "from autoemulate.emulators.base import PyTorchBackend\n",
    "\n",
    "import torch\n",
    "\n",
    "def prepare_batch(sample, channels = (0,), with_constants=True, with_time=False):\n",
    "    # Get input fields, constant scalars and output fields\n",
    "    x = sample[\"input_fields\"][:, :, :, :, channels]  # [batch, time, height, width, len(channels)]\n",
    "    constant_scalars = sample[\"constant_scalars\"]  # [batch, n_constants]\n",
    "    y = sample[\"output_fields\"][:, :, :, :, channels]  # [batch, time, height, width, len(channels)]\n",
    "    \n",
    "    # Permute both x and y\n",
    "    x = x.permute(0, 4, 1, 2, 3)  # [batch, len(channels), time, height, width]\n",
    "    y = y.permute(0, 4, 1, 2, 3)  # [batch, len(channels), time, height, width]\n",
    "\n",
    "    # Only add constants to input, not output\n",
    "    if with_constants:\n",
    "        # Assign spatio-temporal dims to constants\n",
    "        time_window, height, width = x.shape[2], x.shape[3], x.shape[4]\n",
    "        n_constants = constant_scalars.shape[-1]\n",
    "\n",
    "        # Add spatio-temporal dims to constants\n",
    "        c_broadcast = constant_scalars.reshape(1, n_constants, 1, 1, 1).expand(1, n_constants, time_window, height, width)\n",
    "        \n",
    "        # Concatenate along channel dimension\n",
    "        x = torch.cat([x, c_broadcast], dim=1)\n",
    "\n",
    "    if not with_time:\n",
    "        # Take last time step for both input and output\n",
    "        return x[:, :, -1, :, :], y[:, :, -1, :, :]\n",
    "    # Otherwise include time\n",
    "    return x, y\n",
    "\n",
    "class FNOEmulator(PyTorchBackend):\n",
    "    def __init__(self, x, y, *args, **kwargs):\n",
    "        self.model = FNO(**kwargs)\n",
    "\n",
    "    def _fit(self, x: DataLoader, y: DataLoader):\n",
    "        channels = (0,)  # Which channel to use\n",
    "        print_shapes = False\n",
    "        for idx, batch in enumerate(train_loader):\n",
    "            # Prepare input with constants\n",
    "            x, y = prepare_batch(\n",
    "                batch, channels=channels, with_constants=True, with_time=True\n",
    "            )\n",
    "            \n",
    "            # Predictions\n",
    "            y_pred = model(x)\n",
    "\n",
    "            # Print shapes\n",
    "            if print_shapes:\n",
    "                print(x.shape, y.shape, y_pred.shape)\n",
    "            \n",
    "            # Get loss\n",
    "            # Take the first time idx as the next time step prediction\n",
    "            loss = self.loss_fn(y_pred[:, :, :1, ...], y)\n",
    "\n",
    "            loss.backward()\n",
    "            self.optimizer.step()\n",
    "            self.optimizer.zero_grad()\n",
    "\n",
    "            print(f\"sample {idx:5d}, loss: {loss.item():.5e}\")\n",
    "\n",
    "    def forward(self, x: TensorLike):\n",
    "        return self.model(x)\n",
    "    \n",
    "    def _predict(self, x, with_grad):\n",
    "        return super()._predict(x, with_grad)\n"
   ]
  },
  {
   "cell_type": "code",
   "execution_count": null,
   "id": "1619f2af",
   "metadata": {},
   "outputs": [],
   "source": [
    "x = batch[\"input_fields\"][:, :, :, :, :1]  # [batch, time, height, width, channels]\n",
    "y = batch[\"output_fields\"][:, :, :, :, :1]  # [batch, time, height, width, channels]\n",
    "x.shape, y.shape\n"
   ]
  },
  {
   "cell_type": "code",
   "execution_count": null,
   "id": "4dd3f6e7",
   "metadata": {},
   "outputs": [],
   "source": [
    "x = x.permute(0, 4, 1, 2, 3)  # Convert to [batch, channels, time, height, width]\n",
    "x.shape\n"
   ]
  },
  {
   "cell_type": "code",
   "execution_count": null,
   "id": "c7251162",
   "metadata": {},
   "outputs": [],
   "source": [
    "import torch\n",
    "\n",
    "def prepare_batch(sample, channels = (0,), with_constants=True, with_time=False):\n",
    "    # Get input fields, constant scalars and output fields\n",
    "    x = sample[\"input_fields\"][:, :, :, :, channels]  # [batch, time, height, width, len(channels)]\n",
    "    constant_scalars = sample[\"constant_scalars\"]  # [batch, n_constants]\n",
    "    y = sample[\"output_fields\"][:, :, :, :, channels]  # [batch, time, height, width, len(channels)]\n",
    "    \n",
    "    # Permute both x and y\n",
    "    x = x.permute(0, 4, 1, 2, 3)  # [batch, len(channels), time, height, width]\n",
    "    y = y.permute(0, 4, 1, 2, 3)  # [batch, len(channels), time, height, width]\n",
    "\n",
    "    # Only add constants to input, not output\n",
    "    if with_constants:\n",
    "        # Assign spatio-temporal dims to constants\n",
    "        time_window, height, width = x.shape[2], x.shape[3], x.shape[4]\n",
    "        n_constants = constant_scalars.shape[-1]\n",
    "\n",
    "        # Add spatio-temporal dims to constants\n",
    "        c_broadcast = constant_scalars.reshape(1, n_constants, 1, 1, 1).expand(1, n_constants, time_window, height, width)\n",
    "        \n",
    "        # Concatenate along channel dimension\n",
    "        x = torch.cat([x, c_broadcast], dim=1)\n",
    "\n",
    "    if not with_time:\n",
    "        # Take last time step for both input and output\n",
    "        return x[:, :, -1, :, :], y[:, :, -1, :, :]\n",
    "    # Otherwise include time\n",
    "    return x, y\n"
   ]
  },
  {
   "cell_type": "code",
   "execution_count": null,
   "id": "1fe0825c",
   "metadata": {},
   "outputs": [],
   "source": [
    "# Without time\n",
    "x_with_constants, y = prepare_batch(batch, channels=(0,), with_time=True)\n",
    "print(f\"Concatenated x shape: {x_with_constants.shape}\")\n",
    "print(f\"Output y shape: {y.shape}\")\n"
   ]
  },
  {
   "cell_type": "code",
   "execution_count": null,
   "id": "60fdc744",
   "metadata": {},
   "outputs": [],
   "source": [
    "# With time\n",
    "x_with_constants, y = prepare_batch(batch, channels=(0,), with_time=True)\n",
    "print(f\"Concatenated x shape: {x_with_constants.shape}\")\n",
    "print(f\"Output y shape: {y.shape}\")\n"
   ]
  },
  {
   "cell_type": "code",
   "execution_count": null,
   "id": "03baebd1",
   "metadata": {},
   "outputs": [],
   "source": [
    "prepare_batch(batch, with_time=True)[0].shape"
   ]
  },
  {
   "cell_type": "code",
   "execution_count": null,
   "id": "e7969df3",
   "metadata": {},
   "outputs": [],
   "source": [
    "\n",
    "# Pass through model\n",
    "model(prepare_batch(batch, with_time=True)[0]).shape\n"
   ]
  },
  {
   "cell_type": "code",
   "execution_count": null,
   "id": "d7088d0d",
   "metadata": {},
   "outputs": [],
   "source": [
    "from torch.optim import AdamW\n",
    "from torch.nn import MSELoss\n",
    "\n",
    "# Create new model\n",
    "model = FNO(\n",
    "    n_modes=(2, 16, 16),\n",
    "    hidden_channels=16,\n",
    "    in_channels=4,\n",
    "    out_channels=1,\n",
    ").to(device)\n",
    "\n",
    "# Explicitly set shuffle=False to ensure monotonic ordering\n",
    "train_loader = DataLoader(the_well, batch_size=1, shuffle=False)\n",
    "\n",
    "optimizer = AdamW(\n",
    "    model.parameters(),\n",
    "    lr=1e-2,\n",
    "    # weight_decay=1e-4\n",
    ")\n",
    "\n",
    "loss_fn = MSELoss().to(device)\n",
    "channels = (0,)  # Which channel to use\n",
    "print_shapes = False\n",
    "for idx, batch in enumerate(train_loader):\n",
    "    # Prepare input with constants\n",
    "    x, y = prepare_batch(batch, channels=channels, with_constants=True, with_time=True)\n",
    "    \n",
    "    # Predictions\n",
    "    y_pred = model(x)\n",
    "\n",
    "    # Print shapes\n",
    "    if print_shapes:\n",
    "        print(x.shape, y.shape, y_pred.shape)\n",
    "    \n",
    "    # Get loss\n",
    "    # Take the first time idx as the next time step prediction\n",
    "    loss = loss_fn(y_pred[:, :, :1, ...], y)\n",
    "\n",
    "    loss.backward()\n",
    "    optimizer.step()\n",
    "    optimizer.zero_grad()\n",
    "\n",
    "    print(f\"sample {idx:5d}, loss: {loss.item():.5e}\")\n",
    "\n",
    "    # Break after a few samples for testing\n",
    "    if idx >= 100:\n",
    "        break"
   ]
  },
  {
   "cell_type": "code",
   "execution_count": null,
   "id": "a78d02cc",
   "metadata": {},
   "outputs": [],
   "source": []
  }
 ],
 "metadata": {
  "kernelspec": {
   "display_name": ".venv",
   "language": "python",
   "name": "python3"
  },
  "language_info": {
   "codemirror_mode": {
    "name": "ipython",
    "version": 3
   },
   "file_extension": ".py",
   "mimetype": "text/x-python",
   "name": "python",
   "nbconvert_exporter": "python",
   "pygments_lexer": "ipython3",
   "version": "3.12.11"
  }
 },
 "nbformat": 4,
 "nbformat_minor": 5
}
