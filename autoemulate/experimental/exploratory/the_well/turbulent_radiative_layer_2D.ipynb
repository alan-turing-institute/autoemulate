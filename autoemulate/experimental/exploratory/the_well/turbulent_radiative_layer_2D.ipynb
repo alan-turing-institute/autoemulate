{
 "cells": [
  {
   "cell_type": "code",
   "execution_count": null,
   "id": "0",
   "metadata": {},
   "outputs": [],
   "source": [
    "import matplotlib.pyplot as plt\n",
    "import logging\n",
    "from autoemulate.experimental.emulators.the_well import TheWellFNO, TheWellFNOWithLearnableWeights\n",
    "from pathlib import Path\n",
    "from the_well.data import WellDataModule, WellDataset\n"
   ]
  },
  {
   "cell_type": "code",
   "execution_count": null,
   "id": "1",
   "metadata": {},
   "outputs": [],
   "source": [
    "from omegaconf import OmegaConf"
   ]
  },
  {
   "cell_type": "code",
   "execution_count": null,
   "id": "2",
   "metadata": {},
   "outputs": [],
   "source": [
    "# Make a datamodule\n",
    "logging.basicConfig(level=logging.INFO)\n",
    "n_steps_input = 4\n",
    "n_steps_output = 1\n",
    "well_dataset_name=\"turbulent_radiative_layer_2D\"\n",
    "ae_data_module = WellDataModule(\n",
    "    well_base_path=\"../data/the_well/datasets\",\n",
    "    well_dataset_name=well_dataset_name,\n",
    "    n_steps_input=n_steps_input,\n",
    "    n_steps_output=n_steps_output,\n",
    "    batch_size=4,\n",
    "    train_dataset=WellDataset,\n",
    ")\n",
    "output_path = Path(\"../data/the_well/runs\") / f\"{well_dataset_name}_fno\""
   ]
  },
  {
   "cell_type": "code",
   "execution_count": null,
   "id": "3",
   "metadata": {},
   "outputs": [],
   "source": [
    "# Plot example\n",
    "batch = next(iter(ae_data_module.val_dataloader()))\n",
    "plt.imshow(batch[\"input_fields\"][0, 0, :, :, 0])\n",
    "plt.show()"
   ]
  },
  {
   "cell_type": "code",
   "execution_count": null,
   "id": "4",
   "metadata": {},
   "outputs": [],
   "source": [
    "from autoemulate.experimental.emulators.the_well import (\n",
    "    DefaultChannelsFirstFormatterWithTime, TrainerParams, TheWellFNOWithTime\n",
    ")\n",
    "from the_well.data.data_formatter import DefaultChannelsFirstFormatter\n",
    "from the_well.benchmark.metrics import VRMSE, RMSE\n",
    "\n",
    "# from autoemulate.experimental.emulators.the_well import (\n",
    "#     DefaultChannelsFirstFormatterWithTime, TrainerParams, TheWellFNOWithTime\n",
    "# )\n",
    " \n",
    "# Device set to MPS as example, can also be \"cpu\", \"cuda\" etc\n",
    "device = \"mps\" # \"cpu\"\n",
    "\n",
    "# Initialize the emulator\n",
    "# em = TheWellFNOWithLearnableWeights(\n",
    "em = TheWellFNO(\n",
    "    formatter_cls=DefaultChannelsFirstFormatter,\n",
    "    loss_fn=VRMSE(),\n",
    "    datamodule=ae_data_module,\n",
    "    trainer_params=TrainerParams(\n",
    "        output_path=str(output_path),\n",
    "        max_rollout_steps=100,\n",
    "        device=device,\n",
    "        optimizer_params={\"lr\": 1e-3},\n",
    "    )\n",
    ")\n"
   ]
  },
  {
   "cell_type": "code",
   "execution_count": null,
   "id": "5",
   "metadata": {},
   "outputs": [],
   "source": [
    "# Fit the model\n",
    "em.fit()"
   ]
  },
  {
   "cell_type": "code",
   "execution_count": null,
   "id": "6",
   "metadata": {},
   "outputs": [],
   "source": [
    "# Validation loop\n",
    "valid_results = em.trainer.validation_loop(\n",
    "    ae_data_module.rollout_val_dataloader(),\n",
    "    valid_or_test=\"rollout_valid\",\n",
    "    full=True\n",
    ")"
   ]
  },
  {
   "cell_type": "code",
   "execution_count": null,
   "id": "7",
   "metadata": {},
   "outputs": [],
   "source": [
    "test_results = em.trainer.validation_loop(\n",
    "    ae_data_module.rollout_test_dataloader(),\n",
    "    valid_or_test=\"rollout_test\",\n",
    "    full=True\n",
    ")"
   ]
  },
  {
   "cell_type": "code",
   "execution_count": null,
   "id": "8",
   "metadata": {},
   "outputs": [],
   "source": [
    "from pprint import pprint\n",
    "pprint(valid_results)"
   ]
  },
  {
   "cell_type": "code",
   "execution_count": null,
   "id": "9",
   "metadata": {},
   "outputs": [],
   "source": [
    "pprint(test_results)"
   ]
  }
 ],
 "metadata": {
  "kernelspec": {
   "display_name": ".venv",
   "language": "python",
   "name": "python3"
  },
  "language_info": {
   "codemirror_mode": {
    "name": "ipython",
    "version": 3
   },
   "file_extension": ".py",
   "mimetype": "text/x-python",
   "name": "python",
   "nbconvert_exporter": "python",
   "pygments_lexer": "ipython3",
   "version": "3.12.11"
  }
 },
 "nbformat": 4,
 "nbformat_minor": 5
}
