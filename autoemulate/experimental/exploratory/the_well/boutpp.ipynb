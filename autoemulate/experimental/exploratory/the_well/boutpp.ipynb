{
 "cells": [
  {
   "cell_type": "code",
   "execution_count": null,
   "id": "0",
   "metadata": {},
   "outputs": [],
   "source": [
    "import matplotlib.pyplot as plt\n",
    "import logging\n",
    "from autoemulate.experimental.emulators.the_well import TheWellFNO\n",
    "from the_well.benchmark.metrics.plottable_data import make_video\n",
    "\n",
    "logging.basicConfig(\n",
    "    level=logging.INFO,\n",
    "    format=\"%(asctime)s %(name)s %(levelname)s: %(message)s\",\n",
    ")"
   ]
  },
  {
   "cell_type": "code",
   "execution_count": null,
   "id": "1",
   "metadata": {},
   "outputs": [],
   "source": [
    "from autoemulate.experimental.data.spatiotemporal_dataset import AutoEmulateDataModule, BOUTDataset\n",
    "\n",
    "# Note this assumes that the BOUT++ data is stored in ../data/bout/ with the structure:\n",
    "# ../data/bout/train/data.pt\n",
    "# ../data/bout/valid/data.pt\n",
    "# ../data/bout/test/data.pt\n",
    "ae_data_module = AutoEmulateDataModule(\n",
    "    n_steps_input=5,\n",
    "    n_steps_output=5,\n",
    "    data_path=\"../data/bout/\",\n",
    "    dataset_cls=BOUTDataset,\n",
    "    verbose=False\n",
    ")\n",
    "output_path = \"../data/the_well/runs/bout_wip_new\""
   ]
  },
  {
   "cell_type": "code",
   "execution_count": null,
   "id": "2",
   "metadata": {},
   "outputs": [],
   "source": [
    "from autoemulate.experimental.data.spatiotemporal_dataset import AutoEmulateDataset\n",
    "from torch.utils.data import DataLoader\n",
    "\n",
    "ds = BOUTDataset(\n",
    "    data_path=\"../data/bout/train/data.pt\",\n",
    "    n_steps_input=51,\n",
    "    n_steps_output=0\n",
    ")\n",
    "# dl = DataLoader(ds, shuffle=False)\n"
   ]
  },
  {
   "cell_type": "code",
   "execution_count": null,
   "id": "3",
   "metadata": {},
   "outputs": [],
   "source": [
    "# # Create a function to animate simulation images\n",
    "# it = iter(ds)\n",
    "# traj = next(it)[\"input_fields\"]\n",
    "# _ = make_video(\n",
    "#     traj,\n",
    "#     traj,\n",
    "#     output_dir=output_path,\n",
    "#     metadata=ds.metadata,\n",
    "# )"
   ]
  },
  {
   "cell_type": "code",
   "execution_count": null,
   "id": "4",
   "metadata": {},
   "outputs": [],
   "source": [
    "# Plot example\n",
    "batch = next(iter(ae_data_module.val_dataloader()))\n",
    "plt.imshow(batch[\"input_fields\"][0, 0, :, :, 0])\n",
    "plt.show()"
   ]
  },
  {
   "cell_type": "code",
   "execution_count": null,
   "id": "5",
   "metadata": {},
   "outputs": [],
   "source": [
    "# Initialize the emulator\n",
    "from the_well.benchmark.metrics import VRMSE, RMSE\n",
    "from the_well.data.data_formatter import DefaultChannelsFirstFormatter, DefaultChannelsLastFormatter\n",
    "from autoemulate.experimental.emulators.the_well import TheWellUNetClassic, TheWellUNetConvNext, TrainerParams\n",
    "\n",
    "\n",
    "# em = TheWellUNetConvNext(\n",
    "em = TheWellFNO(\n",
    "    formatter_cls=DefaultChannelsFirstFormatter,\n",
    "    datamodule=ae_data_module,\n",
    "    loss_fn=VRMSE(),\n",
    "    # loss_fn=RMSE(),\n",
    "    trainer_params=TrainerParams(\n",
    "        max_rollout_steps=100,\n",
    "        output_path=output_path,\n",
    "        device=\"mps\",\n",
    "        optimizer_params={\"lr\": 1e-4},\n",
    "        enable_tf_schedule=True\n",
    "\n",
    "    ),\n",
    ")"
   ]
  },
  {
   "cell_type": "code",
   "execution_count": null,
   "id": "6",
   "metadata": {},
   "outputs": [],
   "source": [
    "# Fit the model\n",
    "em.fit()"
   ]
  },
  {
   "cell_type": "code",
   "execution_count": null,
   "id": "7",
   "metadata": {},
   "outputs": [],
   "source": [
    "# Validation loop\n",
    "valid_results = em.trainer.validation_loop(\n",
    "    ae_data_module.rollout_val_dataloader(),\n",
    "    valid_or_test=\"rollout_valid\",\n",
    "    full=True\n",
    ")"
   ]
  },
  {
   "cell_type": "code",
   "execution_count": null,
   "id": "8",
   "metadata": {},
   "outputs": [],
   "source": [
    "test_results = em.trainer.validation_loop(\n",
    "    ae_data_module.rollout_test_dataloader(),\n",
    "    valid_or_test=\"rollout_test\",\n",
    "    full=True\n",
    ")"
   ]
  },
  {
   "cell_type": "code",
   "execution_count": null,
   "id": "9",
   "metadata": {},
   "outputs": [],
   "source": [
    "from pprint import pprint\n",
    "pprint(valid_results)"
   ]
  },
  {
   "cell_type": "code",
   "execution_count": null,
   "id": "10",
   "metadata": {},
   "outputs": [],
   "source": [
    "pprint(test_results)"
   ]
  },
  {
   "cell_type": "code",
   "execution_count": null,
   "id": "11",
   "metadata": {},
   "outputs": [],
   "source": [
    "# Run prediction from a dataloader\n",
    "em.predict(ae_data_module.rollout_test_dataloader()).shape"
   ]
  },
  {
   "cell_type": "code",
   "execution_count": null,
   "id": "12",
   "metadata": {},
   "outputs": [],
   "source": [
    "# Run prediction from a non-rollout dataloader\n",
    "em.predict(ae_data_module.test_dataloader()).shape\n"
   ]
  },
  {
   "cell_type": "code",
   "execution_count": null,
   "id": "13",
   "metadata": {},
   "outputs": [],
   "source": []
  }
 ],
 "metadata": {
  "kernelspec": {
   "display_name": ".venv",
   "language": "python",
   "name": "python3"
  },
  "language_info": {
   "codemirror_mode": {
    "name": "ipython",
    "version": 3
   },
   "file_extension": ".py",
   "mimetype": "text/x-python",
   "name": "python",
   "nbconvert_exporter": "python",
   "pygments_lexer": "ipython3",
   "version": "3.12.11"
  }
 },
 "nbformat": 4,
 "nbformat_minor": 5
}
