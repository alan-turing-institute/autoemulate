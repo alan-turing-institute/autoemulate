{
 "cells": [
  {
   "cell_type": "code",
   "execution_count": null,
   "id": "0",
   "metadata": {},
   "outputs": [],
   "source": [
    "from the_well.data import WellDataset, DeltaWellDataset\n",
    "\n",
    "from pathlib import Path\n",
    "import torch\n",
    "from the_well.data import WellDataModule\n",
    "import matplotlib.pyplot as plt\n",
    "import logging\n",
    "from autoemulate.experimental.emulators.the_well import TheWellEmulator, TheWellFNO\n",
    "\n",
    "logger = logging.getLogger()\n",
    "\n",
    "\n",
    "# Make a datamodule\n",
    "n_steps_input = 1\n",
    "n_steps_output = 1\n",
    "well_dataset_name=\"turbulent_radiative_layer_2D\"\n",
    "datamodule = WellDataModule(\n",
    "    well_base_path=\"../data/the_well/datasets\",\n",
    "    well_dataset_name=well_dataset_name,\n",
    "    n_steps_input=n_steps_input,\n",
    "    n_steps_output=n_steps_output,\n",
    "    batch_size=4,\n",
    "    train_dataset=WellDataset,\n",
    ")\n",
    "output_path = Path(\"../data/the_well/runs\") / f\"{well_dataset_name}_in{n_steps_input}_out{n_steps_output}\""
   ]
  },
  {
   "cell_type": "code",
   "execution_count": null,
   "id": "1",
   "metadata": {},
   "outputs": [],
   "source": [
    "# Plot example\n",
    "batch = next(iter(datamodule.val_dataloader()))\n",
    "plt.imshow(batch[\"input_fields\"][0, 0, :, :, 0])\n",
    "plt.show()"
   ]
  },
  {
   "cell_type": "code",
   "execution_count": null,
   "id": "2",
   "metadata": {},
   "outputs": [],
   "source": [
    "# Initialize the emulator\n",
    "em = TheWellFNO(datamodule=datamodule, output_path=output_path, device=\"cpu\")"
   ]
  },
  {
   "cell_type": "code",
   "execution_count": null,
   "id": "3",
   "metadata": {},
   "outputs": [],
   "source": [
    "# Fit the model\n",
    "em._fit(None, None)"
   ]
  },
  {
   "cell_type": "code",
   "execution_count": null,
   "id": "4",
   "metadata": {},
   "outputs": [],
   "source": [
    "# Predictions for a whole dataloader - this takes long time\n",
    "# em._predict(DataLoader(subset))"
   ]
  },
  {
   "cell_type": "code",
   "execution_count": null,
   "id": "5",
   "metadata": {},
   "outputs": [],
   "source": [
    "# Example of predictions with the rollout model from a single batch\n",
    "batch = next(iter(datamodule.val_dataloader()))\n",
    "em.trainer.rollout_model(em.trainer.model, batch, em.trainer.formatter, train=False)[0].shape"
   ]
  },
  {
   "cell_type": "code",
   "execution_count": null,
   "id": "6",
   "metadata": {},
   "outputs": [],
   "source": [
    "batch = next(iter(datamodule.val_dataloader()))"
   ]
  },
  {
   "cell_type": "code",
   "execution_count": null,
   "id": "7",
   "metadata": {},
   "outputs": [],
   "source": [
    "batch[\"input_fields\"].shape, batch[\"output_fields\"].shape, "
   ]
  },
  {
   "cell_type": "code",
   "execution_count": null,
   "id": "8",
   "metadata": {},
   "outputs": [],
   "source": [
    "batch_rollout = next(iter(datamodule.rollout_val_dataloader()))"
   ]
  },
  {
   "cell_type": "code",
   "execution_count": null,
   "id": "9",
   "metadata": {},
   "outputs": [],
   "source": [
    "batch_rollout[\"input_fields\"].shape, batch_rollout[\"output_fields\"].shape, \n"
   ]
  },
  {
   "cell_type": "code",
   "execution_count": null,
   "id": "10",
   "metadata": {},
   "outputs": [],
   "source": [
    "em.trainer.max_rollout_steps"
   ]
  }
 ],
 "metadata": {
  "kernelspec": {
   "display_name": ".venv",
   "language": "python",
   "name": "python3"
  },
  "language_info": {
   "codemirror_mode": {
    "name": "ipython",
    "version": 3
   },
   "file_extension": ".py",
   "mimetype": "text/x-python",
   "name": "python",
   "nbconvert_exporter": "python",
   "pygments_lexer": "ipython3",
   "version": "3.12.11"
  }
 },
 "nbformat": 4,
 "nbformat_minor": 5
}
