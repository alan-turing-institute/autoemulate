{
 "cells": [
  {
   "cell_type": "code",
   "execution_count": null,
   "id": "0",
   "metadata": {},
   "outputs": [],
   "source": [
    "from the_well.data import WellDataset, DeltaWellDataset\n",
    "\n",
    "from pathlib import Path\n",
    "from the_well.data import WellDataModule\n",
    "import matplotlib.pyplot as plt\n",
    "import logging\n",
    "from autoemulate.experimental.emulators.the_well import TheWellFNO\n",
    "\n",
    "logger = logging.getLogger()"
   ]
  },
  {
   "cell_type": "code",
   "execution_count": null,
   "id": "1",
   "metadata": {},
   "outputs": [],
   "source": [
    "# Make an autoemulate datamodule from the_well datamodule\n",
    "from autoemulate.simulations.reaction_diffusion import ReactionDiffusion\n",
    "rd = ReactionDiffusion(n=32, T=10, dt=0.1, return_timeseries=True)\n",
    "data = rd.forward_samples_spatiotemporal(3)\n",
    "y = data[\"data\"]\n"
   ]
  },
  {
   "cell_type": "code",
   "execution_count": null,
   "id": "2",
   "metadata": {},
   "outputs": [],
   "source": [
    "data_valid = rd.forward_samples_spatiotemporal(1)\n",
    "data_test = rd.forward_samples_spatiotemporal(1)"
   ]
  },
  {
   "cell_type": "code",
   "execution_count": null,
   "id": "3",
   "metadata": {},
   "outputs": [],
   "source": [
    "from autoemulate.experimental.data.spatiotemporal_dataset import AutoEmulateDataModule, ReactionDiffusionDataset\n",
    "\n",
    "ae_data_module = AutoEmulateDataModule(\n",
    "    data_path=None,\n",
    "    dataset_cls=ReactionDiffusionDataset,\n",
    "    data={\"train\": data, \"valid\": data_valid, \"test\": data_test},\n",
    "    verbose=False\n",
    ")\n",
    "output_path = Path(\"../data/the_well/runs\")"
   ]
  },
  {
   "cell_type": "code",
   "execution_count": null,
   "id": "4",
   "metadata": {},
   "outputs": [],
   "source": [
    "# Plot example\n",
    "batch = next(iter(ae_data_module.val_dataloader()))\n",
    "plt.imshow(batch[\"input_fields\"][0, 0, :, :, 0])\n",
    "plt.show()"
   ]
  },
  {
   "cell_type": "code",
   "execution_count": null,
   "id": "5",
   "metadata": {},
   "outputs": [],
   "source": [
    "# Initialize the emulator\n",
    "em = TheWellFNO(datamodule=ae_data_module, output_path=output_path, device=\"cpu\")"
   ]
  },
  {
   "cell_type": "code",
   "execution_count": null,
   "id": "6",
   "metadata": {},
   "outputs": [],
   "source": [
    "# Fit the model\n",
    "em.fit()"
   ]
  },
  {
   "cell_type": "code",
   "execution_count": null,
   "id": "7",
   "metadata": {},
   "outputs": [],
   "source": [
    "# Validation loop\n",
    "valid_results = em.trainer.validation_loop(\n",
    "    ae_data_module.rollout_val_dataloader(),\n",
    "    valid_or_test=\"rollout_valid\",\n",
    "    full=True\n",
    ")"
   ]
  },
  {
   "cell_type": "code",
   "execution_count": null,
   "id": "8",
   "metadata": {},
   "outputs": [],
   "source": [
    "test_results = em.trainer.validation_loop(\n",
    "    ae_data_module.rollout_test_dataloader(),\n",
    "    valid_or_test=\"rollout_test\",\n",
    "    full=True\n",
    ")"
   ]
  },
  {
   "cell_type": "code",
   "execution_count": null,
   "id": "9",
   "metadata": {},
   "outputs": [],
   "source": [
    "from pprint import pprint\n",
    "pprint(valid_results)"
   ]
  },
  {
   "cell_type": "code",
   "execution_count": null,
   "id": "10",
   "metadata": {},
   "outputs": [],
   "source": [
    "pprint(test_results)"
   ]
  },
  {
   "cell_type": "code",
   "execution_count": null,
   "id": "11",
   "metadata": {},
   "outputs": [],
   "source": [
    "# Run prediction from a dataloader\n",
    "em.predict(ae_data_module.rollout_test_dataloader()).shape"
   ]
  },
  {
   "cell_type": "code",
   "execution_count": null,
   "id": "12",
   "metadata": {},
   "outputs": [],
   "source": [
    "# Run prediction from a non-rollout dataloader\n",
    "em.predict(ae_data_module.test_dataloader()).shape"
   ]
  }
 ],
 "metadata": {
  "kernelspec": {
   "display_name": ".venv",
   "language": "python",
   "name": "python3"
  },
  "language_info": {
   "codemirror_mode": {
    "name": "ipython",
    "version": 3
   },
   "file_extension": ".py",
   "mimetype": "text/x-python",
   "name": "python",
   "nbconvert_exporter": "python",
   "pygments_lexer": "ipython3",
   "version": "3.12.11"
  }
 },
 "nbformat": 4,
 "nbformat_minor": 5
}
