{
 "cells": [
  {
   "cell_type": "markdown",
   "id": "0",
   "metadata": {},
   "source": []
  },
  {
   "cell_type": "markdown",
   "id": "1",
   "metadata": {},
   "source": [
    "# Demo for Universal Kriging implementation\n",
    "\n",
    "This terminology is borrowed from this paper \n",
    "https://arxiv.org/pdf/2408.02331\n",
    "\n",
    "1. Simple Kriging: Known mean function, no noise\n",
    "2. Ordinary Kriging: Unknown constant mean, no noise\n",
    "3. Universal Kriging: Unknown mean as linear combination of known functions\n",
    "\n"
   ]
  },
  {
   "cell_type": "code",
   "execution_count": null,
   "id": "2",
   "metadata": {},
   "outputs": [],
   "source": [
    "from autoemulate.simulations.projectile import Projectile\n",
    "\n",
    "projectile = Projectile(log_level=\"error\")\n",
    "n_samples = 50\n",
    "x = projectile.sample_inputs(n_samples).float()\n",
    "y = projectile.forward_batch(x).float()\n",
    "x.shape, y.shape"
   ]
  },
  {
   "cell_type": "markdown",
   "id": "3",
   "metadata": {},
   "source": []
  },
  {
   "cell_type": "code",
   "execution_count": null,
   "id": "4",
   "metadata": {},
   "outputs": [],
   "source": [
    "from autoemulate import AutoEmulate \n",
    "from autoemulate.emulators import GaussianProcess\n"
   ]
  },
  {
   "cell_type": "markdown",
   "id": "5",
   "metadata": {},
   "source": [
    "# define custom mean \n",
    "for example here we try to incorporates some knowledge of projectile motion physics into the GP. With drag, there is no simple closed form solution and simulaiton is solved numerically. for no drag : $ R = v_0^2 sin(2\\theta)/g$ \n",
    "\n",
    "cutom_mean is returning the `mean_module.PartiallyLearnableMean` class which has `projectile_mean` mean_func\n",
    "\n",
    "and we replace `mean_module.partially_learnable_mean`"
   ]
  },
  {
   "cell_type": "code",
   "execution_count": null,
   "id": "6",
   "metadata": {},
   "outputs": [],
   "source": [
    "import autoemulate.emulators.gaussian_process.mean as mean_module\n",
    "\n",
    "def projectile_mean(x):\n",
    "    return x**2/9.8\n",
    "\n",
    "def custom_mean(n_features, n_outputs):\n",
    "    return mean_module.PartiallyLearnableMean(\n",
    "        mean_func=projectile_mean,\n",
    "        known_dim=0,\n",
    "        input_size=n_features,\n",
    "        batch_shape=n_outputs\n",
    "    )\n",
    "\n",
    "mean_module.partially_learnable_mean = custom_mean\n"
   ]
  },
  {
   "cell_type": "markdown",
   "id": "7",
   "metadata": {},
   "source": [
    "This means that here , \n",
    "\n",
    "```python \n",
    "    return {\n",
    "        \"mean_module_fn\": [\n",
    "            constant_mean,\n",
    "            zero_mean,\n",
    "            linear_mean,\n",
    "            poly_mean,\n",
    "            partially_learnable_mean,\n",
    "        ],\n",
    "```\n",
    "\n",
    "it itterates over these and our updated `partially_learnable_mean` and choose the best, as here the result is not the best for `partially_learnable_mean` I also check this for a case without tuning "
   ]
  },
  {
   "cell_type": "code",
   "execution_count": null,
   "id": "8",
   "metadata": {},
   "outputs": [],
   "source": [
    "ae = AutoEmulate(x, y, models=[GaussianProcess], log_level=\"error\")"
   ]
  },
  {
   "cell_type": "code",
   "execution_count": null,
   "id": "9",
   "metadata": {},
   "outputs": [],
   "source": [
    "ae.summarise()"
   ]
  },
  {
   "cell_type": "code",
   "execution_count": null,
   "id": "10",
   "metadata": {},
   "outputs": [],
   "source": [
    "ae.plot(0)\n"
   ]
  },
  {
   "cell_type": "markdown",
   "id": "11",
   "metadata": {},
   "source": [
    "# No tuning \n",
    "here ` mean_module.partially_learnable_mean` is forced without tuning "
   ]
  },
  {
   "cell_type": "code",
   "execution_count": null,
   "id": "12",
   "metadata": {},
   "outputs": [],
   "source": [
    "\n",
    "ae_2 = AutoEmulate(\n",
    "    x, y, \n",
    "    models=[GaussianProcess],\n",
    "    model_tuning=False,\n",
    "    model_params={\"mean_module_fn\": mean_module.partially_learnable_mean},\n",
    "    log_level=\"error\"\n",
    ")"
   ]
  },
  {
   "cell_type": "code",
   "execution_count": null,
   "id": "13",
   "metadata": {},
   "outputs": [],
   "source": [
    "ae_2.summarise()"
   ]
  },
  {
   "cell_type": "code",
   "execution_count": null,
   "id": "14",
   "metadata": {},
   "outputs": [],
   "source": [
    "ae_2.plot(0)"
   ]
  },
  {
   "cell_type": "code",
   "execution_count": null,
   "id": "15",
   "metadata": {},
   "outputs": [],
   "source": []
  },
  {
   "cell_type": "code",
   "execution_count": null,
   "id": "16",
   "metadata": {},
   "outputs": [],
   "source": []
  },
  {
   "cell_type": "code",
   "execution_count": null,
   "id": "17",
   "metadata": {},
   "outputs": [],
   "source": []
  }
 ],
 "metadata": {
  "kernelspec": {
   "display_name": ".venv",
   "language": "python",
   "name": "python3"
  },
  "language_info": {
   "codemirror_mode": {
    "name": "ipython",
    "version": 3
   },
   "file_extension": ".py",
   "mimetype": "text/x-python",
   "name": "python",
   "nbconvert_exporter": "python",
   "pygments_lexer": "ipython3",
   "version": "3.12.9"
  }
 },
 "nbformat": 4,
 "nbformat_minor": 5
}
