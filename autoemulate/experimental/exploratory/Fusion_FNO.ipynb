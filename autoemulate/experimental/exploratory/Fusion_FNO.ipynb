{
 "cells": [
  {
   "cell_type": "code",
   "execution_count": null,
   "id": "0",
   "metadata": {},
   "outputs": [],
   "source": [
    "import torch\n",
    "\n",
    "# device = torch.device(\"mps\" if torch.backends.mps.is_available() else \"cpu\")\n",
    "device = \"cpu\"\n",
    "print(f\"Using device: {device}\")\n",
    "\n",
    "# Set the default tensor type and device for all computations\n",
    "torch.set_default_device(device)"
   ]
  },
  {
   "cell_type": "code",
   "execution_count": null,
   "id": "1",
   "metadata": {},
   "outputs": [],
   "source": [
    "import torch\n",
    "from torch.utils.data import Dataset\n",
    "import h5py\n",
    "\n",
    "from autoemulate.core.types import TensorLike\n",
    "\n",
    "from autoemulate.experimental.data.spatio_temporal_dataset import AutoEmulateDataset , MHDDataset"
   ]
  },
  {
   "cell_type": "code",
   "execution_count": null,
   "id": "2",
   "metadata": {},
   "outputs": [],
   "source": [
    "# Example with fusion\n",
    "\n",
    "from torch.utils.data import DataLoader\n",
    "\n",
    "dataset = MHDDataset(\"/bask/homes/h/hdjd5168/vjgo8416-ai-phy-sys/marj/AE_exploratory/FNO/complete_mhd_dataset/mhd_dataset.h5\", t_in=2, t_out=53)\n",
    "\n",
    "# this is temp as the simulated  data I have is not in teh well format\n",
    "for i in range(len(dataset.all_input_fields)):\n",
    "    dataset.all_input_fields[i] = dataset.all_input_fields[i].permute(0, 2, 3, 1)  # [T,C,H,W] → [T,H,W,C]\n",
    "    dataset.all_output_fields[i] = dataset.all_output_fields[i].permute(0, 2, 3, 1)\n",
    "\n",
    "dataloader = DataLoader(dataset, batch_size=1, shuffle=False)\n",
    "\n",
    "batch_fusion = next(iter(dataloader))\n",
    "\n"
   ]
  },
  {
   "cell_type": "code",
   "execution_count": null,
   "id": "3",
   "metadata": {},
   "outputs": [],
   "source": [
    "batch_fusion[\"input_fields\"].shape, batch_fusion[\"output_fields\"].shape"
   ]
  },
  {
   "cell_type": "code",
   "execution_count": null,
   "id": "4",
   "metadata": {},
   "outputs": [],
   "source": []
  },
  {
   "cell_type": "code",
   "execution_count": null,
   "id": "5",
   "metadata": {},
   "outputs": [],
   "source": [
    "import matplotlib.pyplot as plt\n",
    "import matplotlib.animation as animation\n",
    "from IPython.display import HTML\n",
    "import numpy as np\n",
    "idx = np.random.randint(0, 199)\n",
    "random_sample = dataset[idx]\n",
    "data = random_sample[\"output_fields\"].detach().cpu().numpy()\n",
    "data = random_sample[\"input_fields\"].detach().cpu().numpy()\n",
    "print(data.shape)\n",
    "time_steps, height, width, num_channels = data.shape\n",
    "fig, axes = plt.subplots(1,2, figsize=(10,5))\n",
    "\n",
    "ims = [ax.imshow(data[t, :, :, 0], aspect='auto', cmap='viridis') for t, ax in zip(range(time_steps), axes)]\n",
    "\n",
    "def animate(frame):\n",
    "    for i, im in enumerate(ims):\n",
    "        d = data[frame, :, :, i]\n",
    "        im.set_array(d)\n",
    "        im.set_clim(d.min(), d.max())\n",
    "    return ims\n",
    "\n",
    "anim = animation.FuncAnimation(fig, animate, frames=time_steps, interval=200, repeat=False)\n",
    "HTML(anim.to_jshtml())"
   ]
  },
  {
   "cell_type": "code",
   "execution_count": null,
   "id": "6",
   "metadata": {},
   "outputs": [],
   "source": []
  },
  {
   "cell_type": "code",
   "execution_count": null,
   "id": "7",
   "metadata": {},
   "outputs": [],
   "source": [
    "from autoemulate.experimental.emulators.fno import FNOEmulator\n",
    "emulator = FNOEmulator(\n",
    "    n_vars=1,  # density + temperature + constants\n",
    "    n_modes=(64, 64,1),  # spatial + temporal modes (match t_out)\n",
    "    hidden_channels=64,\n",
    "    lr=1e-3,\n",
    "    epochs=100\n",
    ")\n",
    "emulator.fit(dataloader, None)\n"
   ]
  },
  {
   "cell_type": "code",
   "execution_count": null,
   "id": "8",
   "metadata": {},
   "outputs": [],
   "source": [
    "x = batch[\"input_fields\"][:, :, :, :, :1]  # [batch, time, height, width, channels]\n",
    "y = batch[\"output_fields\"][:, :, :, :, :1]  # [batch, time, height, width, channels]\n",
    "x.shape, y.shape\n"
   ]
  },
  {
   "cell_type": "code",
   "execution_count": null,
   "id": "9",
   "metadata": {},
   "outputs": [],
   "source": [
    "x = x.permute(0, 4, 1, 2, 3)  # Convert to [batch, channels, time, height, width]\n",
    "x.shape\n"
   ]
  },
  {
   "cell_type": "code",
   "execution_count": null,
   "id": "10",
   "metadata": {},
   "outputs": [],
   "source": [
    "import torch\n",
    "\n",
    "def prepare_batch(sample, channels = (0,), with_constants=True, with_time=False):\n",
    "    # Get input fields, constant scalars and output fields\n",
    "    x = sample[\"input_fields\"][:, :, :, :, channels]  # [batch, time, height, width, len(channels)]\n",
    "    constant_scalars = sample[\"constant_scalars\"]  # [batch, n_constants]\n",
    "    y = sample[\"output_fields\"][:, :, :, :, channels]  # [batch, time, height, width, len(channels)]\n",
    "    \n",
    "    # Permute both x and y\n",
    "    x = x.permute(0, 4, 1, 2, 3)  # [batch, len(channels), time, height, width]\n",
    "    y = y.permute(0, 4, 1, 2, 3)  # [batch, len(channels), time, height, width]\n",
    "\n",
    "    # Only add constants to input, not output\n",
    "    if with_constants:\n",
    "        # Assign spatio-temporal dims to constants\n",
    "        time_window, height, width = x.shape[2], x.shape[3], x.shape[4]\n",
    "        n_constants = constant_scalars.shape[-1]\n",
    "\n",
    "        # Add spatio-temporal dims to constants\n",
    "        c_broadcast = constant_scalars.reshape(1, n_constants, 1, 1, 1).expand(1, n_constants, time_window, height, width)\n",
    "        \n",
    "        # Concatenate along channel dimension\n",
    "        x = torch.cat([x, c_broadcast], dim=1)\n",
    "\n",
    "    if not with_time:\n",
    "        # Take last time step for both input and output\n",
    "        return x[:, :, -1, :, :], y[:, :, -1, :, :]\n",
    "    # Otherwise include time\n",
    "    return x, y\n"
   ]
  },
  {
   "cell_type": "code",
   "execution_count": null,
   "id": "11",
   "metadata": {},
   "outputs": [],
   "source": [
    "# Without time\n",
    "x_with_constants, y = prepare_batch(batch, channels=(0,), with_time=True)\n",
    "print(f\"Concatenated x shape: {x_with_constants.shape}\")\n",
    "print(f\"Output y shape: {y.shape}\")\n"
   ]
  },
  {
   "cell_type": "code",
   "execution_count": null,
   "id": "12",
   "metadata": {},
   "outputs": [],
   "source": [
    "# With time\n",
    "x_with_constants, y = prepare_batch(batch, channels=(0,), with_time=True)\n",
    "print(f\"Concatenated x shape: {x_with_constants.shape}\")\n",
    "print(f\"Output y shape: {y.shape}\")\n"
   ]
  },
  {
   "cell_type": "code",
   "execution_count": null,
   "id": "13",
   "metadata": {},
   "outputs": [],
   "source": [
    "prepare_batch(batch, with_time=True)[0].shape"
   ]
  },
  {
   "cell_type": "code",
   "execution_count": null,
   "id": "14",
   "metadata": {},
   "outputs": [],
   "source": [
    "\n",
    "# Pass through model\n",
    "model(prepare_batch(batch, with_time=True)[0]).shape\n"
   ]
  },
  {
   "cell_type": "code",
   "execution_count": null,
   "id": "15",
   "metadata": {},
   "outputs": [],
   "source": []
  }
 ],
 "metadata": {
  "kernelspec": {
   "display_name": "hdjd5168_conda_ae_exploratory (Conda)",
   "language": "python",
   "name": "sys_hdjd5168_conda_ae_exploratory"
  },
  "language_info": {
   "codemirror_mode": {
    "name": "ipython",
    "version": 3
   },
   "file_extension": ".py",
   "mimetype": "text/x-python",
   "name": "python",
   "nbconvert_exporter": "python",
   "pygments_lexer": "ipython3",
   "version": "3.10.18"
  }
 },
 "nbformat": 4,
 "nbformat_minor": 5
}
