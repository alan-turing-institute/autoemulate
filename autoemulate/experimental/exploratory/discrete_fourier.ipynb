{
 "cells": [
  {
   "cell_type": "code",
   "execution_count": null,
   "id": "702bb87d",
   "metadata": {},
   "outputs": [],
   "source": [
    "import torch\n",
    "from autoemulate.experimental.emulators import GaussianProcessExact"
   ]
  },
  {
   "cell_type": "code",
   "execution_count": null,
   "id": "e0957548",
   "metadata": {},
   "outputs": [],
   "source": [
    "from autoemulate.experimental.simulations.base import Simulator\n",
    "\n",
    "\n",
    "class SignalGenerator(Simulator):\n",
    "    def __init__(self, parameters_range = None, output_names = None, log_level = \"progress_bar\"):\n",
    "        if parameters_range is None:\n",
    "            parameters_range = {\n",
    "                \"phase\": (-3.14, 3.14),\n",
    "                \"amplitude\": (0, 1),\n",
    "                \"frequency\": (0.1, 10)\n",
    "            }\n",
    "        if output_names is None:\n",
    "            output_names = [\"signal\"]\n",
    "        super().__init__(parameters_range, output_names, log_level)\n",
    "    \n",
    "    def _forward(self, x):\n",
    "        phase = x[:, 0]\n",
    "        amplitude = x[:, 1]\n",
    "        frequency = x[:, 2]\n",
    "        t = torch.linspace(0, 1, steps=100)\n",
    "        signal = amplitude * torch.sin(2 * torch.pi * frequency * t + phase)\n",
    "        return signal.unsqueeze(0)"
   ]
  },
  {
   "cell_type": "code",
   "execution_count": null,
   "id": "449dfef7",
   "metadata": {},
   "outputs": [],
   "source": [
    "parameters_range = {\n",
    "    \"phase\": (-3.14, 3.14),\n",
    "    # \"phase\": (0, 0),\n",
    "    # \"amplitude\": (1, 1.001),\n",
    "    \"amplitude\": (0, 1),\n",
    "    # Difficult to compress since all frequencies are present\n",
    "    # \"frequency\": (1, 10),\n",
    "    \"frequency\": (1, 1.0001)\n",
    "}\n",
    "sim = SignalGenerator(parameters_range)\n",
    "n_samples = 200\n",
    "x = sim.sample_inputs(n_samples)\n",
    "y= sim.forward_batch(x)"
   ]
  },
  {
   "cell_type": "code",
   "execution_count": null,
   "id": "a44f37a4",
   "metadata": {},
   "outputs": [],
   "source": [
    "import matplotlib.pyplot as plt\n",
    "for idx in range(5):\n",
    "    plt.plot(y[idx], label=f\"Signal {idx}\")"
   ]
  },
  {
   "cell_type": "code",
   "execution_count": null,
   "id": "e14d3518",
   "metadata": {},
   "outputs": [],
   "source": [
    "from autoemulate.experimental.compare import AutoEmulate\n",
    "from autoemulate.experimental.transforms.discrete_fourier import DiscreteFourierTransform\n",
    "from autoemulate.experimental.transforms import StandardizeTransform, PCATransform\n",
    "\n",
    "\n",
    "ae = AutoEmulate(\n",
    "    x,\n",
    "    y,\n",
    "    models=[GaussianProcessExact],\n",
    "    x_transforms_list=[[]],\n",
    "    # Can learn for phase and amplitude with small number of components\n",
    "    y_transforms_list=[\n",
    "        [PCATransform(n_components=1), StandardizeTransform()],\n",
    "        [PCATransform(n_components=1)],\n",
    "        [DiscreteFourierTransform(n_components=1), StandardizeTransform()],\n",
    "        [DiscreteFourierTransform(n_components=1)],\n",
    "        [PCATransform(n_components=2), StandardizeTransform()],\n",
    "        [PCATransform(n_components=2)],\n",
    "        [DiscreteFourierTransform(n_components=2), StandardizeTransform()],\n",
    "        [DiscreteFourierTransform(n_components=2)],\n",
    "    ],\n",
    "    n_splits=5,\n",
    "    log_level=\"progress_bar\",\n",
    "    tune=False\n",
    ")"
   ]
  },
  {
   "cell_type": "code",
   "execution_count": null,
   "id": "2cdcd9ee",
   "metadata": {},
   "outputs": [],
   "source": [
    "ae.summarize()"
   ]
  },
  {
   "cell_type": "code",
   "execution_count": null,
   "id": "369b0f23",
   "metadata": {},
   "outputs": [],
   "source": [
    "# Try varying frequency too\n",
    "parameters_range = {\n",
    "    \"phase\": (-3.14, 3.14),\n",
    "    # \"phase\": (0, 0),\n",
    "    # \"amplitude\": (1, 1.001),\n",
    "    \"amplitude\": (0, 1),\n",
    "    # Difficult to compress since all frequencies are present\n",
    "    \"frequency\": (1, 10),\n",
    "}\n",
    "sim = SignalGenerator(parameters_range)\n",
    "x = sim.sample_inputs(200)\n",
    "y = sim.forward_batch(x)\n",
    "\n",
    "ae = AutoEmulate(\n",
    "    x,\n",
    "    y,\n",
    "    models=[GaussianProcessExact],\n",
    "    x_transforms_list=[[]],\n",
    "    # Can learn for phase and amplitude, but not frequency\n",
    "    y_transforms_list=[[DiscreteFourierTransform(n_components=40)]],\n",
    "    # y_transforms_list=[[DiscreteFourierTransform(n_components=20)]],\n",
    "    n_splits=5,\n",
    "    log_level=\"progress_bar\",\n",
    "    tune=False\n",
    ")"
   ]
  },
  {
   "cell_type": "code",
   "execution_count": null,
   "id": "db0cbe60",
   "metadata": {},
   "outputs": [],
   "source": [
    "ae.summarize().T"
   ]
  },
  {
   "cell_type": "code",
   "execution_count": null,
   "id": "4abdb787",
   "metadata": {},
   "outputs": [],
   "source": [
    "\n"
   ]
  }
 ],
 "metadata": {
  "kernelspec": {
   "display_name": ".venv",
   "language": "python",
   "name": "python3"
  },
  "language_info": {
   "codemirror_mode": {
    "name": "ipython",
    "version": 3
   },
   "file_extension": ".py",
   "mimetype": "text/x-python",
   "name": "python",
   "nbconvert_exporter": "python",
   "pygments_lexer": "ipython3",
   "version": "3.12.11"
  }
 },
 "nbformat": 4,
 "nbformat_minor": 5
}
