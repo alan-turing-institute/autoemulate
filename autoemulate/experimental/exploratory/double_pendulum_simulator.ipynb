{
 "cells": [
  {
   "cell_type": "code",
   "execution_count": null,
   "metadata": {},
   "outputs": [],
   "source": [
    "import torch\n",
    "\n",
    "import arviz as az\n",
    "\n",
    "from autoemulate.simulations.double_pendulum import DoublePendulum\n",
    "from autoemulate.core.compare import AutoEmulate\n",
    "from autoemulate.calibration.bayes import BayesianCalibration\n",
    "from autoemulate.emulators import GaussianProcess\n",
    "from autoemulate.transforms import PCATransform\n"
   ]
  },
  {
   "cell_type": "code",
   "execution_count": null,
   "metadata": {},
   "outputs": [],
   "source": [
    "simulator = DoublePendulum(n_time_points=100)\n",
    "x = simulator.sample_inputs(500, random_seed=42)\n",
    "y = simulator.forward_batch(x)\n"
   ]
  },
  {
   "cell_type": "code",
   "execution_count": null,
   "metadata": {},
   "outputs": [],
   "source": [
    "import matplotlib.pyplot as plt\n",
    "\n",
    "# Plot theta1 for first 10 samples\n",
    "plt.figure(figsize=(14, 8))\n",
    "\n",
    "# Plot theta1 time series for 10 samples\n",
    "plt.subplot(2, 1, 1)\n",
    "for i in range(5):\n",
    "    theta1_series = y[i, :simulator.n_time_points]\n",
    "    # Get parameter values for this sample\n",
    "    m1, m2, l1, l2, theta1_0, theta2_0 = x[i].numpy()\n",
    "    label = f'm1={m1:.2f}, m2={m2:.2f},  theta_1={theta1_0:.2f}'\n",
    "    plt.plot(simulator.time_points, theta1_series, alpha=0.7, label=label)\n",
    "\n",
    "plt.xlabel('Time (s)')\n",
    "plt.ylabel('$\\\\theta_1$ (rad)')\n",
    "plt.title('Double Pendulum: $\\\\theta_1$ vs Time (10 samples)')\n",
    "plt.grid(True, alpha=0.3)\n",
    "plt.legend(bbox_to_anchor=(1.05, 1), loc='upper left', fontsize=8)\n",
    "\n",
    "# Plot theta2 for the same 10 samples\n",
    "plt.subplot(2, 1, 2)\n",
    "for i in range(5):\n",
    "    theta2_series = y[i, simulator.n_time_points:2*simulator.n_time_points]\n",
    "    # Get parameter values for this sample\n",
    "    m1, m2, l1, l2, theta1_0, theta2_0 = x[i].numpy()\n",
    "    label = f'm1={m1:.2f}, m2={m2:.2f}, theta_2={theta2_0:.2f}'\n",
    "    plt.plot(simulator.time_points, theta2_series, alpha=0.7, label=label)\n",
    "\n",
    "plt.xlabel('Time (s)')\n",
    "plt.ylabel('$\\\\theta_2$ (rad)')\n",
    "plt.title('Double Pendulum: $\\\\theta_2$ vs Time (10 samples)')\n",
    "plt.grid(True, alpha=0.3)\n",
    "plt.legend(bbox_to_anchor=(1.05, 1), loc='upper left', fontsize=8)\n",
    "\n",
    "plt.tight_layout()\n",
    "plt.show()"
   ]
  },
  {
   "cell_type": "code",
   "execution_count": null,
   "metadata": {},
   "outputs": [],
   "source": [
    "y_new = y[:, :simulator.n_time_points].float()\n",
    "plt.plot(simulator.time_points,y_new[:2, :].T)\n",
    "y_new.type()\n",
    "\n"
   ]
  },
  {
   "cell_type": "code",
   "execution_count": null,
   "metadata": {},
   "outputs": [],
   "source": [
    "from sklearn.gaussian_process.kernels import RBF, WhiteKernel\n",
    "from sklearn.gaussian_process.kernels import ExpSineSquared\n",
    "import numpy as np\n",
    "\n",
    "\n",
    "# Periodic kernel for oscillatory behavior + RBF for chaos\n",
    "kernel = RBF(length_scale=1.0) * ExpSineSquared(length_scale=1.0, periodicity=2*np.pi) + WhiteKernel()\n",
    "\n",
    "ae = AutoEmulate(x, y_new, \n",
    "    models=[GaussianProcess],\n",
    "    model_params={\"kernel\": kernel},\n",
    "    model_tuning=False,\n",
    "    y_transforms_list=[[PCATransform(n_components=8)]], \n",
    "    log_level=\"progress_bar\"\n",
    ")"
   ]
  },
  {
   "cell_type": "code",
   "execution_count": null,
   "metadata": {},
   "outputs": [],
   "source": [
    "ae.summarise()"
   ]
  },
  {
   "cell_type": "code",
   "execution_count": null,
   "metadata": {},
   "outputs": [],
   "source": [
    "ae_2 = AutoEmulate(\n",
    "    x, \n",
    "    y_new, \n",
    "    models=[GaussianProcess], \n",
    "    y_transforms_list=[[PCATransform(n_components=8)]], \n",
    "    log_level=\"progress_bar\")"
   ]
  },
  {
   "cell_type": "markdown",
   "metadata": {},
   "source": [
    "We can verify that the fitted emulator performs well on both the train and test data."
   ]
  },
  {
   "cell_type": "code",
   "execution_count": null,
   "metadata": {},
   "outputs": [],
   "source": [
    "ae_2.summarise()"
   ]
  },
  {
   "cell_type": "code",
   "execution_count": null,
   "metadata": {},
   "outputs": [],
   "source": [
    "import gpytorch\n",
    "\n",
    "# Periodic kernel for oscillatory behavior + RBF for chaos\n",
    "kernel = gpytorch.kernels.RBFKernel() + gpytorch.kernels.PeriodicKernel()\n",
    "\n",
    "ae_3 = AutoEmulate(x, y_new, \n",
    "    models=[GaussianProcess],\n",
    "    model_tuning=False,\n",
    "    model_params={\"kernel\": kernel},\n",
    "    y_transforms_list=[[PCATransform(n_components=8)]], \n",
    "    log_level=\"progress_bar\"\n",
    ")"
   ]
  },
  {
   "cell_type": "code",
   "execution_count": null,
   "metadata": {},
   "outputs": [],
   "source": [
    "ae_3.summarise()"
   ]
  },
  {
   "cell_type": "code",
   "execution_count": null,
   "metadata": {},
   "outputs": [],
   "source": []
  },
  {
   "cell_type": "code",
   "execution_count": null,
   "metadata": {},
   "outputs": [],
   "source": []
  }
 ],
 "metadata": {
  "kernelspec": {
   "display_name": "autoemulate",
   "language": "python",
   "name": "python3"
  },
  "language_info": {
   "codemirror_mode": {
    "name": "ipython",
    "version": 3
   },
   "file_extension": ".py",
   "mimetype": "text/x-python",
   "name": "python",
   "nbconvert_exporter": "python",
   "pygments_lexer": "ipython3",
   "version": "3.12.7"
  }
 },
 "nbformat": 4,
 "nbformat_minor": 2
}
